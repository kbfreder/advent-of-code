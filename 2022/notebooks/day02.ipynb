{
 "cells": [
  {
   "cell_type": "code",
   "execution_count": 1,
   "metadata": {
    "ExecuteTime": {
     "end_time": "2022-12-24T01:48:50.447961Z",
     "start_time": "2022-12-24T01:48:49.111114Z"
    }
   },
   "outputs": [],
   "source": [
    "import pandas as pd\n",
    "import numpy as np\n",
    "\n",
    "import os"
   ]
  },
  {
   "cell_type": "code",
   "execution_count": 2,
   "metadata": {
    "ExecuteTime": {
     "end_time": "2022-12-24T01:48:50.608680Z",
     "start_time": "2022-12-24T01:48:50.598694Z"
    }
   },
   "outputs": [],
   "source": [
    "day = 2"
   ]
  },
  {
   "cell_type": "code",
   "execution_count": 3,
   "metadata": {
    "ExecuteTime": {
     "end_time": "2022-12-24T01:48:54.824008Z",
     "start_time": "2022-12-24T01:48:54.813622Z"
    }
   },
   "outputs": [],
   "source": [
    "INPUT_DIR = \"../input\"\n",
    "\n",
    "input_path = f'{INPUT_DIR}/day{day:02d}.txt'\n",
    "\n",
    "with open(input_path) as file:\n",
    "    data = file.readlines()"
   ]
  },
  {
   "cell_type": "code",
   "execution_count": 5,
   "metadata": {
    "ExecuteTime": {
     "end_time": "2022-12-24T01:49:03.026501Z",
     "start_time": "2022-12-24T01:49:03.017471Z"
    }
   },
   "outputs": [
    {
     "data": {
      "text/plain": [
       "['C Y\\n',\n",
       " 'A Z\\n',\n",
       " 'B X\\n',\n",
       " 'C Y\\n',\n",
       " 'B Y\\n',\n",
       " 'C X\\n',\n",
       " 'C Y\\n',\n",
       " 'B X\\n',\n",
       " 'B X\\n',\n",
       " 'A Z\\n',\n",
       " 'C X\\n',\n",
       " 'B Y\\n',\n",
       " 'B X\\n',\n",
       " 'B X\\n',\n",
       " 'A Z\\n']"
      ]
     },
     "execution_count": 5,
     "metadata": {},
     "output_type": "execute_result"
    }
   ],
   "source": [
    "data[:15]"
   ]
  },
  {
   "cell_type": "code",
   "execution_count": 6,
   "metadata": {
    "ExecuteTime": {
     "end_time": "2022-12-24T01:54:11.003745Z",
     "start_time": "2022-12-24T01:54:10.999731Z"
    }
   },
   "outputs": [],
   "source": [
    "# A for Rock, B for Paper, and C for Scissors\n",
    "# X for Rock, Y for Paper, and Z for Scissors. \n",
    "# 1 for Rock, 2 for Paper, and 3 for Scissors\n",
    "# 0 if you lost, 3 if the round was a draw, and 6 if you won\n",
    "score_lookup = {\n",
    "    'X': { # Rock\n",
    "        'score': 1,\n",
    "        'A': 3, # Rock\n",
    "        'B': 0, # Paper\n",
    "        'C': 6, # Scissors\n",
    "    },\n",
    "    'Y': { # Paper\n",
    "        'score': 2,\n",
    "        'A': 6, # Rock\n",
    "        'B': 3, # Paper\n",
    "        'C': 0, # Scissors\n",
    "    },\n",
    "    'Z': { # Scissors\n",
    "        'score': 3,\n",
    "        'A': 0, # Rock\n",
    "        'B': 6, # Paper\n",
    "        'C': 3, # Scissors\n",
    "    },\n",
    "}"
   ]
  },
  {
   "cell_type": "code",
   "execution_count": 5,
   "metadata": {
    "ExecuteTime": {
     "end_time": "2022-12-24T01:49:03.026501Z",
     "start_time": "2022-12-24T01:49:03.017471Z"
    }
   },
   "outputs": [
    {
     "data": {
      "text/plain": [
       "['C Y\\n',\n",
       " 'A Z\\n',\n",
       " 'B X\\n',\n",
       " 'C Y\\n',\n",
       " 'B Y\\n',\n",
       " 'C X\\n',\n",
       " 'C Y\\n',\n",
       " 'B X\\n',\n",
       " 'B X\\n',\n",
       " 'A Z\\n',\n",
       " 'C X\\n',\n",
       " 'B Y\\n',\n",
       " 'B X\\n',\n",
       " 'B X\\n',\n",
       " 'A Z\\n']"
      ]
     },
     "execution_count": 5,
     "metadata": {},
     "output_type": "execute_result"
    }
   ],
   "source": [
    "data[:15]"
   ]
  },
  {
   "cell_type": "code",
   "execution_count": 11,
   "metadata": {
    "ExecuteTime": {
     "end_time": "2022-12-24T01:57:11.510563Z",
     "start_time": "2022-12-24T01:57:11.498928Z"
    }
   },
   "outputs": [
    {
     "data": {
      "text/plain": [
       "1"
      ]
     },
     "execution_count": 11,
     "metadata": {},
     "output_type": "execute_result"
    }
   ],
   "source": [
    "rd = data[2]\n",
    "plays_str = rd.strip()\n",
    "plays = plays_str.split(\" \")\n",
    "opp_play = plays[0]\n",
    "my_play = plays[1]\n",
    "play_score_dict = score_lookup[my_play]\n",
    "rd_score = play_score_dict['score'] + play_score_dict[opp_play]\n",
    "rd_score"
   ]
  },
  {
   "cell_type": "code",
   "execution_count": 13,
   "metadata": {
    "ExecuteTime": {
     "end_time": "2022-12-24T01:57:40.975285Z",
     "start_time": "2022-12-24T01:57:40.961434Z"
    }
   },
   "outputs": [
    {
     "name": "stdout",
     "output_type": "stream",
     "text": [
      "8392\n"
     ]
    }
   ],
   "source": [
    "score = 0\n",
    "for rd in data:\n",
    "    plays_str = rd.strip()\n",
    "    plays = plays_str.split(\" \")\n",
    "    opp_play = plays[0]\n",
    "    my_play = plays[1]\n",
    "    play_score_dict = score_lookup[my_play]\n",
    "    rd_score = play_score_dict['score'] + play_score_dict[opp_play]\n",
    "    score += rd_score\n",
    "\n",
    "print(score)"
   ]
  },
  {
   "cell_type": "code",
   "execution_count": null,
   "metadata": {},
   "outputs": [],
   "source": []
  },
  {
   "cell_type": "code",
   "execution_count": 14,
   "metadata": {
    "ExecuteTime": {
     "end_time": "2022-12-24T02:01:53.616547Z",
     "start_time": "2022-12-24T02:01:53.611889Z"
    }
   },
   "outputs": [],
   "source": [
    "# A for Rock, B for Paper, and C for Scissors\n",
    "# X means you need to lose, Y means you need to end the round in a draw, and Z means you need to win\n",
    "# 1 for Rock, 2 for Paper, and 3 for Scissors\n",
    "# 0 if you lost, 3 if the round was a draw, and 6 if you won\n",
    "new_score_lookup = {\n",
    "    'X': { # Lose\n",
    "        'score': 0,\n",
    "        'A': 3, # Rock, to Lose, must throw Scissors\n",
    "        'B': 1, # Paper: to Lose, must throw Rock\n",
    "        'C': 2, # Scissors: To Lost, must throw Paper\n",
    "    },\n",
    "    'Y': { # Draw\n",
    "        'score': 3,\n",
    "        'A': 1, # Rock\n",
    "        'B': 2, # Paper\n",
    "        'C': 3, # Scissors\n",
    "    },\n",
    "    'Z': { # Win\n",
    "        'score': 6,\n",
    "        'A': 2, # Rock: to Win, must throw Paper\n",
    "        'B': 3, # Paper: to Win, must throw Scissors\n",
    "        'C': 1, # Scissors: to Win, must throw Rock\n",
    "    },\n",
    "}"
   ]
  },
  {
   "cell_type": "code",
   "execution_count": 15,
   "metadata": {
    "ExecuteTime": {
     "end_time": "2022-12-24T02:02:17.739449Z",
     "start_time": "2022-12-24T02:02:17.730971Z"
    }
   },
   "outputs": [
    {
     "name": "stdout",
     "output_type": "stream",
     "text": [
      "10116\n"
     ]
    }
   ],
   "source": [
    "new_score = 0\n",
    "for rd in data:\n",
    "    plays_str = rd.strip()\n",
    "    plays = plays_str.split(\" \")\n",
    "    opp_play = plays[0]\n",
    "    my_play = plays[1]\n",
    "    play_score_dict = new_score_lookup[my_play]\n",
    "    rd_score = play_score_dict['score'] + play_score_dict[opp_play]\n",
    "    new_score += rd_score\n",
    "\n",
    "print(new_score)"
   ]
  },
  {
   "cell_type": "code",
   "execution_count": null,
   "metadata": {},
   "outputs": [],
   "source": []
  }
 ],
 "metadata": {
  "kernelspec": {
   "display_name": "Python 3",
   "language": "python",
   "name": "python3"
  },
  "language_info": {
   "codemirror_mode": {
    "name": "ipython",
    "version": 3
   },
   "file_extension": ".py",
   "mimetype": "text/x-python",
   "name": "python",
   "nbconvert_exporter": "python",
   "pygments_lexer": "ipython3",
   "version": "3.6.7"
  },
  "toc": {
   "base_numbering": 1,
   "nav_menu": {},
   "number_sections": true,
   "sideBar": true,
   "skip_h1_title": false,
   "title_cell": "Table of Contents",
   "title_sidebar": "Contents",
   "toc_cell": false,
   "toc_position": {},
   "toc_section_display": true,
   "toc_window_display": false
  }
 },
 "nbformat": 4,
 "nbformat_minor": 2
}
