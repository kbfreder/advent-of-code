{
 "cells": [
  {
   "cell_type": "code",
   "execution_count": 1,
   "metadata": {
    "ExecuteTime": {
     "end_time": "2022-12-24T02:04:41.464664Z",
     "start_time": "2022-12-24T02:04:40.141972Z"
    }
   },
   "outputs": [],
   "source": [
    "import pandas as pd\n",
    "import numpy as np\n",
    "\n",
    "import os"
   ]
  },
  {
   "cell_type": "markdown",
   "metadata": {},
   "source": [
    "## load data"
   ]
  },
  {
   "cell_type": "code",
   "execution_count": 2,
   "metadata": {
    "ExecuteTime": {
     "end_time": "2022-12-24T02:04:41.482730Z",
     "start_time": "2022-12-24T02:04:41.467600Z"
    }
   },
   "outputs": [],
   "source": [
    "day = 3"
   ]
  },
  {
   "cell_type": "code",
   "execution_count": 3,
   "metadata": {
    "ExecuteTime": {
     "end_time": "2022-12-24T02:04:41.496595Z",
     "start_time": "2022-12-24T02:04:41.486818Z"
    }
   },
   "outputs": [],
   "source": [
    "INPUT_DIR = \"../input\"\n",
    "\n",
    "input_path = f'{INPUT_DIR}/day{day:02d}.txt'\n",
    "\n",
    "with open(input_path) as file:\n",
    "    data = file.readlines()"
   ]
  },
  {
   "cell_type": "code",
   "execution_count": 4,
   "metadata": {
    "ExecuteTime": {
     "end_time": "2022-12-24T02:04:44.095614Z",
     "start_time": "2022-12-24T02:04:44.082308Z"
    }
   },
   "outputs": [
    {
     "data": {
      "text/plain": [
       "['DsPhSBQQQhqmBDhPDsFwjwsLjlRjlttvjvvtRb\\n',\n",
       " 'rNJMNNbrHrtjHLHjvwtg\\n',\n",
       " 'fNbNzZdrZnMnMPnQShFPDmnqFm\\n',\n",
       " 'QWVCFfQffgQCVZzVVpHsHJBqtpspJFRHqq\\n',\n",
       " 'mwDbmnnGNlNcwNDDNRbnNDlJTpBJBtJGtPTLsBGqTqqsqp\\n',\n",
       " 'MlSdnScRnnmmDjSdNSdCzvggWzrgzjvfvrgVzW\\n',\n",
       " 'gsMljbrjlZlWcWMJrWwTwbmwQbmmLDQQLhwL\\n',\n",
       " 'CdgpzdgpgnfThHfFRwhfRf\\n',\n",
       " 'SptgpSpnCNpVSGNPvPGSddcMWjMrjqBsJcWqMcBWcVlZ\\n',\n",
       " 'JcJLQQFWhQJPJpWcwjHvMQvnnlMvzBHd\\n',\n",
       " 'tCtGZrmVRmVGTVTtCfRTCHHNNvdNzmdMvMlNzvwdvw\\n',\n",
       " 'CTGGRftfSGtGTGDLbFchSgSWWWcM\\n',\n",
       " 'QcMFQrvrQbvtczbVbjbMzZzRpqmDDmqqnNzCDCDC\\n',\n",
       " 'SHHfPJssGLPSdHThLhHdRmqNmNssnNmNCNnpjmsn\\n',\n",
       " 'LhLJfTdLJwfgPTdfGccrtjcMrccwvcrrFr\\n']"
      ]
     },
     "execution_count": 4,
     "metadata": {},
     "output_type": "execute_result"
    }
   ],
   "source": [
    "data[:15]"
   ]
  },
  {
   "cell_type": "markdown",
   "metadata": {},
   "source": [
    "## dev code"
   ]
  },
  {
   "cell_type": "code",
   "execution_count": 5,
   "metadata": {
    "ExecuteTime": {
     "end_time": "2022-12-24T02:04:53.535374Z",
     "start_time": "2022-12-24T02:04:53.531470Z"
    }
   },
   "outputs": [],
   "source": [
    "c = data[0].strip()"
   ]
  },
  {
   "cell_type": "code",
   "execution_count": 8,
   "metadata": {
    "ExecuteTime": {
     "end_time": "2022-12-24T02:06:17.269506Z",
     "start_time": "2022-12-24T02:06:17.261765Z"
    }
   },
   "outputs": [],
   "source": [
    "n = len(c)\n",
    "split = int(n/2)\n",
    "c1 = c[:split]\n",
    "c2 = c[split:]"
   ]
  },
  {
   "cell_type": "code",
   "execution_count": 10,
   "metadata": {
    "ExecuteTime": {
     "end_time": "2022-12-24T02:06:22.710577Z",
     "start_time": "2022-12-24T02:06:22.694378Z"
    }
   },
   "outputs": [
    {
     "data": {
      "text/plain": [
       "('DsPhSBQQQhqmBDhPDsF', 'wjwsLjlRjlttvjvvtRb')"
      ]
     },
     "execution_count": 10,
     "metadata": {},
     "output_type": "execute_result"
    }
   ],
   "source": [
    "c1, c2"
   ]
  },
  {
   "cell_type": "code",
   "execution_count": 18,
   "metadata": {
    "ExecuteTime": {
     "end_time": "2022-12-24T02:07:28.782123Z",
     "start_time": "2022-12-24T02:07:28.773704Z"
    }
   },
   "outputs": [
    {
     "data": {
      "text/plain": [
       "{'s'}"
      ]
     },
     "execution_count": 18,
     "metadata": {},
     "output_type": "execute_result"
    }
   ],
   "source": [
    "in_both = set(c1).intersection(set(c2))\n",
    "in_both"
   ]
  },
  {
   "cell_type": "code",
   "execution_count": 19,
   "metadata": {
    "ExecuteTime": {
     "end_time": "2022-12-24T02:07:36.202708Z",
     "start_time": "2022-12-24T02:07:36.195545Z"
    }
   },
   "outputs": [
    {
     "data": {
      "text/plain": [
       "115"
      ]
     },
     "execution_count": 19,
     "metadata": {},
     "output_type": "execute_result"
    }
   ],
   "source": [
    "ord(in_both.pop())"
   ]
  },
  {
   "cell_type": "code",
   "execution_count": 20,
   "metadata": {
    "ExecuteTime": {
     "end_time": "2022-12-24T02:08:03.403853Z",
     "start_time": "2022-12-24T02:08:03.396561Z"
    }
   },
   "outputs": [
    {
     "data": {
      "text/plain": [
       "97"
      ]
     },
     "execution_count": 20,
     "metadata": {},
     "output_type": "execute_result"
    }
   ],
   "source": [
    "ord('a')"
   ]
  },
  {
   "cell_type": "code",
   "execution_count": 21,
   "metadata": {
    "ExecuteTime": {
     "end_time": "2022-12-24T02:08:05.666149Z",
     "start_time": "2022-12-24T02:08:05.646656Z"
    }
   },
   "outputs": [
    {
     "data": {
      "text/plain": [
       "122"
      ]
     },
     "execution_count": 21,
     "metadata": {},
     "output_type": "execute_result"
    }
   ],
   "source": [
    "ord('z')"
   ]
  },
  {
   "cell_type": "code",
   "execution_count": null,
   "metadata": {},
   "outputs": [],
   "source": [
    "100 between "
   ]
  },
  {
   "cell_type": "code",
   "execution_count": 29,
   "metadata": {
    "ExecuteTime": {
     "end_time": "2022-12-24T02:10:14.238185Z",
     "start_time": "2022-12-24T02:10:14.233975Z"
    }
   },
   "outputs": [],
   "source": [
    "lc_adj_factor = ord('a') - 1"
   ]
  },
  {
   "cell_type": "code",
   "execution_count": 30,
   "metadata": {
    "ExecuteTime": {
     "end_time": "2022-12-24T02:10:15.123727Z",
     "start_time": "2022-12-24T02:10:15.105354Z"
    }
   },
   "outputs": [
    {
     "data": {
      "text/plain": [
       "1"
      ]
     },
     "execution_count": 30,
     "metadata": {},
     "output_type": "execute_result"
    }
   ],
   "source": [
    "ord('a') - lc_adj_factor"
   ]
  },
  {
   "cell_type": "code",
   "execution_count": 25,
   "metadata": {
    "ExecuteTime": {
     "end_time": "2022-12-24T02:08:57.682025Z",
     "start_time": "2022-12-24T02:08:57.674674Z"
    }
   },
   "outputs": [
    {
     "data": {
      "text/plain": [
       "26"
      ]
     },
     "execution_count": 25,
     "metadata": {},
     "output_type": "execute_result"
    }
   ],
   "source": [
    "ord('z') - lc_adj_factor"
   ]
  },
  {
   "cell_type": "code",
   "execution_count": 26,
   "metadata": {
    "ExecuteTime": {
     "end_time": "2022-12-24T02:09:03.354501Z",
     "start_time": "2022-12-24T02:09:03.296472Z"
    }
   },
   "outputs": [
    {
     "data": {
      "text/plain": [
       "65"
      ]
     },
     "execution_count": 26,
     "metadata": {},
     "output_type": "execute_result"
    }
   ],
   "source": [
    "ord('A')"
   ]
  },
  {
   "cell_type": "code",
   "execution_count": 31,
   "metadata": {
    "ExecuteTime": {
     "end_time": "2022-12-24T02:10:29.578318Z",
     "start_time": "2022-12-24T02:10:29.572166Z"
    }
   },
   "outputs": [
    {
     "data": {
      "text/plain": [
       "90"
      ]
     },
     "execution_count": 31,
     "metadata": {},
     "output_type": "execute_result"
    }
   ],
   "source": [
    "ord('Z')"
   ]
  },
  {
   "cell_type": "code",
   "execution_count": 27,
   "metadata": {
    "ExecuteTime": {
     "end_time": "2022-12-24T02:09:54.888867Z",
     "start_time": "2022-12-24T02:09:54.884711Z"
    }
   },
   "outputs": [],
   "source": [
    "uc_adj_factor = ord('A') - 27"
   ]
  },
  {
   "cell_type": "code",
   "execution_count": 28,
   "metadata": {
    "ExecuteTime": {
     "end_time": "2022-12-24T02:10:01.500177Z",
     "start_time": "2022-12-24T02:10:01.493783Z"
    }
   },
   "outputs": [
    {
     "data": {
      "text/plain": [
       "27"
      ]
     },
     "execution_count": 28,
     "metadata": {},
     "output_type": "execute_result"
    }
   ],
   "source": [
    "ord('A') - uc_adj_factor"
   ]
  },
  {
   "cell_type": "code",
   "execution_count": null,
   "metadata": {},
   "outputs": [],
   "source": []
  },
  {
   "cell_type": "code",
   "execution_count": 32,
   "metadata": {
    "ExecuteTime": {
     "end_time": "2022-12-24T02:14:34.006420Z",
     "start_time": "2022-12-24T02:14:33.998886Z"
    }
   },
   "outputs": [],
   "source": [
    "score = 0\n",
    "score_tracker = []\n",
    "for line in data:\n",
    "    c = line.strip()\n",
    "    n = len(c)\n",
    "    split = int(n/2)\n",
    "    c1 = c[:split]\n",
    "    c2 = c[split:]\n",
    "    shared = set(c1).intersection(set(c2))\n",
    "    sh_char = shared.pop()\n",
    "    sh_int = ord(sh_char)\n",
    "    if ord('a') <= sh_int <= ord('z'):\n",
    "        line_score = sh_int - lc_adj_factor\n",
    "    elif ord('A') <= sh_int <= ord('Z'):\n",
    "        line_score = sh_int - uc_adj_factor\n",
    "    score += line_score\n",
    "    score_tracker.append([sh_char, line_score])"
   ]
  },
  {
   "cell_type": "code",
   "execution_count": 33,
   "metadata": {
    "ExecuteTime": {
     "end_time": "2022-12-24T02:14:36.178612Z",
     "start_time": "2022-12-24T02:14:36.171937Z"
    }
   },
   "outputs": [
    {
     "data": {
      "text/plain": [
       "8176"
      ]
     },
     "execution_count": 33,
     "metadata": {},
     "output_type": "execute_result"
    }
   ],
   "source": [
    "score"
   ]
  },
  {
   "cell_type": "code",
   "execution_count": 34,
   "metadata": {
    "ExecuteTime": {
     "end_time": "2022-12-24T02:14:45.613361Z",
     "start_time": "2022-12-24T02:14:45.602958Z"
    }
   },
   "outputs": [
    {
     "data": {
      "text/plain": [
       "[['s', 19], ['H', 34], ['n', 14], ['F', 32], ['G', 33]]"
      ]
     },
     "execution_count": 34,
     "metadata": {},
     "output_type": "execute_result"
    }
   ],
   "source": [
    "score_tracker[:5]"
   ]
  },
  {
   "cell_type": "code",
   "execution_count": 35,
   "metadata": {
    "ExecuteTime": {
     "end_time": "2022-12-24T02:15:58.095126Z",
     "start_time": "2022-12-24T02:15:58.087651Z"
    }
   },
   "outputs": [
    {
     "data": {
      "text/plain": [
       "35"
      ]
     },
     "execution_count": 35,
     "metadata": {},
     "output_type": "execute_result"
    }
   ],
   "source": [
    "27 + 8"
   ]
  },
  {
   "cell_type": "code",
   "execution_count": 36,
   "metadata": {
    "ExecuteTime": {
     "end_time": "2022-12-24T02:18:15.697713Z",
     "start_time": "2022-12-24T02:18:15.692569Z"
    }
   },
   "outputs": [],
   "source": [
    "data_arr = np.array(data)"
   ]
  },
  {
   "cell_type": "code",
   "execution_count": 37,
   "metadata": {
    "ExecuteTime": {
     "end_time": "2022-12-24T02:19:01.588824Z",
     "start_time": "2022-12-24T02:19:01.567582Z"
    }
   },
   "outputs": [
    {
     "data": {
      "text/plain": [
       "300"
      ]
     },
     "execution_count": 37,
     "metadata": {},
     "output_type": "execute_result"
    }
   ],
   "source": [
    "len(data)"
   ]
  },
  {
   "cell_type": "code",
   "execution_count": 38,
   "metadata": {
    "ExecuteTime": {
     "end_time": "2022-12-24T02:19:08.092599Z",
     "start_time": "2022-12-24T02:19:08.085792Z"
    }
   },
   "outputs": [
    {
     "data": {
      "text/plain": [
       "['DsPhSBQQQhqmBDhPDsFwjwsLjlRjlttvjvvtRb\\n',\n",
       " 'rNJMNNbrHrtjHLHjvwtg\\n',\n",
       " 'fNbNzZdrZnMnMPnQShFPDmnqFm\\n']"
      ]
     },
     "execution_count": 38,
     "metadata": {},
     "output_type": "execute_result"
    }
   ],
   "source": [
    "data[:3]"
   ]
  },
  {
   "cell_type": "code",
   "execution_count": 39,
   "metadata": {
    "ExecuteTime": {
     "end_time": "2022-12-24T02:19:26.416500Z",
     "start_time": "2022-12-24T02:19:26.409955Z"
    }
   },
   "outputs": [
    {
     "data": {
      "text/plain": [
       "(300,)"
      ]
     },
     "execution_count": 39,
     "metadata": {},
     "output_type": "execute_result"
    }
   ],
   "source": [
    "data_arr.shape"
   ]
  },
  {
   "cell_type": "code",
   "execution_count": 40,
   "metadata": {
    "ExecuteTime": {
     "end_time": "2022-12-24T02:19:50.210876Z",
     "start_time": "2022-12-24T02:19:50.199871Z"
    }
   },
   "outputs": [],
   "source": [
    "data_grp = np.reshape(data_arr, (100,3))"
   ]
  },
  {
   "cell_type": "code",
   "execution_count": 41,
   "metadata": {
    "ExecuteTime": {
     "end_time": "2022-12-24T02:19:54.002695Z",
     "start_time": "2022-12-24T02:19:53.996280Z"
    }
   },
   "outputs": [
    {
     "data": {
      "text/plain": [
       "array([['DsPhSBQQQhqmBDhPDsFwjwsLjlRjlttvjvvtRb\\n',\n",
       "        'rNJMNNbrHrtjHLHjvwtg\\n', 'fNbNzZdrZnMnMPnQShFPDmnqFm\\n'],\n",
       "       ['QWVCFfQffgQCVZzVVpHsHJBqtpspJFRHqq\\n',\n",
       "        'mwDbmnnGNlNcwNDDNRbnNDlJTpBJBtJGtPTLsBGqTqqsqp\\n',\n",
       "        'MlSdnScRnnmmDjSdNSdCzvggWzrgzjvfvrgVzW\\n'],\n",
       "       ['gsMljbrjlZlWcWMJrWwTwbmwQbmmLDQQLhwL\\n',\n",
       "        'CdgpzdgpgnfThHfFRwhfRf\\n',\n",
       "        'SptgpSpnCNpVSGNPvPGSddcMWjMrjqBsJcWqMcBWcVlZ\\n'],\n",
       "       ['JcJLQQFWhQJPJpWcwjHvMQvnnlMvzBHd\\n',\n",
       "        'tCtGZrmVRmVGTVTtCfRTCHHNNvdNzmdMvMlNzvwdvw\\n',\n",
       "        'CTGGRftfSGtGTGDLbFchSgSWWWcM\\n'],\n",
       "       ['QcMFQrvrQbvtczbVbjbMzZzRpqmDDmqqnNzCDCDC\\n',\n",
       "        'SHHfPJssGLPSdHThLhHdRmqNmNssnNmNCNnpjmsn\\n',\n",
       "        'LhLJfTdLJwfgPTdfGccrtjcMrccwvcrrFr\\n'],\n",
       "       ['jFLLLqDGjbtqLCChpMMhMBvpwMTmffpZ\\n',\n",
       "        'ZnJHRncHHgnrsrZffTdMdMBfmMvfvR\\n', 'NWWPnZrVHrZPCDDQtzDCPLCq\\n']],\n",
       "      dtype='<U49')"
      ]
     },
     "execution_count": 41,
     "metadata": {},
     "output_type": "execute_result"
    }
   ],
   "source": [
    "data_grp[:6]"
   ]
  },
  {
   "cell_type": "code",
   "execution_count": 42,
   "metadata": {
    "ExecuteTime": {
     "end_time": "2022-12-24T02:21:27.699848Z",
     "start_time": "2022-12-24T02:21:27.693294Z"
    }
   },
   "outputs": [
    {
     "data": {
      "text/plain": [
       "array(['DsPhSBQQQhqmBDhPDsFwjwsLjlRjlttvjvvtRb\\n',\n",
       "       'rNJMNNbrHrtjHLHjvwtg\\n', 'fNbNzZdrZnMnMPnQShFPDmnqFm\\n'],\n",
       "      dtype='<U49')"
      ]
     },
     "execution_count": 42,
     "metadata": {},
     "output_type": "execute_result"
    }
   ],
   "source": [
    "grp = data_grp[0]\n",
    "grp"
   ]
  },
  {
   "cell_type": "code",
   "execution_count": 43,
   "metadata": {
    "ExecuteTime": {
     "end_time": "2022-12-24T02:21:50.805657Z",
     "start_time": "2022-12-24T02:21:50.801661Z"
    }
   },
   "outputs": [],
   "source": [
    "from functools import reduce"
   ]
  },
  {
   "cell_type": "code",
   "execution_count": 47,
   "metadata": {
    "ExecuteTime": {
     "end_time": "2022-12-24T02:22:55.869842Z",
     "start_time": "2022-12-24T02:22:55.863179Z"
    }
   },
   "outputs": [
    {
     "data": {
      "text/plain": [
       "{'b'}"
      ]
     },
     "execution_count": 47,
     "metadata": {},
     "output_type": "execute_result"
    }
   ],
   "source": [
    "in_both = reduce(lambda x, y: set(x).intersection(set(y)), grp)\n",
    "in_both.remove('\\n')\n",
    "in_both"
   ]
  },
  {
   "cell_type": "code",
   "execution_count": 54,
   "metadata": {
    "ExecuteTime": {
     "end_time": "2022-12-24T02:25:16.533777Z",
     "start_time": "2022-12-24T02:25:16.524108Z"
    }
   },
   "outputs": [],
   "source": [
    "new_score = 0\n",
    "new_score_tracker = []\n",
    "for grp in data_grp:\n",
    "    shared = reduce(lambda x, y: set(x).intersection(set(y)), grp)\n",
    "    shared.remove('\\n')\n",
    "    sh_char = shared.pop()\n",
    "    sh_int = ord(sh_char)\n",
    "    if ord('a') <= sh_int <= ord('z'):\n",
    "        grp_score = sh_int - lc_adj_factor\n",
    "    elif ord('A') <= sh_int <= ord('Z'):\n",
    "        grp_score = sh_int - uc_adj_factor\n",
    "    new_score += grp_score\n",
    "    new_score_tracker.append([sh_char, grp_score])"
   ]
  },
  {
   "cell_type": "code",
   "execution_count": 55,
   "metadata": {
    "ExecuteTime": {
     "end_time": "2022-12-24T02:25:18.214197Z",
     "start_time": "2022-12-24T02:25:18.207328Z"
    }
   },
   "outputs": [
    {
     "data": {
      "text/plain": [
       "2689"
      ]
     },
     "execution_count": 55,
     "metadata": {},
     "output_type": "execute_result"
    }
   ],
   "source": [
    "new_score"
   ]
  },
  {
   "cell_type": "code",
   "execution_count": 56,
   "metadata": {
    "ExecuteTime": {
     "end_time": "2022-12-24T02:25:18.704510Z",
     "start_time": "2022-12-24T02:25:18.697181Z"
    }
   },
   "outputs": [
    {
     "data": {
      "text/plain": [
       "[['b', 2], ['R', 44], ['g', 7], ['M', 39], ['j', 10]]"
      ]
     },
     "execution_count": 56,
     "metadata": {},
     "output_type": "execute_result"
    }
   ],
   "source": [
    "new_score_tracker[:5]"
   ]
  },
  {
   "cell_type": "code",
   "execution_count": 57,
   "metadata": {
    "ExecuteTime": {
     "end_time": "2022-12-24T02:25:35.336436Z",
     "start_time": "2022-12-24T02:25:35.330049Z"
    }
   },
   "outputs": [
    {
     "data": {
      "text/plain": [
       "18"
      ]
     },
     "execution_count": 57,
     "metadata": {},
     "output_type": "execute_result"
    }
   ],
   "source": [
    "44-26"
   ]
  },
  {
   "cell_type": "code",
   "execution_count": null,
   "metadata": {},
   "outputs": [],
   "source": []
  }
 ],
 "metadata": {
  "kernelspec": {
   "display_name": "Python 3",
   "language": "python",
   "name": "python3"
  },
  "language_info": {
   "codemirror_mode": {
    "name": "ipython",
    "version": 3
   },
   "file_extension": ".py",
   "mimetype": "text/x-python",
   "name": "python",
   "nbconvert_exporter": "python",
   "pygments_lexer": "ipython3",
   "version": "3.6.7"
  },
  "toc": {
   "base_numbering": 1,
   "nav_menu": {},
   "number_sections": true,
   "sideBar": true,
   "skip_h1_title": false,
   "title_cell": "Table of Contents",
   "title_sidebar": "Contents",
   "toc_cell": false,
   "toc_position": {},
   "toc_section_display": true,
   "toc_window_display": false
  }
 },
 "nbformat": 4,
 "nbformat_minor": 2
}
