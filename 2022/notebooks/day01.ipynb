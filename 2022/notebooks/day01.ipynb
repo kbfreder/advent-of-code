{
 "cells": [
  {
   "cell_type": "code",
   "execution_count": 1,
   "metadata": {
    "ExecuteTime": {
     "end_time": "2022-12-23T22:43:10.834832Z",
     "start_time": "2022-12-23T22:43:08.787490Z"
    }
   },
   "outputs": [],
   "source": [
    "import pandas as pd\n",
    "import numpy as np\n",
    "\n",
    "import os"
   ]
  },
  {
   "cell_type": "code",
   "execution_count": 10,
   "metadata": {
    "ExecuteTime": {
     "end_time": "2022-12-23T22:45:24.689341Z",
     "start_time": "2022-12-23T22:45:24.682389Z"
    }
   },
   "outputs": [],
   "source": [
    "INPUT_DIR = \"../input\"\n",
    "day = 1\n",
    "\n",
    "input_path = f'{INPUT_DIR}/day{day:02d}.txt'"
   ]
  },
  {
   "cell_type": "code",
   "execution_count": 11,
   "metadata": {
    "ExecuteTime": {
     "end_time": "2022-12-23T22:45:25.537124Z",
     "start_time": "2022-12-23T22:45:25.529226Z"
    }
   },
   "outputs": [
    {
     "data": {
      "text/plain": [
       "'../input/day01.txt'"
      ]
     },
     "execution_count": 11,
     "metadata": {},
     "output_type": "execute_result"
    }
   ],
   "source": [
    "input_path"
   ]
  },
  {
   "cell_type": "code",
   "execution_count": 9,
   "metadata": {
    "ExecuteTime": {
     "end_time": "2022-12-23T22:45:07.706972Z",
     "start_time": "2022-12-23T22:45:07.696954Z"
    }
   },
   "outputs": [
    {
     "data": {
      "text/plain": [
       "['day01.txt']"
      ]
     },
     "execution_count": 9,
     "metadata": {},
     "output_type": "execute_result"
    }
   ],
   "source": [
    "os.listdir(INPUT_DIR)"
   ]
  },
  {
   "cell_type": "code",
   "execution_count": 12,
   "metadata": {
    "ExecuteTime": {
     "end_time": "2022-12-23T22:45:27.532372Z",
     "start_time": "2022-12-23T22:45:27.522045Z"
    }
   },
   "outputs": [],
   "source": [
    "with open(input_path) as file:\n",
    "    data = file.readlines()"
   ]
  },
  {
   "cell_type": "code",
   "execution_count": 15,
   "metadata": {
    "ExecuteTime": {
     "end_time": "2022-12-23T22:46:18.179244Z",
     "start_time": "2022-12-23T22:46:18.164731Z"
    }
   },
   "outputs": [
    {
     "data": {
      "text/plain": [
       "['6669\\n',\n",
       " '6434\\n',\n",
       " '6564\\n',\n",
       " '1032\\n',\n",
       " '1098\\n',\n",
       " '1829\\n',\n",
       " '2608\\n',\n",
       " '7322\\n',\n",
       " '2690\\n',\n",
       " '7061\\n',\n",
       " '1664\\n',\n",
       " '5769\\n',\n",
       " '\\n',\n",
       " '6160\\n',\n",
       " '1082\\n']"
      ]
     },
     "execution_count": 15,
     "metadata": {},
     "output_type": "execute_result"
    }
   ],
   "source": [
    "data[:15]"
   ]
  },
  {
   "cell_type": "code",
   "execution_count": 16,
   "metadata": {
    "ExecuteTime": {
     "end_time": "2022-12-23T22:46:23.368662Z",
     "start_time": "2022-12-23T22:46:23.359066Z"
    }
   },
   "outputs": [
    {
     "data": {
      "text/plain": [
       "2266"
      ]
     },
     "execution_count": 16,
     "metadata": {},
     "output_type": "execute_result"
    }
   ],
   "source": [
    "len(data)"
   ]
  },
  {
   "cell_type": "code",
   "execution_count": 21,
   "metadata": {
    "ExecuteTime": {
     "end_time": "2022-12-23T22:47:38.561025Z",
     "start_time": "2022-12-23T22:47:38.557001Z"
    }
   },
   "outputs": [],
   "source": [
    "data_mod = [x for x in data if x != '\\n']"
   ]
  },
  {
   "cell_type": "code",
   "execution_count": 22,
   "metadata": {
    "ExecuteTime": {
     "end_time": "2022-12-23T22:47:39.076018Z",
     "start_time": "2022-12-23T22:47:39.066491Z"
    }
   },
   "outputs": [
    {
     "data": {
      "text/plain": [
       "2007"
      ]
     },
     "execution_count": 22,
     "metadata": {},
     "output_type": "execute_result"
    }
   ],
   "source": [
    "len(data_mod)"
   ]
  },
  {
   "cell_type": "code",
   "execution_count": 19,
   "metadata": {
    "ExecuteTime": {
     "end_time": "2022-12-23T22:46:56.978314Z",
     "start_time": "2022-12-23T22:46:56.971552Z"
    },
    "collapsed": true
   },
   "outputs": [
    {
     "data": {
      "text/plain": [
       "['6669',\n",
       " '6434',\n",
       " '6564',\n",
       " '1032',\n",
       " '1098',\n",
       " '1829',\n",
       " '2608',\n",
       " '7322',\n",
       " '2690',\n",
       " '7061',\n",
       " '1664',\n",
       " '5769',\n",
       " '6160',\n",
       " '1082',\n",
       " '3958']"
      ]
     },
     "execution_count": 19,
     "metadata": {},
     "output_type": "execute_result"
    }
   ],
   "source": [
    "data_mod[:15]"
   ]
  },
  {
   "cell_type": "markdown",
   "metadata": {},
   "source": [
    "Wrong, try again"
   ]
  },
  {
   "cell_type": "code",
   "execution_count": 23,
   "metadata": {
    "ExecuteTime": {
     "end_time": "2022-12-23T22:48:17.198996Z",
     "start_time": "2022-12-23T22:48:17.192028Z"
    }
   },
   "outputs": [],
   "source": [
    "data_mod = []\n",
    "for x in data:\n",
    "    if x != '\\n':\n",
    "        data_mod.append(int(x.strip()))\n",
    "    else:\n",
    "        data_mod.append(x)"
   ]
  },
  {
   "cell_type": "code",
   "execution_count": 24,
   "metadata": {
    "ExecuteTime": {
     "end_time": "2022-12-23T22:48:19.810054Z",
     "start_time": "2022-12-23T22:48:19.804060Z"
    }
   },
   "outputs": [
    {
     "data": {
      "text/plain": [
       "2266"
      ]
     },
     "execution_count": 24,
     "metadata": {},
     "output_type": "execute_result"
    }
   ],
   "source": [
    "len(data_mod)"
   ]
  },
  {
   "cell_type": "code",
   "execution_count": 25,
   "metadata": {
    "ExecuteTime": {
     "end_time": "2022-12-23T22:48:22.726240Z",
     "start_time": "2022-12-23T22:48:22.719308Z"
    }
   },
   "outputs": [
    {
     "data": {
      "text/plain": [
       "[6669,\n",
       " 6434,\n",
       " 6564,\n",
       " 1032,\n",
       " 1098,\n",
       " 1829,\n",
       " 2608,\n",
       " 7322,\n",
       " 2690,\n",
       " 7061,\n",
       " 1664,\n",
       " 5769,\n",
       " '\\n',\n",
       " 6160,\n",
       " 1082]"
      ]
     },
     "execution_count": 25,
     "metadata": {},
     "output_type": "execute_result"
    }
   ],
   "source": [
    "data_mod[:15]"
   ]
  },
  {
   "cell_type": "markdown",
   "metadata": {},
   "source": [
    "Now we have to sum by elf"
   ]
  },
  {
   "cell_type": "code",
   "execution_count": 27,
   "metadata": {
    "ExecuteTime": {
     "end_time": "2022-12-23T22:50:06.602333Z",
     "start_time": "2022-12-23T22:50:06.592904Z"
    }
   },
   "outputs": [],
   "source": [
    "elf_total = 0\n",
    "elf_list = []\n",
    "for x in data_mod:\n",
    "    if x != '\\n':\n",
    "        elf_total += x\n",
    "    else:\n",
    "        elf_list.append(elf_total)\n",
    "        elf_total = 0"
   ]
  },
  {
   "cell_type": "code",
   "execution_count": 28,
   "metadata": {
    "ExecuteTime": {
     "end_time": "2022-12-23T22:50:11.159422Z",
     "start_time": "2022-12-23T22:50:11.152269Z"
    }
   },
   "outputs": [
    {
     "data": {
      "text/plain": [
       "259"
      ]
     },
     "execution_count": 28,
     "metadata": {},
     "output_type": "execute_result"
    }
   ],
   "source": [
    "len(elf_list)"
   ]
  },
  {
   "cell_type": "code",
   "execution_count": 33,
   "metadata": {
    "ExecuteTime": {
     "end_time": "2022-12-23T22:51:13.773650Z",
     "start_time": "2022-12-23T22:51:13.765439Z"
    }
   },
   "outputs": [
    {
     "data": {
      "text/plain": [
       "259"
      ]
     },
     "execution_count": 33,
     "metadata": {},
     "output_type": "execute_result"
    }
   ],
   "source": [
    "len(list(filter(lambda x: x == '\\n', data_mod)))"
   ]
  },
  {
   "cell_type": "code",
   "execution_count": 34,
   "metadata": {
    "ExecuteTime": {
     "end_time": "2022-12-23T22:51:18.815771Z",
     "start_time": "2022-12-23T22:51:18.809202Z"
    }
   },
   "outputs": [
    {
     "data": {
      "text/plain": [
       "[50740, 47646, 45183, 56621, 54438, 46666, 61452, 65428, 58595, 49927]"
      ]
     },
     "execution_count": 34,
     "metadata": {},
     "output_type": "execute_result"
    }
   ],
   "source": [
    "elf_list[:10]"
   ]
  },
  {
   "cell_type": "code",
   "execution_count": 35,
   "metadata": {
    "ExecuteTime": {
     "end_time": "2022-12-23T22:51:26.142546Z",
     "start_time": "2022-12-23T22:51:26.129708Z"
    }
   },
   "outputs": [
    {
     "data": {
      "text/plain": [
       "150"
      ]
     },
     "execution_count": 35,
     "metadata": {},
     "output_type": "execute_result"
    }
   ],
   "source": [
    "np.argmax(elf_list)"
   ]
  },
  {
   "cell_type": "code",
   "execution_count": 36,
   "metadata": {
    "ExecuteTime": {
     "end_time": "2022-12-23T22:51:40.337311Z",
     "start_time": "2022-12-23T22:51:40.324424Z"
    }
   },
   "outputs": [
    {
     "data": {
      "text/plain": [
       "69912"
      ]
     },
     "execution_count": 36,
     "metadata": {},
     "output_type": "execute_result"
    }
   ],
   "source": [
    "np.max(elf_list)"
   ]
  },
  {
   "cell_type": "code",
   "execution_count": 41,
   "metadata": {
    "ExecuteTime": {
     "end_time": "2022-12-24T01:44:39.060408Z",
     "start_time": "2022-12-24T01:44:39.053164Z"
    }
   },
   "outputs": [],
   "source": [
    "def find_max_cals(input_path):\n",
    "    with open(input_path) as file:\n",
    "        data = file.readlines()\n",
    "    \n",
    "    elf_total = 0\n",
    "    elf_list = []\n",
    "    for x in data:\n",
    "        if x != '\\n':\n",
    "            elf_total += int(x.strip())\n",
    "        else:\n",
    "            elf_list.append(elf_total)\n",
    "            elf_total = 0\n",
    "    \n",
    "    print(f\"The {np.argmax(elf_list)}th elf is carrying the most calories: {np.max(elf_list)}\")\n",
    "    return elf_list"
   ]
  },
  {
   "cell_type": "code",
   "execution_count": 42,
   "metadata": {
    "ExecuteTime": {
     "end_time": "2022-12-24T01:44:39.772985Z",
     "start_time": "2022-12-24T01:44:39.765083Z"
    }
   },
   "outputs": [
    {
     "name": "stdout",
     "output_type": "stream",
     "text": [
      "The 150th elf is carrying the most calories: 69912\n"
     ]
    }
   ],
   "source": [
    "elf_list = find_max_cals(input_path)"
   ]
  },
  {
   "cell_type": "code",
   "execution_count": 43,
   "metadata": {
    "ExecuteTime": {
     "end_time": "2022-12-24T01:44:57.142894Z",
     "start_time": "2022-12-24T01:44:57.138604Z"
    }
   },
   "outputs": [],
   "source": [
    "elf_list.sort(reverse=True)"
   ]
  },
  {
   "cell_type": "code",
   "execution_count": 45,
   "metadata": {
    "ExecuteTime": {
     "end_time": "2022-12-24T01:45:19.963889Z",
     "start_time": "2022-12-24T01:45:19.949143Z"
    }
   },
   "outputs": [
    {
     "data": {
      "text/plain": [
       "208180"
      ]
     },
     "execution_count": 45,
     "metadata": {},
     "output_type": "execute_result"
    }
   ],
   "source": [
    "top_three = elf_list[:3]\n",
    "np.sum(top_three)"
   ]
  },
  {
   "cell_type": "code",
   "execution_count": 46,
   "metadata": {
    "ExecuteTime": {
     "end_time": "2022-12-24T01:45:23.074339Z",
     "start_time": "2022-12-24T01:45:23.067096Z"
    }
   },
   "outputs": [
    {
     "data": {
      "text/plain": [
       "[69912, 69741, 68527]"
      ]
     },
     "execution_count": 46,
     "metadata": {},
     "output_type": "execute_result"
    }
   ],
   "source": [
    "top_three"
   ]
  },
  {
   "cell_type": "code",
   "execution_count": null,
   "metadata": {},
   "outputs": [],
   "source": []
  }
 ],
 "metadata": {
  "kernelspec": {
   "display_name": "Python 3",
   "language": "python",
   "name": "python3"
  },
  "language_info": {
   "codemirror_mode": {
    "name": "ipython",
    "version": 3
   },
   "file_extension": ".py",
   "mimetype": "text/x-python",
   "name": "python",
   "nbconvert_exporter": "python",
   "pygments_lexer": "ipython3",
   "version": "3.6.7"
  },
  "toc": {
   "base_numbering": 1,
   "nav_menu": {},
   "number_sections": true,
   "sideBar": true,
   "skip_h1_title": false,
   "title_cell": "Table of Contents",
   "title_sidebar": "Contents",
   "toc_cell": false,
   "toc_position": {},
   "toc_section_display": true,
   "toc_window_display": false
  }
 },
 "nbformat": 4,
 "nbformat_minor": 2
}
