{
 "cells": [
  {
   "cell_type": "code",
   "execution_count": 1,
   "metadata": {
    "ExecuteTime": {
     "end_time": "2022-12-27T21:23:10.084378Z",
     "start_time": "2022-12-27T21:23:10.074269Z"
    }
   },
   "outputs": [],
   "source": [
    "day = 8"
   ]
  },
  {
   "cell_type": "code",
   "execution_count": 2,
   "metadata": {
    "ExecuteTime": {
     "end_time": "2022-12-27T21:23:18.144448Z",
     "start_time": "2022-12-27T21:23:17.978086Z"
    }
   },
   "outputs": [],
   "source": [
    "# import pandas as pd\n",
    "import numpy as np\n",
    "\n",
    "import os"
   ]
  },
  {
   "cell_type": "code",
   "execution_count": 3,
   "metadata": {
    "ExecuteTime": {
     "end_time": "2022-12-27T21:23:18.866278Z",
     "start_time": "2022-12-27T21:23:18.861657Z"
    }
   },
   "outputs": [],
   "source": [
    "INPUT_DIR = \"../input\"\n",
    "\n",
    "input_path = f'{INPUT_DIR}/day{day:02d}.txt'\n",
    "\n",
    "data = []\n",
    "with open(input_path) as file:\n",
    "#     data = file.readlines()\n",
    "    for line in file.readlines():\n",
    "        data.append(line.strip('\\n'))"
   ]
  },
  {
   "cell_type": "code",
   "execution_count": 4,
   "metadata": {
    "ExecuteTime": {
     "end_time": "2022-12-27T21:23:19.333171Z",
     "start_time": "2022-12-27T21:23:19.322647Z"
    }
   },
   "outputs": [
    {
     "data": {
      "text/plain": [
       "['100021112110202312022010330204312040000111012143445142221414240220240442332040010320133120230011020',\n",
       " '111110201332323210211143123214321343332124211413115514155115511033421001222101204330001300333011010',\n",
       " '222100123300231230122203432310224441551434231352112532354252244334410042212441233243220102033110020',\n",
       " '212210311310102334321243104133012535144151532555155341325352512544453402400411340202133231000102020',\n",
       " '112002102322001003304233302040124544411225523533534235113353522233535550432232202401221022110311110',\n",
       " '112102131331201432320312233124434232544144233241123334112232531521542551332434224211234133132330300',\n",
       " '201212231001314001232020011521543445152251413225334151155332443144315433444321403022301110231133320',\n",
       " '222200212012234021440323522251222114255435321245463652634454445441313331334221403314121340322201323',\n",
       " '011101313030124034011053132411352313135432265223564644563435541314314453511355132441242220212301210',\n",
       " '330120320004414224001225342325133541125622665563263444434232635442123423514224513321324324321221201',\n",
       " '232201002203142013213541415521331136252365342544552365442625322555515234315251334143110114433011330',\n",
       " '231032032133203330135134524113312353466322543643543364665636365344645123214255433423420443411102113',\n",
       " '323210134414131324325554245224653435365453364456243243426526432462344551442433224554110342343103002',\n",
       " '232211304402432454533435252145662665532355636326423563423433555236565455345421453313301243030201033',\n",
       " '301334404444113432444154526622565534622453452465656373363346236352264432242255511441531301201430310']"
      ]
     },
     "execution_count": 4,
     "metadata": {},
     "output_type": "execute_result"
    }
   ],
   "source": [
    "data[:15]"
   ]
  },
  {
   "cell_type": "code",
   "execution_count": 5,
   "metadata": {
    "ExecuteTime": {
     "end_time": "2022-12-27T21:23:23.858580Z",
     "start_time": "2022-12-27T21:23:23.848509Z"
    }
   },
   "outputs": [
    {
     "data": {
      "text/plain": [
       "99"
      ]
     },
     "execution_count": 5,
     "metadata": {},
     "output_type": "execute_result"
    }
   ],
   "source": [
    "len(data)"
   ]
  },
  {
   "cell_type": "markdown",
   "metadata": {},
   "source": [
    "## parse data"
   ]
  },
  {
   "cell_type": "code",
   "execution_count": 16,
   "metadata": {
    "ExecuteTime": {
     "end_time": "2022-12-27T21:25:52.563828Z",
     "start_time": "2022-12-27T21:25:52.556508Z"
    }
   },
   "outputs": [
    {
     "data": {
      "text/plain": [
       "'100021112110202312022010330204312040000111012143445142221414240220240442332040010320133120230011020'"
      ]
     },
     "execution_count": 16,
     "metadata": {},
     "output_type": "execute_result"
    }
   ],
   "source": [
    "x = data[0]\n",
    "x"
   ]
  },
  {
   "cell_type": "code",
   "execution_count": 21,
   "metadata": {
    "ExecuteTime": {
     "end_time": "2022-12-27T21:26:22.720898Z",
     "start_time": "2022-12-27T21:26:22.714181Z"
    }
   },
   "outputs": [
    {
     "data": {
      "text/plain": [
       "[1, 0, 0, 0, 2, 1, 1, 1, 2, 1]"
      ]
     },
     "execution_count": 21,
     "metadata": {},
     "output_type": "execute_result"
    }
   ],
   "source": [
    "[int(y) for y in x][:10]"
   ]
  },
  {
   "cell_type": "code",
   "execution_count": 22,
   "metadata": {
    "ExecuteTime": {
     "end_time": "2022-12-27T21:26:38.364157Z",
     "start_time": "2022-12-27T21:26:38.355359Z"
    }
   },
   "outputs": [],
   "source": [
    "data_parsed = [int(y) for x in data for y in x]"
   ]
  },
  {
   "cell_type": "code",
   "execution_count": 23,
   "metadata": {
    "ExecuteTime": {
     "end_time": "2022-12-27T21:26:42.231405Z",
     "start_time": "2022-12-27T21:26:42.224615Z"
    }
   },
   "outputs": [
    {
     "data": {
      "text/plain": [
       "[1, 0, 0, 0, 2, 1, 1, 1, 2, 1]"
      ]
     },
     "execution_count": 23,
     "metadata": {},
     "output_type": "execute_result"
    }
   ],
   "source": [
    "data_parsed[:10]"
   ]
  },
  {
   "cell_type": "code",
   "execution_count": 24,
   "metadata": {
    "ExecuteTime": {
     "end_time": "2022-12-27T21:26:55.811932Z",
     "start_time": "2022-12-27T21:26:55.806074Z"
    }
   },
   "outputs": [
    {
     "data": {
      "text/plain": [
       "9801"
      ]
     },
     "execution_count": 24,
     "metadata": {},
     "output_type": "execute_result"
    }
   ],
   "source": [
    "len(data_parsed)"
   ]
  },
  {
   "cell_type": "code",
   "execution_count": 25,
   "metadata": {
    "ExecuteTime": {
     "end_time": "2022-12-27T21:27:05.484437Z",
     "start_time": "2022-12-27T21:27:05.479537Z"
    }
   },
   "outputs": [],
   "source": [
    "data_arr = np.array(data_parsed)"
   ]
  },
  {
   "cell_type": "code",
   "execution_count": 26,
   "metadata": {
    "ExecuteTime": {
     "end_time": "2022-12-27T21:27:17.258156Z",
     "start_time": "2022-12-27T21:27:17.253975Z"
    }
   },
   "outputs": [],
   "source": [
    "data_arr = np.reshape(data_arr, (99,99))"
   ]
  },
  {
   "cell_type": "code",
   "execution_count": 27,
   "metadata": {
    "ExecuteTime": {
     "end_time": "2022-12-27T21:27:20.638009Z",
     "start_time": "2022-12-27T21:27:20.624590Z"
    }
   },
   "outputs": [
    {
     "data": {
      "text/plain": [
       "array([1, 0, 0, 0, 2, 1, 1, 1, 2, 1, 1, 0, 2, 0, 2, 3, 1, 2, 0, 2, 2, 0,\n",
       "       1, 0, 3, 3, 0, 2, 0, 4, 3, 1, 2, 0, 4, 0, 0, 0, 0, 1, 1, 1, 0, 1,\n",
       "       2, 1, 4, 3, 4, 4, 5, 1, 4, 2, 2, 2, 1, 4, 1, 4, 2, 4, 0, 2, 2, 0,\n",
       "       2, 4, 0, 4, 4, 2, 3, 3, 2, 0, 4, 0, 0, 1, 0, 3, 2, 0, 1, 3, 3, 1,\n",
       "       2, 0, 2, 3, 0, 0, 1, 1, 0, 2, 0])"
      ]
     },
     "execution_count": 27,
     "metadata": {},
     "output_type": "execute_result"
    }
   ],
   "source": [
    "data_arr[0]"
   ]
  },
  {
   "cell_type": "code",
   "execution_count": 28,
   "metadata": {
    "ExecuteTime": {
     "end_time": "2022-12-27T21:27:26.562589Z",
     "start_time": "2022-12-27T21:27:26.556403Z"
    }
   },
   "outputs": [
    {
     "data": {
      "text/plain": [
       "(99, 99)"
      ]
     },
     "execution_count": 28,
     "metadata": {},
     "output_type": "execute_result"
    }
   ],
   "source": [
    "data_arr.shape"
   ]
  },
  {
   "cell_type": "code",
   "execution_count": 30,
   "metadata": {
    "ExecuteTime": {
     "end_time": "2022-12-27T21:27:49.846205Z",
     "start_time": "2022-12-27T21:27:49.839403Z"
    }
   },
   "outputs": [
    {
     "data": {
      "text/plain": [
       "0"
      ]
     },
     "execution_count": 30,
     "metadata": {},
     "output_type": "execute_result"
    }
   ],
   "source": [
    "data_arr[0, 2]"
   ]
  },
  {
   "cell_type": "markdown",
   "metadata": {},
   "source": [
    "# dev logic"
   ]
  },
  {
   "cell_type": "markdown",
   "metadata": {},
   "source": [
    "Day notes:\n",
    "- A tree is visible if all of the other trees between it and an edge of the grid are shorter than it\n",
    "    - same height => not visible\n",
    "- Trees in exterior of grid are visible\n",
    "\n",
    "How many trees are visible?\n",
    "\n",
    "Example:\n",
    "```\n",
    "    30373\n",
    "    25512\n",
    "    65332\n",
    "    33549\n",
    "    35390\n",
    "```"
   ]
  },
  {
   "cell_type": "code",
   "execution_count": 39,
   "metadata": {
    "ExecuteTime": {
     "end_time": "2022-12-27T21:42:03.531362Z",
     "start_time": "2022-12-27T21:42:03.526404Z"
    }
   },
   "outputs": [],
   "source": [
    "ex_data = \"\"\"30373\n",
    "25512\n",
    "65332\n",
    "33549\n",
    "35390\"\"\"\n",
    "ex_data_list = ex_data.split(\"\\n\")\n",
    "ex_data_parsed = [int(y) for x in ex_data_list for y in x]\n",
    "ex_data_arr = np.array(ex_data_parsed)\n",
    "ex_data_arr = np.reshape(ex_data_arr, (5,5))"
   ]
  },
  {
   "cell_type": "code",
   "execution_count": 40,
   "metadata": {
    "ExecuteTime": {
     "end_time": "2022-12-27T21:42:06.500401Z",
     "start_time": "2022-12-27T21:42:06.495088Z"
    }
   },
   "outputs": [
    {
     "data": {
      "text/plain": [
       "array([[3, 0, 3, 7, 3],\n",
       "       [2, 5, 5, 1, 2],\n",
       "       [6, 5, 3, 3, 2],\n",
       "       [3, 3, 5, 4, 9],\n",
       "       [3, 5, 3, 9, 0]])"
      ]
     },
     "execution_count": 40,
     "metadata": {},
     "output_type": "execute_result"
    }
   ],
   "source": [
    "ex_data_arr"
   ]
  },
  {
   "cell_type": "code",
   "execution_count": 46,
   "metadata": {
    "ExecuteTime": {
     "end_time": "2022-12-27T21:45:36.148689Z",
     "start_time": "2022-12-27T21:45:36.143009Z"
    }
   },
   "outputs": [],
   "source": [
    "i, j = 1,1\n",
    "val = ex_data_arr[i][j]\n",
    "up_neighbors = [ex_data_arr[x][j] for x in range(i)]"
   ]
  },
  {
   "cell_type": "code",
   "execution_count": 47,
   "metadata": {
    "ExecuteTime": {
     "end_time": "2022-12-27T21:45:36.617495Z",
     "start_time": "2022-12-27T21:45:36.609220Z"
    }
   },
   "outputs": [
    {
     "data": {
      "text/plain": [
       "(5, [0])"
      ]
     },
     "execution_count": 47,
     "metadata": {},
     "output_type": "execute_result"
    }
   ],
   "source": [
    "val, up_neighbors"
   ]
  },
  {
   "cell_type": "code",
   "execution_count": 48,
   "metadata": {
    "ExecuteTime": {
     "end_time": "2022-12-27T21:45:37.039729Z",
     "start_time": "2022-12-27T21:45:37.029379Z"
    }
   },
   "outputs": [
    {
     "data": {
      "text/plain": [
       "False"
      ]
     },
     "execution_count": 48,
     "metadata": {},
     "output_type": "execute_result"
    }
   ],
   "source": [
    "val < max(up_neighbors)"
   ]
  },
  {
   "cell_type": "markdown",
   "metadata": {},
   "source": [
    "Tree is visible"
   ]
  },
  {
   "cell_type": "code",
   "execution_count": 49,
   "metadata": {
    "ExecuteTime": {
     "end_time": "2022-12-27T21:45:41.072559Z",
     "start_time": "2022-12-27T21:45:41.065452Z"
    }
   },
   "outputs": [
    {
     "name": "stdout",
     "output_type": "stream",
     "text": [
      "True\n"
     ]
    },
    {
     "data": {
      "text/plain": [
       "(1, [7])"
      ]
     },
     "execution_count": 49,
     "metadata": {},
     "output_type": "execute_result"
    }
   ],
   "source": [
    "i, j = 1,3\n",
    "val = ex_data_arr[i][j]\n",
    "up_neighbors = [ex_data_arr[x][j] for x in range(i)]\n",
    "print(val < max(up_neighbors))\n",
    "val, up_neighbors"
   ]
  },
  {
   "cell_type": "code",
   "execution_count": 74,
   "metadata": {
    "ExecuteTime": {
     "end_time": "2022-12-27T21:59:49.873139Z",
     "start_time": "2022-12-27T21:59:49.867326Z"
    }
   },
   "outputs": [
    {
     "data": {
      "text/plain": [
       "False"
      ]
     },
     "execution_count": 74,
     "metadata": {},
     "output_type": "execute_result"
    }
   ],
   "source": [
    "5 < max([3,3,2])"
   ]
  },
  {
   "cell_type": "code",
   "execution_count": 76,
   "metadata": {
    "ExecuteTime": {
     "end_time": "2022-12-27T22:00:26.929851Z",
     "start_time": "2022-12-27T22:00:26.924806Z"
    }
   },
   "outputs": [
    {
     "data": {
      "text/plain": [
       "True"
      ]
     },
     "execution_count": 76,
     "metadata": {},
     "output_type": "execute_result"
    }
   ],
   "source": [
    "5 <= max([5,3,2])"
   ]
  },
  {
   "cell_type": "markdown",
   "metadata": {},
   "source": [
    "Tree is not visisble"
   ]
  },
  {
   "cell_type": "code",
   "execution_count": 51,
   "metadata": {
    "ExecuteTime": {
     "end_time": "2022-12-27T21:49:56.009814Z",
     "start_time": "2022-12-27T21:49:56.001105Z"
    }
   },
   "outputs": [
    {
     "name": "stdout",
     "output_type": "stream",
     "text": [
      "1\n",
      "False\n"
     ]
    }
   ],
   "source": [
    "i, j = 1,3\n",
    "val = ex_data_arr[i][j]\n",
    "print(val)\n",
    "is_visible = False\n",
    "\n",
    "while not is_visible:\n",
    "\n",
    "    up_neighbors = [ex_data_arr[x][j] for x in range(i)]\n",
    "    if val < max(up_neighbors):\n",
    "        is_visible = False\n",
    "    else:\n",
    "        is_visible = True\n",
    "    \n",
    "    down_neighbors = [ex_data_arr[x][j] for x in range(i+1, ex_data_arr.shape[0])]\n",
    "    if val < max(down_neighbors):\n",
    "        is_visible = False\n",
    "    else:\n",
    "        is_visible = True\n",
    "    \n",
    "    left_neighbors = [ex_data_arr[i][x] for x in range(j)]\n",
    "    if val < max(left_neighbors):\n",
    "        is_visible = False\n",
    "    else:\n",
    "        is_visible = True   \n",
    "    \n",
    "    right_neighbors = [ex_data_arr[i][x] for x in range(j+1, ex_data_arr.shape[1])]\n",
    "    if val < max(right_neighbors):\n",
    "        is_visible = False\n",
    "    else:\n",
    "        is_visible = True\n",
    "    \n",
    "    break\n",
    "    \n",
    "print(is_visible)"
   ]
  },
  {
   "cell_type": "code",
   "execution_count": 52,
   "metadata": {
    "ExecuteTime": {
     "end_time": "2022-12-27T21:50:24.385691Z",
     "start_time": "2022-12-27T21:50:24.374922Z"
    }
   },
   "outputs": [
    {
     "name": "stdout",
     "output_type": "stream",
     "text": [
      "5\n",
      "True\n"
     ]
    }
   ],
   "source": [
    "i, j = 2,1\n",
    "val = ex_data_arr[i][j]\n",
    "print(val)\n",
    "is_visible = False\n",
    "\n",
    "while not is_visible:\n",
    "\n",
    "    up_neighbors = [ex_data_arr[x][j] for x in range(i)]\n",
    "    if val < max(up_neighbors):\n",
    "        is_visible = False\n",
    "    else:\n",
    "        is_visible = True\n",
    "    \n",
    "    down_neighbors = [ex_data_arr[x][j] for x in range(i+1, ex_data_arr.shape[0])]\n",
    "    if val < max(down_neighbors):\n",
    "        is_visible = False\n",
    "    else:\n",
    "        is_visible = True\n",
    "    \n",
    "    left_neighbors = [ex_data_arr[i][x] for x in range(j)]\n",
    "    if val < max(left_neighbors):\n",
    "        is_visible = False\n",
    "    else:\n",
    "        is_visible = True   \n",
    "    \n",
    "    right_neighbors = [ex_data_arr[i][x] for x in range(j+1, ex_data_arr.shape[1])]\n",
    "    if val < max(right_neighbors):\n",
    "        is_visible = False\n",
    "    else:\n",
    "        is_visible = True\n",
    "    \n",
    "    break\n",
    "    \n",
    "print(is_visible)"
   ]
  },
  {
   "cell_type": "code",
   "execution_count": 55,
   "metadata": {
    "ExecuteTime": {
     "end_time": "2022-12-27T21:52:38.777340Z",
     "start_time": "2022-12-27T21:52:38.770402Z"
    }
   },
   "outputs": [],
   "source": [
    "def check_if_vis(i, j, data_arr):\n",
    "    val = data_arr[i][j]\n",
    "\n",
    "    is_visible = False\n",
    "\n",
    "    while not is_visible:\n",
    "\n",
    "        up_neighbors = [data_arr[x][j] for x in range(i)]\n",
    "        if val < max(up_neighbors):\n",
    "            is_visible = False\n",
    "        else:\n",
    "            is_visible = True\n",
    "\n",
    "        down_neighbors = [data_arr[x][j] for x in range(i+1, data_arr.shape[0])]\n",
    "        if val < max(down_neighbors):\n",
    "            is_visible = False\n",
    "        else:\n",
    "            is_visible = True\n",
    "\n",
    "        left_neighbors = [data_arr[i][x] for x in range(j)]\n",
    "        if val < max(left_neighbors):\n",
    "            is_visible = False\n",
    "        else:\n",
    "            is_visible = True   \n",
    "\n",
    "        right_neighbors = [data_arr[i][x] for x in range(j+1, data_arr.shape[1])]\n",
    "        if val < max(right_neighbors):\n",
    "            is_visible = False\n",
    "        else:\n",
    "            is_visible = True\n",
    "\n",
    "        break\n",
    "\n",
    "    return is_visible"
   ]
  },
  {
   "cell_type": "code",
   "execution_count": 62,
   "metadata": {
    "ExecuteTime": {
     "end_time": "2022-12-27T21:54:23.399598Z",
     "start_time": "2022-12-27T21:54:23.394038Z"
    }
   },
   "outputs": [
    {
     "data": {
      "text/plain": [
       "(5, 5)"
      ]
     },
     "execution_count": 62,
     "metadata": {},
     "output_type": "execute_result"
    }
   ],
   "source": [
    "ex_data_arr.shape"
   ]
  },
  {
   "cell_type": "code",
   "execution_count": 65,
   "metadata": {
    "ExecuteTime": {
     "end_time": "2022-12-27T21:55:07.204613Z",
     "start_time": "2022-12-27T21:55:07.199607Z"
    }
   },
   "outputs": [],
   "source": [
    "def count_num_vis(data_arr):\n",
    "    num_vis = 0\n",
    "    for i in range(data_arr.shape[0]):\n",
    "        for j in range(data_arr.shape[1]):\n",
    "            if (i == 0) or (j == 0) or (i == (data_arr.shape[0]-1)) or (j == (data_arr.shape[1]-1)):\n",
    "                num_vis += 1\n",
    "            else:\n",
    "                if check_if_vis(i, j, data_arr):\n",
    "                    num_vis += 1\n",
    "    return num_vis"
   ]
  },
  {
   "cell_type": "code",
   "execution_count": 66,
   "metadata": {
    "ExecuteTime": {
     "end_time": "2022-12-27T21:55:07.568315Z",
     "start_time": "2022-12-27T21:55:07.562691Z"
    }
   },
   "outputs": [
    {
     "data": {
      "text/plain": [
       "21"
      ]
     },
     "execution_count": 66,
     "metadata": {},
     "output_type": "execute_result"
    }
   ],
   "source": [
    "count_num_vis(ex_data_arr)"
   ]
  },
  {
   "cell_type": "code",
   "execution_count": 67,
   "metadata": {
    "ExecuteTime": {
     "end_time": "2022-12-27T21:55:19.441294Z",
     "start_time": "2022-12-27T21:55:18.962554Z"
    }
   },
   "outputs": [
    {
     "data": {
      "text/plain": [
       "2121"
      ]
     },
     "execution_count": 67,
     "metadata": {},
     "output_type": "execute_result"
    }
   ],
   "source": [
    "count_num_vis(data_arr)"
   ]
  },
  {
   "cell_type": "markdown",
   "metadata": {},
   "source": [
    "## troubleshoot"
   ]
  },
  {
   "cell_type": "code",
   "execution_count": 69,
   "metadata": {
    "ExecuteTime": {
     "end_time": "2022-12-27T21:57:00.896589Z",
     "start_time": "2022-12-27T21:57:00.888207Z"
    }
   },
   "outputs": [],
   "source": [
    "\n",
    "\n",
    "def count_num_vis(data_arr):\n",
    "    num_vis = 0\n",
    "    vis_list = []\n",
    "    for i in range(data_arr.shape[0]):\n",
    "        for j in range(data_arr.shape[1]):\n",
    "            if (i == 0) or (j == 0) or (i == (data_arr.shape[0]-1)) or (j == (data_arr.shape[1]-1)):\n",
    "                num_vis += 1\n",
    "                vis_list.append([i,j])\n",
    "            else:\n",
    "                if check_if_vis(i, j, data_arr):\n",
    "                    num_vis += 1\n",
    "                    vis_list.append([i,j])\n",
    "    print(num_vis)\n",
    "    return vis_list"
   ]
  },
  {
   "cell_type": "code",
   "execution_count": 70,
   "metadata": {
    "ExecuteTime": {
     "end_time": "2022-12-27T21:57:10.739419Z",
     "start_time": "2022-12-27T21:57:10.733305Z"
    }
   },
   "outputs": [
    {
     "data": {
      "text/plain": [
       "(99, 99)"
      ]
     },
     "execution_count": 70,
     "metadata": {},
     "output_type": "execute_result"
    }
   ],
   "source": [
    "data_arr.shape"
   ]
  },
  {
   "cell_type": "code",
   "execution_count": 71,
   "metadata": {
    "ExecuteTime": {
     "end_time": "2022-12-27T21:57:13.553913Z",
     "start_time": "2022-12-27T21:57:13.072854Z"
    }
   },
   "outputs": [
    {
     "name": "stdout",
     "output_type": "stream",
     "text": [
      "2121\n"
     ]
    }
   ],
   "source": [
    "vis_list = count_num_vis(data_arr)"
   ]
  },
  {
   "cell_type": "code",
   "execution_count": 73,
   "metadata": {
    "ExecuteTime": {
     "end_time": "2022-12-27T21:57:24.586021Z",
     "start_time": "2022-12-27T21:57:24.578759Z"
    }
   },
   "outputs": [
    {
     "data": {
      "text/plain": [
       "[[1, 50],\n",
       " [1, 51],\n",
       " [1, 55],\n",
       " [1, 56],\n",
       " [1, 59],\n",
       " [1, 60],\n",
       " [1, 66],\n",
       " [1, 80],\n",
       " [1, 81],\n",
       " [1, 82],\n",
       " [1, 87],\n",
       " [1, 90],\n",
       " [1, 91],\n",
       " [1, 92],\n",
       " [1, 94],\n",
       " [1, 95],\n",
       " [1, 97],\n",
       " [1, 98],\n",
       " [2, 0],\n",
       " [2, 36]]"
      ]
     },
     "execution_count": 73,
     "metadata": {},
     "output_type": "execute_result"
    }
   ],
   "source": [
    "vis_list[100:120]"
   ]
  },
  {
   "cell_type": "code",
   "execution_count": 86,
   "metadata": {
    "ExecuteTime": {
     "end_time": "2022-12-27T22:04:46.026348Z",
     "start_time": "2022-12-27T22:04:46.020336Z"
    }
   },
   "outputs": [
    {
     "name": "stdout",
     "output_type": "stream",
     "text": [
      "True\n"
     ]
    }
   ],
   "source": [
    "if 5 <= max([0]):\n",
    "    is_visible = False\n",
    "else:\n",
    "    is_visible = True\n",
    "\n",
    "print(is_visible)"
   ]
  },
  {
   "cell_type": "code",
   "execution_count": 87,
   "metadata": {
    "ExecuteTime": {
     "end_time": "2022-12-27T22:04:57.413115Z",
     "start_time": "2022-12-27T22:04:57.407383Z"
    }
   },
   "outputs": [
    {
     "name": "stdout",
     "output_type": "stream",
     "text": [
      "False\n"
     ]
    }
   ],
   "source": [
    "if 5 <= max([5,1,2]):\n",
    "    is_visible = False\n",
    "else:\n",
    "    is_visible = True\n",
    "\n",
    "print(is_visible)"
   ]
  },
  {
   "cell_type": "code",
   "execution_count": null,
   "metadata": {},
   "outputs": [],
   "source": []
  },
  {
   "cell_type": "code",
   "execution_count": null,
   "metadata": {},
   "outputs": [],
   "source": []
  },
  {
   "cell_type": "code",
   "execution_count": 90,
   "metadata": {
    "ExecuteTime": {
     "end_time": "2022-12-27T22:06:58.250794Z",
     "start_time": "2022-12-27T22:06:58.241731Z"
    }
   },
   "outputs": [],
   "source": [
    "def check_if_vis(i, j, data_arr):\n",
    "    val = data_arr[i][j]\n",
    "\n",
    "    is_visible = False\n",
    "\n",
    "    while not is_visible:\n",
    "\n",
    "        up_neighbors = [data_arr[x][j] for x in range(i)]\n",
    "        if val <= max(up_neighbors): # if smaller than or equal to its neighbors, tree is *not* visible\n",
    "            is_visible = False\n",
    "        else:\n",
    "            print(\"Tree is visible from the top\")\n",
    "            is_visible = True\n",
    "\n",
    "        down_neighbors = [data_arr[x][j] for x in range(i+1, data_arr.shape[0])]\n",
    "        if val <= max(down_neighbors):\n",
    "            is_visible = False\n",
    "        else:\n",
    "            print(\"Tree is visible from the bottom\")\n",
    "            is_visible = True\n",
    "\n",
    "        left_neighbors = [data_arr[i][x] for x in range(j)]\n",
    "        if val <= max(left_neighbors):\n",
    "            is_visible = False\n",
    "        else:\n",
    "            print(\"Tree is visible from the left\")\n",
    "            is_visible = True\n",
    "\n",
    "        right_neighbors = [data_arr[i][x] for x in range(j+1, data_arr.shape[1])]\n",
    "        if val <= max(right_neighbors):\n",
    "            is_visible = False\n",
    "        else:\n",
    "            print(\"Tree is visible from the right\")\n",
    "            is_visible = True\n",
    "\n",
    "        break\n",
    "\n",
    "    return is_visible"
   ]
  },
  {
   "cell_type": "code",
   "execution_count": 91,
   "metadata": {
    "ExecuteTime": {
     "end_time": "2022-12-27T22:06:58.691919Z",
     "start_time": "2022-12-27T22:06:58.681433Z"
    }
   },
   "outputs": [
    {
     "name": "stdout",
     "output_type": "stream",
     "text": [
      "Tree is visible from the top\n",
      "Tree is visible from the left\n"
     ]
    },
    {
     "data": {
      "text/plain": [
       "False"
      ]
     },
     "execution_count": 91,
     "metadata": {},
     "output_type": "execute_result"
    }
   ],
   "source": [
    "check_if_vis(1,1, ex_data_arr)"
   ]
  },
  {
   "cell_type": "code",
   "execution_count": 92,
   "metadata": {
    "ExecuteTime": {
     "end_time": "2022-12-27T22:08:33.648806Z",
     "start_time": "2022-12-27T22:08:33.642591Z"
    }
   },
   "outputs": [
    {
     "data": {
      "text/plain": [
       "True"
      ]
     },
     "execution_count": 92,
     "metadata": {},
     "output_type": "execute_result"
    }
   ],
   "source": [
    "5 > min([0])"
   ]
  },
  {
   "cell_type": "code",
   "execution_count": 93,
   "metadata": {
    "ExecuteTime": {
     "end_time": "2022-12-27T22:08:47.129964Z",
     "start_time": "2022-12-27T22:08:47.124275Z"
    }
   },
   "outputs": [
    {
     "name": "stdout",
     "output_type": "stream",
     "text": [
      "False\n"
     ]
    }
   ],
   "source": [
    "if 5 > min([5,1,2]):\n",
    "    is_visible = False\n",
    "else:\n",
    "    is_visible = True\n",
    "\n",
    "print(is_visible)"
   ]
  },
  {
   "cell_type": "code",
   "execution_count": 110,
   "metadata": {
    "ExecuteTime": {
     "end_time": "2022-12-27T22:14:14.112301Z",
     "start_time": "2022-12-27T22:14:14.100966Z"
    }
   },
   "outputs": [],
   "source": [
    "def check_if_vis(i, j, data_arr):\n",
    "    val = data_arr[i][j]\n",
    "    print(val)\n",
    "    is_visible = False\n",
    "\n",
    "    up_neighbors = [data_arr[x][j] for x in range(i)]\n",
    "    if val > max(up_neighbors):\n",
    "        print(\"Tree is visible from the top\", up_neighbors)\n",
    "#         return True\n",
    "        is_visible = True\n",
    "\n",
    "    down_neighbors = [data_arr[x][j] for x in range(i+1, data_arr.shape[0])]\n",
    "    if val > max(down_neighbors):\n",
    "        print(\"Tree is visible from the bottom\", down_neighbors)\n",
    "#         return True\n",
    "        is_visible = True\n",
    "    \n",
    "    left_neighbors = [data_arr[i][x] for x in range(j)]\n",
    "    if val > max(left_neighbors):\n",
    "        print(\"Tree is visible from the left\", left_neighbors)\n",
    "#         return True\n",
    "        is_visible = True\n",
    "\n",
    "    right_neighbors = [data_arr[i][x] for x in range(j+1, data_arr.shape[1])]\n",
    "    if val > max(right_neighbors):\n",
    "        print(\"Tree is visible from the right\", right_neighbors)\n",
    "#         return True\n",
    "        is_visible = True\n",
    "\n",
    "    return is_visible"
   ]
  },
  {
   "cell_type": "code",
   "execution_count": 111,
   "metadata": {
    "ExecuteTime": {
     "end_time": "2022-12-27T22:14:14.724495Z",
     "start_time": "2022-12-27T22:14:14.718078Z"
    }
   },
   "outputs": [
    {
     "name": "stdout",
     "output_type": "stream",
     "text": [
      "5\n",
      "Tree is visible from the top [0]\n",
      "Tree is visible from the left [2]\n"
     ]
    },
    {
     "data": {
      "text/plain": [
       "True"
      ]
     },
     "execution_count": 111,
     "metadata": {},
     "output_type": "execute_result"
    }
   ],
   "source": [
    "check_if_vis(1,1, ex_data_arr)"
   ]
  },
  {
   "cell_type": "code",
   "execution_count": 108,
   "metadata": {
    "ExecuteTime": {
     "end_time": "2022-12-27T22:13:56.652729Z",
     "start_time": "2022-12-27T22:13:56.646419Z"
    }
   },
   "outputs": [
    {
     "data": {
      "text/plain": [
       "True"
      ]
     },
     "execution_count": 108,
     "metadata": {},
     "output_type": "execute_result"
    }
   ],
   "source": [
    "5 > max([2])"
   ]
  },
  {
   "cell_type": "code",
   "execution_count": 109,
   "metadata": {
    "ExecuteTime": {
     "end_time": "2022-12-27T22:14:00.382608Z",
     "start_time": "2022-12-27T22:14:00.376268Z"
    }
   },
   "outputs": [
    {
     "data": {
      "text/plain": [
       "False"
      ]
     },
     "execution_count": 109,
     "metadata": {},
     "output_type": "execute_result"
    }
   ],
   "source": [
    "5 > max([5, 1, 2])"
   ]
  },
  {
   "cell_type": "code",
   "execution_count": 103,
   "metadata": {
    "ExecuteTime": {
     "end_time": "2022-12-27T22:13:02.985387Z",
     "start_time": "2022-12-27T22:13:02.979386Z"
    }
   },
   "outputs": [
    {
     "data": {
      "text/plain": [
       "array([[3, 0, 3, 7, 3],\n",
       "       [2, 5, 5, 1, 2],\n",
       "       [6, 5, 3, 3, 2],\n",
       "       [3, 3, 5, 4, 9],\n",
       "       [3, 5, 3, 9, 0]])"
      ]
     },
     "execution_count": 103,
     "metadata": {},
     "output_type": "execute_result"
    }
   ],
   "source": [
    "ex_data_arr"
   ]
  },
  {
   "cell_type": "code",
   "execution_count": 100,
   "metadata": {
    "ExecuteTime": {
     "end_time": "2022-12-27T22:12:30.162905Z",
     "start_time": "2022-12-27T22:12:30.154733Z"
    }
   },
   "outputs": [
    {
     "data": {
      "text/plain": [
       "5"
      ]
     },
     "execution_count": 100,
     "metadata": {},
     "output_type": "execute_result"
    }
   ],
   "source": [
    "ex_data_arr[1][1]"
   ]
  },
  {
   "cell_type": "code",
   "execution_count": 115,
   "metadata": {
    "ExecuteTime": {
     "end_time": "2022-12-27T22:14:53.257893Z",
     "start_time": "2022-12-27T22:14:53.250783Z"
    }
   },
   "outputs": [],
   "source": [
    "def check_if_vis(i, j, data_arr):\n",
    "    val = data_arr[i][j]\n",
    "#     print(val)\n",
    "    is_visible = False\n",
    "\n",
    "    up_neighbors = [data_arr[x][j] for x in range(i)]\n",
    "    if val > max(up_neighbors):\n",
    "#         print(\"Tree is visible from the top\", up_neighbors)\n",
    "        is_visible = True\n",
    "\n",
    "    down_neighbors = [data_arr[x][j] for x in range(i+1, data_arr.shape[0])]\n",
    "    if val > max(down_neighbors):\n",
    "#         print(\"Tree is visible from the bottom\", down_neighbors)\n",
    "        is_visible = True\n",
    "    \n",
    "    left_neighbors = [data_arr[i][x] for x in range(j)]\n",
    "    if val > max(left_neighbors):\n",
    "#         print(\"Tree is visible from the left\", left_neighbors)\n",
    "        is_visible = True\n",
    "\n",
    "    right_neighbors = [data_arr[i][x] for x in range(j+1, data_arr.shape[1])]\n",
    "    if val > max(right_neighbors):\n",
    "#         print(\"Tree is visible from the right\", right_neighbors)\n",
    "        is_visible = True\n",
    "\n",
    "    return is_visible"
   ]
  },
  {
   "cell_type": "code",
   "execution_count": 116,
   "metadata": {
    "ExecuteTime": {
     "end_time": "2022-12-27T22:14:53.823566Z",
     "start_time": "2022-12-27T22:14:53.816565Z"
    }
   },
   "outputs": [],
   "source": [
    "def count_num_vis(data_arr):\n",
    "    num_vis = 0\n",
    "    vis_list = []\n",
    "    for i in range(data_arr.shape[0]):\n",
    "        for j in range(data_arr.shape[1]):\n",
    "            if (i == 0) or (j == 0) or (i == (data_arr.shape[0]-1)) or (j == (data_arr.shape[1]-1)):\n",
    "                num_vis += 1\n",
    "                vis_list.append([i,j])\n",
    "            else:\n",
    "                if check_if_vis(i, j, data_arr):\n",
    "                    num_vis += 1\n",
    "                    vis_list.append([i,j])\n",
    "    print(num_vis)\n",
    "    return vis_list"
   ]
  },
  {
   "cell_type": "code",
   "execution_count": 118,
   "metadata": {
    "ExecuteTime": {
     "end_time": "2022-12-27T22:15:01.627441Z",
     "start_time": "2022-12-27T22:15:01.622580Z"
    }
   },
   "outputs": [
    {
     "name": "stdout",
     "output_type": "stream",
     "text": [
      "21\n"
     ]
    }
   ],
   "source": [
    "ex_vis_list = count_num_vis(ex_data_arr)"
   ]
  },
  {
   "cell_type": "code",
   "execution_count": 119,
   "metadata": {
    "ExecuteTime": {
     "end_time": "2022-12-27T22:15:11.681373Z",
     "start_time": "2022-12-27T22:15:11.202058Z"
    }
   },
   "outputs": [
    {
     "name": "stdout",
     "output_type": "stream",
     "text": [
      "1796\n"
     ]
    }
   ],
   "source": [
    "vis_list = count_num_vis(data_arr)"
   ]
  },
  {
   "cell_type": "markdown",
   "metadata": {},
   "source": [
    "# part 2"
   ]
  },
  {
   "cell_type": "markdown",
   "metadata": {},
   "source": [
    "Notes:\n",
    "- If a tree is right on the edge, at least one of its viewing distances will be zero"
   ]
  },
  {
   "cell_type": "code",
   "execution_count": 122,
   "metadata": {
    "ExecuteTime": {
     "end_time": "2022-12-28T00:36:01.991616Z",
     "start_time": "2022-12-28T00:36:01.987034Z"
    }
   },
   "outputs": [],
   "source": [
    "def count_num_trees(val, neighbors):\n",
    "    num_trees = 0\n",
    "    for n in neighbors:\n",
    "        if n < val:\n",
    "            num_trees += 1\n",
    "        elif n >= val:\n",
    "            num_trees += 1\n",
    "            break\n",
    "    return num_trees"
   ]
  },
  {
   "cell_type": "code",
   "execution_count": 123,
   "metadata": {
    "ExecuteTime": {
     "end_time": "2022-12-28T00:36:10.535667Z",
     "start_time": "2022-12-28T00:36:10.529756Z"
    }
   },
   "outputs": [
    {
     "data": {
      "text/plain": [
       "2"
      ]
     },
     "execution_count": 123,
     "metadata": {},
     "output_type": "execute_result"
    }
   ],
   "source": [
    "val = 5\n",
    "neighbors = [3,5,3]\n",
    "# [x < val for x in neighbors]\n",
    "count_num_trees(val, neighbors)"
   ]
  },
  {
   "cell_type": "code",
   "execution_count": 124,
   "metadata": {
    "ExecuteTime": {
     "end_time": "2022-12-28T00:36:19.271852Z",
     "start_time": "2022-12-28T00:36:19.265169Z"
    }
   },
   "outputs": [
    {
     "data": {
      "text/plain": [
       "2"
      ]
     },
     "execution_count": 124,
     "metadata": {},
     "output_type": "execute_result"
    }
   ],
   "source": [
    "val = 5\n",
    "neighbors = [4,9]\n",
    "count_num_trees(val, neighbors)"
   ]
  },
  {
   "cell_type": "code",
   "execution_count": 125,
   "metadata": {
    "ExecuteTime": {
     "end_time": "2022-12-28T00:36:30.690880Z",
     "start_time": "2022-12-28T00:36:30.685199Z"
    }
   },
   "outputs": [
    {
     "data": {
      "text/plain": [
       "1"
      ]
     },
     "execution_count": 125,
     "metadata": {},
     "output_type": "execute_result"
    }
   ],
   "source": [
    "val = 5\n",
    "neighbors = [5,2,3]\n",
    "count_num_trees(val, neighbors)"
   ]
  },
  {
   "cell_type": "code",
   "execution_count": 135,
   "metadata": {
    "ExecuteTime": {
     "end_time": "2022-12-28T00:42:57.841275Z",
     "start_time": "2022-12-28T00:42:57.833858Z"
    }
   },
   "outputs": [],
   "source": [
    "def get_scenic_score(i, j, data_arr):\n",
    "    val = data_arr[i][j]\n",
    "    print(f\"val: {val}\")\n",
    "#     score = 1\n",
    "\n",
    "    up_neighbors = [data_arr[x][j] for x in range(i-1, -1, -1)]\n",
    "    up_score = count_num_trees(val, up_neighbors)\n",
    "    print(up_score)\n",
    "#     score *= count_num_trees(val, up_neighbors)\n",
    "\n",
    "    down_neighbors = [data_arr[x][j] for x in range(i+1, data_arr.shape[0])]\n",
    "#     score *= count_num_trees(val, down_neighbors)\n",
    "    down_score = count_num_trees(val, down_neighbors)\n",
    "    print(down_score)\n",
    "    \n",
    "    left_neighbors = [data_arr[i][x] for x in range(j-1, -1, -1)]\n",
    "#     score *= count_num_trees(val, left_neighbors)\n",
    "    left_score = count_num_trees(val, left_neighbors)\n",
    "    print(left_score)\n",
    "\n",
    "    right_neighbors = [data_arr[i][x] for x in range(j+1, data_arr.shape[1])]\n",
    "#     score *= count_num_trees(val, right_neighbors)\n",
    "    right_score = count_num_trees(val, right_neighbors)\n",
    "    print(right_score)\n",
    "    \n",
    "    score = up_score * down_score * left_score * right_score\n",
    "\n",
    "    return score"
   ]
  },
  {
   "cell_type": "code",
   "execution_count": 127,
   "metadata": {
    "ExecuteTime": {
     "end_time": "2022-12-28T00:37:44.486812Z",
     "start_time": "2022-12-28T00:37:44.480678Z"
    }
   },
   "outputs": [
    {
     "data": {
      "text/plain": [
       "array([[3, 0, 3, 7, 3],\n",
       "       [2, 5, 5, 1, 2],\n",
       "       [6, 5, 3, 3, 2],\n",
       "       [3, 3, 5, 4, 9],\n",
       "       [3, 5, 3, 9, 0]])"
      ]
     },
     "execution_count": 127,
     "metadata": {},
     "output_type": "execute_result"
    }
   ],
   "source": [
    "ex_data_arr"
   ]
  },
  {
   "cell_type": "code",
   "execution_count": 136,
   "metadata": {
    "ExecuteTime": {
     "end_time": "2022-12-28T00:43:00.177676Z",
     "start_time": "2022-12-28T00:43:00.170828Z"
    }
   },
   "outputs": [
    {
     "name": "stdout",
     "output_type": "stream",
     "text": [
      "val: 5\n",
      "1\n",
      "2\n",
      "1\n",
      "2\n"
     ]
    },
    {
     "data": {
      "text/plain": [
       "4"
      ]
     },
     "execution_count": 136,
     "metadata": {},
     "output_type": "execute_result"
    }
   ],
   "source": [
    "get_scenic_score(1,2,ex_data_arr)"
   ]
  },
  {
   "cell_type": "code",
   "execution_count": 137,
   "metadata": {
    "ExecuteTime": {
     "end_time": "2022-12-28T00:43:21.004855Z",
     "start_time": "2022-12-28T00:43:20.998890Z"
    }
   },
   "outputs": [
    {
     "name": "stdout",
     "output_type": "stream",
     "text": [
      "val: 5\n",
      "2\n",
      "1\n",
      "2\n",
      "2\n"
     ]
    },
    {
     "data": {
      "text/plain": [
       "8"
      ]
     },
     "execution_count": 137,
     "metadata": {},
     "output_type": "execute_result"
    }
   ],
   "source": [
    "get_scenic_score(3, 2, ex_data_arr)"
   ]
  },
  {
   "cell_type": "code",
   "execution_count": 141,
   "metadata": {
    "ExecuteTime": {
     "end_time": "2022-12-28T00:46:41.749030Z",
     "start_time": "2022-12-28T00:46:41.742271Z"
    }
   },
   "outputs": [],
   "source": [
    "def get_scenic_score(i, j, data_arr):\n",
    "    val = data_arr[i][j]\n",
    "#     print(f\"val: {val}\")\n",
    "#     score = 1\n",
    "\n",
    "    up_neighbors = [data_arr[x][j] for x in range(i-1, -1, -1)]\n",
    "    up_score = count_num_trees(val, up_neighbors)\n",
    "#     print(up_score)\n",
    "#     score *= count_num_trees(val, up_neighbors)\n",
    "\n",
    "    down_neighbors = [data_arr[x][j] for x in range(i+1, data_arr.shape[0])]\n",
    "#     score *= count_num_trees(val, down_neighbors)\n",
    "    down_score = count_num_trees(val, down_neighbors)\n",
    "#     print(down_score)\n",
    "    \n",
    "    left_neighbors = [data_arr[i][x] for x in range(j-1, -1, -1)]\n",
    "#     score *= count_num_trees(val, left_neighbors)\n",
    "    left_score = count_num_trees(val, left_neighbors)\n",
    "#     print(left_score)\n",
    "\n",
    "    right_neighbors = [data_arr[i][x] for x in range(j+1, data_arr.shape[1])]\n",
    "#     score *= count_num_trees(val, right_neighbors)\n",
    "    right_score = count_num_trees(val, right_neighbors)\n",
    "#     print(right_score)\n",
    "    \n",
    "    score = up_score * down_score * left_score * right_score\n",
    "\n",
    "    return score"
   ]
  },
  {
   "cell_type": "code",
   "execution_count": 142,
   "metadata": {
    "ExecuteTime": {
     "end_time": "2022-12-28T00:46:44.918460Z",
     "start_time": "2022-12-28T00:46:44.906055Z"
    }
   },
   "outputs": [],
   "source": [
    "def find_best_spot(data_arr):\n",
    "    best_score = 0\n",
    "    for i in range(data_arr.shape[0]):\n",
    "        for j in range(data_arr.shape[1]):\n",
    "            if (i == 0) or (j == 0) or (i == (data_arr.shape[0]-1)) or (j == (data_arr.shape[1]-1)):\n",
    "                # score = 0, so can't be the best\n",
    "                continue\n",
    "            else:\n",
    "                spot_score = get_scenic_score(i, j, data_arr)\n",
    "                if spot_score > best_score:\n",
    "                    best_score = spot_score\n",
    "                    best_spot = [i, j]\n",
    "    print(best_score)\n",
    "    return best_spot"
   ]
  },
  {
   "cell_type": "code",
   "execution_count": 143,
   "metadata": {
    "ExecuteTime": {
     "end_time": "2022-12-28T00:46:45.351887Z",
     "start_time": "2022-12-28T00:46:45.345595Z"
    }
   },
   "outputs": [
    {
     "name": "stdout",
     "output_type": "stream",
     "text": [
      "8\n"
     ]
    },
    {
     "data": {
      "text/plain": [
       "[3, 2]"
      ]
     },
     "execution_count": 143,
     "metadata": {},
     "output_type": "execute_result"
    }
   ],
   "source": [
    "find_best_spot(ex_data_arr)"
   ]
  },
  {
   "cell_type": "code",
   "execution_count": 144,
   "metadata": {
    "ExecuteTime": {
     "end_time": "2022-12-28T00:46:58.296905Z",
     "start_time": "2022-12-28T00:46:57.841320Z"
    }
   },
   "outputs": [
    {
     "name": "stdout",
     "output_type": "stream",
     "text": [
      "288120\n"
     ]
    },
    {
     "data": {
      "text/plain": [
       "[86, 49]"
      ]
     },
     "execution_count": 144,
     "metadata": {},
     "output_type": "execute_result"
    }
   ],
   "source": [
    "find_best_spot(data_arr)"
   ]
  },
  {
   "cell_type": "code",
   "execution_count": null,
   "metadata": {},
   "outputs": [],
   "source": []
  }
 ],
 "metadata": {
  "kernelspec": {
   "display_name": "misc",
   "language": "python",
   "name": "misc"
  },
  "language_info": {
   "codemirror_mode": {
    "name": "ipython",
    "version": 3
   },
   "file_extension": ".py",
   "mimetype": "text/x-python",
   "name": "python",
   "nbconvert_exporter": "python",
   "pygments_lexer": "ipython3",
   "version": "3.10.8"
  },
  "toc": {
   "base_numbering": 1,
   "nav_menu": {},
   "number_sections": true,
   "sideBar": true,
   "skip_h1_title": false,
   "title_cell": "Table of Contents",
   "title_sidebar": "Contents",
   "toc_cell": false,
   "toc_position": {
    "height": "calc(100% - 180px)",
    "left": "10px",
    "top": "150px",
    "width": "165px"
   },
   "toc_section_display": true,
   "toc_window_display": true
  }
 },
 "nbformat": 4,
 "nbformat_minor": 2
}
