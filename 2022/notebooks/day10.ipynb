{
 "cells": [
  {
   "cell_type": "code",
   "execution_count": 1,
   "metadata": {
    "ExecuteTime": {
     "end_time": "2022-12-29T18:17:56.345859Z",
     "start_time": "2022-12-29T18:17:56.327021Z"
    }
   },
   "outputs": [],
   "source": [
    "day = 10"
   ]
  },
  {
   "cell_type": "code",
   "execution_count": 2,
   "metadata": {
    "ExecuteTime": {
     "end_time": "2022-12-29T18:17:57.006499Z",
     "start_time": "2022-12-29T18:17:56.713493Z"
    }
   },
   "outputs": [],
   "source": [
    "# import pandas as pd\n",
    "import numpy as np\n",
    "\n",
    "import os"
   ]
  },
  {
   "cell_type": "code",
   "execution_count": 8,
   "metadata": {
    "ExecuteTime": {
     "end_time": "2022-12-29T18:19:30.042162Z",
     "start_time": "2022-12-29T18:19:30.015333Z"
    }
   },
   "outputs": [],
   "source": [
    "import regex as re"
   ]
  },
  {
   "cell_type": "code",
   "execution_count": 3,
   "metadata": {
    "ExecuteTime": {
     "end_time": "2022-12-29T18:17:57.732668Z",
     "start_time": "2022-12-29T18:17:57.727215Z"
    }
   },
   "outputs": [],
   "source": [
    "INPUT_DIR = \"../input\"\n",
    "\n",
    "input_path = f'{INPUT_DIR}/day{day:02d}.txt'\n",
    "\n",
    "data = []\n",
    "with open(input_path) as file:\n",
    "#     data = file.readlines()\n",
    "    for line in file.readlines():\n",
    "        data.append(line.strip('\\n'))"
   ]
  },
  {
   "cell_type": "code",
   "execution_count": 5,
   "metadata": {
    "ExecuteTime": {
     "end_time": "2022-12-29T18:18:03.638953Z",
     "start_time": "2022-12-29T18:18:03.633418Z"
    }
   },
   "outputs": [
    {
     "data": {
      "text/plain": [
       "140"
      ]
     },
     "execution_count": 5,
     "metadata": {},
     "output_type": "execute_result"
    }
   ],
   "source": [
    "len(data)"
   ]
  },
  {
   "cell_type": "code",
   "execution_count": 4,
   "metadata": {
    "ExecuteTime": {
     "end_time": "2022-12-29T18:17:58.487123Z",
     "start_time": "2022-12-29T18:17:58.474869Z"
    }
   },
   "outputs": [
    {
     "data": {
      "text/plain": [
       "['addx 1',\n",
       " 'addx 4',\n",
       " 'addx -2',\n",
       " 'addx 3',\n",
       " 'addx 3',\n",
       " 'addx 1',\n",
       " 'noop',\n",
       " 'addx 5',\n",
       " 'noop',\n",
       " 'noop',\n",
       " 'noop',\n",
       " 'addx 5',\n",
       " 'addx 2',\n",
       " 'addx 3',\n",
       " 'noop']"
      ]
     },
     "execution_count": 4,
     "metadata": {},
     "output_type": "execute_result"
    }
   ],
   "source": [
    "data[:15]"
   ]
  },
  {
   "cell_type": "markdown",
   "metadata": {},
   "source": [
    "## parse input"
   ]
  },
  {
   "cell_type": "code",
   "execution_count": 6,
   "metadata": {
    "ExecuteTime": {
     "end_time": "2022-12-29T18:18:57.519354Z",
     "start_time": "2022-12-29T18:18:57.511955Z"
    }
   },
   "outputs": [
    {
     "data": {
      "text/plain": [
       "('addx', '1')"
      ]
     },
     "execution_count": 6,
     "metadata": {},
     "output_type": "execute_result"
    }
   ],
   "source": [
    "line = data[0]\n",
    "instr, num = line.split(' ')\n",
    "instr, num"
   ]
  },
  {
   "cell_type": "code",
   "execution_count": 7,
   "metadata": {
    "ExecuteTime": {
     "end_time": "2022-12-29T18:19:12.344188Z",
     "start_time": "2022-12-29T18:19:12.130835Z"
    },
    "collapsed": true
   },
   "outputs": [
    {
     "ename": "ValueError",
     "evalue": "not enough values to unpack (expected 2, got 1)",
     "output_type": "error",
     "traceback": [
      "\u001b[0;31m---------------------------------------------------------------------------\u001b[0m",
      "\u001b[0;31mValueError\u001b[0m                                Traceback (most recent call last)",
      "Cell \u001b[0;32mIn[7], line 1\u001b[0m\n\u001b[0;32m----> 1\u001b[0m instr, num \u001b[38;5;241m=\u001b[39m \u001b[38;5;124m'\u001b[39m\u001b[38;5;124mnoop\u001b[39m\u001b[38;5;124m'\u001b[39m\u001b[38;5;241m.\u001b[39msplit(\u001b[38;5;124m'\u001b[39m\u001b[38;5;124m \u001b[39m\u001b[38;5;124m'\u001b[39m)\n",
      "\u001b[0;31mValueError\u001b[0m: not enough values to unpack (expected 2, got 1)"
     ]
    }
   ],
   "source": [
    "instr, num = 'noop'.split(' ')"
   ]
  },
  {
   "cell_type": "code",
   "execution_count": 9,
   "metadata": {
    "ExecuteTime": {
     "end_time": "2022-12-29T18:20:39.290104Z",
     "start_time": "2022-12-29T18:20:39.286531Z"
    }
   },
   "outputs": [],
   "source": [
    "add_regex = r\"addx (\\d+)\""
   ]
  },
  {
   "cell_type": "code",
   "execution_count": 11,
   "metadata": {
    "ExecuteTime": {
     "end_time": "2022-12-29T18:21:22.042492Z",
     "start_time": "2022-12-29T18:21:22.027372Z"
    }
   },
   "outputs": [
    {
     "data": {
      "text/plain": [
       "True"
      ]
     },
     "execution_count": 11,
     "metadata": {},
     "output_type": "execute_result"
    }
   ],
   "source": [
    "re.match(add_regex, line) is not None"
   ]
  },
  {
   "cell_type": "code",
   "execution_count": 12,
   "metadata": {
    "ExecuteTime": {
     "end_time": "2022-12-29T18:21:28.656587Z",
     "start_time": "2022-12-29T18:21:28.650572Z"
    }
   },
   "outputs": [
    {
     "data": {
      "text/plain": [
       "False"
      ]
     },
     "execution_count": 12,
     "metadata": {},
     "output_type": "execute_result"
    }
   ],
   "source": [
    "re.match(add_regex, 'noop') is not None"
   ]
  },
  {
   "cell_type": "code",
   "execution_count": 14,
   "metadata": {
    "ExecuteTime": {
     "end_time": "2022-12-29T18:21:51.710640Z",
     "start_time": "2022-12-29T18:21:51.698162Z"
    }
   },
   "outputs": [
    {
     "data": {
      "text/plain": [
       "(['addx 1'], ['1'])"
      ]
     },
     "execution_count": 14,
     "metadata": {},
     "output_type": "execute_result"
    }
   ],
   "source": [
    "match = re.match(add_regex, line)\n",
    "match.allcaptures()"
   ]
  },
  {
   "cell_type": "code",
   "execution_count": 17,
   "metadata": {
    "ExecuteTime": {
     "end_time": "2022-12-29T18:22:10.760636Z",
     "start_time": "2022-12-29T18:22:10.755131Z"
    }
   },
   "outputs": [
    {
     "data": {
      "text/plain": [
       "'1'"
      ]
     },
     "execution_count": 17,
     "metadata": {},
     "output_type": "execute_result"
    }
   ],
   "source": [
    "\n",
    "match.allcaptures()[1][0]"
   ]
  },
  {
   "cell_type": "code",
   "execution_count": 18,
   "metadata": {
    "ExecuteTime": {
     "end_time": "2022-12-29T18:23:37.637212Z",
     "start_time": "2022-12-29T18:23:37.632084Z"
    }
   },
   "outputs": [],
   "source": [
    "match = re.match(add_regex, line)\n",
    "if match is not None:\n",
    "    v = int(match.allcaptures()[1][0])\n",
    "    c = 2\n",
    "else:\n",
    "    v = 0\n",
    "    c = 1\n",
    "\n",
    "x += v\n",
    "cycles += c"
   ]
  },
  {
   "cell_type": "code",
   "execution_count": 19,
   "metadata": {
    "ExecuteTime": {
     "end_time": "2022-12-29T18:23:39.875066Z",
     "start_time": "2022-12-29T18:23:39.864719Z"
    }
   },
   "outputs": [
    {
     "data": {
      "text/plain": [
       "(2, 2)"
      ]
     },
     "execution_count": 19,
     "metadata": {},
     "output_type": "execute_result"
    }
   ],
   "source": [
    "x, cycles"
   ]
  },
  {
   "cell_type": "code",
   "execution_count": 45,
   "metadata": {
    "ExecuteTime": {
     "end_time": "2022-12-29T18:35:14.587322Z",
     "start_time": "2022-12-29T18:35:14.580160Z"
    }
   },
   "outputs": [
    {
     "data": {
      "text/plain": [
       "['noop', 'addx 3', 'addx -5']"
      ]
     },
     "execution_count": 45,
     "metadata": {},
     "output_type": "execute_result"
    }
   ],
   "source": [
    "ex_input = \"\"\"noop\n",
    "addx 3\n",
    "addx -5\"\"\"\n",
    "ex_input_list = ex_input.split(\"\\n\")\n",
    "ex_input_list"
   ]
  },
  {
   "cell_type": "code",
   "execution_count": 47,
   "metadata": {
    "ExecuteTime": {
     "end_time": "2022-12-29T18:35:36.358303Z",
     "start_time": "2022-12-29T18:35:36.352436Z"
    }
   },
   "outputs": [
    {
     "data": {
      "text/plain": [
       "(['addx -5'], ['-5'])"
      ]
     },
     "execution_count": 47,
     "metadata": {},
     "output_type": "execute_result"
    }
   ],
   "source": [
    "add_regex = r\"addx (-?\\d+)\"\n",
    "line = ex_input_list[-1]\n",
    "match = re.match(add_regex, line)\n",
    "match.allcaptures()"
   ]
  },
  {
   "cell_type": "code",
   "execution_count": 49,
   "metadata": {
    "ExecuteTime": {
     "end_time": "2022-12-29T18:36:02.380969Z",
     "start_time": "2022-12-29T18:36:02.374660Z"
    }
   },
   "outputs": [
    {
     "data": {
      "text/plain": [
       "-5"
      ]
     },
     "execution_count": 49,
     "metadata": {},
     "output_type": "execute_result"
    }
   ],
   "source": [
    "int(match.allcaptures()[1][0])"
   ]
  },
  {
   "cell_type": "code",
   "execution_count": 52,
   "metadata": {
    "ExecuteTime": {
     "end_time": "2022-12-29T18:36:28.894444Z",
     "start_time": "2022-12-29T18:36:28.888065Z"
    }
   },
   "outputs": [],
   "source": [
    "def process_input(data_list):\n",
    "    add_regex = r\"addx (-?\\d+)\"\n",
    "    x = 1\n",
    "    cycles = 0\n",
    "\n",
    "    cycle_xval_list = []\n",
    "    \n",
    "    for i, line in enumerate(data_list):\n",
    "        print(\"Line: \", line)\n",
    "        match = re.match(add_regex, line)\n",
    "        if match is not None: # addx\n",
    "#             print(x)\n",
    "            cycle_xval_list.append(x)\n",
    "            \n",
    "            v = int(match.allcaptures()[1][0])\n",
    "            print(\"val = \", v)\n",
    "            c = 2\n",
    "        else: # noop\n",
    "            v = 0\n",
    "            c = 1\n",
    "\n",
    "        x += v\n",
    "        cycles += c\n",
    "#         print(x)\n",
    "        cycle_xval_list.append(x)\n",
    "    \n",
    "    print(\"\")\n",
    "    print(\"Final val x: \", x)\n",
    "    print(\"Total num cycles: \", cycles)\n",
    "    return cycle_xval_list"
   ]
  },
  {
   "cell_type": "code",
   "execution_count": 53,
   "metadata": {
    "ExecuteTime": {
     "end_time": "2022-12-29T18:36:29.390300Z",
     "start_time": "2022-12-29T18:36:29.382299Z"
    }
   },
   "outputs": [
    {
     "name": "stdout",
     "output_type": "stream",
     "text": [
      "Line:  noop\n",
      "Line:  addx 3\n",
      "val =  3\n",
      "Line:  addx -5\n",
      "val =  -5\n",
      "\n",
      "Final val x:  -1\n",
      "Total num cycles:  5\n"
     ]
    },
    {
     "data": {
      "text/plain": [
       "[1, 1, 4, 4, -1]"
      ]
     },
     "execution_count": 53,
     "metadata": {},
     "output_type": "execute_result"
    }
   ],
   "source": [
    "process_input(ex_input_list)"
   ]
  },
  {
   "cell_type": "markdown",
   "metadata": {},
   "source": [
    "## test on longer example"
   ]
  },
  {
   "cell_type": "code",
   "execution_count": 55,
   "metadata": {
    "ExecuteTime": {
     "end_time": "2022-12-29T18:37:31.748926Z",
     "start_time": "2022-12-29T18:37:31.744200Z"
    }
   },
   "outputs": [],
   "source": [
    "ex_data = \"\"\"addx 15\n",
    "addx -11\n",
    "addx 6\n",
    "addx -3\n",
    "addx 5\n",
    "addx -1\n",
    "addx -8\n",
    "addx 13\n",
    "addx 4\n",
    "noop\n",
    "addx -1\n",
    "addx 5\n",
    "addx -1\n",
    "addx 5\n",
    "addx -1\n",
    "addx 5\n",
    "addx -1\n",
    "addx 5\n",
    "addx -1\n",
    "addx -35\n",
    "addx 1\n",
    "addx 24\n",
    "addx -19\n",
    "addx 1\n",
    "addx 16\n",
    "addx -11\n",
    "noop\n",
    "noop\n",
    "addx 21\n",
    "addx -15\n",
    "noop\n",
    "noop\n",
    "addx -3\n",
    "addx 9\n",
    "addx 1\n",
    "addx -3\n",
    "addx 8\n",
    "addx 1\n",
    "addx 5\n",
    "noop\n",
    "noop\n",
    "noop\n",
    "noop\n",
    "noop\n",
    "addx -36\n",
    "noop\n",
    "addx 1\n",
    "addx 7\n",
    "noop\n",
    "noop\n",
    "noop\n",
    "addx 2\n",
    "addx 6\n",
    "noop\n",
    "noop\n",
    "noop\n",
    "noop\n",
    "noop\n",
    "addx 1\n",
    "noop\n",
    "noop\n",
    "addx 7\n",
    "addx 1\n",
    "noop\n",
    "addx -13\n",
    "addx 13\n",
    "addx 7\n",
    "noop\n",
    "addx 1\n",
    "addx -33\n",
    "noop\n",
    "noop\n",
    "noop\n",
    "addx 2\n",
    "noop\n",
    "noop\n",
    "noop\n",
    "addx 8\n",
    "noop\n",
    "addx -1\n",
    "addx 2\n",
    "addx 1\n",
    "noop\n",
    "addx 17\n",
    "addx -9\n",
    "addx 1\n",
    "addx 1\n",
    "addx -3\n",
    "addx 11\n",
    "noop\n",
    "noop\n",
    "addx 1\n",
    "noop\n",
    "addx 1\n",
    "noop\n",
    "noop\n",
    "addx -13\n",
    "addx -19\n",
    "addx 1\n",
    "addx 3\n",
    "addx 26\n",
    "addx -30\n",
    "addx 12\n",
    "addx -1\n",
    "addx 3\n",
    "addx 1\n",
    "noop\n",
    "noop\n",
    "noop\n",
    "addx -9\n",
    "addx 18\n",
    "addx 1\n",
    "addx 2\n",
    "noop\n",
    "noop\n",
    "addx 9\n",
    "noop\n",
    "noop\n",
    "noop\n",
    "addx -1\n",
    "addx 2\n",
    "addx -37\n",
    "addx 1\n",
    "addx 3\n",
    "noop\n",
    "addx 15\n",
    "addx -21\n",
    "addx 22\n",
    "addx -6\n",
    "addx 1\n",
    "noop\n",
    "addx 2\n",
    "addx 1\n",
    "noop\n",
    "addx -10\n",
    "noop\n",
    "noop\n",
    "addx 20\n",
    "addx 1\n",
    "addx 2\n",
    "addx 2\n",
    "addx -6\n",
    "addx -11\n",
    "noop\n",
    "noop\n",
    "noop\"\"\""
   ]
  },
  {
   "cell_type": "code",
   "execution_count": 54,
   "metadata": {
    "ExecuteTime": {
     "end_time": "2022-12-29T18:36:49.529766Z",
     "start_time": "2022-12-29T18:36:49.524392Z"
    }
   },
   "outputs": [],
   "source": [
    "def process_input(data_list):\n",
    "    add_regex = r\"addx (-?\\d+)\"\n",
    "    x = 1\n",
    "    cycles = 0\n",
    "\n",
    "    cycle_xval_list = []\n",
    "    \n",
    "    for i, line in enumerate(data_list):\n",
    "#         print(\"Line: \", line)\n",
    "        match = re.match(add_regex, line)\n",
    "        if match is not None: # addx\n",
    "            cycle_xval_list.append(x)\n",
    "            \n",
    "            v = int(match.allcaptures()[1][0])\n",
    "#             print(\"val = \", v)\n",
    "            c = 2\n",
    "        else: # noop\n",
    "            v = 0\n",
    "            c = 1\n",
    "\n",
    "        x += v\n",
    "        cycles += c\n",
    "        cycle_xval_list.append(x)\n",
    "    \n",
    "    print(\"Final val x: \", x)\n",
    "    print(\"Total num cycles: \", cycles)\n",
    "    return cycle_xval_list"
   ]
  },
  {
   "cell_type": "code",
   "execution_count": 56,
   "metadata": {
    "ExecuteTime": {
     "end_time": "2022-12-29T18:37:46.299656Z",
     "start_time": "2022-12-29T18:37:46.296030Z"
    }
   },
   "outputs": [],
   "source": [
    "ex_data_list = ex_data.split(\"\\n\")"
   ]
  },
  {
   "cell_type": "code",
   "execution_count": 77,
   "metadata": {
    "ExecuteTime": {
     "end_time": "2022-12-29T18:45:54.212498Z",
     "start_time": "2022-12-29T18:45:54.205300Z"
    }
   },
   "outputs": [
    {
     "name": "stdout",
     "output_type": "stream",
     "text": [
      "Final val x:  17\n",
      "Total num cycles:  240\n"
     ]
    }
   ],
   "source": [
    "val_list = process_input(ex_data_list)"
   ]
  },
  {
   "cell_type": "code",
   "execution_count": 65,
   "metadata": {
    "ExecuteTime": {
     "end_time": "2022-12-29T18:39:34.774722Z",
     "start_time": "2022-12-29T18:39:34.764936Z"
    },
    "collapsed": true
   },
   "outputs": [
    {
     "data": {
      "text/plain": [
       "[1,\n",
       " 16,\n",
       " 16,\n",
       " 5,\n",
       " 5,\n",
       " 11,\n",
       " 11,\n",
       " 8,\n",
       " 8,\n",
       " 13,\n",
       " 13,\n",
       " 12,\n",
       " 12,\n",
       " 4,\n",
       " 4,\n",
       " 17,\n",
       " 17,\n",
       " 21,\n",
       " 21,\n",
       " 21,\n",
       " 20,\n",
       " 20,\n",
       " 25,\n",
       " 25,\n",
       " 24,\n",
       " 24,\n",
       " 29,\n",
       " 29,\n",
       " 28,\n",
       " 28,\n",
       " 33,\n",
       " 33,\n",
       " 32,\n",
       " 32,\n",
       " 37,\n",
       " 37,\n",
       " 36,\n",
       " 36,\n",
       " 1,\n",
       " 1,\n",
       " 2,\n",
       " 2,\n",
       " 26,\n",
       " 26,\n",
       " 7,\n",
       " 7,\n",
       " 8,\n",
       " 8,\n",
       " 24,\n",
       " 24,\n",
       " 13,\n",
       " 13,\n",
       " 13,\n",
       " 13,\n",
       " 34,\n",
       " 34,\n",
       " 19,\n",
       " 19,\n",
       " 19,\n",
       " 19,\n",
       " 16,\n",
       " 16,\n",
       " 25,\n",
       " 25,\n",
       " 26,\n",
       " 26,\n",
       " 23,\n",
       " 23,\n",
       " 31,\n",
       " 31,\n",
       " 32,\n",
       " 32,\n",
       " 37,\n",
       " 37,\n",
       " 37,\n",
       " 37,\n",
       " 37,\n",
       " 37,\n",
       " 37,\n",
       " 1,\n",
       " 1,\n",
       " 1,\n",
       " 2,\n",
       " 2,\n",
       " 9,\n",
       " 9,\n",
       " 9,\n",
       " 9,\n",
       " 9,\n",
       " 11,\n",
       " 11,\n",
       " 17,\n",
       " 17,\n",
       " 17,\n",
       " 17,\n",
       " 17,\n",
       " 17,\n",
       " 17,\n",
       " 18,\n",
       " 18,\n",
       " 18,\n",
       " 18,\n",
       " 25,\n",
       " 25,\n",
       " 26,\n",
       " 26,\n",
       " 26,\n",
       " 13,\n",
       " 13,\n",
       " 26,\n",
       " 26,\n",
       " 33,\n",
       " 33,\n",
       " 33,\n",
       " 34,\n",
       " 34,\n",
       " 1,\n",
       " 1,\n",
       " 1,\n",
       " 1,\n",
       " 1,\n",
       " 3,\n",
       " 3,\n",
       " 3,\n",
       " 3,\n",
       " 3,\n",
       " 11,\n",
       " 11,\n",
       " 11,\n",
       " 10,\n",
       " 10,\n",
       " 12,\n",
       " 12,\n",
       " 13,\n",
       " 13,\n",
       " 13,\n",
       " 30,\n",
       " 30,\n",
       " 21,\n",
       " 21,\n",
       " 22,\n",
       " 22,\n",
       " 23,\n",
       " 23,\n",
       " 20,\n",
       " 20,\n",
       " 31,\n",
       " 31,\n",
       " 31,\n",
       " 31,\n",
       " 32,\n",
       " 32,\n",
       " 32,\n",
       " 33,\n",
       " 33,\n",
       " 33,\n",
       " 33,\n",
       " 20,\n",
       " 20,\n",
       " 1,\n",
       " 1,\n",
       " 2,\n",
       " 2,\n",
       " 5,\n",
       " 5,\n",
       " 31,\n",
       " 31,\n",
       " 1,\n",
       " 1,\n",
       " 13,\n",
       " 13,\n",
       " 12,\n",
       " 12,\n",
       " 15,\n",
       " 15,\n",
       " 16,\n",
       " 16,\n",
       " 16,\n",
       " 16,\n",
       " 16,\n",
       " 7,\n",
       " 7,\n",
       " 25,\n",
       " 25,\n",
       " 26,\n",
       " 26,\n",
       " 28,\n",
       " 28,\n",
       " 28,\n",
       " 28,\n",
       " 37,\n",
       " 37,\n",
       " 37,\n",
       " 37,\n",
       " 37,\n",
       " 36,\n",
       " 36,\n",
       " 38,\n",
       " 38,\n",
       " 1,\n",
       " 1,\n",
       " 2,\n",
       " 2,\n",
       " 5,\n",
       " 5,\n",
       " 5,\n",
       " 20,\n",
       " 20,\n",
       " -1,\n",
       " -1,\n",
       " 21,\n",
       " 21,\n",
       " 15,\n",
       " 15,\n",
       " 16,\n",
       " 16,\n",
       " 16,\n",
       " 18,\n",
       " 18,\n",
       " 19,\n",
       " 19,\n",
       " 19,\n",
       " 9,\n",
       " 9,\n",
       " 9,\n",
       " 9,\n",
       " 29,\n",
       " 29,\n",
       " 30,\n",
       " 30,\n",
       " 32,\n",
       " 32,\n",
       " 34,\n",
       " 34,\n",
       " 28,\n",
       " 28,\n",
       " 17,\n",
       " 17,\n",
       " 17,\n",
       " 17]"
      ]
     },
     "execution_count": 65,
     "metadata": {},
     "output_type": "execute_result"
    }
   ],
   "source": [
    "val_list"
   ]
  },
  {
   "cell_type": "code",
   "execution_count": 58,
   "metadata": {
    "ExecuteTime": {
     "end_time": "2022-12-29T18:38:37.620570Z",
     "start_time": "2022-12-29T18:38:37.616125Z"
    }
   },
   "outputs": [],
   "source": [
    "interesting_idxs = [20 + 40*i for i in range(6)]"
   ]
  },
  {
   "cell_type": "code",
   "execution_count": 59,
   "metadata": {
    "ExecuteTime": {
     "end_time": "2022-12-29T18:38:40.213508Z",
     "start_time": "2022-12-29T18:38:40.205728Z"
    }
   },
   "outputs": [
    {
     "data": {
      "text/plain": [
       "[20, 60, 100, 140, 180, 220]"
      ]
     },
     "execution_count": 59,
     "metadata": {},
     "output_type": "execute_result"
    }
   ],
   "source": [
    "interesting_idxs"
   ]
  },
  {
   "cell_type": "code",
   "execution_count": 68,
   "metadata": {
    "ExecuteTime": {
     "end_time": "2022-12-29T18:40:29.069487Z",
     "start_time": "2022-12-29T18:40:29.062379Z"
    }
   },
   "outputs": [
    {
     "data": {
      "text/plain": [
       "13360"
      ]
     },
     "execution_count": 68,
     "metadata": {},
     "output_type": "execute_result"
    }
   ],
   "source": [
    "np.sum([i*val_list[i-1] for i in interesting_idxs])"
   ]
  },
  {
   "cell_type": "code",
   "execution_count": 64,
   "metadata": {
    "ExecuteTime": {
     "end_time": "2022-12-29T18:39:25.072321Z",
     "start_time": "2022-12-29T18:39:25.065445Z"
    }
   },
   "outputs": [
    {
     "data": {
      "text/plain": [
       "20"
      ]
     },
     "execution_count": 64,
     "metadata": {},
     "output_type": "execute_result"
    }
   ],
   "source": [
    "val_list[20]"
   ]
  },
  {
   "cell_type": "code",
   "execution_count": 67,
   "metadata": {
    "ExecuteTime": {
     "end_time": "2022-12-29T18:40:23.181154Z",
     "start_time": "2022-12-29T18:40:23.174719Z"
    }
   },
   "outputs": [
    {
     "data": {
      "text/plain": [
       "21"
      ]
     },
     "execution_count": 67,
     "metadata": {},
     "output_type": "execute_result"
    }
   ],
   "source": [
    "val_list[19]"
   ]
  },
  {
   "cell_type": "code",
   "execution_count": 69,
   "metadata": {
    "ExecuteTime": {
     "end_time": "2022-12-29T18:40:48.021902Z",
     "start_time": "2022-12-29T18:40:48.015524Z"
    }
   },
   "outputs": [
    {
     "data": {
      "text/plain": [
       "19"
      ]
     },
     "execution_count": 69,
     "metadata": {},
     "output_type": "execute_result"
    }
   ],
   "source": [
    "val_list[59]"
   ]
  },
  {
   "cell_type": "code",
   "execution_count": 71,
   "metadata": {
    "ExecuteTime": {
     "end_time": "2022-12-29T18:41:25.137047Z",
     "start_time": "2022-12-29T18:41:25.129573Z"
    }
   },
   "outputs": [
    {
     "data": {
      "text/plain": [
       "[21, 19, 18, 21, 16, 19]"
      ]
     },
     "execution_count": 71,
     "metadata": {},
     "output_type": "execute_result"
    }
   ],
   "source": [
    "[val_list[i-1] for i in interesting_idxs]"
   ]
  },
  {
   "cell_type": "code",
   "execution_count": 72,
   "metadata": {
    "ExecuteTime": {
     "end_time": "2022-12-29T18:41:40.358514Z",
     "start_time": "2022-12-29T18:41:40.352445Z"
    }
   },
   "outputs": [
    {
     "data": {
      "text/plain": [
       "[16, 16, 18, 18, 19, 19, 19, 9, 9, 9]"
      ]
     },
     "execution_count": 72,
     "metadata": {},
     "output_type": "execute_result"
    }
   ],
   "source": [
    "val_list[215:225]"
   ]
  },
  {
   "cell_type": "code",
   "execution_count": 76,
   "metadata": {
    "ExecuteTime": {
     "end_time": "2022-12-29T18:44:38.082921Z",
     "start_time": "2022-12-29T18:44:38.076535Z"
    }
   },
   "outputs": [
    {
     "data": {
      "text/plain": [
       "[16, 16, 16, 16, 16, 7, 7, 25, 25, 26]"
      ]
     },
     "execution_count": 76,
     "metadata": {},
     "output_type": "execute_result"
    }
   ],
   "source": [
    "val_list[175:185]"
   ]
  },
  {
   "cell_type": "code",
   "execution_count": 78,
   "metadata": {
    "ExecuteTime": {
     "end_time": "2022-12-29T18:46:06.875852Z",
     "start_time": "2022-12-29T18:46:06.868522Z"
    }
   },
   "outputs": [
    {
     "data": {
      "text/plain": [
       "13140"
      ]
     },
     "execution_count": 78,
     "metadata": {},
     "output_type": "execute_result"
    }
   ],
   "source": [
    "np.sum([i*val_list[i-2] for i in interesting_idxs])"
   ]
  },
  {
   "cell_type": "code",
   "execution_count": null,
   "metadata": {},
   "outputs": [],
   "source": []
  },
  {
   "cell_type": "markdown",
   "metadata": {},
   "source": [
    "## do it"
   ]
  },
  {
   "cell_type": "code",
   "execution_count": 73,
   "metadata": {
    "ExecuteTime": {
     "end_time": "2022-12-29T18:42:36.977534Z",
     "start_time": "2022-12-29T18:42:36.969634Z"
    }
   },
   "outputs": [
    {
     "name": "stdout",
     "output_type": "stream",
     "text": [
      "Final val x:  37\n",
      "Total num cycles:  240\n"
     ]
    }
   ],
   "source": [
    "part1_val_list = process_input(data)"
   ]
  },
  {
   "cell_type": "code",
   "execution_count": 79,
   "metadata": {
    "ExecuteTime": {
     "end_time": "2022-12-29T18:46:15.513715Z",
     "start_time": "2022-12-29T18:46:15.506969Z"
    }
   },
   "outputs": [
    {
     "data": {
      "text/plain": [
       "13740"
      ]
     },
     "execution_count": 79,
     "metadata": {},
     "output_type": "execute_result"
    }
   ],
   "source": [
    "interesting_idxs = [20 + 40*i for i in range(6)]\n",
    "np.sum([i*part1_val_list[i-2] for i in interesting_idxs])"
   ]
  },
  {
   "cell_type": "markdown",
   "metadata": {},
   "source": [
    "# Part 2: Render image from input"
   ]
  },
  {
   "cell_type": "markdown",
   "metadata": {},
   "source": [
    "- X = middle position of sprite\n",
    "- cycle num = where CRT draws pixel\n",
    "- if they overlap: #; if not: .\n",
    "- find letters in 40 x 6 grid drawn by #'s"
   ]
  },
  {
   "cell_type": "code",
   "execution_count": 82,
   "metadata": {
    "ExecuteTime": {
     "end_time": "2022-12-29T19:28:26.219192Z",
     "start_time": "2022-12-29T19:28:26.215443Z"
    }
   },
   "outputs": [],
   "source": [
    "screen = np.array(['.'*40]*6)"
   ]
  },
  {
   "cell_type": "code",
   "execution_count": 83,
   "metadata": {
    "ExecuteTime": {
     "end_time": "2022-12-29T19:28:26.910975Z",
     "start_time": "2022-12-29T19:28:26.905050Z"
    }
   },
   "outputs": [
    {
     "data": {
      "text/plain": [
       "array(['........................................',\n",
       "       '........................................',\n",
       "       '........................................',\n",
       "       '........................................',\n",
       "       '........................................',\n",
       "       '........................................'], dtype='<U40')"
      ]
     },
     "execution_count": 83,
     "metadata": {},
     "output_type": "execute_result"
    }
   ],
   "source": [
    "screen"
   ]
  },
  {
   "cell_type": "code",
   "execution_count": 84,
   "metadata": {
    "ExecuteTime": {
     "end_time": "2022-12-29T19:28:40.403586Z",
     "start_time": "2022-12-29T19:28:40.397817Z"
    }
   },
   "outputs": [
    {
     "data": {
      "text/plain": [
       "(6,)"
      ]
     },
     "execution_count": 84,
     "metadata": {},
     "output_type": "execute_result"
    }
   ],
   "source": [
    "screen.shape"
   ]
  },
  {
   "cell_type": "code",
   "execution_count": 85,
   "metadata": {
    "ExecuteTime": {
     "end_time": "2022-12-29T19:28:50.494290Z",
     "start_time": "2022-12-29T19:28:50.490300Z"
    }
   },
   "outputs": [],
   "source": [
    "screen = np.array([['.']*40]*6)"
   ]
  },
  {
   "cell_type": "code",
   "execution_count": 86,
   "metadata": {
    "ExecuteTime": {
     "end_time": "2022-12-29T19:28:53.666665Z",
     "start_time": "2022-12-29T19:28:53.660046Z"
    }
   },
   "outputs": [
    {
     "data": {
      "text/plain": [
       "(6, 40)"
      ]
     },
     "execution_count": 86,
     "metadata": {},
     "output_type": "execute_result"
    }
   ],
   "source": [
    "screen.shape"
   ]
  },
  {
   "cell_type": "code",
   "execution_count": 87,
   "metadata": {
    "ExecuteTime": {
     "end_time": "2022-12-29T19:29:45.457729Z",
     "start_time": "2022-12-29T19:29:45.451540Z"
    }
   },
   "outputs": [
    {
     "data": {
      "text/plain": [
       "array(['.', '.', '.', '.', '.', '.', '.', '.', '.', '.', '.', '.', '.',\n",
       "       '.', '.', '.', '.', '.', '.', '.', '.', '.', '.', '.', '.', '.',\n",
       "       '.', '.', '.', '.', '.', '.', '.', '.', '.', '.', '.', '.', '.',\n",
       "       '.'], dtype='<U1')"
      ]
     },
     "execution_count": 87,
     "metadata": {},
     "output_type": "execute_result"
    }
   ],
   "source": [
    "screen[0]"
   ]
  },
  {
   "cell_type": "code",
   "execution_count": 88,
   "metadata": {
    "ExecuteTime": {
     "end_time": "2022-12-29T19:29:58.011010Z",
     "start_time": "2022-12-29T19:29:58.004908Z"
    }
   },
   "outputs": [
    {
     "data": {
      "text/plain": [
       "'........................................'"
      ]
     },
     "execution_count": 88,
     "metadata": {},
     "output_type": "execute_result"
    }
   ],
   "source": [
    "''.join(screen[0])"
   ]
  },
  {
   "cell_type": "code",
   "execution_count": 93,
   "metadata": {
    "ExecuteTime": {
     "end_time": "2022-12-29T19:30:38.658190Z",
     "start_time": "2022-12-29T19:30:38.653448Z"
    }
   },
   "outputs": [],
   "source": [
    "def print_screen(screen):\n",
    "    for i in range(screen.shape[0]):\n",
    "        print(''.join(screen[i]))"
   ]
  },
  {
   "cell_type": "code",
   "execution_count": 92,
   "metadata": {
    "ExecuteTime": {
     "end_time": "2022-12-29T19:30:32.069731Z",
     "start_time": "2022-12-29T19:30:32.065500Z"
    }
   },
   "outputs": [
    {
     "name": "stdout",
     "output_type": "stream",
     "text": [
      "........................................\n",
      "........................................\n",
      "........................................\n",
      "........................................\n",
      "........................................\n",
      "........................................\n"
     ]
    }
   ],
   "source": [
    "print_screen(screen)"
   ]
  },
  {
   "cell_type": "code",
   "execution_count": 141,
   "metadata": {
    "ExecuteTime": {
     "end_time": "2022-12-29T19:53:25.278628Z",
     "start_time": "2022-12-29T19:53:25.272075Z"
    }
   },
   "outputs": [
    {
     "data": {
      "text/plain": [
       "(1, 2)"
      ]
     },
     "execution_count": 141,
     "metadata": {},
     "output_type": "execute_result"
    }
   ],
   "source": [
    "i = 42\n",
    "row = i // 40\n",
    "col = (i % 40) \n",
    "row, col"
   ]
  },
  {
   "cell_type": "code",
   "execution_count": 144,
   "metadata": {
    "ExecuteTime": {
     "end_time": "2022-12-29T19:53:46.271203Z",
     "start_time": "2022-12-29T19:53:46.265736Z"
    }
   },
   "outputs": [
    {
     "data": {
      "text/plain": [
       "(0, 0)"
      ]
     },
     "execution_count": 144,
     "metadata": {},
     "output_type": "execute_result"
    }
   ],
   "source": [
    "i = 0\n",
    "row = i // 40\n",
    "col = (i % 40)\n",
    "row, col"
   ]
  },
  {
   "cell_type": "code",
   "execution_count": 142,
   "metadata": {
    "ExecuteTime": {
     "end_time": "2022-12-29T19:53:28.667474Z",
     "start_time": "2022-12-29T19:53:28.661100Z"
    }
   },
   "outputs": [
    {
     "data": {
      "text/plain": [
       "(0, 1)"
      ]
     },
     "execution_count": 142,
     "metadata": {},
     "output_type": "execute_result"
    }
   ],
   "source": [
    "i = 1\n",
    "row = i // 40\n",
    "col = (i % 40)\n",
    "row, col"
   ]
  },
  {
   "cell_type": "code",
   "execution_count": 143,
   "metadata": {
    "ExecuteTime": {
     "end_time": "2022-12-29T19:53:37.403099Z",
     "start_time": "2022-12-29T19:53:37.397051Z"
    }
   },
   "outputs": [
    {
     "data": {
      "text/plain": [
       "(2, 0)"
      ]
     },
     "execution_count": 143,
     "metadata": {},
     "output_type": "execute_result"
    }
   ],
   "source": [
    "i = 80\n",
    "row = i // 40\n",
    "col = (i % 40)\n",
    "row, col"
   ]
  },
  {
   "cell_type": "code",
   "execution_count": 139,
   "metadata": {
    "ExecuteTime": {
     "end_time": "2022-12-29T19:53:13.332594Z",
     "start_time": "2022-12-29T19:53:13.326830Z"
    }
   },
   "outputs": [
    {
     "data": {
      "text/plain": [
       "(1, 38)"
      ]
     },
     "execution_count": 139,
     "metadata": {},
     "output_type": "execute_result"
    }
   ],
   "source": [
    "i = 79\n",
    "row = i // 40\n",
    "col = (i % 40) - 1\n",
    "row, col"
   ]
  },
  {
   "cell_type": "code",
   "execution_count": 138,
   "metadata": {
    "ExecuteTime": {
     "end_time": "2022-12-29T19:53:09.452755Z",
     "start_time": "2022-12-29T19:53:09.447121Z"
    }
   },
   "outputs": [
    {
     "data": {
      "text/plain": [
       "(2, 0)"
      ]
     },
     "execution_count": 138,
     "metadata": {},
     "output_type": "execute_result"
    }
   ],
   "source": [
    "i = 80\n",
    "row = i // 40\n",
    "col = (i % 40) \n",
    "row, col"
   ]
  },
  {
   "cell_type": "code",
   "execution_count": 104,
   "metadata": {
    "ExecuteTime": {
     "end_time": "2022-12-29T19:36:08.014001Z",
     "start_time": "2022-12-29T19:36:08.007420Z"
    }
   },
   "outputs": [
    {
     "data": {
      "text/plain": [
       "(2, 39)"
      ]
     },
     "execution_count": 104,
     "metadata": {},
     "output_type": "execute_result"
    }
   ],
   "source": [
    "i = 80\n",
    "row = i // 40\n",
    "mod = i % 40\n",
    "col = 39 if mod == 0 else mod - 1\n",
    "row, col"
   ]
  },
  {
   "cell_type": "code",
   "execution_count": 125,
   "metadata": {
    "ExecuteTime": {
     "end_time": "2022-12-29T19:48:32.632926Z",
     "start_time": "2022-12-29T19:48:32.626275Z"
    }
   },
   "outputs": [
    {
     "data": {
      "text/plain": [
       "1"
      ]
     },
     "execution_count": 125,
     "metadata": {},
     "output_type": "execute_result"
    }
   ],
   "source": [
    "i = 1\n",
    "i % 40"
   ]
  },
  {
   "cell_type": "code",
   "execution_count": 106,
   "metadata": {
    "ExecuteTime": {
     "end_time": "2022-12-29T19:36:29.132139Z",
     "start_time": "2022-12-29T19:36:29.124528Z"
    }
   },
   "outputs": [
    {
     "data": {
      "text/plain": [
       "(0, 0)"
      ]
     },
     "execution_count": 106,
     "metadata": {},
     "output_type": "execute_result"
    }
   ],
   "source": [
    "i = 1\n",
    "row = i // 40\n",
    "mod = i % 40\n",
    "col = 39 if mod == 0 else mod - 1\n",
    "row, col"
   ]
  },
  {
   "cell_type": "code",
   "execution_count": 105,
   "metadata": {
    "ExecuteTime": {
     "end_time": "2022-12-29T19:36:15.617215Z",
     "start_time": "2022-12-29T19:36:15.605652Z"
    }
   },
   "outputs": [
    {
     "data": {
      "text/plain": [
       "(4, 1)"
      ]
     },
     "execution_count": 105,
     "metadata": {},
     "output_type": "execute_result"
    }
   ],
   "source": [
    "i = 162\n",
    "row = i // 40\n",
    "mod = i % 40\n",
    "col = 39 if mod == 0 else mod - 1\n",
    "row, col"
   ]
  },
  {
   "cell_type": "code",
   "execution_count": null,
   "metadata": {},
   "outputs": [],
   "source": [
    "def print_screen(screen):\n",
    "    for i in range(screen.shape[0]):\n",
    "        print(''.join(screen[i]))"
   ]
  },
  {
   "cell_type": "code",
   "execution_count": 151,
   "metadata": {
    "ExecuteTime": {
     "end_time": "2022-12-29T19:57:28.525858Z",
     "start_time": "2022-12-29T19:57:28.520023Z"
    }
   },
   "outputs": [],
   "source": [
    "def draw_cycle(crt, x, screen, verbose=False):\n",
    "    if crt in [x-1, x, x+1]:\n",
    "        row = crt // 40\n",
    "#         mod = crt % 40\n",
    "#         col = 39 if mod == 0  else mod - 1\n",
    "        col = crt % 40\n",
    "        if verbose:\n",
    "            print(f\"Drawing at {row}, {col}\")\n",
    "        screen[row][col] = '#'"
   ]
  },
  {
   "cell_type": "code",
   "execution_count": 157,
   "metadata": {
    "ExecuteTime": {
     "end_time": "2022-12-29T19:58:15.816530Z",
     "start_time": "2022-12-29T19:58:15.809506Z"
    }
   },
   "outputs": [],
   "source": [
    "def render_input(data_list, lim=None, verbose=False):\n",
    "    add_regex = r\"addx (-?\\d+)\"\n",
    "    \n",
    "    screen = np.array([['.']*40]*6)\n",
    "    x = 1\n",
    "    crt = 0\n",
    "    \n",
    "    if lim is not None:\n",
    "        data_list = data_list[:lim]\n",
    "\n",
    "    for line in data_list:\n",
    "        # start of cycle\n",
    "        if verbose:\n",
    "            print(f\"cycle: {crt+1}, x: {x}, sprite: {range(x-1,x+1)}, crt: {crt}\")\n",
    "        draw_cycle(crt, x, screen, verbose)\n",
    "        \n",
    "        match = re.match(add_regex, line)\n",
    "        if match is not None: # addx\n",
    "            # increment 1st cycle\n",
    "            crt += 1\n",
    "            if verbose:\n",
    "                print(f\"cycle: {crt+1}, x: {x}, sprite: {range(x-1,x+1)}, crt: {crt}\")\n",
    "            draw_cycle(crt, x, screen, verbose)\n",
    "            \n",
    "            # extract v\n",
    "            v = int(match.allcaptures()[1][0])\n",
    "\n",
    "        else: # noop\n",
    "            v = 0\n",
    "        \n",
    "        # increment x and cycle\n",
    "        x += v\n",
    "        crt += 1\n",
    "    \n",
    "    print(\"Final val x: \", x)\n",
    "    print(\"Total num cycles: \", crt+1)\n",
    "    print_screen(screen)\n",
    "    return screen"
   ]
  },
  {
   "cell_type": "code",
   "execution_count": 153,
   "metadata": {
    "ExecuteTime": {
     "end_time": "2022-12-29T19:57:29.405137Z",
     "start_time": "2022-12-29T19:57:29.393660Z"
    }
   },
   "outputs": [
    {
     "name": "stdout",
     "output_type": "stream",
     "text": [
      "cycle: 1, x: 1, sprite: range(0, 2), crt: 0\n",
      "Drawing at 0, 0\n",
      "cycle: 2, x: 1, sprite: range(0, 2), crt: 1\n",
      "Drawing at 0, 1\n",
      "cycle: 3, x: 16, sprite: range(15, 17), crt: 2\n",
      "cycle: 4, x: 16, sprite: range(15, 17), crt: 3\n",
      "cycle: 5, x: 5, sprite: range(4, 6), crt: 4\n",
      "Drawing at 0, 4\n",
      "cycle: 6, x: 5, sprite: range(4, 6), crt: 5\n",
      "Drawing at 0, 5\n",
      "cycle: 7, x: 11, sprite: range(10, 12), crt: 6\n",
      "cycle: 8, x: 11, sprite: range(10, 12), crt: 7\n",
      "cycle: 9, x: 8, sprite: range(7, 9), crt: 8\n",
      "Drawing at 0, 8\n",
      "cycle: 10, x: 8, sprite: range(7, 9), crt: 9\n",
      "Drawing at 0, 9\n",
      "cycle: 11, x: 13, sprite: range(12, 14), crt: 10\n",
      "cycle: 12, x: 13, sprite: range(12, 14), crt: 11\n",
      "cycle: 13, x: 12, sprite: range(11, 13), crt: 12\n",
      "Drawing at 0, 12\n",
      "cycle: 14, x: 12, sprite: range(11, 13), crt: 13\n",
      "Drawing at 0, 13\n",
      "cycle: 15, x: 4, sprite: range(3, 5), crt: 14\n",
      "cycle: 16, x: 4, sprite: range(3, 5), crt: 15\n",
      "cycle: 17, x: 17, sprite: range(16, 18), crt: 16\n",
      "Drawing at 0, 16\n",
      "cycle: 18, x: 17, sprite: range(16, 18), crt: 17\n",
      "Drawing at 0, 17\n",
      "cycle: 19, x: 21, sprite: range(20, 22), crt: 18\n",
      "cycle: 20, x: 21, sprite: range(20, 22), crt: 19\n",
      "cycle: 21, x: 21, sprite: range(20, 22), crt: 20\n",
      "Drawing at 0, 20\n",
      "cycle: 22, x: 20, sprite: range(19, 21), crt: 21\n",
      "Drawing at 0, 21\n",
      "cycle: 23, x: 20, sprite: range(19, 21), crt: 22\n",
      "cycle: 24, x: 25, sprite: range(24, 26), crt: 23\n",
      "cycle: 25, x: 25, sprite: range(24, 26), crt: 24\n",
      "Drawing at 0, 24\n",
      "cycle: 26, x: 24, sprite: range(23, 25), crt: 25\n",
      "Drawing at 0, 25\n",
      "cycle: 27, x: 24, sprite: range(23, 25), crt: 26\n",
      "cycle: 28, x: 29, sprite: range(28, 30), crt: 27\n",
      "cycle: 29, x: 29, sprite: range(28, 30), crt: 28\n",
      "Drawing at 0, 28\n",
      "cycle: 30, x: 28, sprite: range(27, 29), crt: 29\n",
      "Drawing at 0, 29\n",
      "cycle: 31, x: 28, sprite: range(27, 29), crt: 30\n",
      "cycle: 32, x: 33, sprite: range(32, 34), crt: 31\n",
      "cycle: 33, x: 33, sprite: range(32, 34), crt: 32\n",
      "Drawing at 0, 32\n",
      "cycle: 34, x: 32, sprite: range(31, 33), crt: 33\n",
      "Drawing at 0, 33\n",
      "cycle: 35, x: 32, sprite: range(31, 33), crt: 34\n",
      "cycle: 36, x: 37, sprite: range(36, 38), crt: 35\n",
      "cycle: 37, x: 37, sprite: range(36, 38), crt: 36\n",
      "Drawing at 0, 36\n",
      "cycle: 38, x: 36, sprite: range(35, 37), crt: 37\n",
      "Drawing at 0, 37\n",
      "cycle: 39, x: 36, sprite: range(35, 37), crt: 38\n",
      "##..##..##..##..##..##..##..##..##..##..\n",
      "........................................\n",
      "........................................\n",
      "........................................\n",
      "........................................\n",
      "........................................\n"
     ]
    }
   ],
   "source": [
    "ex_screen = render_input(ex_data_list, lim=20, verbose=True)"
   ]
  },
  {
   "cell_type": "markdown",
   "metadata": {},
   "source": [
    "Expect:\n",
    "```\n",
    "##..##..##..##..##..##..##..##..##..##..\n",
    "```"
   ]
  },
  {
   "cell_type": "code",
   "execution_count": 160,
   "metadata": {
    "ExecuteTime": {
     "end_time": "2022-12-29T19:58:41.452044Z",
     "start_time": "2022-12-29T19:58:41.446145Z"
    }
   },
   "outputs": [
    {
     "name": "stdout",
     "output_type": "stream",
     "text": [
      "cycle: 1, x: 1, sprite: range(0, 2), crt: 0\n",
      "Drawing at 0, 0\n",
      "cycle: 2, x: 1, sprite: range(0, 2), crt: 1\n",
      "Drawing at 0, 1\n",
      "cycle: 3, x: 16, sprite: range(15, 17), crt: 2\n",
      "cycle: 4, x: 16, sprite: range(15, 17), crt: 3\n",
      "cycle: 5, x: 5, sprite: range(4, 6), crt: 4\n",
      "Drawing at 0, 4\n",
      "cycle: 6, x: 5, sprite: range(4, 6), crt: 5\n",
      "Drawing at 0, 5\n",
      "cycle: 7, x: 11, sprite: range(10, 12), crt: 6\n",
      "cycle: 8, x: 11, sprite: range(10, 12), crt: 7\n",
      "cycle: 9, x: 8, sprite: range(7, 9), crt: 8\n",
      "Drawing at 0, 8\n",
      "cycle: 10, x: 8, sprite: range(7, 9), crt: 9\n",
      "Drawing at 0, 9\n",
      "cycle: 11, x: 13, sprite: range(12, 14), crt: 10\n",
      "cycle: 12, x: 13, sprite: range(12, 14), crt: 11\n",
      "cycle: 13, x: 12, sprite: range(11, 13), crt: 12\n",
      "Drawing at 0, 12\n",
      "cycle: 14, x: 12, sprite: range(11, 13), crt: 13\n",
      "Drawing at 0, 13\n",
      "cycle: 15, x: 4, sprite: range(3, 5), crt: 14\n",
      "cycle: 16, x: 4, sprite: range(3, 5), crt: 15\n",
      "cycle: 17, x: 17, sprite: range(16, 18), crt: 16\n",
      "Drawing at 0, 16\n",
      "cycle: 18, x: 17, sprite: range(16, 18), crt: 17\n",
      "Drawing at 0, 17\n",
      "cycle: 19, x: 21, sprite: range(20, 22), crt: 18\n",
      "cycle: 20, x: 21, sprite: range(20, 22), crt: 19\n",
      "cycle: 21, x: 21, sprite: range(20, 22), crt: 20\n",
      "Drawing at 0, 20\n",
      "cycle: 22, x: 20, sprite: range(19, 21), crt: 21\n",
      "Drawing at 0, 21\n",
      "cycle: 23, x: 20, sprite: range(19, 21), crt: 22\n",
      "cycle: 24, x: 25, sprite: range(24, 26), crt: 23\n",
      "cycle: 25, x: 25, sprite: range(24, 26), crt: 24\n",
      "Drawing at 0, 24\n",
      "cycle: 26, x: 24, sprite: range(23, 25), crt: 25\n",
      "Drawing at 0, 25\n",
      "cycle: 27, x: 24, sprite: range(23, 25), crt: 26\n",
      "cycle: 28, x: 29, sprite: range(28, 30), crt: 27\n",
      "cycle: 29, x: 29, sprite: range(28, 30), crt: 28\n",
      "Drawing at 0, 28\n",
      "cycle: 30, x: 28, sprite: range(27, 29), crt: 29\n",
      "Drawing at 0, 29\n",
      "cycle: 31, x: 28, sprite: range(27, 29), crt: 30\n",
      "cycle: 32, x: 33, sprite: range(32, 34), crt: 31\n",
      "cycle: 33, x: 33, sprite: range(32, 34), crt: 32\n",
      "Drawing at 0, 32\n",
      "cycle: 34, x: 32, sprite: range(31, 33), crt: 33\n",
      "Drawing at 0, 33\n",
      "cycle: 35, x: 32, sprite: range(31, 33), crt: 34\n",
      "cycle: 36, x: 37, sprite: range(36, 38), crt: 35\n",
      "cycle: 37, x: 37, sprite: range(36, 38), crt: 36\n",
      "Drawing at 0, 36\n",
      "cycle: 38, x: 36, sprite: range(35, 37), crt: 37\n",
      "Drawing at 0, 37\n",
      "cycle: 39, x: 36, sprite: range(35, 37), crt: 38\n",
      "cycle: 40, x: 1, sprite: range(0, 2), crt: 39\n",
      "cycle: 41, x: 1, sprite: range(0, 2), crt: 40\n",
      "cycle: 42, x: 2, sprite: range(1, 3), crt: 41\n",
      "cycle: 43, x: 2, sprite: range(1, 3), crt: 42\n",
      "cycle: 44, x: 26, sprite: range(25, 27), crt: 43\n",
      "cycle: 45, x: 26, sprite: range(25, 27), crt: 44\n",
      "cycle: 46, x: 7, sprite: range(6, 8), crt: 45\n",
      "cycle: 47, x: 7, sprite: range(6, 8), crt: 46\n",
      "cycle: 48, x: 8, sprite: range(7, 9), crt: 47\n",
      "cycle: 49, x: 8, sprite: range(7, 9), crt: 48\n",
      "cycle: 50, x: 24, sprite: range(23, 25), crt: 49\n",
      "cycle: 51, x: 24, sprite: range(23, 25), crt: 50\n",
      "cycle: 52, x: 13, sprite: range(12, 14), crt: 51\n",
      "cycle: 53, x: 13, sprite: range(12, 14), crt: 52\n",
      "cycle: 54, x: 13, sprite: range(12, 14), crt: 53\n",
      "cycle: 55, x: 13, sprite: range(12, 14), crt: 54\n",
      "cycle: 56, x: 34, sprite: range(33, 35), crt: 55\n",
      "cycle: 57, x: 34, sprite: range(33, 35), crt: 56\n",
      "cycle: 58, x: 19, sprite: range(18, 20), crt: 57\n",
      "cycle: 59, x: 19, sprite: range(18, 20), crt: 58\n",
      "cycle: 60, x: 19, sprite: range(18, 20), crt: 59\n",
      "cycle: 61, x: 19, sprite: range(18, 20), crt: 60\n",
      "cycle: 62, x: 16, sprite: range(15, 17), crt: 61\n",
      "cycle: 63, x: 16, sprite: range(15, 17), crt: 62\n",
      "cycle: 64, x: 25, sprite: range(24, 26), crt: 63\n",
      "cycle: 65, x: 25, sprite: range(24, 26), crt: 64\n",
      "cycle: 66, x: 26, sprite: range(25, 27), crt: 65\n",
      "cycle: 67, x: 26, sprite: range(25, 27), crt: 66\n",
      "cycle: 68, x: 23, sprite: range(22, 24), crt: 67\n",
      "cycle: 69, x: 23, sprite: range(22, 24), crt: 68\n",
      "cycle: 70, x: 31, sprite: range(30, 32), crt: 69\n",
      "cycle: 71, x: 31, sprite: range(30, 32), crt: 70\n",
      "cycle: 72, x: 32, sprite: range(31, 33), crt: 71\n",
      "cycle: 73, x: 32, sprite: range(31, 33), crt: 72\n",
      "cycle: 74, x: 37, sprite: range(36, 38), crt: 73\n",
      "Final val x:  37\n",
      "Total num cycles:  75\n",
      "##..##..##..##..##..##..##..##..##..##..\n",
      "........................................\n",
      "........................................\n",
      "........................................\n",
      "........................................\n",
      "........................................\n"
     ]
    }
   ],
   "source": [
    "ex_screen = render_input(ex_data_list, 40, True)"
   ]
  },
  {
   "cell_type": "code",
   "execution_count": 161,
   "metadata": {
    "ExecuteTime": {
     "end_time": "2022-12-29T19:59:35.257556Z",
     "start_time": "2022-12-29T19:59:35.252809Z"
    }
   },
   "outputs": [],
   "source": [
    "def draw_cycle(crt, x, screen, verbose=False):\n",
    "    row = crt // 40\n",
    "    col = crt % 40\n",
    "    if col in [x-1, x, x+1]:\n",
    "        if verbose:\n",
    "            print(f\"Drawing at {row}, {col}\")\n",
    "        screen[row][col] = '#'"
   ]
  },
  {
   "cell_type": "code",
   "execution_count": 165,
   "metadata": {
    "ExecuteTime": {
     "end_time": "2022-12-29T20:00:05.238170Z",
     "start_time": "2022-12-29T20:00:05.230806Z"
    }
   },
   "outputs": [
    {
     "name": "stdout",
     "output_type": "stream",
     "text": [
      "Final val x:  17\n",
      "Total num cycles:  241\n",
      "##..##..##..##..##..##..##..##..##..##..\n",
      "###...###...###...###...###...###...###.\n",
      "####....####....####....####....####....\n",
      "#####.....#####.....#####.....#####.....\n",
      "######......######......######......####\n",
      "#######.......#######.......#######.....\n"
     ]
    }
   ],
   "source": [
    "ex_screen = render_input(ex_data_list)"
   ]
  },
  {
   "cell_type": "code",
   "execution_count": 166,
   "metadata": {
    "ExecuteTime": {
     "end_time": "2022-12-29T20:00:33.669569Z",
     "start_time": "2022-12-29T20:00:33.662145Z"
    }
   },
   "outputs": [
    {
     "name": "stdout",
     "output_type": "stream",
     "text": [
      "Final val x:  37\n",
      "Total num cycles:  241\n",
      "####.#..#.###..###..####.####..##..#....\n",
      "...#.#..#.#..#.#..#.#....#....#..#.#....\n",
      "..#..#..#.#..#.#..#.###..###..#....#....\n",
      ".#...#..#.###..###..#....#....#....#....\n",
      "#....#..#.#....#.#..#....#....#..#.#....\n",
      "####..##..#....#..#.#....####..##..####.\n"
     ]
    }
   ],
   "source": [
    "final_screen = render_input(data)"
   ]
  },
  {
   "cell_type": "code",
   "execution_count": null,
   "metadata": {},
   "outputs": [],
   "source": []
  }
 ],
 "metadata": {
  "kernelspec": {
   "display_name": "misc",
   "language": "python",
   "name": "misc"
  },
  "language_info": {
   "codemirror_mode": {
    "name": "ipython",
    "version": 3
   },
   "file_extension": ".py",
   "mimetype": "text/x-python",
   "name": "python",
   "nbconvert_exporter": "python",
   "pygments_lexer": "ipython3",
   "version": "3.10.8"
  },
  "toc": {
   "base_numbering": 1,
   "nav_menu": {},
   "number_sections": true,
   "sideBar": true,
   "skip_h1_title": false,
   "title_cell": "Table of Contents",
   "title_sidebar": "Contents",
   "toc_cell": false,
   "toc_position": {
    "height": "calc(100% - 180px)",
    "left": "10px",
    "top": "150px",
    "width": "204.822px"
   },
   "toc_section_display": true,
   "toc_window_display": true
  }
 },
 "nbformat": 4,
 "nbformat_minor": 2
}
