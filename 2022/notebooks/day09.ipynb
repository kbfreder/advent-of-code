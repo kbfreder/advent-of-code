{
 "cells": [
  {
   "cell_type": "code",
   "execution_count": 1,
   "metadata": {
    "ExecuteTime": {
     "end_time": "2022-12-28T18:46:03.540517Z",
     "start_time": "2022-12-28T18:46:03.525617Z"
    }
   },
   "outputs": [],
   "source": [
    "day = 9"
   ]
  },
  {
   "cell_type": "code",
   "execution_count": 2,
   "metadata": {
    "ExecuteTime": {
     "end_time": "2022-12-28T18:46:04.313243Z",
     "start_time": "2022-12-28T18:46:04.140565Z"
    }
   },
   "outputs": [],
   "source": [
    "# import pandas as pd\n",
    "import numpy as np\n",
    "\n",
    "import os"
   ]
  },
  {
   "cell_type": "code",
   "execution_count": 3,
   "metadata": {
    "ExecuteTime": {
     "end_time": "2022-12-28T18:46:04.863095Z",
     "start_time": "2022-12-28T18:46:04.852842Z"
    }
   },
   "outputs": [],
   "source": [
    "INPUT_DIR = \"../input\"\n",
    "\n",
    "input_path = f'{INPUT_DIR}/day{day:02d}.txt'\n",
    "\n",
    "data = []\n",
    "with open(input_path) as file:\n",
    "#     data = file.readlines()\n",
    "    for line in file.readlines():\n",
    "        data.append(line.strip('\\n'))"
   ]
  },
  {
   "cell_type": "code",
   "execution_count": 5,
   "metadata": {
    "ExecuteTime": {
     "end_time": "2022-12-28T18:48:15.802584Z",
     "start_time": "2022-12-28T18:48:15.795147Z"
    }
   },
   "outputs": [
    {
     "data": {
      "text/plain": [
       "['L 1',\n",
       " 'D 1',\n",
       " 'U 2',\n",
       " 'R 1',\n",
       " 'U 1',\n",
       " 'L 2',\n",
       " 'D 1',\n",
       " 'R 2',\n",
       " 'D 2',\n",
       " 'R 2',\n",
       " 'L 2',\n",
       " 'D 2',\n",
       " 'L 2',\n",
       " 'R 2',\n",
       " 'D 1']"
      ]
     },
     "execution_count": 5,
     "metadata": {},
     "output_type": "execute_result"
    }
   ],
   "source": [
    "data[:15]"
   ]
  },
  {
   "cell_type": "code",
   "execution_count": 6,
   "metadata": {
    "ExecuteTime": {
     "end_time": "2022-12-28T18:48:17.721879Z",
     "start_time": "2022-12-28T18:48:17.716033Z"
    }
   },
   "outputs": [
    {
     "data": {
      "text/plain": [
       "2000"
      ]
     },
     "execution_count": 6,
     "metadata": {},
     "output_type": "execute_result"
    }
   ],
   "source": [
    "len(data)"
   ]
  },
  {
   "cell_type": "markdown",
   "metadata": {},
   "source": [
    "# dev example"
   ]
  },
  {
   "cell_type": "code",
   "execution_count": 100,
   "metadata": {
    "ExecuteTime": {
     "end_time": "2022-12-28T19:42:13.394864Z",
     "start_time": "2022-12-28T19:42:13.390905Z"
    }
   },
   "outputs": [],
   "source": [
    "ex_data = \"\"\"R 4\n",
    "U 4\n",
    "L 3\n",
    "D 1\n",
    "R 4\n",
    "D 1\n",
    "L 5\n",
    "R 2\"\"\"\n",
    "ex_data_list = ex_data.split(\"\\n\")"
   ]
  },
  {
   "cell_type": "code",
   "execution_count": 101,
   "metadata": {
    "ExecuteTime": {
     "end_time": "2022-12-28T19:42:14.696267Z",
     "start_time": "2022-12-28T19:42:14.689945Z"
    }
   },
   "outputs": [
    {
     "data": {
      "text/plain": [
       "['R 4', 'U 4', 'L 3', 'D 1', 'R 4', 'D 1', 'L 5', 'R 2']"
      ]
     },
     "execution_count": 101,
     "metadata": {},
     "output_type": "execute_result"
    }
   ],
   "source": [
    "ex_data_list"
   ]
  },
  {
   "cell_type": "code",
   "execution_count": 11,
   "metadata": {
    "ExecuteTime": {
     "end_time": "2022-12-28T18:50:18.472118Z",
     "start_time": "2022-12-28T18:50:18.468085Z"
    }
   },
   "outputs": [],
   "source": [
    "command = ex_data_list[0]\n",
    "\n",
    "direction, num_steps = command.split(' ')"
   ]
  },
  {
   "cell_type": "code",
   "execution_count": 14,
   "metadata": {
    "ExecuteTime": {
     "end_time": "2022-12-28T18:50:33.049051Z",
     "start_time": "2022-12-28T18:50:33.044887Z"
    }
   },
   "outputs": [],
   "source": [
    "num_steps = int(num_steps)"
   ]
  },
  {
   "cell_type": "code",
   "execution_count": 15,
   "metadata": {
    "ExecuteTime": {
     "end_time": "2022-12-28T18:50:33.378256Z",
     "start_time": "2022-12-28T18:50:33.371321Z"
    }
   },
   "outputs": [
    {
     "data": {
      "text/plain": [
       "('R', 4)"
      ]
     },
     "execution_count": 15,
     "metadata": {},
     "output_type": "execute_result"
    }
   ],
   "source": [
    "direction, num_steps"
   ]
  },
  {
   "cell_type": "code",
   "execution_count": 16,
   "metadata": {
    "ExecuteTime": {
     "end_time": "2022-12-28T18:52:16.001718Z",
     "start_time": "2022-12-28T18:52:15.997190Z"
    }
   },
   "outputs": [],
   "source": [
    "dir_dict = {\n",
    "    'U': [-1, 0],\n",
    "    'D': [1, 0],\n",
    "    'L': [0, -1],\n",
    "    'R': [0, 1],\n",
    "}"
   ]
  },
  {
   "cell_type": "code",
   "execution_count": 17,
   "metadata": {
    "ExecuteTime": {
     "end_time": "2022-12-28T18:52:26.958352Z",
     "start_time": "2022-12-28T18:52:26.954018Z"
    }
   },
   "outputs": [],
   "source": [
    "dir_nums = dir_dict[direction]"
   ]
  },
  {
   "cell_type": "code",
   "execution_count": 20,
   "metadata": {
    "ExecuteTime": {
     "end_time": "2022-12-28T18:53:28.698388Z",
     "start_time": "2022-12-28T18:53:28.694525Z"
    }
   },
   "outputs": [],
   "source": [
    "h_pos = [0, 0]\n",
    "t_pos = [0, 0]"
   ]
  },
  {
   "cell_type": "code",
   "execution_count": 21,
   "metadata": {
    "ExecuteTime": {
     "end_time": "2022-12-28T18:53:33.596381Z",
     "start_time": "2022-12-28T18:53:33.592577Z"
    }
   },
   "outputs": [],
   "source": [
    "h_pos[0] += dir_nums[0]\n",
    "h_pos[1] += dir_nums[1]"
   ]
  },
  {
   "cell_type": "code",
   "execution_count": 22,
   "metadata": {
    "ExecuteTime": {
     "end_time": "2022-12-28T18:53:34.101880Z",
     "start_time": "2022-12-28T18:53:34.095456Z"
    }
   },
   "outputs": [
    {
     "data": {
      "text/plain": [
       "[0, 1]"
      ]
     },
     "execution_count": 22,
     "metadata": {},
     "output_type": "execute_result"
    }
   ],
   "source": [
    "h_pos"
   ]
  },
  {
   "cell_type": "markdown",
   "metadata": {},
   "source": [
    "## dev touching func"
   ]
  },
  {
   "cell_type": "code",
   "execution_count": 57,
   "metadata": {
    "ExecuteTime": {
     "end_time": "2022-12-28T19:08:58.422843Z",
     "start_time": "2022-12-28T19:08:58.418383Z"
    }
   },
   "outputs": [],
   "source": [
    "def are_touching(pos1, pos2):\n",
    "    if (abs(pos1[0] - pos2[0]) <= 1) and (abs(pos1[1] - pos2[1]) <= 1):\n",
    "        return True\n",
    "    else:\n",
    "        return False"
   ]
  },
  {
   "cell_type": "code",
   "execution_count": 58,
   "metadata": {
    "ExecuteTime": {
     "end_time": "2022-12-28T19:08:58.882327Z",
     "start_time": "2022-12-28T19:08:58.875465Z"
    }
   },
   "outputs": [
    {
     "data": {
      "text/plain": [
       "True"
      ]
     },
     "execution_count": 58,
     "metadata": {},
     "output_type": "execute_result"
    }
   ],
   "source": [
    "are_touching(h_pos, t_pos)"
   ]
  },
  {
   "cell_type": "code",
   "execution_count": 59,
   "metadata": {
    "ExecuteTime": {
     "end_time": "2022-12-28T19:08:59.328913Z",
     "start_time": "2022-12-28T19:08:59.322884Z"
    }
   },
   "outputs": [
    {
     "data": {
      "text/plain": [
       "True"
      ]
     },
     "execution_count": 59,
     "metadata": {},
     "output_type": "execute_result"
    }
   ],
   "source": [
    "are_touching([0,0], [0,0])"
   ]
  },
  {
   "cell_type": "code",
   "execution_count": 60,
   "metadata": {
    "ExecuteTime": {
     "end_time": "2022-12-28T19:08:59.707340Z",
     "start_time": "2022-12-28T19:08:59.695733Z"
    }
   },
   "outputs": [
    {
     "data": {
      "text/plain": [
       "True"
      ]
     },
     "execution_count": 60,
     "metadata": {},
     "output_type": "execute_result"
    }
   ],
   "source": [
    "are_touching([2,2], [3,1])"
   ]
  },
  {
   "cell_type": "code",
   "execution_count": 61,
   "metadata": {
    "ExecuteTime": {
     "end_time": "2022-12-28T19:09:00.069788Z",
     "start_time": "2022-12-28T19:09:00.060049Z"
    }
   },
   "outputs": [
    {
     "data": {
      "text/plain": [
       "False"
      ]
     },
     "execution_count": 61,
     "metadata": {},
     "output_type": "execute_result"
    }
   ],
   "source": [
    "are_touching([2,2], [2,4])"
   ]
  },
  {
   "cell_type": "markdown",
   "metadata": {},
   "source": [
    "## resume"
   ]
  },
  {
   "cell_type": "code",
   "execution_count": 62,
   "metadata": {
    "ExecuteTime": {
     "end_time": "2022-12-28T19:09:13.721409Z",
     "start_time": "2022-12-28T19:09:13.715973Z"
    }
   },
   "outputs": [
    {
     "data": {
      "text/plain": [
       "([0, 1], [0, 0])"
      ]
     },
     "execution_count": 62,
     "metadata": {},
     "output_type": "execute_result"
    }
   ],
   "source": [
    "h_pos, t_pos"
   ]
  },
  {
   "cell_type": "code",
   "execution_count": 58,
   "metadata": {
    "ExecuteTime": {
     "end_time": "2022-12-28T19:08:58.882327Z",
     "start_time": "2022-12-28T19:08:58.875465Z"
    }
   },
   "outputs": [
    {
     "data": {
      "text/plain": [
       "True"
      ]
     },
     "execution_count": 58,
     "metadata": {},
     "output_type": "execute_result"
    }
   ],
   "source": [
    "are_touching(h_pos, t_pos)"
   ]
  },
  {
   "cell_type": "code",
   "execution_count": 63,
   "metadata": {
    "ExecuteTime": {
     "end_time": "2022-12-28T19:10:57.609030Z",
     "start_time": "2022-12-28T19:10:57.604780Z"
    }
   },
   "outputs": [],
   "source": [
    "h_pos[0] += dir_nums[0]\n",
    "h_pos[1] += dir_nums[1]"
   ]
  },
  {
   "cell_type": "code",
   "execution_count": 65,
   "metadata": {
    "ExecuteTime": {
     "end_time": "2022-12-28T19:11:25.704309Z",
     "start_time": "2022-12-28T19:11:25.698028Z"
    }
   },
   "outputs": [
    {
     "data": {
      "text/plain": [
       "([0, 2], [0, 0])"
      ]
     },
     "execution_count": 65,
     "metadata": {},
     "output_type": "execute_result"
    }
   ],
   "source": [
    "h_pos, t_pos"
   ]
  },
  {
   "cell_type": "code",
   "execution_count": 64,
   "metadata": {
    "ExecuteTime": {
     "end_time": "2022-12-28T19:11:01.627309Z",
     "start_time": "2022-12-28T19:11:01.620730Z"
    }
   },
   "outputs": [
    {
     "data": {
      "text/plain": [
       "False"
      ]
     },
     "execution_count": 64,
     "metadata": {},
     "output_type": "execute_result"
    }
   ],
   "source": [
    "are_touching(h_pos, t_pos)"
   ]
  },
  {
   "cell_type": "markdown",
   "metadata": {},
   "source": [
    "We know which direction H moved, so we know L should move in the same direction"
   ]
  },
  {
   "cell_type": "code",
   "execution_count": 16,
   "metadata": {
    "ExecuteTime": {
     "end_time": "2022-12-28T18:52:16.001718Z",
     "start_time": "2022-12-28T18:52:15.997190Z"
    }
   },
   "outputs": [],
   "source": [
    "dir_dict = {\n",
    "    'U': [-1, 0],\n",
    "    'D': [1, 0],\n",
    "    'L': [0, -1],\n",
    "    'R': [0, 1],\n",
    "}"
   ]
  },
  {
   "cell_type": "code",
   "execution_count": null,
   "metadata": {},
   "outputs": [],
   "source": []
  },
  {
   "cell_type": "code",
   "execution_count": 71,
   "metadata": {
    "ExecuteTime": {
     "end_time": "2022-12-28T19:28:18.152145Z",
     "start_time": "2022-12-28T19:28:18.146759Z"
    }
   },
   "outputs": [],
   "source": [
    "if not are_touching(h_pos, t_pos):\n",
    "#     dir_nums = dir_dict[direction]\n",
    "    \n",
    "    # (We know which direction H moved, so we know L should move in the same direction)\n",
    "    t_pos[0] += dir_nums[0]\n",
    "    t_pos[1] += dir_nums[1]\n",
    "    \n",
    "    # if not same row or column : diagnonal\n",
    "    # must make additional adjustment\n",
    "    if not ((h_pos[0] == t_pos[0]) or (h_pos[1] == t_pos[1])):\n",
    "        if direction in ('L', 'R'): # adjust row\n",
    "            t_pos[0] = h_pos[0]\n",
    "        elif direction in ('U', 'D'): # adjust columns\n",
    "            t_pos[1] = h_pos[1]\n",
    "    "
   ]
  },
  {
   "cell_type": "code",
   "execution_count": 72,
   "metadata": {
    "ExecuteTime": {
     "end_time": "2022-12-28T19:28:20.613938Z",
     "start_time": "2022-12-28T19:28:20.608382Z"
    }
   },
   "outputs": [
    {
     "data": {
      "text/plain": [
       "[0, 1]"
      ]
     },
     "execution_count": 72,
     "metadata": {},
     "output_type": "execute_result"
    }
   ],
   "source": [
    "t_pos"
   ]
  },
  {
   "cell_type": "code",
   "execution_count": 73,
   "metadata": {
    "ExecuteTime": {
     "end_time": "2022-12-28T19:29:44.817282Z",
     "start_time": "2022-12-28T19:29:44.811695Z"
    }
   },
   "outputs": [],
   "source": [
    "def adjust_t(h_pos, t_pos, direction):\n",
    "    dir_nums = dir_dict[direction]\n",
    "    \n",
    "    # (We know which direction H moved, so we know L should move in the same direction)\n",
    "    t_pos[0] += dir_nums[0]\n",
    "    t_pos[1] += dir_nums[1]\n",
    "    \n",
    "    # if not same row or column : diagnonal\n",
    "    # must make additional adjustment\n",
    "    if not ((h_pos[0] == t_pos[0]) or (h_pos[1] == t_pos[1])):\n",
    "        if direction in ('L', 'R'): # adjust row\n",
    "            t_pos[0] = h_pos[0]\n",
    "        elif direction in ('U', 'D'): # adjust columns\n",
    "            t_pos[1] = h_pos[1]\n",
    "    \n",
    "    return t_pos"
   ]
  },
  {
   "cell_type": "code",
   "execution_count": 74,
   "metadata": {
    "ExecuteTime": {
     "end_time": "2022-12-28T19:30:01.116370Z",
     "start_time": "2022-12-28T19:30:01.110176Z"
    }
   },
   "outputs": [
    {
     "data": {
      "text/plain": [
       "[2, 2]"
      ]
     },
     "execution_count": 74,
     "metadata": {},
     "output_type": "execute_result"
    }
   ],
   "source": [
    "adjust_t([1,2], [3,1], 'U')"
   ]
  },
  {
   "cell_type": "code",
   "execution_count": 74,
   "metadata": {
    "ExecuteTime": {
     "end_time": "2022-12-28T19:30:01.116370Z",
     "start_time": "2022-12-28T19:30:01.110176Z"
    }
   },
   "outputs": [
    {
     "data": {
      "text/plain": [
       "[2, 2]"
      ]
     },
     "execution_count": 74,
     "metadata": {},
     "output_type": "execute_result"
    }
   ],
   "source": [
    "adjust_t([1,2], [3,1], 'U')"
   ]
  },
  {
   "cell_type": "code",
   "execution_count": 66,
   "metadata": {
    "ExecuteTime": {
     "end_time": "2022-12-28T19:16:18.874365Z",
     "start_time": "2022-12-28T19:16:18.869310Z"
    }
   },
   "outputs": [],
   "source": [
    "# old_pos1 = [2,2]\n",
    "# old_pos2 = [3,1]\n",
    "# dummy_dir = 'U'\n",
    "# dummy_dir_nums = dir_dict[dummy_dir]\n",
    "# new_pos1 = [1,2]"
   ]
  },
  {
   "cell_type": "code",
   "execution_count": null,
   "metadata": {},
   "outputs": [],
   "source": []
  },
  {
   "cell_type": "markdown",
   "metadata": {},
   "source": [
    "## put together"
   ]
  },
  {
   "cell_type": "code",
   "execution_count": 78,
   "metadata": {
    "ExecuteTime": {
     "end_time": "2022-12-28T19:32:21.868705Z",
     "start_time": "2022-12-28T19:32:21.862622Z"
    }
   },
   "outputs": [
    {
     "data": {
      "text/plain": [
       "set"
      ]
     },
     "execution_count": 78,
     "metadata": {},
     "output_type": "execute_result"
    }
   ],
   "source": [
    "tracking_list = set()\n",
    "type(tracking_list)"
   ]
  },
  {
   "cell_type": "code",
   "execution_count": 80,
   "metadata": {
    "ExecuteTime": {
     "end_time": "2022-12-28T19:32:38.814894Z",
     "start_time": "2022-12-28T19:32:38.796059Z"
    }
   },
   "outputs": [
    {
     "ename": "TypeError",
     "evalue": "unhashable type: 'list'",
     "output_type": "error",
     "traceback": [
      "\u001b[0;31m---------------------------------------------------------------------------\u001b[0m",
      "\u001b[0;31mTypeError\u001b[0m                                 Traceback (most recent call last)",
      "Cell \u001b[0;32mIn[80], line 1\u001b[0m\n\u001b[0;32m----> 1\u001b[0m \u001b[43mtracking_list\u001b[49m\u001b[38;5;241;43m.\u001b[39;49m\u001b[43madd\u001b[49m\u001b[43m(\u001b[49m\u001b[43m[\u001b[49m\u001b[38;5;241;43m0\u001b[39;49m\u001b[43m,\u001b[49m\u001b[38;5;241;43m0\u001b[39;49m\u001b[43m]\u001b[49m\u001b[43m)\u001b[49m\n",
      "\u001b[0;31mTypeError\u001b[0m: unhashable type: 'list'"
     ]
    }
   ],
   "source": [
    "tracking_list.add([0,0])"
   ]
  },
  {
   "cell_type": "code",
   "execution_count": 81,
   "metadata": {
    "ExecuteTime": {
     "end_time": "2022-12-28T19:38:32.842190Z",
     "start_time": "2022-12-28T19:38:32.836344Z"
    }
   },
   "outputs": [
    {
     "data": {
      "text/plain": [
       "[0, 1]"
      ]
     },
     "execution_count": 81,
     "metadata": {},
     "output_type": "execute_result"
    }
   ],
   "source": [
    "t_pos"
   ]
  },
  {
   "cell_type": "code",
   "execution_count": 84,
   "metadata": {
    "ExecuteTime": {
     "end_time": "2022-12-28T19:39:26.157405Z",
     "start_time": "2022-12-28T19:39:26.151476Z"
    }
   },
   "outputs": [
    {
     "data": {
      "text/plain": [
       "'01'"
      ]
     },
     "execution_count": 84,
     "metadata": {},
     "output_type": "execute_result"
    }
   ],
   "source": [
    "t_str = ''.join([str(x) for x in t_pos])\n",
    "t_str"
   ]
  },
  {
   "cell_type": "code",
   "execution_count": 85,
   "metadata": {
    "ExecuteTime": {
     "end_time": "2022-12-28T19:39:29.307502Z",
     "start_time": "2022-12-28T19:39:29.301228Z"
    }
   },
   "outputs": [],
   "source": [
    "tracking_list.add(t_str)"
   ]
  },
  {
   "cell_type": "code",
   "execution_count": 86,
   "metadata": {
    "ExecuteTime": {
     "end_time": "2022-12-28T19:39:32.918232Z",
     "start_time": "2022-12-28T19:39:32.913891Z"
    }
   },
   "outputs": [],
   "source": [
    "tracking_list.add(t_str)"
   ]
  },
  {
   "cell_type": "code",
   "execution_count": 87,
   "metadata": {
    "ExecuteTime": {
     "end_time": "2022-12-28T19:39:38.867406Z",
     "start_time": "2022-12-28T19:39:38.860265Z"
    }
   },
   "outputs": [],
   "source": [
    "tracking_list.add('00')"
   ]
  },
  {
   "cell_type": "code",
   "execution_count": 88,
   "metadata": {
    "ExecuteTime": {
     "end_time": "2022-12-28T19:39:40.763407Z",
     "start_time": "2022-12-28T19:39:40.757495Z"
    }
   },
   "outputs": [
    {
     "data": {
      "text/plain": [
       "{'00', '01'}"
      ]
     },
     "execution_count": 88,
     "metadata": {},
     "output_type": "execute_result"
    }
   ],
   "source": [
    "tracking_list"
   ]
  },
  {
   "cell_type": "code",
   "execution_count": 107,
   "metadata": {
    "ExecuteTime": {
     "end_time": "2022-12-28T19:44:01.385223Z",
     "start_time": "2022-12-28T19:44:01.378266Z"
    }
   },
   "outputs": [],
   "source": [
    "def follow_directions(data_list):\n",
    "    h_pos = [0,0]\n",
    "    t_pos = [0,0]\n",
    "    # seed our tracking objects with initial t_pos\n",
    "    h_track_list = [h_pos]\n",
    "    t_track_list = [t_pos]\n",
    "    t_track_set = set('00')\n",
    "    \n",
    "    for command in data_list:\n",
    "        direction, num_steps = command.split(' ')\n",
    "        dir_nums = dir_dict[direction]\n",
    "        for _ in range(int(num_steps)):\n",
    "            h_pos[0] += dir_nums[0]\n",
    "            h_pos[1] += dir_nums[1]\n",
    "            if not are_touching(h_pos, t_pos):\n",
    "                t_pos = adjust_t(h_pos, t_pos, direction)\n",
    "            \n",
    "            h_track_list.append(h_pos)\n",
    "            t_track_list.append(t_pos)\n",
    "            t_pos_str = ''.join([str(x) for x in t_pos])\n",
    "            t_track_set.add(t_pos_str)\n",
    "    print(len(t_track_set))\n",
    "    return h_track_list, t_track_list, t_track_set"
   ]
  },
  {
   "cell_type": "code",
   "execution_count": 110,
   "metadata": {
    "ExecuteTime": {
     "end_time": "2022-12-28T19:44:19.608777Z",
     "start_time": "2022-12-28T19:44:19.603970Z"
    }
   },
   "outputs": [
    {
     "name": "stdout",
     "output_type": "stream",
     "text": [
      "14\n"
     ]
    }
   ],
   "source": [
    "h_track_list, t_track_list, t_track_set = follow_directions(ex_data_list)"
   ]
  },
  {
   "cell_type": "code",
   "execution_count": 111,
   "metadata": {
    "ExecuteTime": {
     "end_time": "2022-12-28T19:44:20.058724Z",
     "start_time": "2022-12-28T19:44:20.050306Z"
    }
   },
   "outputs": [
    {
     "data": {
      "text/plain": [
       "{'-14',\n",
       " '-21',\n",
       " '-22',\n",
       " '-23',\n",
       " '-24',\n",
       " '-33',\n",
       " '-34',\n",
       " '-42',\n",
       " '-43',\n",
       " '0',\n",
       " '00',\n",
       " '01',\n",
       " '02',\n",
       " '03'}"
      ]
     },
     "execution_count": 111,
     "metadata": {},
     "output_type": "execute_result"
    }
   ],
   "source": [
    "t_track_set"
   ]
  },
  {
   "cell_type": "code",
   "execution_count": 112,
   "metadata": {
    "ExecuteTime": {
     "end_time": "2022-12-28T19:44:20.648763Z",
     "start_time": "2022-12-28T19:44:20.642626Z"
    }
   },
   "outputs": [
    {
     "data": {
      "text/plain": [
       "25"
      ]
     },
     "execution_count": 112,
     "metadata": {},
     "output_type": "execute_result"
    }
   ],
   "source": [
    "len(t_track_list)"
   ]
  },
  {
   "cell_type": "code",
   "execution_count": 113,
   "metadata": {
    "ExecuteTime": {
     "end_time": "2022-12-28T19:44:27.035132Z",
     "start_time": "2022-12-28T19:44:27.028484Z"
    }
   },
   "outputs": [
    {
     "data": {
      "text/plain": [
       "[[-2, 1],\n",
       " [-2, 1],\n",
       " [-2, 1],\n",
       " [-2, 1],\n",
       " [-2, 1],\n",
       " [-2, 1],\n",
       " [-2, 1],\n",
       " [-2, 1],\n",
       " [-2, 1],\n",
       " [-2, 1],\n",
       " [-2, 1],\n",
       " [-2, 1],\n",
       " [-2, 1],\n",
       " [-2, 1],\n",
       " [-2, 1],\n",
       " [-2, 1],\n",
       " [-2, 1],\n",
       " [-2, 1],\n",
       " [-2, 1],\n",
       " [-2, 1],\n",
       " [-2, 1],\n",
       " [-2, 1],\n",
       " [-2, 1],\n",
       " [-2, 1],\n",
       " [-2, 1]]"
      ]
     },
     "execution_count": 113,
     "metadata": {},
     "output_type": "execute_result"
    }
   ],
   "source": [
    "t_track_list"
   ]
  },
  {
   "cell_type": "code",
   "execution_count": 128,
   "metadata": {
    "ExecuteTime": {
     "end_time": "2022-12-28T19:49:48.407695Z",
     "start_time": "2022-12-28T19:49:48.400911Z"
    }
   },
   "outputs": [],
   "source": [
    "def follow_directions(data_list):\n",
    "    h_pos = [0,0]\n",
    "    t_pos = [0,0]\n",
    "    # seed our tracking objects with initial t_pos\n",
    "#     h_track_list = [h_pos]\n",
    "#     t_track_list = [t_pos]\n",
    "#     t_track_set = set('00')\n",
    "#     print(t_track_set)\n",
    "\n",
    "    pos_track_list = [[h_pos, t_pos]]\n",
    "    # don't need to see this, because we know t won't move the first step\n",
    "    t_track_set = set()\n",
    "    \n",
    "    for command in data_list:\n",
    "        direction, num_steps = command.split(' ')\n",
    "        dir_nums = dir_dict[direction]\n",
    "        for _ in range(int(num_steps)):\n",
    "            h_pos[0] += dir_nums[0]\n",
    "            h_pos[1] += dir_nums[1]\n",
    "            if not are_touching(h_pos, t_pos):\n",
    "                t_pos = adjust_t(h_pos, t_pos, direction)\n",
    "            \n",
    "#             h_track_list.append(h_pos)\n",
    "#             t_track_list.append(t_pos)\n",
    "            pos_track_list.append([h_pos, t_pos])\n",
    "            t_pos_str = ''.join([str(x) for x in t_pos])\n",
    "            print(h_pos, t_pos, t_pos_str)\n",
    "            t_track_set.add(t_pos_str)\n",
    "\n",
    "    print(len(t_track_set))\n",
    "    return pos_track_list, t_track_set"
   ]
  },
  {
   "cell_type": "code",
   "execution_count": 129,
   "metadata": {
    "ExecuteTime": {
     "end_time": "2022-12-28T19:49:48.791136Z",
     "start_time": "2022-12-28T19:49:48.786622Z"
    }
   },
   "outputs": [
    {
     "name": "stdout",
     "output_type": "stream",
     "text": [
      "[0, 1] [0, 0] 00\n",
      "[0, 2] [0, 1] 01\n",
      "[0, 3] [0, 2] 02\n",
      "[0, 4] [0, 3] 03\n",
      "[-1, 4] [0, 3] 03\n",
      "[-2, 4] [-1, 4] -14\n",
      "[-3, 4] [-2, 4] -24\n",
      "[-4, 4] [-3, 4] -34\n",
      "[-4, 3] [-3, 4] -34\n",
      "[-4, 2] [-4, 3] -43\n",
      "[-4, 1] [-4, 2] -42\n",
      "[-3, 1] [-4, 2] -42\n",
      "[-3, 2] [-4, 2] -42\n",
      "[-3, 3] [-4, 2] -42\n",
      "[-3, 4] [-3, 3] -33\n",
      "[-3, 5] [-3, 4] -34\n",
      "[-2, 5] [-3, 4] -34\n",
      "[-2, 4] [-3, 4] -34\n",
      "[-2, 3] [-3, 4] -34\n",
      "[-2, 2] [-2, 3] -23\n",
      "[-2, 1] [-2, 2] -22\n",
      "[-2, 0] [-2, 1] -21\n",
      "[-2, 1] [-2, 1] -21\n",
      "[-2, 2] [-2, 1] -21\n",
      "13\n"
     ]
    }
   ],
   "source": [
    "pos_track_list, t_track_set = follow_directions(ex_data_list)"
   ]
  },
  {
   "cell_type": "code",
   "execution_count": 126,
   "metadata": {
    "ExecuteTime": {
     "end_time": "2022-12-28T19:49:40.276787Z",
     "start_time": "2022-12-28T19:49:40.270309Z"
    }
   },
   "outputs": [
    {
     "data": {
      "text/plain": [
       "['R 4', 'U 4', 'L 3', 'D 1', 'R 4', 'D 1', 'L 5', 'R 2']"
      ]
     },
     "execution_count": 126,
     "metadata": {},
     "output_type": "execute_result"
    }
   ],
   "source": [
    "ex_data_list"
   ]
  },
  {
   "cell_type": "code",
   "execution_count": 127,
   "metadata": {
    "ExecuteTime": {
     "end_time": "2022-12-28T19:49:40.682218Z",
     "start_time": "2022-12-28T19:49:40.676981Z"
    }
   },
   "outputs": [
    {
     "data": {
      "text/plain": [
       "{'-14',\n",
       " '-21',\n",
       " '-22',\n",
       " '-23',\n",
       " '-24',\n",
       " '-33',\n",
       " '-34',\n",
       " '-42',\n",
       " '-43',\n",
       " '00',\n",
       " '01',\n",
       " '02',\n",
       " '03'}"
      ]
     },
     "execution_count": 127,
     "metadata": {},
     "output_type": "execute_result"
    }
   ],
   "source": [
    "t_track_set"
   ]
  },
  {
   "cell_type": "markdown",
   "metadata": {},
   "source": [
    "## check longer pos --> str"
   ]
  },
  {
   "cell_type": "code",
   "execution_count": 135,
   "metadata": {
    "ExecuteTime": {
     "end_time": "2022-12-28T19:51:43.776452Z",
     "start_time": "2022-12-28T19:51:43.769408Z"
    }
   },
   "outputs": [
    {
     "data": {
      "text/plain": [
       "'-123456'"
      ]
     },
     "execution_count": 135,
     "metadata": {},
     "output_type": "execute_result"
    }
   ],
   "source": [
    "t_pos = [-123, 456]\n",
    "''.join([str(x) for x in t_pos])"
   ]
  },
  {
   "cell_type": "code",
   "execution_count": 136,
   "metadata": {
    "ExecuteTime": {
     "end_time": "2022-12-28T19:51:44.339140Z",
     "start_time": "2022-12-28T19:51:44.332718Z"
    }
   },
   "outputs": [
    {
     "data": {
      "text/plain": [
       "'-123456'"
      ]
     },
     "execution_count": 136,
     "metadata": {},
     "output_type": "execute_result"
    }
   ],
   "source": [
    "t_pos = [-1234, 56]\n",
    "''.join([str(x) for x in t_pos])"
   ]
  },
  {
   "cell_type": "code",
   "execution_count": 137,
   "metadata": {
    "ExecuteTime": {
     "end_time": "2022-12-28T19:51:45.760571Z",
     "start_time": "2022-12-28T19:51:45.753611Z"
    }
   },
   "outputs": [
    {
     "data": {
      "text/plain": [
       "'-123,456'"
      ]
     },
     "execution_count": 137,
     "metadata": {},
     "output_type": "execute_result"
    }
   ],
   "source": [
    "t_pos = [-123, 456]\n",
    "','.join([str(x) for x in t_pos])"
   ]
  },
  {
   "cell_type": "code",
   "execution_count": 138,
   "metadata": {
    "ExecuteTime": {
     "end_time": "2022-12-28T19:51:46.100673Z",
     "start_time": "2022-12-28T19:51:46.094929Z"
    }
   },
   "outputs": [
    {
     "data": {
      "text/plain": [
       "'-1234,56'"
      ]
     },
     "execution_count": 138,
     "metadata": {},
     "output_type": "execute_result"
    }
   ],
   "source": [
    "t_pos = [-1234, 56]\n",
    "','.join([str(x) for x in t_pos])"
   ]
  },
  {
   "cell_type": "code",
   "execution_count": 139,
   "metadata": {
    "ExecuteTime": {
     "end_time": "2022-12-28T19:51:58.902905Z",
     "start_time": "2022-12-28T19:51:58.895491Z"
    }
   },
   "outputs": [
    {
     "data": {
      "text/plain": [
       "'-123,-456'"
      ]
     },
     "execution_count": 139,
     "metadata": {},
     "output_type": "execute_result"
    }
   ],
   "source": [
    "t_pos = [-123, -456]\n",
    "','.join([str(x) for x in t_pos])"
   ]
  },
  {
   "cell_type": "markdown",
   "metadata": {},
   "source": [
    "# run on real data"
   ]
  },
  {
   "cell_type": "code",
   "execution_count": 57,
   "metadata": {
    "ExecuteTime": {
     "end_time": "2022-12-28T19:08:58.422843Z",
     "start_time": "2022-12-28T19:08:58.418383Z"
    }
   },
   "outputs": [],
   "source": [
    "def are_touching(pos1, pos2):\n",
    "    if (abs(pos1[0] - pos2[0]) <= 1) and (abs(pos1[1] - pos2[1]) <= 1):\n",
    "        return True\n",
    "    else:\n",
    "        return False"
   ]
  },
  {
   "cell_type": "code",
   "execution_count": 73,
   "metadata": {
    "ExecuteTime": {
     "end_time": "2022-12-28T19:29:44.817282Z",
     "start_time": "2022-12-28T19:29:44.811695Z"
    }
   },
   "outputs": [],
   "source": [
    "def adjust_t(h_pos, t_pos, direction):\n",
    "    dir_nums = dir_dict[direction]\n",
    "    \n",
    "    # (We know which direction H moved, so we know L should move in the same direction)\n",
    "    t_pos[0] += dir_nums[0]\n",
    "    t_pos[1] += dir_nums[1]\n",
    "    \n",
    "    # if not same row or column : diagnonal\n",
    "    # must make additional adjustment\n",
    "    if not ((h_pos[0] == t_pos[0]) or (h_pos[1] == t_pos[1])):\n",
    "        if direction in ('L', 'R'): # adjust row\n",
    "            t_pos[0] = h_pos[0]\n",
    "        elif direction in ('U', 'D'): # adjust columns\n",
    "            t_pos[1] = h_pos[1]\n",
    "    \n",
    "    return t_pos"
   ]
  },
  {
   "cell_type": "code",
   "execution_count": 140,
   "metadata": {
    "ExecuteTime": {
     "end_time": "2022-12-28T19:52:04.401754Z",
     "start_time": "2022-12-28T19:52:04.395584Z"
    }
   },
   "outputs": [],
   "source": [
    "def follow_directions(data_list):\n",
    "    h_pos = [0,0]\n",
    "    t_pos = [0,0]\n",
    "    pos_track_list = [[h_pos, t_pos]]\n",
    "    # don't need to see this, because we know t won't move the first step\n",
    "    t_track_set = set()\n",
    "    \n",
    "    for command in data_list:\n",
    "        direction, num_steps = command.split(' ')\n",
    "        dir_nums = dir_dict[direction]\n",
    "        for _ in range(int(num_steps)):\n",
    "            h_pos[0] += dir_nums[0]\n",
    "            h_pos[1] += dir_nums[1]\n",
    "            if not are_touching(h_pos, t_pos):\n",
    "                t_pos = adjust_t(h_pos, t_pos, direction)\n",
    "            \n",
    "            pos_track_list.append([h_pos, t_pos])\n",
    "            t_pos_str = ','.join([str(x) for x in t_pos])\n",
    "#             print(h_pos, t_pos, t_pos_str)\n",
    "            t_track_set.add(t_pos_str)\n",
    "\n",
    "    print(len(t_track_set))\n",
    "    return pos_track_list, t_track_set"
   ]
  },
  {
   "cell_type": "code",
   "execution_count": 141,
   "metadata": {
    "ExecuteTime": {
     "end_time": "2022-12-28T19:52:05.068396Z",
     "start_time": "2022-12-28T19:52:05.036516Z"
    }
   },
   "outputs": [
    {
     "name": "stdout",
     "output_type": "stream",
     "text": [
      "6212\n"
     ]
    }
   ],
   "source": [
    "pos_track_list, t_track_set = follow_directions(data)"
   ]
  },
  {
   "cell_type": "code",
   "execution_count": 142,
   "metadata": {
    "ExecuteTime": {
     "end_time": "2022-12-28T19:52:06.977818Z",
     "start_time": "2022-12-28T19:52:06.961332Z"
    },
    "collapsed": true
   },
   "outputs": [
    {
     "data": {
      "text/plain": [
       "{'73,359',\n",
       " '28,176',\n",
       " '79,115',\n",
       " '50,95',\n",
       " '38,313',\n",
       " '131,124',\n",
       " '120,107',\n",
       " '26,242',\n",
       " '25,196',\n",
       " '153,270',\n",
       " '88,347',\n",
       " '2,330',\n",
       " '72,360',\n",
       " '153,113',\n",
       " '-26,225',\n",
       " '35,47',\n",
       " '56,76',\n",
       " '69,135',\n",
       " '-6,214',\n",
       " '103,370',\n",
       " '-37,191',\n",
       " '61,91',\n",
       " '69,133',\n",
       " '120,124',\n",
       " '9,334',\n",
       " '109,390',\n",
       " '-14,198',\n",
       " '62,90',\n",
       " '-31,195',\n",
       " '31,349',\n",
       " '-14,216',\n",
       " '31,35',\n",
       " '125,235',\n",
       " '13,19',\n",
       " '46,153',\n",
       " '64,382',\n",
       " '87,293',\n",
       " '76,236',\n",
       " '14,199',\n",
       " '52,346',\n",
       " '123,114',\n",
       " '106,120',\n",
       " '-29,218',\n",
       " '139,128',\n",
       " '57,84',\n",
       " '104,266',\n",
       " '84,290',\n",
       " '122,238',\n",
       " '27,192',\n",
       " '122,136',\n",
       " '16,181',\n",
       " '51,88',\n",
       " '65,125',\n",
       " '13,337',\n",
       " '87,151',\n",
       " '63,117',\n",
       " '55,79',\n",
       " '57,373',\n",
       " '74,86',\n",
       " '58,94',\n",
       " '16,25',\n",
       " '82,96',\n",
       " '50,69',\n",
       " '83,121',\n",
       " '108,373',\n",
       " '61,152',\n",
       " '106,334',\n",
       " '-37,192',\n",
       " '13,21',\n",
       " '82,315',\n",
       " '138,111',\n",
       " '-29,213',\n",
       " '26,316',\n",
       " '54,248',\n",
       " '79,112',\n",
       " '113,126',\n",
       " '27,356',\n",
       " '50,92',\n",
       " '30,322',\n",
       " '113,123',\n",
       " '13,345',\n",
       " '63,382',\n",
       " '134,237',\n",
       " '53,252',\n",
       " '35,165',\n",
       " '78,383',\n",
       " '88,91',\n",
       " '123,136',\n",
       " '-8,219',\n",
       " '22,356',\n",
       " '92,387',\n",
       " '-32,210',\n",
       " '9,339',\n",
       " '-16,215',\n",
       " '111,284',\n",
       " '107,266',\n",
       " '43,311',\n",
       " '107,92',\n",
       " '10,10',\n",
       " '83,96',\n",
       " '129,132',\n",
       " '88,115',\n",
       " '55,77',\n",
       " '118,379',\n",
       " '104,120',\n",
       " '48,345',\n",
       " '65,385',\n",
       " '90,132',\n",
       " '131,227',\n",
       " '82,313',\n",
       " '53,82',\n",
       " '-28,187',\n",
       " '3,230',\n",
       " '139,101',\n",
       " '30,356',\n",
       " '4,6',\n",
       " '87,351',\n",
       " '49,384',\n",
       " '111,279',\n",
       " '41,337',\n",
       " '127,257',\n",
       " '99,139',\n",
       " '83,320',\n",
       " '28,171',\n",
       " '78,100',\n",
       " '14,12',\n",
       " '98,140',\n",
       " '-37,217',\n",
       " '42,311',\n",
       " '2,187',\n",
       " '122,86',\n",
       " '146,112',\n",
       " '-28,226',\n",
       " '33,163',\n",
       " '86,370',\n",
       " '10,230',\n",
       " '-6,219',\n",
       " '142,133',\n",
       " '112,121',\n",
       " '40,371',\n",
       " '72,229',\n",
       " '55,357',\n",
       " '146,258',\n",
       " '59,74',\n",
       " '84,151',\n",
       " '-13,220',\n",
       " '-5,219',\n",
       " '77,335',\n",
       " '108,102',\n",
       " '75,381',\n",
       " '65,133',\n",
       " '62,79',\n",
       " '8,25',\n",
       " '82,314',\n",
       " '57,107',\n",
       " '113,275',\n",
       " '54,246',\n",
       " '75,358',\n",
       " '83,379',\n",
       " '89,128',\n",
       " '102,285',\n",
       " '58,220',\n",
       " '68,101',\n",
       " '54,93',\n",
       " '26,186',\n",
       " '110,107',\n",
       " '84,104',\n",
       " '138,138',\n",
       " '5,231',\n",
       " '131,117',\n",
       " '118,117',\n",
       " '88,248',\n",
       " '150,269',\n",
       " '77,86',\n",
       " '62,374',\n",
       " '105,103',\n",
       " '-34,195',\n",
       " '-28,218',\n",
       " '147,137',\n",
       " '-37,216',\n",
       " '14,188',\n",
       " '44,177',\n",
       " '125,132',\n",
       " '88,242',\n",
       " '87,388',\n",
       " '-33,207',\n",
       " '134,247',\n",
       " '23,186',\n",
       " '102,350',\n",
       " '38,64',\n",
       " '-21,190',\n",
       " '63,93',\n",
       " '132,133',\n",
       " '101,367',\n",
       " '13,351',\n",
       " '123,127',\n",
       " '45,353',\n",
       " '83,149',\n",
       " '9,-2',\n",
       " '132,233',\n",
       " '30,318',\n",
       " '75,357',\n",
       " '30,32',\n",
       " '96,285',\n",
       " '81,365',\n",
       " '69,114',\n",
       " '49,343',\n",
       " '94,96',\n",
       " '24,190',\n",
       " '54,241',\n",
       " '5,-3',\n",
       " '88,370',\n",
       " '91,97',\n",
       " '70,355',\n",
       " '85,329',\n",
       " '75,344',\n",
       " '-15,195',\n",
       " '40,75',\n",
       " '80,96',\n",
       " '109,385',\n",
       " '33,57',\n",
       " '65,383',\n",
       " '63,99',\n",
       " '48,85',\n",
       " '54,144',\n",
       " '86,327',\n",
       " '2,181',\n",
       " '63,88',\n",
       " '61,95',\n",
       " '16,188',\n",
       " '113,98',\n",
       " '6,0',\n",
       " '99,359',\n",
       " '132,232',\n",
       " '35,312',\n",
       " '10,181',\n",
       " '52,67',\n",
       " '88,117',\n",
       " '134,100',\n",
       " '-3,228',\n",
       " '81,363',\n",
       " '38,316',\n",
       " '55,355',\n",
       " '121,124',\n",
       " '28,356',\n",
       " '61,85',\n",
       " '113,260',\n",
       " '37,356',\n",
       " '102,114',\n",
       " '113,103',\n",
       " '-33,209',\n",
       " '37,345',\n",
       " '0,2',\n",
       " '41,335',\n",
       " '73,364',\n",
       " '82,334',\n",
       " '5,23',\n",
       " '26,38',\n",
       " '-27,207',\n",
       " '82,337',\n",
       " '27,190',\n",
       " '-32,222',\n",
       " '-11,198',\n",
       " '116,87',\n",
       " '84,344',\n",
       " '50,84',\n",
       " '31,190',\n",
       " '23,242',\n",
       " '109,259',\n",
       " '27,189',\n",
       " '164,141',\n",
       " '48,153',\n",
       " '129,112',\n",
       " '109,271',\n",
       " '17,316',\n",
       " '25,316',\n",
       " '91,119',\n",
       " '-11,214',\n",
       " '122,121',\n",
       " '53,373',\n",
       " '127,102',\n",
       " '46,346',\n",
       " '-18,196',\n",
       " '123,224',\n",
       " '144,140',\n",
       " '144,143',\n",
       " '44,252',\n",
       " '29,41',\n",
       " '102,239',\n",
       " '-8,184',\n",
       " '10,226',\n",
       " '97,326',\n",
       " '92,327',\n",
       " '132,229',\n",
       " '71,339',\n",
       " '34,367',\n",
       " '69,364',\n",
       " '44,169',\n",
       " '7,331',\n",
       " '85,100',\n",
       " '54,150',\n",
       " '43,177',\n",
       " '-27,221',\n",
       " '15,235',\n",
       " '49,102',\n",
       " '126,248',\n",
       " '134,246',\n",
       " '127,94',\n",
       " '92,320',\n",
       " '81,352',\n",
       " '35,50',\n",
       " '5,345',\n",
       " '71,375',\n",
       " '139,105',\n",
       " '-27,217',\n",
       " '77,342',\n",
       " '54,382',\n",
       " '8,20',\n",
       " '51,81',\n",
       " '-1,230',\n",
       " '18,16',\n",
       " '57,223',\n",
       " '27,197',\n",
       " '142,118',\n",
       " '87,240',\n",
       " '35,343',\n",
       " '115,115',\n",
       " '135,114',\n",
       " '67,344',\n",
       " '-8,185',\n",
       " '136,99',\n",
       " '127,368',\n",
       " '64,347',\n",
       " '86,316',\n",
       " '85,128',\n",
       " '154,145',\n",
       " '66,137',\n",
       " '33,53',\n",
       " '126,247',\n",
       " '125,244',\n",
       " '154,143',\n",
       " '31,343',\n",
       " '-31,215',\n",
       " '104,369',\n",
       " '-28,207',\n",
       " '151,105',\n",
       " '121,249',\n",
       " '96,108',\n",
       " '99,96',\n",
       " '95,121',\n",
       " '81,122',\n",
       " '40,251',\n",
       " '88,282',\n",
       " '89,317',\n",
       " '126,111',\n",
       " '55,94',\n",
       " '76,221',\n",
       " '123,215',\n",
       " '5,21',\n",
       " '124,248',\n",
       " '92,351',\n",
       " '53,153',\n",
       " '54,232',\n",
       " '94,381',\n",
       " '112,351',\n",
       " '138,127',\n",
       " '95,123',\n",
       " '65,356',\n",
       " '91,130',\n",
       " '5,347',\n",
       " '30,317',\n",
       " '33,165',\n",
       " '77,334',\n",
       " '44,153',\n",
       " '128,116',\n",
       " '-9,193',\n",
       " '141,228',\n",
       " '92,96',\n",
       " '86,374',\n",
       " '73,91',\n",
       " '96,101',\n",
       " '-7,196',\n",
       " '13,12',\n",
       " '6,182',\n",
       " '40,343',\n",
       " '33,38',\n",
       " '61,382',\n",
       " '153,268',\n",
       " '77,369',\n",
       " '-35,218',\n",
       " '-1,231',\n",
       " '42,337',\n",
       " '126,368',\n",
       " '92,381',\n",
       " '51,110',\n",
       " '37,184',\n",
       " '26,356',\n",
       " '116,122',\n",
       " '0,183',\n",
       " '78,382',\n",
       " '111,276',\n",
       " '58,90',\n",
       " '101,334',\n",
       " '103,372',\n",
       " '6,1',\n",
       " '122,359',\n",
       " '86,113',\n",
       " '66,104',\n",
       " '-36,212',\n",
       " '15,349',\n",
       " '34,190',\n",
       " '5,-4',\n",
       " '64,384',\n",
       " '14,27',\n",
       " '94,93',\n",
       " '-25,217',\n",
       " '46,79',\n",
       " '-1,218',\n",
       " '93,104',\n",
       " '81,121',\n",
       " '68,102',\n",
       " '104,372',\n",
       " '0,223',\n",
       " '84,121',\n",
       " '9,187',\n",
       " '137,99',\n",
       " '56,83',\n",
       " '91,140',\n",
       " '56,390',\n",
       " '86,111',\n",
       " '90,145',\n",
       " '70,347',\n",
       " '3,2',\n",
       " '88,142',\n",
       " '34,163',\n",
       " '96,118',\n",
       " '120,243',\n",
       " '53,92',\n",
       " '-30,187',\n",
       " '114,103',\n",
       " '48,89',\n",
       " '4,180',\n",
       " '150,122',\n",
       " '40,170',\n",
       " '92,102',\n",
       " '1,180',\n",
       " '65,96',\n",
       " '-26,224',\n",
       " '38,315',\n",
       " '133,248',\n",
       " '62,93',\n",
       " '104,319',\n",
       " '89,115',\n",
       " '98,323',\n",
       " '105,354',\n",
       " '-12,198',\n",
       " '95,100',\n",
       " '54,103',\n",
       " '45,355',\n",
       " '55,82',\n",
       " '27,183',\n",
       " '134,125',\n",
       " '108,251',\n",
       " '135,104',\n",
       " '129,128',\n",
       " '42,326',\n",
       " '137,148',\n",
       " '42,313',\n",
       " '62,148',\n",
       " '57,382',\n",
       " '26,349',\n",
       " '-7,187',\n",
       " '-21,217',\n",
       " '62,147',\n",
       " '54,96',\n",
       " '48,249',\n",
       " '6,28',\n",
       " '53,339',\n",
       " '17,21',\n",
       " '29,367',\n",
       " '33,47',\n",
       " '22,237',\n",
       " '44,345',\n",
       " '121,130',\n",
       " '160,144',\n",
       " '126,113',\n",
       " '42,317',\n",
       " '139,148',\n",
       " '77,286',\n",
       " '116,263',\n",
       " '1,229',\n",
       " '141,110',\n",
       " '43,312',\n",
       " '6,363',\n",
       " '92,99',\n",
       " '40,370',\n",
       " '67,114',\n",
       " '53,379',\n",
       " '92,382',\n",
       " '28,342',\n",
       " '40,345',\n",
       " '94,104',\n",
       " '39,333',\n",
       " '65,357',\n",
       " '135,257',\n",
       " '71,111',\n",
       " '29,348',\n",
       " '6,344',\n",
       " '-25,199',\n",
       " '94,117',\n",
       " '65,230',\n",
       " '122,358',\n",
       " '55,90',\n",
       " '91,367',\n",
       " '88,101',\n",
       " '10,-4',\n",
       " '-12,195',\n",
       " '14,316',\n",
       " '80,344',\n",
       " '45,357',\n",
       " '78,93',\n",
       " '70,381',\n",
       " '101,369',\n",
       " '143,108',\n",
       " '3,229',\n",
       " '127,244',\n",
       " '45,84',\n",
       " '46,354',\n",
       " '4,0',\n",
       " '56,312',\n",
       " '68,112',\n",
       " '120,108',\n",
       " '49,349',\n",
       " '76,358',\n",
       " '85,340',\n",
       " '36,170',\n",
       " '88,388',\n",
       " '77,367',\n",
       " '41,340',\n",
       " '9,225',\n",
       " '122,128',\n",
       " '52,383',\n",
       " '63,96',\n",
       " '133,126',\n",
       " '57,93',\n",
       " '83,306',\n",
       " '-32,207',\n",
       " '130,125',\n",
       " '95,284',\n",
       " '92,101',\n",
       " '84,287',\n",
       " '-2,-1',\n",
       " '11,19',\n",
       " '148,264',\n",
       " '40,375',\n",
       " '63,346',\n",
       " '102,347',\n",
       " '88,136',\n",
       " '83,352',\n",
       " '-8,186',\n",
       " '76,227',\n",
       " '73,360',\n",
       " '31,173',\n",
       " '35,354',\n",
       " '51,76',\n",
       " '135,231',\n",
       " '16,235',\n",
       " '12,235',\n",
       " '57,320',\n",
       " '-16,230',\n",
       " '64,370',\n",
       " '78,107',\n",
       " '7,21',\n",
       " '136,148',\n",
       " '-1,220',\n",
       " '128,369',\n",
       " '49,254',\n",
       " '92,100',\n",
       " '134,127',\n",
       " '130,264',\n",
       " '21,7',\n",
       " '47,65',\n",
       " '105,247',\n",
       " '132,235',\n",
       " '122,130',\n",
       " '49,84',\n",
       " '81,324',\n",
       " '113,367',\n",
       " '17,19',\n",
       " '97,126',\n",
       " '75,111',\n",
       " '-27,223',\n",
       " '53,64',\n",
       " '47,81',\n",
       " '62,150',\n",
       " '-1,182',\n",
       " '29,349',\n",
       " '91,337',\n",
       " '-26,212',\n",
       " '142,145',\n",
       " '-27,187',\n",
       " '5,232',\n",
       " '96,370',\n",
       " '1,0',\n",
       " '152,264',\n",
       " '-1,214',\n",
       " '9,12',\n",
       " '101,378',\n",
       " '122,379',\n",
       " '117,245',\n",
       " '96,104',\n",
       " '65,131',\n",
       " '109,262',\n",
       " '106,319',\n",
       " '139,118',\n",
       " '92,244',\n",
       " '79,388',\n",
       " '113,91',\n",
       " '88,244',\n",
       " '124,227',\n",
       " '57,75',\n",
       " '40,79',\n",
       " '58,345',\n",
       " '110,106',\n",
       " '74,362',\n",
       " '75,90',\n",
       " '107,271',\n",
       " '-4,187',\n",
       " '60,348',\n",
       " '126,244',\n",
       " '54,351',\n",
       " '122,131',\n",
       " '-5,227',\n",
       " '81,326',\n",
       " '10,9',\n",
       " '98,376',\n",
       " '164,144',\n",
       " '115,122',\n",
       " '-34,207',\n",
       " '50,85',\n",
       " '17,188',\n",
       " '-1,183',\n",
       " '40,346',\n",
       " '114,122',\n",
       " '17,332',\n",
       " '13,18',\n",
       " '62,91',\n",
       " '62,86',\n",
       " '31,346',\n",
       " '49,354',\n",
       " '164,142',\n",
       " '45,81',\n",
       " '6,358',\n",
       " '-38,215',\n",
       " '97,379',\n",
       " '12,15',\n",
       " '13,6',\n",
       " '36,57',\n",
       " '22,360',\n",
       " '51,63',\n",
       " '14,192',\n",
       " '-15,209',\n",
       " '117,231',\n",
       " '2,28',\n",
       " '19,192',\n",
       " '123,135',\n",
       " '17,5',\n",
       " '94,325',\n",
       " '-28,204',\n",
       " '117,131',\n",
       " '79,331',\n",
       " '6,25',\n",
       " '131,130',\n",
       " '58,219',\n",
       " '116,253',\n",
       " '1,351',\n",
       " '48,154',\n",
       " '103,113',\n",
       " '27,193',\n",
       " '108,266',\n",
       " '73,381',\n",
       " '78,345',\n",
       " '69,125',\n",
       " '109,261',\n",
       " '107,321',\n",
       " '65,111',\n",
       " '164,138',\n",
       " '50,94',\n",
       " '118,268',\n",
       " '131,126',\n",
       " '70,367',\n",
       " '75,355',\n",
       " '90,319',\n",
       " '14,200',\n",
       " '15,9',\n",
       " '65,94',\n",
       " '55,312',\n",
       " '154,125',\n",
       " '102,236',\n",
       " '80,370',\n",
       " '90,96',\n",
       " '99,324',\n",
       " '85,346',\n",
       " '85,375',\n",
       " '11,4',\n",
       " '114,379',\n",
       " '44,337',\n",
       " '78,240',\n",
       " '88,322',\n",
       " '76,220',\n",
       " '94,132',\n",
       " '122,127',\n",
       " '-29,209',\n",
       " '98,334',\n",
       " '102,370',\n",
       " '134,244',\n",
       " '31,177',\n",
       " '99,354',\n",
       " '52,83',\n",
       " '26,179',\n",
       " '10,234',\n",
       " '109,381',\n",
       " '37,64',\n",
       " '52,64',\n",
       " '40,380',\n",
       " '18,235',\n",
       " '83,307',\n",
       " '117,237',\n",
       " '65,387',\n",
       " '116,90',\n",
       " '110,113',\n",
       " '54,225',\n",
       " '-13,198',\n",
       " '28,37',\n",
       " '139,103',\n",
       " '154,144',\n",
       " '45,339',\n",
       " '110,351',\n",
       " '134,238',\n",
       " '138,234',\n",
       " '7,-4',\n",
       " '20,316',\n",
       " '-17,209',\n",
       " '145,133',\n",
       " '132,234',\n",
       " '145,108',\n",
       " '86,100',\n",
       " '54,76',\n",
       " '-19,219',\n",
       " '53,350',\n",
       " '134,130',\n",
       " '48,107',\n",
       " '63,114',\n",
       " '51,312',\n",
       " '84,337',\n",
       " '-34,226',\n",
       " '40,312',\n",
       " '45,356',\n",
       " '-2,219',\n",
       " '-9,219',\n",
       " '41,339',\n",
       " '136,272',\n",
       " '124,235',\n",
       " '82,306',\n",
       " '16,349',\n",
       " '157,142',\n",
       " '123,244',\n",
       " '63,230',\n",
       " '3,4',\n",
       " '42,322',\n",
       " '95,303',\n",
       " '6,352',\n",
       " '21,332',\n",
       " '90,94',\n",
       " '4,-3',\n",
       " '102,352',\n",
       " '96,102',\n",
       " '-3,219',\n",
       " '81,116',\n",
       " '68,114',\n",
       " '-4,219',\n",
       " '48,65',\n",
       " '118,86',\n",
       " '24,182',\n",
       " '70,353',\n",
       " '127,111',\n",
       " '55,345',\n",
       " '18,188',\n",
       " '94,133',\n",
       " '51,311',\n",
       " '125,368',\n",
       " '38,334',\n",
       " '122,117',\n",
       " '71,89',\n",
       " '22,358',\n",
       " '77,376',\n",
       " '80,104',\n",
       " '86,108',\n",
       " '16,192',\n",
       " '90,117',\n",
       " '-25,215',\n",
       " '30,180',\n",
       " '48,156',\n",
       " '40,65',\n",
       " '58,76',\n",
       " '106,247',\n",
       " '59,125',\n",
       " '120,104',\n",
       " '120,238',\n",
       " '108,249',\n",
       " '-2,183',\n",
       " '72,85',\n",
       " '60,390',\n",
       " '112,261',\n",
       " '146,113',\n",
       " '124,238',\n",
       " '98,317',\n",
       " '99,103',\n",
       " '16,197',\n",
       " '44,66',\n",
       " '87,249',\n",
       " '22,188',\n",
       " '21,41',\n",
       " '93,122',\n",
       " '97,99',\n",
       " '50,64',\n",
       " '121,361',\n",
       " '106,123',\n",
       " '81,96',\n",
       " '68,97',\n",
       " '69,363',\n",
       " '8,341',\n",
       " '20,7',\n",
       " '68,88',\n",
       " '79,114',\n",
       " '151,112',\n",
       " '89,351',\n",
       " '123,249',\n",
       " '57,317',\n",
       " '16,26',\n",
       " '-30,218',\n",
       " '75,109',\n",
       " '105,104',\n",
       " '25,367',\n",
       " '94,367',\n",
       " '73,87',\n",
       " '33,351',\n",
       " '82,310',\n",
       " '127,97',\n",
       " '44,250',\n",
       " '101,375',\n",
       " '141,109',\n",
       " '112,376',\n",
       " '149,143',\n",
       " '61,342',\n",
       " '59,83',\n",
       " '61,352',\n",
       " '100,363',\n",
       " '114,260',\n",
       " '99,94',\n",
       " '138,139',\n",
       " '50,358',\n",
       " '94,118',\n",
       " '112,264',\n",
       " '-32,216',\n",
       " '109,266',\n",
       " '115,260',\n",
       " '-13,209',\n",
       " '64,89',\n",
       " '55,70',\n",
       " '-4,243',\n",
       " '-4,232',\n",
       " '141,105',\n",
       " '86,142',\n",
       " '30,56',\n",
       " '71,93',\n",
       " '28,39',\n",
       " '-12,209',\n",
       " '6,187',\n",
       " '69,86',\n",
       " '125,123',\n",
       " '54,84',\n",
       " '-1,187',\n",
       " '117,105',\n",
       " '131,100',\n",
       " '27,194',\n",
       " '112,123',\n",
       " '118,120',\n",
       " '100,382',\n",
       " '25,349',\n",
       " '99,95',\n",
       " '30,185',\n",
       " '120,267',\n",
       " '92,108',\n",
       " '140,106',\n",
       " '55,71',\n",
       " '93,327',\n",
       " '-18,209',\n",
       " '6,7',\n",
       " '92,126',\n",
       " '59,339',\n",
       " '60,340',\n",
       " '57,351',\n",
       " '-28,206',\n",
       " '130,100',\n",
       " '108,253',\n",
       " '132,224',\n",
       " '88,125',\n",
       " '82,338',\n",
       " '35,339',\n",
       " '54,233',\n",
       " '102,354',\n",
       " '67,144',\n",
       " '68,346',\n",
       " '16,17',\n",
       " '148,122',\n",
       " '154,264',\n",
       " '-35,217',\n",
       " '31,348',\n",
       " '131,231',\n",
       " '129,97',\n",
       " '67,215',\n",
       " '2,7',\n",
       " '11,181',\n",
       " '4,-1',\n",
       " '-29,220',\n",
       " '9,343',\n",
       " '126,242',\n",
       " '122,362',\n",
       " '57,315',\n",
       " '70,94',\n",
       " '107,111',\n",
       " '107,351',\n",
       " '36,177',\n",
       " '97,354',\n",
       " '42,325',\n",
       " '52,110',\n",
       " '67,99',\n",
       " '91,325',\n",
       " '-35,210',\n",
       " '108,255',\n",
       " '12,6',\n",
       " '107,102',\n",
       " '35,49',\n",
       " '-21,195',\n",
       " '85,368',\n",
       " '55,348',\n",
       " '88,319',\n",
       " '4,25',\n",
       " '70,86',\n",
       " '86,311',\n",
       " '106,266',\n",
       " '-17,212',\n",
       " '139,104',\n",
       " '57,318',\n",
       " '114,123',\n",
       " '152,109',\n",
       " '62,77',\n",
       " '85,92',\n",
       " '-11,216',\n",
       " '57,104',\n",
       " '116,88',\n",
       " '131,135',\n",
       " '80,360',\n",
       " '74,92',\n",
       " '3,-4',\n",
       " '54,146',\n",
       " '31,33',\n",
       " '58,382',\n",
       " '-12,219',\n",
       " '99,134',\n",
       " '-37,188',\n",
       " '83,313',\n",
       " '64,376',\n",
       " '83,97',\n",
       " '80,333',\n",
       " '135,116',\n",
       " '152,110',\n",
       " '12,29',\n",
       " '144,133',\n",
       " '52,92',\n",
       " '52,345',\n",
       " '153,264',\n",
       " '84,282',\n",
       " '119,369',\n",
       " '118,246',\n",
       " '44,163',\n",
       " '122,369',\n",
       " '132,266',\n",
       " '-30,219',\n",
       " '133,257',\n",
       " '-9,214',\n",
       " '54,145',\n",
       " '75,95',\n",
       " '163,144',\n",
       " '82,336',\n",
       " '121,243',\n",
       " '80,98',\n",
       " '75,229',\n",
       " '68,92',\n",
       " ...}"
      ]
     },
     "execution_count": 142,
     "metadata": {},
     "output_type": "execute_result"
    }
   ],
   "source": [
    "t_track_set"
   ]
  },
  {
   "cell_type": "markdown",
   "metadata": {},
   "source": [
    "# 10 m-f knots"
   ]
  },
  {
   "cell_type": "markdown",
   "metadata": {},
   "source": [
    "## dev"
   ]
  },
  {
   "cell_type": "code",
   "execution_count": 144,
   "metadata": {
    "ExecuteTime": {
     "end_time": "2022-12-28T22:13:03.236575Z",
     "start_time": "2022-12-28T22:13:03.229135Z"
    }
   },
   "outputs": [
    {
     "data": {
      "text/plain": [
       "[[0, 0],\n",
       " [0, 0],\n",
       " [0, 0],\n",
       " [0, 0],\n",
       " [0, 0],\n",
       " [0, 0],\n",
       " [0, 0],\n",
       " [0, 0],\n",
       " [0, 0],\n",
       " [0, 0]]"
      ]
     },
     "execution_count": 144,
     "metadata": {},
     "output_type": "execute_result"
    }
   ],
   "source": [
    "[[0,0]] * 10"
   ]
  },
  {
   "cell_type": "code",
   "execution_count": 145,
   "metadata": {
    "ExecuteTime": {
     "end_time": "2022-12-28T22:13:43.758105Z",
     "start_time": "2022-12-28T22:13:43.747469Z"
    }
   },
   "outputs": [],
   "source": [
    "# index 0 is the head; 9 is the tail\n",
    "pos_list = [[0,0]] * 10"
   ]
  },
  {
   "cell_type": "code",
   "execution_count": 150,
   "metadata": {
    "ExecuteTime": {
     "end_time": "2022-12-28T22:20:16.642231Z",
     "start_time": "2022-12-28T22:20:16.635572Z"
    }
   },
   "outputs": [
    {
     "data": {
      "text/plain": [
       "[[0, 0],\n",
       " [1, 1],\n",
       " [2, 2],\n",
       " [3, 3],\n",
       " [4, 4],\n",
       " [5, 5],\n",
       " [6, 6],\n",
       " [7, 7],\n",
       " [8, 8],\n",
       " [9, 9]]"
      ]
     },
     "execution_count": 150,
     "metadata": {},
     "output_type": "execute_result"
    }
   ],
   "source": [
    "pos_list = [[i,i] for i in range(10)]\n",
    "pos_list"
   ]
  },
  {
   "cell_type": "code",
   "execution_count": 146,
   "metadata": {
    "ExecuteTime": {
     "end_time": "2022-12-28T22:14:48.526699Z",
     "start_time": "2022-12-28T22:14:48.511723Z"
    }
   },
   "outputs": [
    {
     "data": {
      "text/plain": [
       "[0, 1, 2, 3, 4, 5, 6, 7, 8]"
      ]
     },
     "execution_count": 146,
     "metadata": {},
     "output_type": "execute_result"
    }
   ],
   "source": [
    "list(range(9))"
   ]
  },
  {
   "cell_type": "code",
   "execution_count": 151,
   "metadata": {
    "ExecuteTime": {
     "end_time": "2022-12-28T22:20:47.973846Z",
     "start_time": "2022-12-28T22:20:47.968355Z"
    }
   },
   "outputs": [
    {
     "name": "stdout",
     "output_type": "stream",
     "text": [
      "[1, 1]\n",
      "[2, 2]\n",
      "[3, 3]\n",
      "[4, 4]\n",
      "[5, 5]\n",
      "[6, 6]\n",
      "[7, 7]\n",
      "[8, 8]\n",
      "[9, 9]\n"
     ]
    }
   ],
   "source": [
    "for i in range(9):\n",
    "    h_pos = pos_list[i]\n",
    "    t_pos = pos_list[i+1]\n",
    "    print(t_pos)"
   ]
  },
  {
   "cell_type": "code",
   "execution_count": null,
   "metadata": {},
   "outputs": [],
   "source": []
  },
  {
   "cell_type": "code",
   "execution_count": null,
   "metadata": {},
   "outputs": [],
   "source": []
  },
  {
   "cell_type": "code",
   "execution_count": 159,
   "metadata": {
    "ExecuteTime": {
     "end_time": "2022-12-28T22:26:57.554205Z",
     "start_time": "2022-12-28T22:26:57.545812Z"
    }
   },
   "outputs": [
    {
     "data": {
      "text/plain": [
       "[[0, 0],\n",
       " [1, 1],\n",
       " [2, 2],\n",
       " [3, 3],\n",
       " [4, 4],\n",
       " [5, 5],\n",
       " [6, 6],\n",
       " [7, 7],\n",
       " [8, 8],\n",
       " [9, 9]]"
      ]
     },
     "execution_count": 159,
     "metadata": {},
     "output_type": "execute_result"
    }
   ],
   "source": [
    "pos_list"
   ]
  },
  {
   "cell_type": "code",
   "execution_count": 160,
   "metadata": {
    "ExecuteTime": {
     "end_time": "2022-12-28T22:27:03.326141Z",
     "start_time": "2022-12-28T22:27:03.320253Z"
    }
   },
   "outputs": [
    {
     "data": {
      "text/plain": [
       "0"
      ]
     },
     "execution_count": 160,
     "metadata": {},
     "output_type": "execute_result"
    }
   ],
   "source": [
    "pos_list[0][0]"
   ]
  },
  {
   "cell_type": "code",
   "execution_count": 161,
   "metadata": {
    "ExecuteTime": {
     "end_time": "2022-12-28T22:27:06.302276Z",
     "start_time": "2022-12-28T22:27:06.295230Z"
    }
   },
   "outputs": [
    {
     "data": {
      "text/plain": [
       "[9, 9]"
      ]
     },
     "execution_count": 161,
     "metadata": {},
     "output_type": "execute_result"
    }
   ],
   "source": [
    "pos_list[-1]"
   ]
  },
  {
   "cell_type": "code",
   "execution_count": 162,
   "metadata": {
    "ExecuteTime": {
     "end_time": "2022-12-28T22:27:21.523776Z",
     "start_time": "2022-12-28T22:27:21.517981Z"
    }
   },
   "outputs": [
    {
     "data": {
      "text/plain": [
       "'9,9'"
      ]
     },
     "execution_count": 162,
     "metadata": {},
     "output_type": "execute_result"
    }
   ],
   "source": [
    "t_pos_str = ','.join([str(x) for x in pos_list[-1]])\n",
    "t_pos_str"
   ]
  },
  {
   "cell_type": "code",
   "execution_count": 165,
   "metadata": {
    "ExecuteTime": {
     "end_time": "2022-12-28T22:28:55.613920Z",
     "start_time": "2022-12-28T22:28:55.608259Z"
    }
   },
   "outputs": [
    {
     "data": {
      "text/plain": [
       "[[0, 0],\n",
       " [0, 0],\n",
       " [0, 0],\n",
       " [0, 0],\n",
       " [0, 0],\n",
       " [0, 0],\n",
       " [0, 0],\n",
       " [0, 0],\n",
       " [0, 0],\n",
       " [0, 0]]"
      ]
     },
     "execution_count": 165,
     "metadata": {},
     "output_type": "execute_result"
    }
   ],
   "source": [
    "pos_list = [[0,0]] * 10\n",
    "pos_list"
   ]
  },
  {
   "cell_type": "code",
   "execution_count": 166,
   "metadata": {
    "ExecuteTime": {
     "end_time": "2022-12-28T22:29:07.862366Z",
     "start_time": "2022-12-28T22:29:07.858379Z"
    }
   },
   "outputs": [],
   "source": [
    "pos_list[0][0] += 1"
   ]
  },
  {
   "cell_type": "code",
   "execution_count": 167,
   "metadata": {
    "ExecuteTime": {
     "end_time": "2022-12-28T22:29:09.639964Z",
     "start_time": "2022-12-28T22:29:09.634487Z"
    }
   },
   "outputs": [
    {
     "data": {
      "text/plain": [
       "[[1, 0],\n",
       " [1, 0],\n",
       " [1, 0],\n",
       " [1, 0],\n",
       " [1, 0],\n",
       " [1, 0],\n",
       " [1, 0],\n",
       " [1, 0],\n",
       " [1, 0],\n",
       " [1, 0]]"
      ]
     },
     "execution_count": 167,
     "metadata": {},
     "output_type": "execute_result"
    }
   ],
   "source": [
    "pos_list"
   ]
  },
  {
   "cell_type": "code",
   "execution_count": 168,
   "metadata": {
    "ExecuteTime": {
     "end_time": "2022-12-28T22:32:11.686577Z",
     "start_time": "2022-12-28T22:32:11.682377Z"
    }
   },
   "outputs": [],
   "source": [
    "pos_list = []\n",
    "for _ in range(10):\n",
    "    pos_list.append([0,0])"
   ]
  },
  {
   "cell_type": "code",
   "execution_count": 169,
   "metadata": {
    "ExecuteTime": {
     "end_time": "2022-12-28T22:32:13.684064Z",
     "start_time": "2022-12-28T22:32:13.677637Z"
    }
   },
   "outputs": [
    {
     "data": {
      "text/plain": [
       "[[0, 0],\n",
       " [0, 0],\n",
       " [0, 0],\n",
       " [0, 0],\n",
       " [0, 0],\n",
       " [0, 0],\n",
       " [0, 0],\n",
       " [0, 0],\n",
       " [0, 0],\n",
       " [0, 0]]"
      ]
     },
     "execution_count": 169,
     "metadata": {},
     "output_type": "execute_result"
    }
   ],
   "source": [
    "pos_list"
   ]
  },
  {
   "cell_type": "code",
   "execution_count": 170,
   "metadata": {
    "ExecuteTime": {
     "end_time": "2022-12-28T22:32:21.950866Z",
     "start_time": "2022-12-28T22:32:21.944010Z"
    }
   },
   "outputs": [
    {
     "data": {
      "text/plain": [
       "[[1, 0],\n",
       " [0, 0],\n",
       " [0, 0],\n",
       " [0, 0],\n",
       " [0, 0],\n",
       " [0, 0],\n",
       " [0, 0],\n",
       " [0, 0],\n",
       " [0, 0],\n",
       " [0, 0]]"
      ]
     },
     "execution_count": 170,
     "metadata": {},
     "output_type": "execute_result"
    }
   ],
   "source": [
    "pos_list[0][0] += 1\n",
    "pos_list"
   ]
  },
  {
   "cell_type": "code",
   "execution_count": null,
   "metadata": {},
   "outputs": [],
   "source": []
  },
  {
   "cell_type": "code",
   "execution_count": null,
   "metadata": {},
   "outputs": [],
   "source": []
  },
  {
   "cell_type": "code",
   "execution_count": 171,
   "metadata": {
    "ExecuteTime": {
     "end_time": "2022-12-28T22:32:42.126576Z",
     "start_time": "2022-12-28T22:32:42.119157Z"
    }
   },
   "outputs": [],
   "source": [
    "def follow_directions_10_knots(data_list):\n",
    "    # index 0 is the head; 9 is the tail\n",
    "    pos_list = []\n",
    "    for _ in range(10):\n",
    "        pos_list.append([0,0])\n",
    "    \n",
    "    # don't need to seed this, because we know tail won't move the first step\n",
    "    t_track_set = set()\n",
    "    \n",
    "    for n, command in enumerate(data_list):\n",
    "        print(f\"Command {n}: {command}\")\n",
    "        direction, num_steps = command.split(' ')\n",
    "        dir_nums = dir_dict[direction]\n",
    "        \n",
    "        for x in range(int(num_steps)):\n",
    "            print(f\"Step {x}\")\n",
    "            pos_list[0][0] += dir_nums[0]\n",
    "            pos_list[0][1] += dir_nums[1]\n",
    "            \n",
    "            for i in range(9):\n",
    "                h_pos = pos_list[i]\n",
    "                t_pos = pos_list[i+1]\n",
    "                print(f\"Knots {i}: {h_pos} & {i+1}: {t_pos}\")\n",
    "                \n",
    "                if not are_touching(h_pos, t_pos):\n",
    "                    print(f\"Knots not touching; adjusting knot {i+1}\")\n",
    "                    new_t_pos = adjust_t(h_pos, t_pos, direction)\n",
    "                    pos_list[i+1] = new_t_pos\n",
    "            \n",
    "            print(f\"Pos of last knot: {pos_list[-1]}\")\n",
    "            t_pos_str = ','.join([str(x) for x in pos_list[-1]])\n",
    "            t_track_set.add(t_pos_str)\n",
    "        print(\"-----------\")\n",
    "\n",
    "    print(len(t_track_set))\n",
    "    return t_track_set"
   ]
  },
  {
   "cell_type": "code",
   "execution_count": 173,
   "metadata": {
    "ExecuteTime": {
     "end_time": "2022-12-28T22:32:59.614259Z",
     "start_time": "2022-12-28T22:32:59.607934Z"
    }
   },
   "outputs": [
    {
     "data": {
      "text/plain": [
       "['R 4', 'U 4', 'L 3', 'D 1', 'R 4', 'D 1', 'L 5', 'R 2']"
      ]
     },
     "execution_count": 173,
     "metadata": {},
     "output_type": "execute_result"
    }
   ],
   "source": [
    "ex_data_list"
   ]
  },
  {
   "cell_type": "code",
   "execution_count": 172,
   "metadata": {
    "ExecuteTime": {
     "end_time": "2022-12-28T22:32:43.357867Z",
     "start_time": "2022-12-28T22:32:43.347131Z"
    }
   },
   "outputs": [
    {
     "name": "stdout",
     "output_type": "stream",
     "text": [
      "Command 0: R 4\n",
      "Step 0\n",
      "Knots 0: [0, 1] & 1: [0, 0]\n",
      "Knots 1: [0, 0] & 2: [0, 0]\n",
      "Knots 2: [0, 0] & 3: [0, 0]\n",
      "Knots 3: [0, 0] & 4: [0, 0]\n",
      "Knots 4: [0, 0] & 5: [0, 0]\n",
      "Knots 5: [0, 0] & 6: [0, 0]\n",
      "Knots 6: [0, 0] & 7: [0, 0]\n",
      "Knots 7: [0, 0] & 8: [0, 0]\n",
      "Knots 8: [0, 0] & 9: [0, 0]\n",
      "Pos of last knot: [0, 0]\n",
      "Step 1\n",
      "Knots 0: [0, 2] & 1: [0, 0]\n",
      "Knots not touching; adjusting knot 1\n",
      "Knots 1: [0, 1] & 2: [0, 0]\n",
      "Knots 2: [0, 0] & 3: [0, 0]\n",
      "Knots 3: [0, 0] & 4: [0, 0]\n",
      "Knots 4: [0, 0] & 5: [0, 0]\n",
      "Knots 5: [0, 0] & 6: [0, 0]\n",
      "Knots 6: [0, 0] & 7: [0, 0]\n",
      "Knots 7: [0, 0] & 8: [0, 0]\n",
      "Knots 8: [0, 0] & 9: [0, 0]\n",
      "Pos of last knot: [0, 0]\n",
      "Step 2\n",
      "Knots 0: [0, 3] & 1: [0, 1]\n",
      "Knots not touching; adjusting knot 1\n",
      "Knots 1: [0, 2] & 2: [0, 0]\n",
      "Knots not touching; adjusting knot 2\n",
      "Knots 2: [0, 1] & 3: [0, 0]\n",
      "Knots 3: [0, 0] & 4: [0, 0]\n",
      "Knots 4: [0, 0] & 5: [0, 0]\n",
      "Knots 5: [0, 0] & 6: [0, 0]\n",
      "Knots 6: [0, 0] & 7: [0, 0]\n",
      "Knots 7: [0, 0] & 8: [0, 0]\n",
      "Knots 8: [0, 0] & 9: [0, 0]\n",
      "Pos of last knot: [0, 0]\n",
      "Step 3\n",
      "Knots 0: [0, 4] & 1: [0, 2]\n",
      "Knots not touching; adjusting knot 1\n",
      "Knots 1: [0, 3] & 2: [0, 1]\n",
      "Knots not touching; adjusting knot 2\n",
      "Knots 2: [0, 2] & 3: [0, 0]\n",
      "Knots not touching; adjusting knot 3\n",
      "Knots 3: [0, 1] & 4: [0, 0]\n",
      "Knots 4: [0, 0] & 5: [0, 0]\n",
      "Knots 5: [0, 0] & 6: [0, 0]\n",
      "Knots 6: [0, 0] & 7: [0, 0]\n",
      "Knots 7: [0, 0] & 8: [0, 0]\n",
      "Knots 8: [0, 0] & 9: [0, 0]\n",
      "Pos of last knot: [0, 0]\n",
      "-----------\n",
      "Command 1: U 4\n",
      "Step 0\n",
      "Knots 0: [-1, 4] & 1: [0, 3]\n",
      "Knots 1: [0, 3] & 2: [0, 2]\n",
      "Knots 2: [0, 2] & 3: [0, 1]\n",
      "Knots 3: [0, 1] & 4: [0, 0]\n",
      "Knots 4: [0, 0] & 5: [0, 0]\n",
      "Knots 5: [0, 0] & 6: [0, 0]\n",
      "Knots 6: [0, 0] & 7: [0, 0]\n",
      "Knots 7: [0, 0] & 8: [0, 0]\n",
      "Knots 8: [0, 0] & 9: [0, 0]\n",
      "Pos of last knot: [0, 0]\n",
      "Step 1\n",
      "Knots 0: [-2, 4] & 1: [0, 3]\n",
      "Knots not touching; adjusting knot 1\n",
      "Knots 1: [-1, 4] & 2: [0, 2]\n",
      "Knots not touching; adjusting knot 2\n",
      "Knots 2: [-1, 2] & 3: [0, 1]\n",
      "Knots 3: [0, 1] & 4: [0, 0]\n",
      "Knots 4: [0, 0] & 5: [0, 0]\n",
      "Knots 5: [0, 0] & 6: [0, 0]\n",
      "Knots 6: [0, 0] & 7: [0, 0]\n",
      "Knots 7: [0, 0] & 8: [0, 0]\n",
      "Knots 8: [0, 0] & 9: [0, 0]\n",
      "Pos of last knot: [0, 0]\n",
      "Step 2\n",
      "Knots 0: [-3, 4] & 1: [-1, 4]\n",
      "Knots not touching; adjusting knot 1\n",
      "Knots 1: [-2, 4] & 2: [-1, 2]\n",
      "Knots not touching; adjusting knot 2\n",
      "Knots 2: [-2, 2] & 3: [0, 1]\n",
      "Knots not touching; adjusting knot 3\n",
      "Knots 3: [-1, 2] & 4: [0, 0]\n",
      "Knots not touching; adjusting knot 4\n",
      "Knots 4: [-1, 0] & 5: [0, 0]\n",
      "Knots 5: [0, 0] & 6: [0, 0]\n",
      "Knots 6: [0, 0] & 7: [0, 0]\n",
      "Knots 7: [0, 0] & 8: [0, 0]\n",
      "Knots 8: [0, 0] & 9: [0, 0]\n",
      "Pos of last knot: [0, 0]\n",
      "Step 3\n",
      "Knots 0: [-4, 4] & 1: [-2, 4]\n",
      "Knots not touching; adjusting knot 1\n",
      "Knots 1: [-3, 4] & 2: [-2, 2]\n",
      "Knots not touching; adjusting knot 2\n",
      "Knots 2: [-3, 2] & 3: [-1, 2]\n",
      "Knots not touching; adjusting knot 3\n",
      "Knots 3: [-2, 2] & 4: [-1, 0]\n",
      "Knots not touching; adjusting knot 4\n",
      "Knots 4: [-2, 0] & 5: [0, 0]\n",
      "Knots not touching; adjusting knot 5\n",
      "Knots 5: [-1, 0] & 6: [0, 0]\n",
      "Knots 6: [0, 0] & 7: [0, 0]\n",
      "Knots 7: [0, 0] & 8: [0, 0]\n",
      "Knots 8: [0, 0] & 9: [0, 0]\n",
      "Pos of last knot: [0, 0]\n",
      "-----------\n",
      "Command 2: L 3\n",
      "Step 0\n",
      "Knots 0: [-4, 3] & 1: [-3, 4]\n",
      "Knots 1: [-3, 4] & 2: [-3, 2]\n",
      "Knots not touching; adjusting knot 2\n",
      "Knots 2: [-3, 1] & 3: [-2, 2]\n",
      "Knots 3: [-2, 2] & 4: [-2, 0]\n",
      "Knots not touching; adjusting knot 4\n",
      "Knots 4: [-2, -1] & 5: [-1, 0]\n",
      "Knots 5: [-1, 0] & 6: [0, 0]\n",
      "Knots 6: [0, 0] & 7: [0, 0]\n",
      "Knots 7: [0, 0] & 8: [0, 0]\n",
      "Knots 8: [0, 0] & 9: [0, 0]\n",
      "Pos of last knot: [0, 0]\n",
      "Step 1\n",
      "Knots 0: [-4, 2] & 1: [-3, 4]\n",
      "Knots not touching; adjusting knot 1\n",
      "Knots 1: [-4, 3] & 2: [-3, 1]\n",
      "Knots not touching; adjusting knot 2\n",
      "Knots 2: [-4, 0] & 3: [-2, 2]\n",
      "Knots not touching; adjusting knot 3\n",
      "Knots 3: [-4, 1] & 4: [-2, -1]\n",
      "Knots not touching; adjusting knot 4\n",
      "Knots 4: [-4, -2] & 5: [-1, 0]\n",
      "Knots not touching; adjusting knot 5\n",
      "Knots 5: [-4, -1] & 6: [0, 0]\n",
      "Knots not touching; adjusting knot 6\n",
      "Knots 6: [0, -1] & 7: [0, 0]\n",
      "Knots 7: [0, 0] & 8: [0, 0]\n",
      "Knots 8: [0, 0] & 9: [0, 0]\n",
      "Pos of last knot: [0, 0]\n",
      "Step 2\n",
      "Knots 0: [-4, 1] & 1: [-4, 3]\n",
      "Knots not touching; adjusting knot 1\n",
      "Knots 1: [-4, 2] & 2: [-4, 0]\n",
      "Knots not touching; adjusting knot 2\n",
      "Knots 2: [-4, -1] & 3: [-4, 1]\n",
      "Knots not touching; adjusting knot 3\n",
      "Knots 3: [-4, 0] & 4: [-4, -2]\n",
      "Knots not touching; adjusting knot 4\n",
      "Knots 4: [-4, -3] & 5: [-4, -1]\n",
      "Knots not touching; adjusting knot 5\n",
      "Knots 5: [-4, -2] & 6: [0, -1]\n",
      "Knots not touching; adjusting knot 6\n",
      "Knots 6: [0, -2] & 7: [0, 0]\n",
      "Knots not touching; adjusting knot 7\n",
      "Knots 7: [0, -1] & 8: [0, 0]\n",
      "Knots 8: [0, 0] & 9: [0, 0]\n",
      "Pos of last knot: [0, 0]\n",
      "-----------\n",
      "Command 3: D 1\n",
      "Step 0\n",
      "Knots 0: [-3, 1] & 1: [-4, 2]\n",
      "Knots 1: [-4, 2] & 2: [-4, -1]\n",
      "Knots not touching; adjusting knot 2\n",
      "Knots 2: [-3, 2] & 3: [-4, 0]\n",
      "Knots not touching; adjusting knot 3\n",
      "Knots 3: [-3, 0] & 4: [-4, -3]\n",
      "Knots not touching; adjusting knot 4\n",
      "Knots 4: [-3, -3] & 5: [-4, -2]\n",
      "Knots 5: [-4, -2] & 6: [0, -2]\n",
      "Knots not touching; adjusting knot 6\n",
      "Knots 6: [1, -2] & 7: [0, -1]\n",
      "Knots 7: [0, -1] & 8: [0, 0]\n",
      "Knots 8: [0, 0] & 9: [0, 0]\n",
      "Pos of last knot: [0, 0]\n",
      "-----------\n",
      "Command 4: R 4\n",
      "Step 0\n",
      "Knots 0: [-3, 2] & 1: [-4, 2]\n",
      "Knots 1: [-4, 2] & 2: [-3, 2]\n",
      "Knots 2: [-3, 2] & 3: [-3, 0]\n",
      "Knots not touching; adjusting knot 3\n",
      "Knots 3: [-3, 1] & 4: [-3, -3]\n",
      "Knots not touching; adjusting knot 4\n",
      "Knots 4: [-3, -2] & 5: [-4, -2]\n",
      "Knots 5: [-4, -2] & 6: [1, -2]\n",
      "Knots not touching; adjusting knot 6\n",
      "Knots 6: [-4, -1] & 7: [0, -1]\n",
      "Knots not touching; adjusting knot 7\n",
      "Knots 7: [-4, 0] & 8: [0, 0]\n",
      "Knots not touching; adjusting knot 8\n",
      "Knots 8: [-4, 1] & 9: [0, 0]\n",
      "Knots not touching; adjusting knot 9\n",
      "Pos of last knot: [0, 1]\n",
      "Step 1\n",
      "Knots 0: [-3, 3] & 1: [-4, 2]\n",
      "Knots 1: [-4, 2] & 2: [-3, 2]\n",
      "Knots 2: [-3, 2] & 3: [-3, 1]\n",
      "Knots 3: [-3, 1] & 4: [-3, -2]\n",
      "Knots not touching; adjusting knot 4\n",
      "Knots 4: [-3, -1] & 5: [-4, -2]\n",
      "Knots 5: [-4, -2] & 6: [-4, -1]\n",
      "Knots 6: [-4, -1] & 7: [-4, 0]\n",
      "Knots 7: [-4, 0] & 8: [-4, 1]\n",
      "Knots 8: [-4, 1] & 9: [0, 1]\n",
      "Knots not touching; adjusting knot 9\n",
      "Pos of last knot: [-4, 2]\n",
      "Step 2\n",
      "Knots 0: [-3, 4] & 1: [-4, 2]\n",
      "Knots not touching; adjusting knot 1\n",
      "Knots 1: [-3, 3] & 2: [-3, 2]\n",
      "Knots 2: [-3, 2] & 3: [-3, 1]\n",
      "Knots 3: [-3, 1] & 4: [-3, -1]\n",
      "Knots not touching; adjusting knot 4\n",
      "Knots 4: [-3, 0] & 5: [-4, -2]\n",
      "Knots not touching; adjusting knot 5\n",
      "Knots 5: [-3, -1] & 6: [-4, -1]\n",
      "Knots 6: [-4, -1] & 7: [-4, 0]\n",
      "Knots 7: [-4, 0] & 8: [-4, 1]\n",
      "Knots 8: [-4, 1] & 9: [-4, 2]\n",
      "Pos of last knot: [-4, 2]\n",
      "Step 3\n",
      "Knots 0: [-3, 5] & 1: [-3, 3]\n",
      "Knots not touching; adjusting knot 1\n",
      "Knots 1: [-3, 4] & 2: [-3, 2]\n",
      "Knots not touching; adjusting knot 2\n",
      "Knots 2: [-3, 3] & 3: [-3, 1]\n",
      "Knots not touching; adjusting knot 3\n",
      "Knots 3: [-3, 2] & 4: [-3, 0]\n",
      "Knots not touching; adjusting knot 4\n",
      "Knots 4: [-3, 1] & 5: [-3, -1]\n",
      "Knots not touching; adjusting knot 5\n",
      "Knots 5: [-3, 0] & 6: [-4, -1]\n",
      "Knots 6: [-4, -1] & 7: [-4, 0]\n",
      "Knots 7: [-4, 0] & 8: [-4, 1]\n",
      "Knots 8: [-4, 1] & 9: [-4, 2]\n",
      "Pos of last knot: [-4, 2]\n",
      "-----------\n",
      "Command 5: D 1\n",
      "Step 0\n",
      "Knots 0: [-2, 5] & 1: [-3, 4]\n",
      "Knots 1: [-3, 4] & 2: [-3, 3]\n",
      "Knots 2: [-3, 3] & 3: [-3, 2]\n",
      "Knots 3: [-3, 2] & 4: [-3, 1]\n",
      "Knots 4: [-3, 1] & 5: [-3, 0]\n",
      "Knots 5: [-3, 0] & 6: [-4, -1]\n",
      "Knots 6: [-4, -1] & 7: [-4, 0]\n",
      "Knots 7: [-4, 0] & 8: [-4, 1]\n",
      "Knots 8: [-4, 1] & 9: [-4, 2]\n",
      "Pos of last knot: [-4, 2]\n",
      "-----------\n",
      "Command 6: L 5\n",
      "Step 0\n",
      "Knots 0: [-2, 4] & 1: [-3, 4]\n",
      "Knots 1: [-3, 4] & 2: [-3, 3]\n",
      "Knots 2: [-3, 3] & 3: [-3, 2]\n",
      "Knots 3: [-3, 2] & 4: [-3, 1]\n",
      "Knots 4: [-3, 1] & 5: [-3, 0]\n",
      "Knots 5: [-3, 0] & 6: [-4, -1]\n",
      "Knots 6: [-4, -1] & 7: [-4, 0]\n",
      "Knots 7: [-4, 0] & 8: [-4, 1]\n",
      "Knots 8: [-4, 1] & 9: [-4, 2]\n",
      "Pos of last knot: [-4, 2]\n",
      "Step 1\n",
      "Knots 0: [-2, 3] & 1: [-3, 4]\n",
      "Knots 1: [-3, 4] & 2: [-3, 3]\n",
      "Knots 2: [-3, 3] & 3: [-3, 2]\n",
      "Knots 3: [-3, 2] & 4: [-3, 1]\n",
      "Knots 4: [-3, 1] & 5: [-3, 0]\n",
      "Knots 5: [-3, 0] & 6: [-4, -1]\n",
      "Knots 6: [-4, -1] & 7: [-4, 0]\n",
      "Knots 7: [-4, 0] & 8: [-4, 1]\n",
      "Knots 8: [-4, 1] & 9: [-4, 2]\n",
      "Pos of last knot: [-4, 2]\n",
      "Step 2\n",
      "Knots 0: [-2, 2] & 1: [-3, 4]\n",
      "Knots not touching; adjusting knot 1\n",
      "Knots 1: [-2, 3] & 2: [-3, 3]\n",
      "Knots 2: [-3, 3] & 3: [-3, 2]\n",
      "Knots 3: [-3, 2] & 4: [-3, 1]\n",
      "Knots 4: [-3, 1] & 5: [-3, 0]\n",
      "Knots 5: [-3, 0] & 6: [-4, -1]\n",
      "Knots 6: [-4, -1] & 7: [-4, 0]\n",
      "Knots 7: [-4, 0] & 8: [-4, 1]\n",
      "Knots 8: [-4, 1] & 9: [-4, 2]\n",
      "Pos of last knot: [-4, 2]\n",
      "Step 3\n",
      "Knots 0: [-2, 1] & 1: [-2, 3]\n",
      "Knots not touching; adjusting knot 1\n",
      "Knots 1: [-2, 2] & 2: [-3, 3]\n",
      "Knots 2: [-3, 3] & 3: [-3, 2]\n",
      "Knots 3: [-3, 2] & 4: [-3, 1]\n",
      "Knots 4: [-3, 1] & 5: [-3, 0]\n",
      "Knots 5: [-3, 0] & 6: [-4, -1]\n",
      "Knots 6: [-4, -1] & 7: [-4, 0]\n",
      "Knots 7: [-4, 0] & 8: [-4, 1]\n",
      "Knots 8: [-4, 1] & 9: [-4, 2]\n",
      "Pos of last knot: [-4, 2]\n",
      "Step 4\n",
      "Knots 0: [-2, 0] & 1: [-2, 2]\n",
      "Knots not touching; adjusting knot 1\n",
      "Knots 1: [-2, 1] & 2: [-3, 3]\n",
      "Knots not touching; adjusting knot 2\n",
      "Knots 2: [-2, 2] & 3: [-3, 2]\n",
      "Knots 3: [-3, 2] & 4: [-3, 1]\n",
      "Knots 4: [-3, 1] & 5: [-3, 0]\n",
      "Knots 5: [-3, 0] & 6: [-4, -1]\n",
      "Knots 6: [-4, -1] & 7: [-4, 0]\n",
      "Knots 7: [-4, 0] & 8: [-4, 1]\n",
      "Knots 8: [-4, 1] & 9: [-4, 2]\n",
      "Pos of last knot: [-4, 2]\n",
      "-----------\n",
      "Command 7: R 2\n",
      "Step 0\n",
      "Knots 0: [-2, 1] & 1: [-2, 1]\n",
      "Knots 1: [-2, 1] & 2: [-2, 2]\n",
      "Knots 2: [-2, 2] & 3: [-3, 2]\n",
      "Knots 3: [-3, 2] & 4: [-3, 1]\n",
      "Knots 4: [-3, 1] & 5: [-3, 0]\n",
      "Knots 5: [-3, 0] & 6: [-4, -1]\n",
      "Knots 6: [-4, -1] & 7: [-4, 0]\n",
      "Knots 7: [-4, 0] & 8: [-4, 1]\n",
      "Knots 8: [-4, 1] & 9: [-4, 2]\n",
      "Pos of last knot: [-4, 2]\n",
      "Step 1\n",
      "Knots 0: [-2, 2] & 1: [-2, 1]\n",
      "Knots 1: [-2, 1] & 2: [-2, 2]\n",
      "Knots 2: [-2, 2] & 3: [-3, 2]\n",
      "Knots 3: [-3, 2] & 4: [-3, 1]\n",
      "Knots 4: [-3, 1] & 5: [-3, 0]\n",
      "Knots 5: [-3, 0] & 6: [-4, -1]\n",
      "Knots 6: [-4, -1] & 7: [-4, 0]\n",
      "Knots 7: [-4, 0] & 8: [-4, 1]\n",
      "Knots 8: [-4, 1] & 9: [-4, 2]\n",
      "Pos of last knot: [-4, 2]\n",
      "-----------\n",
      "3\n"
     ]
    },
    {
     "data": {
      "text/plain": [
       "{'-4,2', '0,0', '0,1'}"
      ]
     },
     "execution_count": 172,
     "metadata": {},
     "output_type": "execute_result"
    }
   ],
   "source": [
    "follow_directions_10_knots(ex_data_list)"
   ]
  },
  {
   "cell_type": "code",
   "execution_count": 175,
   "metadata": {
    "ExecuteTime": {
     "end_time": "2022-12-28T22:41:23.347148Z",
     "start_time": "2022-12-28T22:41:23.338322Z"
    }
   },
   "outputs": [
    {
     "data": {
      "text/plain": [
       "{'U': [-1, 0], 'D': [1, 0], 'L': [0, -1], 'R': [0, 1]}"
      ]
     },
     "execution_count": 175,
     "metadata": {},
     "output_type": "execute_result"
    }
   ],
   "source": [
    "dir_dict"
   ]
  },
  {
   "cell_type": "code",
   "execution_count": 176,
   "metadata": {
    "ExecuteTime": {
     "end_time": "2022-12-28T22:42:20.767511Z",
     "start_time": "2022-12-28T22:42:20.757913Z"
    }
   },
   "outputs": [],
   "source": [
    "def adjust_t(h_pos, t_pos, direction):\n",
    "    dir_nums = dir_dict[direction]\n",
    "    \n",
    "    # (We know which direction H moved, so we know L should move in the same direction)\n",
    "    t_pos[0] += dir_nums[0]\n",
    "    t_pos[1] += dir_nums[1]\n",
    "    print(\"first adj: \", t_pos)\n",
    "    \n",
    "    # if not same row or column : diagnonal\n",
    "    # must make additional adjustment\n",
    "    if not ((h_pos[0] == t_pos[0]) or (h_pos[1] == t_pos[1])):\n",
    "        if direction in ('L', 'R'): # adjust row\n",
    "            t_pos[0] = h_pos[0]\n",
    "        elif direction in ('U', 'D'): # adjust columns\n",
    "            t_pos[1] = h_pos[1]\n",
    "    \n",
    "    return t_pos"
   ]
  },
  {
   "cell_type": "code",
   "execution_count": 177,
   "metadata": {
    "ExecuteTime": {
     "end_time": "2022-12-28T22:42:21.400749Z",
     "start_time": "2022-12-28T22:42:21.394549Z"
    }
   },
   "outputs": [
    {
     "name": "stdout",
     "output_type": "stream",
     "text": [
      "first adj:  [3, 2]\n"
     ]
    },
    {
     "data": {
      "text/plain": [
       "[3, 2]"
      ]
     },
     "execution_count": 177,
     "metadata": {},
     "output_type": "execute_result"
    }
   ],
   "source": [
    "adjust_t([3,4], [4,2], 'U')"
   ]
  },
  {
   "cell_type": "markdown",
   "metadata": {},
   "source": [
    "I think the adjustment needs to be different when it's middle-knot to middle-knot (vs head to middle)"
   ]
  },
  {
   "cell_type": "code",
   "execution_count": null,
   "metadata": {},
   "outputs": [],
   "source": []
  },
  {
   "cell_type": "code",
   "execution_count": null,
   "metadata": {},
   "outputs": [],
   "source": []
  },
  {
   "cell_type": "code",
   "execution_count": 184,
   "metadata": {
    "ExecuteTime": {
     "end_time": "2022-12-28T22:52:15.067707Z",
     "start_time": "2022-12-28T22:52:15.061486Z"
    }
   },
   "outputs": [],
   "source": [
    "def adjust_t_generic(h_pos, t_pos):\n",
    "    # same row, adjust column:\n",
    "    if (h_pos[0] == t_pos[0]):\n",
    "        print(\"same row, adj col\")\n",
    "        if h_pos[1] > t_pos[1]:\n",
    "            t_pos[1] += 1\n",
    "        else:\n",
    "            t_pos[1] -= 1\n",
    "    # same column, adjust row\n",
    "    elif (h_pos[1] == t_pos[1]):\n",
    "        print(\"same col, adj row\")\n",
    "        if h_pos[0] > t_pos[0]:\n",
    "            t_pos[0] += 1\n",
    "        else:\n",
    "            t_pos[0] -= 1 \n",
    "\n",
    "    # diagnonal\n",
    "    else:\n",
    "        print(\"diag: adj both\")\n",
    "        if h_pos[0] > t_pos[0]:\n",
    "            t_pos[0] += 1\n",
    "        else:\n",
    "            t_pos[0] -= 1\n",
    "            \n",
    "        if h_pos[1] > t_pos[1]:\n",
    "            t_pos[1] += 1\n",
    "        else:\n",
    "            t_pos[1] -= 1 \n",
    "    \n",
    "    return t_pos"
   ]
  },
  {
   "cell_type": "code",
   "execution_count": 185,
   "metadata": {
    "ExecuteTime": {
     "end_time": "2022-12-28T22:52:15.551078Z",
     "start_time": "2022-12-28T22:52:15.543931Z"
    }
   },
   "outputs": [
    {
     "name": "stdout",
     "output_type": "stream",
     "text": [
      "diag: adj both\n"
     ]
    },
    {
     "data": {
      "text/plain": [
       "[3, 3]"
      ]
     },
     "execution_count": 185,
     "metadata": {},
     "output_type": "execute_result"
    }
   ],
   "source": [
    "adjust_t_generic([3,4], [4,2])"
   ]
  },
  {
   "cell_type": "code",
   "execution_count": 186,
   "metadata": {
    "ExecuteTime": {
     "end_time": "2022-12-28T22:52:16.801595Z",
     "start_time": "2022-12-28T22:52:16.795586Z"
    }
   },
   "outputs": [
    {
     "name": "stdout",
     "output_type": "stream",
     "text": [
      "same col, adj row\n"
     ]
    },
    {
     "data": {
      "text/plain": [
       "[3, 4]"
      ]
     },
     "execution_count": 186,
     "metadata": {},
     "output_type": "execute_result"
    }
   ],
   "source": [
    "adjust_t_generic([2,4], [4,4])"
   ]
  },
  {
   "cell_type": "code",
   "execution_count": 187,
   "metadata": {
    "ExecuteTime": {
     "end_time": "2022-12-28T22:52:22.908486Z",
     "start_time": "2022-12-28T22:52:22.901879Z"
    }
   },
   "outputs": [
    {
     "name": "stdout",
     "output_type": "stream",
     "text": [
      "same row, adj col\n"
     ]
    },
    {
     "data": {
      "text/plain": [
       "[2, 3]"
      ]
     },
     "execution_count": 187,
     "metadata": {},
     "output_type": "execute_result"
    }
   ],
   "source": [
    "adjust_t_generic([2,4], [2,2])"
   ]
  },
  {
   "cell_type": "markdown",
   "metadata": {},
   "source": [
    "Check on previous 2-knot problem"
   ]
  },
  {
   "cell_type": "code",
   "execution_count": 190,
   "metadata": {
    "ExecuteTime": {
     "end_time": "2022-12-28T22:53:42.356007Z",
     "start_time": "2022-12-28T22:53:42.350098Z"
    }
   },
   "outputs": [],
   "source": [
    "def adjust_t_generic(h_pos, t_pos):\n",
    "    # same row, adjust column:\n",
    "    if (h_pos[0] == t_pos[0]):\n",
    "#         print(\"same row, adj col\")\n",
    "        if h_pos[1] > t_pos[1]:\n",
    "            t_pos[1] += 1\n",
    "        else:\n",
    "            t_pos[1] -= 1\n",
    "    # same column, adjust row\n",
    "    elif (h_pos[1] == t_pos[1]):\n",
    "#         print(\"same col, adj row\")\n",
    "        if h_pos[0] > t_pos[0]:\n",
    "            t_pos[0] += 1\n",
    "        else:\n",
    "            t_pos[0] -= 1 \n",
    "\n",
    "    # diagnonal\n",
    "    else:\n",
    "#         print(\"diag: adj both\")\n",
    "        if h_pos[0] > t_pos[0]:\n",
    "            t_pos[0] += 1\n",
    "        else:\n",
    "            t_pos[0] -= 1\n",
    "            \n",
    "        if h_pos[1] > t_pos[1]:\n",
    "            t_pos[1] += 1\n",
    "        else:\n",
    "            t_pos[1] -= 1 \n",
    "    \n",
    "    return t_pos"
   ]
  },
  {
   "cell_type": "code",
   "execution_count": 191,
   "metadata": {
    "ExecuteTime": {
     "end_time": "2022-12-28T22:53:43.035678Z",
     "start_time": "2022-12-28T22:53:43.028526Z"
    }
   },
   "outputs": [],
   "source": [
    "def follow_directions(data_list):\n",
    "    h_pos = [0,0]\n",
    "    t_pos = [0,0]\n",
    "    pos_track_list = [[h_pos, t_pos]]\n",
    "    # don't need to see this, because we know t won't move the first step\n",
    "    t_track_set = set()\n",
    "    \n",
    "    for command in data_list:\n",
    "        direction, num_steps = command.split(' ')\n",
    "        dir_nums = dir_dict[direction]\n",
    "        for _ in range(int(num_steps)):\n",
    "            h_pos[0] += dir_nums[0]\n",
    "            h_pos[1] += dir_nums[1]\n",
    "            if not are_touching(h_pos, t_pos):\n",
    "                t_pos = adjust_t_generic(h_pos, t_pos)\n",
    "            \n",
    "            pos_track_list.append([h_pos, t_pos])\n",
    "            t_pos_str = ','.join([str(x) for x in t_pos])\n",
    "#             print(h_pos, t_pos, t_pos_str)\n",
    "            t_track_set.add(t_pos_str)\n",
    "\n",
    "    print(len(t_track_set))\n",
    "    return pos_track_list, t_track_set"
   ]
  },
  {
   "cell_type": "code",
   "execution_count": 192,
   "metadata": {
    "ExecuteTime": {
     "end_time": "2022-12-28T22:53:43.497097Z",
     "start_time": "2022-12-28T22:53:43.493025Z"
    }
   },
   "outputs": [
    {
     "name": "stdout",
     "output_type": "stream",
     "text": [
      "13\n"
     ]
    }
   ],
   "source": [
    "p, s = follow_directions(ex_data_list)"
   ]
  },
  {
   "cell_type": "code",
   "execution_count": 194,
   "metadata": {
    "ExecuteTime": {
     "end_time": "2022-12-28T22:53:53.440721Z",
     "start_time": "2022-12-28T22:53:53.301776Z"
    }
   },
   "outputs": [
    {
     "name": "stdout",
     "output_type": "stream",
     "text": [
      "6212\n"
     ]
    }
   ],
   "source": [
    "p, s = follow_directions(data)"
   ]
  },
  {
   "cell_type": "markdown",
   "metadata": {},
   "source": [
    "Cool"
   ]
  },
  {
   "cell_type": "code",
   "execution_count": 199,
   "metadata": {
    "ExecuteTime": {
     "end_time": "2022-12-28T22:55:03.258839Z",
     "start_time": "2022-12-28T22:55:03.251989Z"
    }
   },
   "outputs": [],
   "source": [
    "def follow_directions_10_knots(data_list):\n",
    "    # index 0 is the head; 9 is the tail\n",
    "    pos_list = []\n",
    "    for _ in range(10):\n",
    "        pos_list.append([0,0])\n",
    "    \n",
    "    # don't need to seed this, because we know tail won't move the first step\n",
    "    t_track_set = set()\n",
    "    \n",
    "    for n, command in enumerate(data_list):\n",
    "#         print(f\"Command {n}: {command}\")\n",
    "        direction, num_steps = command.split(' ')\n",
    "        dir_nums = dir_dict[direction]\n",
    "        \n",
    "        for x in range(int(num_steps)):\n",
    "#             print(f\"Step {x}\")\n",
    "            pos_list[0][0] += dir_nums[0]\n",
    "            pos_list[0][1] += dir_nums[1]\n",
    "            \n",
    "            for i in range(9):\n",
    "                h_pos = pos_list[i]\n",
    "                t_pos = pos_list[i+1]\n",
    "#                 print(f\"Knots {i}: {h_pos} & {i+1}: {t_pos}\")\n",
    "                \n",
    "                if not are_touching(h_pos, t_pos):\n",
    "#                     print(f\"Knots not touching; adjusting knot {i+1}\")\n",
    "                    new_t_pos = adjust_t_generic(h_pos, t_pos)\n",
    "                    pos_list[i+1] = new_t_pos\n",
    "            \n",
    "#             print(f\"Pos of last knot: {pos_list[-1]}\")\n",
    "            t_pos_str = ','.join([str(x) for x in pos_list[-1]])\n",
    "            t_track_set.add(t_pos_str)\n",
    "#         print(\"-----------\")\n",
    "\n",
    "    print(len(t_track_set))\n",
    "    return t_track_set"
   ]
  },
  {
   "cell_type": "code",
   "execution_count": 200,
   "metadata": {
    "ExecuteTime": {
     "end_time": "2022-12-28T22:55:03.764421Z",
     "start_time": "2022-12-28T22:55:03.760081Z"
    }
   },
   "outputs": [
    {
     "name": "stdout",
     "output_type": "stream",
     "text": [
      "1\n"
     ]
    }
   ],
   "source": [
    "s = follow_directions_10_knots(ex_data_list)"
   ]
  },
  {
   "cell_type": "code",
   "execution_count": 203,
   "metadata": {
    "ExecuteTime": {
     "end_time": "2022-12-28T22:55:42.439566Z",
     "start_time": "2022-12-28T22:55:42.436192Z"
    }
   },
   "outputs": [],
   "source": [
    "larger_ex_data = \"\"\"R 5\n",
    "U 8\n",
    "L 8\n",
    "D 3\n",
    "R 17\n",
    "D 10\n",
    "L 25\n",
    "U 20\"\"\"\n",
    "larger_ex_list = larger_ex_data.split(\"\\n\")"
   ]
  },
  {
   "cell_type": "code",
   "execution_count": 204,
   "metadata": {
    "ExecuteTime": {
     "end_time": "2022-12-28T22:55:42.833675Z",
     "start_time": "2022-12-28T22:55:42.824547Z"
    }
   },
   "outputs": [
    {
     "data": {
      "text/plain": [
       "['R 5', 'U 8', 'L 8', 'D 3', 'R 17', 'D 10', 'L 25', 'U 20']"
      ]
     },
     "execution_count": 204,
     "metadata": {},
     "output_type": "execute_result"
    }
   ],
   "source": [
    "larger_ex_list"
   ]
  },
  {
   "cell_type": "code",
   "execution_count": 205,
   "metadata": {
    "ExecuteTime": {
     "end_time": "2022-12-28T22:55:48.364632Z",
     "start_time": "2022-12-28T22:55:48.358558Z"
    }
   },
   "outputs": [
    {
     "name": "stdout",
     "output_type": "stream",
     "text": [
      "36\n"
     ]
    }
   ],
   "source": [
    "s = follow_directions_10_knots(larger_ex_list)"
   ]
  },
  {
   "cell_type": "code",
   "execution_count": 206,
   "metadata": {
    "ExecuteTime": {
     "end_time": "2022-12-28T22:55:59.025719Z",
     "start_time": "2022-12-28T22:55:58.956876Z"
    }
   },
   "outputs": [
    {
     "name": "stdout",
     "output_type": "stream",
     "text": [
      "2522\n"
     ]
    }
   ],
   "source": [
    "s = follow_directions_10_knots(data)"
   ]
  },
  {
   "cell_type": "code",
   "execution_count": null,
   "metadata": {},
   "outputs": [],
   "source": []
  }
 ],
 "metadata": {
  "kernelspec": {
   "display_name": "Python 3 (ipykernel)",
   "language": "python",
   "name": "python3"
  },
  "language_info": {
   "codemirror_mode": {
    "name": "ipython",
    "version": 3
   },
   "file_extension": ".py",
   "mimetype": "text/x-python",
   "name": "python",
   "nbconvert_exporter": "python",
   "pygments_lexer": "ipython3",
   "version": "3.10.8"
  },
  "toc": {
   "base_numbering": 1,
   "nav_menu": {},
   "number_sections": true,
   "sideBar": true,
   "skip_h1_title": false,
   "title_cell": "Table of Contents",
   "title_sidebar": "Contents",
   "toc_cell": false,
   "toc_position": {
    "height": "calc(100% - 180px)",
    "left": "10px",
    "top": "150px",
    "width": "165px"
   },
   "toc_section_display": true,
   "toc_window_display": true
  }
 },
 "nbformat": 4,
 "nbformat_minor": 2
}
