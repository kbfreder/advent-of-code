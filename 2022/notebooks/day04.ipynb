{
 "cells": [
  {
   "cell_type": "code",
   "execution_count": 1,
   "metadata": {
    "ExecuteTime": {
     "end_time": "2022-12-24T21:38:01.797397Z",
     "start_time": "2022-12-24T21:38:00.262063Z"
    }
   },
   "outputs": [],
   "source": [
    "import pandas as pd\n",
    "import numpy as np\n",
    "\n",
    "import os"
   ]
  },
  {
   "cell_type": "code",
   "execution_count": 2,
   "metadata": {
    "ExecuteTime": {
     "end_time": "2022-12-24T21:38:01.814266Z",
     "start_time": "2022-12-24T21:38:01.800583Z"
    }
   },
   "outputs": [],
   "source": [
    "day = 4"
   ]
  },
  {
   "cell_type": "code",
   "execution_count": 3,
   "metadata": {
    "ExecuteTime": {
     "end_time": "2022-12-24T21:38:01.930687Z",
     "start_time": "2022-12-24T21:38:01.924167Z"
    }
   },
   "outputs": [],
   "source": [
    "INPUT_DIR = \"../input\"\n",
    "\n",
    "input_path = f'{INPUT_DIR}/day{day:02d}.txt'\n",
    "\n",
    "with open(input_path) as file:\n",
    "    data = file.readlines()"
   ]
  },
  {
   "cell_type": "markdown",
   "metadata": {},
   "source": [
    "## dev parsing"
   ]
  },
  {
   "cell_type": "code",
   "execution_count": 4,
   "metadata": {
    "ExecuteTime": {
     "end_time": "2022-12-24T21:38:04.235690Z",
     "start_time": "2022-12-24T21:38:04.222544Z"
    }
   },
   "outputs": [
    {
     "data": {
      "text/plain": [
       "1000"
      ]
     },
     "execution_count": 4,
     "metadata": {},
     "output_type": "execute_result"
    }
   ],
   "source": [
    "len(data)"
   ]
  },
  {
   "cell_type": "code",
   "execution_count": 5,
   "metadata": {
    "ExecuteTime": {
     "end_time": "2022-12-24T21:38:08.236146Z",
     "start_time": "2022-12-24T21:38:08.229286Z"
    }
   },
   "outputs": [
    {
     "data": {
      "text/plain": [
       "['7-96,6-95\\n',\n",
       " '36-41,35-40\\n',\n",
       " '35-84,83-91\\n',\n",
       " '95-96,5-95\\n',\n",
       " '3-3,4-99\\n',\n",
       " '12-21,21-22\\n',\n",
       " '10-28,10-28\\n',\n",
       " '6-11,10-12\\n',\n",
       " '12-91,76-98\\n',\n",
       " '17-69,18-69\\n']"
      ]
     },
     "execution_count": 5,
     "metadata": {},
     "output_type": "execute_result"
    }
   ],
   "source": [
    "data[:10]"
   ]
  },
  {
   "cell_type": "code",
   "execution_count": 7,
   "metadata": {
    "ExecuteTime": {
     "end_time": "2022-12-24T21:41:27.467380Z",
     "start_time": "2022-12-24T21:41:27.459855Z"
    }
   },
   "outputs": [
    {
     "data": {
      "text/plain": [
       "'7-96,6-95'"
      ]
     },
     "execution_count": 7,
     "metadata": {},
     "output_type": "execute_result"
    }
   ],
   "source": [
    "line = data[0]\n",
    "line = line.strip()\n",
    "line"
   ]
  },
  {
   "cell_type": "code",
   "execution_count": 8,
   "metadata": {
    "ExecuteTime": {
     "end_time": "2022-12-24T21:41:35.855602Z",
     "start_time": "2022-12-24T21:41:35.851064Z"
    }
   },
   "outputs": [],
   "source": [
    "pairs = line.split(',')"
   ]
  },
  {
   "cell_type": "code",
   "execution_count": 9,
   "metadata": {
    "ExecuteTime": {
     "end_time": "2022-12-24T21:41:38.009908Z",
     "start_time": "2022-12-24T21:41:37.998293Z"
    }
   },
   "outputs": [
    {
     "data": {
      "text/plain": [
       "['7-96', '6-95']"
      ]
     },
     "execution_count": 9,
     "metadata": {},
     "output_type": "execute_result"
    }
   ],
   "source": [
    "pairs"
   ]
  },
  {
   "cell_type": "code",
   "execution_count": 12,
   "metadata": {
    "ExecuteTime": {
     "end_time": "2022-12-24T21:43:04.234659Z",
     "start_time": "2022-12-24T21:43:04.225653Z"
    }
   },
   "outputs": [
    {
     "data": {
      "text/plain": [
       "['7', '96']"
      ]
     },
     "execution_count": 12,
     "metadata": {},
     "output_type": "execute_result"
    }
   ],
   "source": [
    "a = pairs[0]\n",
    "a.split('-')"
   ]
  },
  {
   "cell_type": "code",
   "execution_count": 13,
   "metadata": {
    "ExecuteTime": {
     "end_time": "2022-12-24T21:43:28.342212Z",
     "start_time": "2022-12-24T21:43:28.333556Z"
    }
   },
   "outputs": [
    {
     "data": {
      "text/plain": [
       "[['7', '96'], ['6', '95']]"
      ]
     },
     "execution_count": 13,
     "metadata": {},
     "output_type": "execute_result"
    }
   ],
   "source": [
    "[y.split('-') for y in pairs]"
   ]
  },
  {
   "cell_type": "code",
   "execution_count": 14,
   "metadata": {
    "ExecuteTime": {
     "end_time": "2022-12-24T21:43:45.640188Z",
     "start_time": "2022-12-24T21:43:45.631256Z"
    }
   },
   "outputs": [
    {
     "data": {
      "text/plain": [
       "[[7, 96], [6, 95]]"
      ]
     },
     "execution_count": 14,
     "metadata": {},
     "output_type": "execute_result"
    }
   ],
   "source": [
    "[[int(x) for x in y.split('-')] for y in pairs]"
   ]
  },
  {
   "cell_type": "code",
   "execution_count": 15,
   "metadata": {
    "ExecuteTime": {
     "end_time": "2022-12-24T21:43:59.080548Z",
     "start_time": "2022-12-24T21:43:59.070611Z"
    }
   },
   "outputs": [],
   "source": [
    "data_parsed = []\n",
    "for line in data:\n",
    "    line = line.strip()\n",
    "    pairs = line.split(',')\n",
    "    pairs_parsed = [[int(x) for x in y.split('-')] for y in pairs]\n",
    "    data_parsed.append(pairs_parsed)"
   ]
  },
  {
   "cell_type": "code",
   "execution_count": 16,
   "metadata": {
    "ExecuteTime": {
     "end_time": "2022-12-24T21:44:04.910472Z",
     "start_time": "2022-12-24T21:44:04.904324Z"
    }
   },
   "outputs": [
    {
     "data": {
      "text/plain": [
       "[[[7, 96], [6, 95]],\n",
       " [[36, 41], [35, 40]],\n",
       " [[35, 84], [83, 91]],\n",
       " [[95, 96], [5, 95]],\n",
       " [[3, 3], [4, 99]]]"
      ]
     },
     "execution_count": 16,
     "metadata": {},
     "output_type": "execute_result"
    }
   ],
   "source": [
    "data_parsed[:5]"
   ]
  },
  {
   "cell_type": "markdown",
   "metadata": {},
   "source": [
    "## Dev logic"
   ]
  },
  {
   "cell_type": "code",
   "execution_count": 17,
   "metadata": {
    "ExecuteTime": {
     "end_time": "2022-12-24T21:47:11.435739Z",
     "start_time": "2022-12-24T21:47:11.429094Z"
    }
   },
   "outputs": [],
   "source": [
    "# fully contained\n",
    "a = [4,6]\n",
    "b = [6]"
   ]
  },
  {
   "cell_type": "code",
   "execution_count": 22,
   "metadata": {
    "ExecuteTime": {
     "end_time": "2022-12-24T21:48:27.729843Z",
     "start_time": "2022-12-24T21:48:27.722046Z"
    }
   },
   "outputs": [
    {
     "data": {
      "text/plain": [
       "{4, 5, 6}"
      ]
     },
     "execution_count": 22,
     "metadata": {},
     "output_type": "execute_result"
    }
   ],
   "source": [
    "set(range(a[0], a[-1]+1))"
   ]
  },
  {
   "cell_type": "code",
   "execution_count": 23,
   "metadata": {
    "ExecuteTime": {
     "end_time": "2022-12-24T21:49:07.468566Z",
     "start_time": "2022-12-24T21:49:07.464437Z"
    }
   },
   "outputs": [],
   "source": [
    "def get_set(x):\n",
    "    return set(range(x[0], x[-1]+1))"
   ]
  },
  {
   "cell_type": "code",
   "execution_count": 26,
   "metadata": {
    "ExecuteTime": {
     "end_time": "2022-12-24T21:49:29.952909Z",
     "start_time": "2022-12-24T21:49:29.946792Z"
    }
   },
   "outputs": [
    {
     "data": {
      "text/plain": [
       "{4, 5, 6}"
      ]
     },
     "execution_count": 26,
     "metadata": {},
     "output_type": "execute_result"
    }
   ],
   "source": [
    "get_set(a)"
   ]
  },
  {
   "cell_type": "code",
   "execution_count": 27,
   "metadata": {
    "ExecuteTime": {
     "end_time": "2022-12-24T21:49:32.417453Z",
     "start_time": "2022-12-24T21:49:32.411179Z"
    }
   },
   "outputs": [
    {
     "data": {
      "text/plain": [
       "{6}"
      ]
     },
     "execution_count": 27,
     "metadata": {},
     "output_type": "execute_result"
    }
   ],
   "source": [
    "get_set(b)"
   ]
  },
  {
   "cell_type": "code",
   "execution_count": 28,
   "metadata": {
    "ExecuteTime": {
     "end_time": "2022-12-24T21:49:40.547006Z",
     "start_time": "2022-12-24T21:49:40.542699Z"
    }
   },
   "outputs": [],
   "source": [
    "overlap = get_set(a) & get_set(b)"
   ]
  },
  {
   "cell_type": "code",
   "execution_count": 29,
   "metadata": {
    "ExecuteTime": {
     "end_time": "2022-12-24T21:49:40.906687Z",
     "start_time": "2022-12-24T21:49:40.895327Z"
    }
   },
   "outputs": [
    {
     "data": {
      "text/plain": [
       "{6}"
      ]
     },
     "execution_count": 29,
     "metadata": {},
     "output_type": "execute_result"
    }
   ],
   "source": [
    "overlap"
   ]
  },
  {
   "cell_type": "code",
   "execution_count": 33,
   "metadata": {
    "ExecuteTime": {
     "end_time": "2022-12-24T21:51:42.923392Z",
     "start_time": "2022-12-24T21:51:42.917272Z"
    }
   },
   "outputs": [
    {
     "data": {
      "text/plain": [
       "True"
      ]
     },
     "execution_count": 33,
     "metadata": {},
     "output_type": "execute_result"
    }
   ],
   "source": [
    "get_set(b).issubset(get_set(a)) | get_set(a).issubset(get_set(b))"
   ]
  },
  {
   "cell_type": "code",
   "execution_count": 36,
   "metadata": {
    "ExecuteTime": {
     "end_time": "2022-12-24T21:52:03.086087Z",
     "start_time": "2022-12-24T21:52:03.079842Z"
    }
   },
   "outputs": [],
   "source": [
    "def check(x, y):\n",
    "    set_x = get_set(x)\n",
    "    set_y = get_set(y)\n",
    "    return set_x.issubset(set_y) | set_y.issubset(set_x)"
   ]
  },
  {
   "cell_type": "code",
   "execution_count": 37,
   "metadata": {
    "ExecuteTime": {
     "end_time": "2022-12-24T21:52:03.646623Z",
     "start_time": "2022-12-24T21:52:03.640657Z"
    }
   },
   "outputs": [
    {
     "data": {
      "text/plain": [
       "True"
      ]
     },
     "execution_count": 37,
     "metadata": {},
     "output_type": "execute_result"
    }
   ],
   "source": [
    "check(a,b)"
   ]
  },
  {
   "cell_type": "code",
   "execution_count": 38,
   "metadata": {
    "ExecuteTime": {
     "end_time": "2022-12-24T21:52:12.268291Z",
     "start_time": "2022-12-24T21:52:12.260435Z"
    }
   },
   "outputs": [
    {
     "data": {
      "text/plain": [
       "False"
      ]
     },
     "execution_count": 38,
     "metadata": {},
     "output_type": "execute_result"
    }
   ],
   "source": [
    "# not fully contained\n",
    "a = [5,7]\n",
    "b = [7,9]\n",
    "\n",
    "check(a,b)"
   ]
  },
  {
   "cell_type": "markdown",
   "metadata": {},
   "source": [
    "## get answer"
   ]
  },
  {
   "cell_type": "code",
   "execution_count": 39,
   "metadata": {
    "ExecuteTime": {
     "end_time": "2022-12-24T21:52:45.939817Z",
     "start_time": "2022-12-24T21:52:45.932229Z"
    }
   },
   "outputs": [
    {
     "data": {
      "text/plain": [
       "[[[7, 96], [6, 95]],\n",
       " [[36, 41], [35, 40]],\n",
       " [[35, 84], [83, 91]],\n",
       " [[95, 96], [5, 95]],\n",
       " [[3, 3], [4, 99]]]"
      ]
     },
     "execution_count": 39,
     "metadata": {},
     "output_type": "execute_result"
    }
   ],
   "source": [
    "data_parsed[:5]"
   ]
  },
  {
   "cell_type": "code",
   "execution_count": 40,
   "metadata": {
    "ExecuteTime": {
     "end_time": "2022-12-24T21:53:04.606535Z",
     "start_time": "2022-12-24T21:53:04.598783Z"
    }
   },
   "outputs": [],
   "source": [
    "num_fully_contained = 0\n",
    "for pair in data_parsed:\n",
    "    if check(pair[0], pair[1]):\n",
    "        num_fully_contained += 1"
   ]
  },
  {
   "cell_type": "code",
   "execution_count": 41,
   "metadata": {
    "ExecuteTime": {
     "end_time": "2022-12-24T21:53:07.345108Z",
     "start_time": "2022-12-24T21:53:07.337289Z"
    }
   },
   "outputs": [
    {
     "data": {
      "text/plain": [
       "490"
      ]
     },
     "execution_count": 41,
     "metadata": {},
     "output_type": "execute_result"
    }
   ],
   "source": [
    "num_fully_contained"
   ]
  },
  {
   "cell_type": "markdown",
   "metadata": {},
   "source": [
    "# part 2"
   ]
  },
  {
   "cell_type": "code",
   "execution_count": 42,
   "metadata": {
    "ExecuteTime": {
     "end_time": "2022-12-24T21:54:05.288512Z",
     "start_time": "2022-12-24T21:54:05.283901Z"
    }
   },
   "outputs": [],
   "source": [
    "# overlap\n",
    "a = [5,7]\n",
    "b = [7,9]"
   ]
  },
  {
   "cell_type": "code",
   "execution_count": 43,
   "metadata": {
    "ExecuteTime": {
     "end_time": "2022-12-24T21:54:42.636615Z",
     "start_time": "2022-12-24T21:54:42.628831Z"
    }
   },
   "outputs": [
    {
     "data": {
      "text/plain": [
       "True"
      ]
     },
     "execution_count": 43,
     "metadata": {},
     "output_type": "execute_result"
    }
   ],
   "source": [
    "set_a = get_set(a)\n",
    "set_b = get_set(b)\n",
    "\n",
    "ol = set_a.intersection(set_b)\n",
    "len(ol) > 0"
   ]
  },
  {
   "cell_type": "code",
   "execution_count": 44,
   "metadata": {
    "ExecuteTime": {
     "end_time": "2022-12-24T21:54:53.829978Z",
     "start_time": "2022-12-24T21:54:53.822630Z"
    }
   },
   "outputs": [
    {
     "data": {
      "text/plain": [
       "False"
      ]
     },
     "execution_count": 44,
     "metadata": {},
     "output_type": "execute_result"
    }
   ],
   "source": [
    "# no overlap\n",
    "a = [5,7]\n",
    "b = [8,9]\n",
    "\n",
    "set_a = get_set(a)\n",
    "set_b = get_set(b)\n",
    "\n",
    "ol = set_a.intersection(set_b)\n",
    "len(ol) > 0"
   ]
  },
  {
   "cell_type": "code",
   "execution_count": 54,
   "metadata": {
    "ExecuteTime": {
     "end_time": "2022-12-24T21:57:04.332198Z",
     "start_time": "2022-12-24T21:57:04.327772Z"
    }
   },
   "outputs": [],
   "source": [
    "def check_overlap(x, y):\n",
    "    set_x = get_set(x)\n",
    "    set_y = get_set(y)\n",
    "    overlap = set_x.intersection(set_y)\n",
    "    return len(overlap) > 0"
   ]
  },
  {
   "cell_type": "code",
   "execution_count": 55,
   "metadata": {
    "ExecuteTime": {
     "end_time": "2022-12-24T21:57:05.941473Z",
     "start_time": "2022-12-24T21:57:05.921432Z"
    }
   },
   "outputs": [
    {
     "data": {
      "text/plain": [
       "921"
      ]
     },
     "execution_count": 55,
     "metadata": {},
     "output_type": "execute_result"
    }
   ],
   "source": [
    "num_overlap = 0\n",
    "for pair in data_parsed:\n",
    "    if check_overlap(pair[0], pair[1]):\n",
    "        num_overlap += 1\n",
    "\n",
    "num_overlap"
   ]
  },
  {
   "cell_type": "code",
   "execution_count": null,
   "metadata": {},
   "outputs": [],
   "source": []
  }
 ],
 "metadata": {
  "kernelspec": {
   "display_name": "Python 3",
   "language": "python",
   "name": "python3"
  },
  "language_info": {
   "codemirror_mode": {
    "name": "ipython",
    "version": 3
   },
   "file_extension": ".py",
   "mimetype": "text/x-python",
   "name": "python",
   "nbconvert_exporter": "python",
   "pygments_lexer": "ipython3",
   "version": "3.6.7"
  },
  "toc": {
   "base_numbering": 1,
   "nav_menu": {},
   "number_sections": true,
   "sideBar": true,
   "skip_h1_title": false,
   "title_cell": "Table of Contents",
   "title_sidebar": "Contents",
   "toc_cell": false,
   "toc_position": {},
   "toc_section_display": true,
   "toc_window_display": false
  }
 },
 "nbformat": 4,
 "nbformat_minor": 2
}
