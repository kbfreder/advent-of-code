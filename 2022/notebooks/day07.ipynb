{
 "cells": [
  {
   "cell_type": "markdown",
   "metadata": {},
   "source": [
    "# start"
   ]
  },
  {
   "cell_type": "code",
   "execution_count": 1,
   "metadata": {
    "ExecuteTime": {
     "end_time": "2022-12-27T05:02:23.574383Z",
     "start_time": "2022-12-27T05:02:23.542929Z"
    }
   },
   "outputs": [],
   "source": [
    "day = 7"
   ]
  },
  {
   "cell_type": "code",
   "execution_count": 2,
   "metadata": {
    "ExecuteTime": {
     "end_time": "2022-12-27T05:02:24.077767Z",
     "start_time": "2022-12-27T05:02:23.931847Z"
    }
   },
   "outputs": [],
   "source": [
    "# import pandas as pd\n",
    "import numpy as np\n",
    "\n",
    "import os\n",
    "\n",
    "import regex as re\n",
    "\n",
    "from anytree import Node, RenderTree"
   ]
  },
  {
   "cell_type": "code",
   "execution_count": 3,
   "metadata": {
    "ExecuteTime": {
     "end_time": "2022-12-27T05:02:24.341282Z",
     "start_time": "2022-12-27T05:02:24.322020Z"
    }
   },
   "outputs": [],
   "source": [
    "INPUT_DIR = \"../input\"\n",
    "\n",
    "input_path = f'{INPUT_DIR}/day{day:02d}.txt'\n",
    "\n",
    "data = []\n",
    "with open(input_path) as file:\n",
    "#     data = file.readlines()\n",
    "    for line in file.readlines():\n",
    "        data.append(line.strip('\\n'))"
   ]
  },
  {
   "cell_type": "code",
   "execution_count": 4,
   "metadata": {
    "ExecuteTime": {
     "end_time": "2022-12-27T05:02:25.832402Z",
     "start_time": "2022-12-27T05:02:25.820226Z"
    }
   },
   "outputs": [
    {
     "data": {
      "text/plain": [
       "['$ cd /',\n",
       " '$ ls',\n",
       " 'dir plws',\n",
       " 'dir pwlbgbz',\n",
       " 'dir pwtpltr',\n",
       " 'dir szn',\n",
       " '$ cd plws',\n",
       " '$ ls',\n",
       " 'dir ffpzc',\n",
       " 'dir frcmjzts',\n",
       " '92461 nbvnzg',\n",
       " 'dir phqcg',\n",
       " '21621 vqgsglwq',\n",
       " '$ cd ffpzc',\n",
       " '$ ls']"
      ]
     },
     "execution_count": 4,
     "metadata": {},
     "output_type": "execute_result"
    }
   ],
   "source": [
    "data[:15]"
   ]
  },
  {
   "cell_type": "code",
   "execution_count": 5,
   "metadata": {
    "ExecuteTime": {
     "end_time": "2022-12-27T05:02:26.704352Z",
     "start_time": "2022-12-27T05:02:26.683503Z"
    }
   },
   "outputs": [
    {
     "data": {
      "text/plain": [
       "979"
      ]
     },
     "execution_count": 5,
     "metadata": {},
     "output_type": "execute_result"
    }
   ],
   "source": [
    "len(data)"
   ]
  },
  {
   "cell_type": "markdown",
   "metadata": {},
   "source": [
    "# dev code"
   ]
  },
  {
   "cell_type": "markdown",
   "metadata": {},
   "source": [
    "## dev logic"
   ]
  },
  {
   "cell_type": "markdown",
   "metadata": {},
   "source": [
    "CLI output:\n",
    "```\n",
    "    $ cd /\n",
    "    $ ls\n",
    "    dir a\n",
    "    14848514 b.txt\n",
    "    8504156 c.dat\n",
    "    dir d\n",
    "    $ cd a\n",
    "    $ ls\n",
    "    dir e\n",
    "    29116 f\n",
    "    2557 g\n",
    "    62596 h.lst\n",
    "    $ cd e\n",
    "    $ ls\n",
    "    584 i\n",
    "    $ cd ..\n",
    "    $ cd ..\n",
    "    $ cd d\n",
    "    $ ls\n",
    "    4060174 j\n",
    "    8033020 d.log\n",
    "    5626152 d.ext\n",
    "    7214296 k\n",
    "```\n",
    "\n",
    "- / (dir)\n",
    "  - a (dir)\n",
    "    - e (dir)\n",
    "      - i (file, size=584)\n",
    "    - f (file, size=29116)\n",
    "    - g (file, size=2557)\n",
    "    - h.lst (file, size=62596)\n",
    "  - b.txt (file, size=14848514)\n",
    "  - c.dat (file, size=8504156)\n",
    "  - d (dir)\n",
    "    - j (file, size=4060174)\n",
    "    - d.log (file, size=8033020)\n",
    "    - d.ext (file, size=5626152)\n",
    "    - k (file, size=7214296)"
   ]
  },
  {
   "cell_type": "code",
   "execution_count": null,
   "metadata": {
    "ExecuteTime": {
     "end_time": "2022-12-26T01:40:29.498633Z",
     "start_time": "2022-12-26T01:40:29.475794Z"
    }
   },
   "outputs": [],
   "source": [
    "import networkx as nx"
   ]
  },
  {
   "cell_type": "code",
   "execution_count": 72,
   "metadata": {
    "ExecuteTime": {
     "end_time": "2022-12-26T01:32:00.180186Z",
     "start_time": "2022-12-26T01:32:00.174549Z"
    }
   },
   "outputs": [],
   "source": [
    "g = nx.DiGraph()\n",
    "# g = nx.Graph()\n",
    "\n",
    "g.add_edge('/', 'a')\n",
    "g.add_edge('a', 'b.txt', size=14848514)\n",
    "g.add_edge('a', 'c.dat', size=8504156)\n",
    "g.add_edge('a', 'e')\n",
    "g.add_edge('e', 'i', size=584)"
   ]
  },
  {
   "cell_type": "code",
   "execution_count": 73,
   "metadata": {
    "ExecuteTime": {
     "end_time": "2022-12-26T01:32:01.084578Z",
     "start_time": "2022-12-26T01:32:00.756438Z"
    }
   },
   "outputs": [
    {
     "data": {
      "image/png": "[encoded data removed]",
      "text/plain": [
       "<Figure size 432x288 with 1 Axes>"
      ]
     },
     "metadata": {},
     "output_type": "display_data"
    }
   ],
   "source": [
    "nx.draw(g)"
   ]
  },
  {
   "cell_type": "code",
   "execution_count": 74,
   "metadata": {
    "ExecuteTime": {
     "end_time": "2022-12-26T01:32:07.265371Z",
     "start_time": "2022-12-26T01:32:07.258967Z"
    }
   },
   "outputs": [
    {
     "data": {
      "text/plain": [
       "AtlasView({'b.txt': {'size': 14848514}, 'c.dat': {'size': 8504156}, 'e': {}})"
      ]
     },
     "execution_count": 74,
     "metadata": {},
     "output_type": "execute_result"
    }
   ],
   "source": [
    "g['a']"
   ]
  },
  {
   "cell_type": "code",
   "execution_count": 75,
   "metadata": {
    "ExecuteTime": {
     "end_time": "2022-12-26T01:32:08.329294Z",
     "start_time": "2022-12-26T01:32:08.321848Z"
    }
   },
   "outputs": [
    {
     "data": {
      "text/plain": [
       "AtlasView({'i': {'size': 584}})"
      ]
     },
     "execution_count": 75,
     "metadata": {},
     "output_type": "execute_result"
    }
   ],
   "source": [
    "g['e']"
   ]
  },
  {
   "cell_type": "code",
   "execution_count": 76,
   "metadata": {
    "ExecuteTime": {
     "end_time": "2022-12-26T01:32:09.780737Z",
     "start_time": "2022-12-26T01:32:09.771065Z"
    }
   },
   "outputs": [
    {
     "data": {
      "text/plain": [
       "False"
      ]
     },
     "execution_count": 76,
     "metadata": {},
     "output_type": "execute_result"
    }
   ],
   "source": [
    "g.has_edge('e', 'a')"
   ]
  },
  {
   "cell_type": "code",
   "execution_count": 77,
   "metadata": {
    "ExecuteTime": {
     "end_time": "2022-12-26T01:32:10.316544Z",
     "start_time": "2022-12-26T01:32:10.309854Z"
    }
   },
   "outputs": [
    {
     "data": {
      "text/plain": [
       "True"
      ]
     },
     "execution_count": 77,
     "metadata": {},
     "output_type": "execute_result"
    }
   ],
   "source": [
    "g.has_edge('a', 'e')"
   ]
  },
  {
   "cell_type": "code",
   "execution_count": 78,
   "metadata": {
    "ExecuteTime": {
     "end_time": "2022-12-26T01:32:11.439196Z",
     "start_time": "2022-12-26T01:32:11.434088Z"
    }
   },
   "outputs": [],
   "source": [
    "def get_nodes_size(node, graph):\n",
    "    tot = 0\n",
    "    for subnode, info in graph[node].items():\n",
    "        if 'size' in info.keys():\n",
    "            tot += info['size']\n",
    "        else:\n",
    "            tot += get_nodes_size(subnode, graph)\n",
    "    \n",
    "    return tot"
   ]
  },
  {
   "cell_type": "code",
   "execution_count": 79,
   "metadata": {
    "ExecuteTime": {
     "end_time": "2022-12-26T01:32:11.957072Z",
     "start_time": "2022-12-26T01:32:11.949638Z"
    }
   },
   "outputs": [
    {
     "data": {
      "text/plain": [
       "584"
      ]
     },
     "execution_count": 79,
     "metadata": {},
     "output_type": "execute_result"
    }
   ],
   "source": [
    "get_nodes_size('e', g)"
   ]
  },
  {
   "cell_type": "code",
   "execution_count": 80,
   "metadata": {
    "ExecuteTime": {
     "end_time": "2022-12-26T01:32:13.080793Z",
     "start_time": "2022-12-26T01:32:13.072695Z"
    }
   },
   "outputs": [
    {
     "data": {
      "text/plain": [
       "23353254"
      ]
     },
     "execution_count": 80,
     "metadata": {},
     "output_type": "execute_result"
    }
   ],
   "source": [
    "get_nodes_size('a', g)"
   ]
  },
  {
   "cell_type": "code",
   "execution_count": 81,
   "metadata": {
    "ExecuteTime": {
     "end_time": "2022-12-26T01:32:14.218406Z",
     "start_time": "2022-12-26T01:32:14.210732Z"
    }
   },
   "outputs": [
    {
     "data": {
      "text/plain": [
       "23353254"
      ]
     },
     "execution_count": 81,
     "metadata": {},
     "output_type": "execute_result"
    }
   ],
   "source": [
    "14848514 + 8504156 + 584"
   ]
  },
  {
   "cell_type": "markdown",
   "metadata": {},
   "source": [
    "### tree"
   ]
  },
  {
   "cell_type": "code",
   "execution_count": 7,
   "metadata": {
    "ExecuteTime": {
     "end_time": "2022-12-27T04:31:59.842038Z",
     "start_time": "2022-12-27T04:31:59.798965Z"
    }
   },
   "outputs": [],
   "source": [
    "from anytree import Node, RenderTree"
   ]
  },
  {
   "cell_type": "code",
   "execution_count": 10,
   "metadata": {
    "ExecuteTime": {
     "end_time": "2022-12-26T01:42:36.441595Z",
     "start_time": "2022-12-26T01:42:36.437092Z"
    }
   },
   "outputs": [],
   "source": [
    "tree = Node(\"/\")\n",
    "a = Node(\"a\", parent=tree)\n",
    "b_txt = Node(\"b.txt\", parent=a, size=14848514)"
   ]
  },
  {
   "cell_type": "code",
   "execution_count": 11,
   "metadata": {
    "ExecuteTime": {
     "end_time": "2022-12-26T01:42:48.638138Z",
     "start_time": "2022-12-26T01:42:48.617932Z"
    }
   },
   "outputs": [
    {
     "name": "stdout",
     "output_type": "stream",
     "text": [
      "/\n",
      "└── a\n",
      "    └── b.txt\n"
     ]
    }
   ],
   "source": [
    "for pre, fill, node in RenderTree(tree):\n",
    "    print(\"%s%s\" % (pre, node.name))"
   ]
  },
  {
   "cell_type": "code",
   "execution_count": 12,
   "metadata": {
    "ExecuteTime": {
     "end_time": "2022-12-26T01:44:10.883468Z",
     "start_time": "2022-12-26T01:44:10.878416Z"
    }
   },
   "outputs": [],
   "source": [
    "c_dat = Node(\"c.dat\", parent=a, size=8504156)\n",
    "e = Node(\"e\", parent=a)\n",
    "i_file = Node(\"i\", parent=e, size=584)"
   ]
  },
  {
   "cell_type": "code",
   "execution_count": 13,
   "metadata": {
    "ExecuteTime": {
     "end_time": "2022-12-26T01:44:16.753158Z",
     "start_time": "2022-12-26T01:44:16.747074Z"
    }
   },
   "outputs": [
    {
     "name": "stdout",
     "output_type": "stream",
     "text": [
      "/\n",
      "└── a\n",
      "    ├── b.txt\n",
      "    ├── c.dat\n",
      "    └── e\n",
      "        └── i\n"
     ]
    }
   ],
   "source": [
    "for pre, fill, node in RenderTree(tree):\n",
    "    print(\"%s%s\" % (pre, node.name))"
   ]
  },
  {
   "cell_type": "code",
   "execution_count": 16,
   "metadata": {
    "ExecuteTime": {
     "end_time": "2022-12-26T01:46:05.558007Z",
     "start_time": "2022-12-26T01:46:05.552775Z"
    }
   },
   "outputs": [
    {
     "data": {
      "text/plain": [
       "False"
      ]
     },
     "execution_count": 16,
     "metadata": {},
     "output_type": "execute_result"
    }
   ],
   "source": [
    "hasattr(a, \"size\")"
   ]
  },
  {
   "cell_type": "code",
   "execution_count": 15,
   "metadata": {
    "ExecuteTime": {
     "end_time": "2022-12-26T01:46:00.637297Z",
     "start_time": "2022-12-26T01:46:00.631032Z"
    }
   },
   "outputs": [
    {
     "data": {
      "text/plain": [
       "True"
      ]
     },
     "execution_count": 15,
     "metadata": {},
     "output_type": "execute_result"
    }
   ],
   "source": [
    "hasattr(b_txt, \"size\")"
   ]
  },
  {
   "cell_type": "code",
   "execution_count": 19,
   "metadata": {
    "ExecuteTime": {
     "end_time": "2022-12-26T01:46:35.352724Z",
     "start_time": "2022-12-26T01:46:35.341532Z"
    }
   },
   "outputs": [
    {
     "name": "stdout",
     "output_type": "stream",
     "text": [
      "/\n",
      "└── a\n",
      "    ├── b.txt (14848514)\n",
      "    ├── c.dat (8504156)\n",
      "    └── e\n",
      "        └── i (584)\n"
     ]
    }
   ],
   "source": [
    "for pre, fill, node in RenderTree(tree):\n",
    "    if hasattr(node, \"size\"):\n",
    "        print(\"%s%s (%s)\" % (pre, node.name, node.size))\n",
    "    else:\n",
    "        print(\"%s%s\" % (pre, node.name))"
   ]
  },
  {
   "cell_type": "code",
   "execution_count": 32,
   "metadata": {
    "ExecuteTime": {
     "end_time": "2022-12-27T04:36:58.043359Z",
     "start_time": "2022-12-27T04:36:58.031767Z"
    }
   },
   "outputs": [],
   "source": [
    "def render_tree_with_size(root_node):\n",
    "    for pre, fill, node in RenderTree(root_node):\n",
    "        if hasattr(node, \"size\"):\n",
    "            print(\"%s%s (%s)\" % (pre, node.name, node.size))\n",
    "        else:\n",
    "            print(\"%s%s\" % (pre, node.name))"
   ]
  },
  {
   "cell_type": "code",
   "execution_count": 24,
   "metadata": {
    "ExecuteTime": {
     "end_time": "2022-12-26T01:48:33.749681Z",
     "start_time": "2022-12-26T01:48:33.744988Z"
    }
   },
   "outputs": [],
   "source": [
    "\n",
    "tot = 0\n",
    "for pre, fill, node in RenderTree(e):\n",
    "    if hasattr(node, \"size\"):\n",
    "        tot += node.size\n",
    "#     else:\n",
    "#         tot += get_size_tree(node)"
   ]
  },
  {
   "cell_type": "code",
   "execution_count": 25,
   "metadata": {
    "ExecuteTime": {
     "end_time": "2022-12-26T01:48:35.460447Z",
     "start_time": "2022-12-26T01:48:35.454325Z"
    }
   },
   "outputs": [
    {
     "data": {
      "text/plain": [
       "584"
      ]
     },
     "execution_count": 25,
     "metadata": {},
     "output_type": "execute_result"
    }
   ],
   "source": [
    "tot"
   ]
  },
  {
   "cell_type": "code",
   "execution_count": 28,
   "metadata": {
    "ExecuteTime": {
     "end_time": "2022-12-26T01:49:22.163961Z",
     "start_time": "2022-12-26T01:49:22.156059Z"
    }
   },
   "outputs": [
    {
     "name": "stdout",
     "output_type": "stream",
     "text": [
      "a\n",
      "b.txt 14848514\n",
      "c.dat 8504156\n",
      "e\n",
      "i 584\n"
     ]
    },
    {
     "data": {
      "text/plain": [
       "23353254"
      ]
     },
     "execution_count": 28,
     "metadata": {},
     "output_type": "execute_result"
    }
   ],
   "source": [
    "\n",
    "tot = 0\n",
    "for pre, fill, node in RenderTree(a):\n",
    "    if hasattr(node, \"size\"):\n",
    "        tot += node.size\n",
    "        print(node.name, node.size)\n",
    "    else:\n",
    "        print(node.name)\n",
    "        \n",
    "#         tot += get_size_tree(node)\n",
    "\n",
    "tot"
   ]
  },
  {
   "cell_type": "code",
   "execution_count": 8,
   "metadata": {
    "ExecuteTime": {
     "end_time": "2022-12-27T04:32:09.935697Z",
     "start_time": "2022-12-27T04:32:09.915621Z"
    }
   },
   "outputs": [],
   "source": [
    "def get_size_tree(node_obj):\n",
    "    tot = 0\n",
    "    for pre, fill, node in RenderTree(node_obj):\n",
    "        if hasattr(node, \"size\"):\n",
    "            tot += node.size\n",
    "    \n",
    "    return tot"
   ]
  },
  {
   "cell_type": "code",
   "execution_count": 30,
   "metadata": {
    "ExecuteTime": {
     "end_time": "2022-12-26T01:49:36.001180Z",
     "start_time": "2022-12-26T01:49:35.995073Z"
    }
   },
   "outputs": [
    {
     "data": {
      "text/plain": [
       "584"
      ]
     },
     "execution_count": 30,
     "metadata": {},
     "output_type": "execute_result"
    }
   ],
   "source": [
    "get_size_tree(e)"
   ]
  },
  {
   "cell_type": "code",
   "execution_count": 31,
   "metadata": {
    "ExecuteTime": {
     "end_time": "2022-12-26T01:49:40.102848Z",
     "start_time": "2022-12-26T01:49:40.096680Z"
    }
   },
   "outputs": [
    {
     "data": {
      "text/plain": [
       "23353254"
      ]
     },
     "execution_count": 31,
     "metadata": {},
     "output_type": "execute_result"
    }
   ],
   "source": [
    "get_size_tree(a)"
   ]
  },
  {
   "cell_type": "code",
   "execution_count": 32,
   "metadata": {
    "ExecuteTime": {
     "end_time": "2022-12-26T01:50:29.655791Z",
     "start_time": "2022-12-26T01:50:29.649297Z"
    }
   },
   "outputs": [
    {
     "data": {
      "text/plain": [
       "(Node('///a'),)"
      ]
     },
     "execution_count": 32,
     "metadata": {},
     "output_type": "execute_result"
    }
   ],
   "source": [
    "tree.children"
   ]
  },
  {
   "cell_type": "code",
   "execution_count": null,
   "metadata": {},
   "outputs": [],
   "source": []
  },
  {
   "cell_type": "code",
   "execution_count": 33,
   "metadata": {
    "ExecuteTime": {
     "end_time": "2022-12-26T01:51:06.955291Z",
     "start_time": "2022-12-26T01:51:06.950046Z"
    }
   },
   "outputs": [
    {
     "data": {
      "text/plain": [
       "(Node('///a/b.txt', size=14848514),\n",
       " Node('///a/c.dat', size=8504156),\n",
       " Node('///a/e'))"
      ]
     },
     "execution_count": 33,
     "metadata": {},
     "output_type": "execute_result"
    }
   ],
   "source": [
    "a.children"
   ]
  },
  {
   "cell_type": "code",
   "execution_count": 34,
   "metadata": {
    "ExecuteTime": {
     "end_time": "2022-12-26T01:51:52.774501Z",
     "start_time": "2022-12-26T01:51:52.707509Z"
    }
   },
   "outputs": [
    {
     "data": {
      "text/plain": [
       "Node('//')"
      ]
     },
     "execution_count": 34,
     "metadata": {},
     "output_type": "execute_result"
    }
   ],
   "source": [
    "a.parent"
   ]
  },
  {
   "cell_type": "markdown",
   "metadata": {},
   "source": [
    "## dev parsing"
   ]
  },
  {
   "cell_type": "code",
   "execution_count": 12,
   "metadata": {
    "ExecuteTime": {
     "end_time": "2022-12-27T04:32:28.168336Z",
     "start_time": "2022-12-27T04:32:28.149715Z"
    }
   },
   "outputs": [],
   "source": [
    "test_commands = \"\"\"$ cd /\n",
    "$ ls\n",
    "dir a\n",
    "14848514 b.txt\n",
    "8504156 c.dat\n",
    "dir d\n",
    "$ cd a\n",
    "$ ls\n",
    "dir e\n",
    "29116 f\n",
    "2557 g\n",
    "62596 h.lst\n",
    "$ cd e\n",
    "$ ls\n",
    "584 i\n",
    "$ cd ..\n",
    "$ cd ..\n",
    "$ cd d\n",
    "$ ls\n",
    "4060174 j\n",
    "8033020 d.log\n",
    "5626152 d.ext\n",
    "7214296 k\"\"\""
   ]
  },
  {
   "cell_type": "code",
   "execution_count": 46,
   "metadata": {
    "ExecuteTime": {
     "end_time": "2022-12-26T01:25:36.999578Z",
     "start_time": "2022-12-26T01:25:36.986089Z"
    }
   },
   "outputs": [
    {
     "name": "stdout",
     "output_type": "stream",
     "text": [
      "$ cd /\n",
      "$ ls\n",
      "$ cd a\n",
      "$ ls\n",
      "$ cd e\n",
      "$ ls\n",
      "$ cd ..\n",
      "$ cd ..\n",
      "$ cd d\n",
      "$ ls\n"
     ]
    }
   ],
   "source": [
    "for i, line in enumerate(test_commands.split('\\n')):\n",
    "    if line.startswith(\"$\"):\n",
    "        print(line)"
   ]
  },
  {
   "cell_type": "code",
   "execution_count": null,
   "metadata": {},
   "outputs": [],
   "source": []
  },
  {
   "cell_type": "code",
   "execution_count": 6,
   "metadata": {
    "ExecuteTime": {
     "end_time": "2022-12-27T04:31:49.399196Z",
     "start_time": "2022-12-27T04:31:49.369705Z"
    }
   },
   "outputs": [],
   "source": [
    "import regex as re"
   ]
  },
  {
   "cell_type": "code",
   "execution_count": 55,
   "metadata": {
    "ExecuteTime": {
     "end_time": "2022-12-26T16:39:44.288462Z",
     "start_time": "2022-12-26T16:39:44.277845Z"
    }
   },
   "outputs": [
    {
     "name": "stdout",
     "output_type": "stream",
     "text": [
      "$ cd / --  False\n",
      "adding Node: root\n",
      "$ ls -- root False\n",
      "dir a -- root True\n",
      "adding Node: a\n",
      "14848514 b.txt -- root True\n",
      "adding Node: b.txt\n",
      "8504156 c.dat -- root True\n",
      "adding Node: c.dat\n",
      "dir d -- root True\n",
      "adding Node: d\n",
      "$ cd a -- root True\n",
      "$ ls -- a False\n",
      "dir e -- a True\n",
      "adding Node: e\n",
      "29116 f -- a True\n",
      "adding Node: f\n",
      "2557 g -- a True\n",
      "adding Node: g\n",
      "62596 h.lst -- a True\n",
      "adding Node: h.lst\n",
      "$ cd e -- a True\n",
      "$ ls -- e False\n",
      "584 i -- e True\n",
      "adding Node: i\n",
      "$ cd .. -- e True\n",
      "adding Node: ..\n",
      "$ cd .. -- .. False\n",
      "$ cd d -- .. False\n",
      "$ ls -- d False\n",
      "4060174 j -- d True\n",
      "adding Node: j\n",
      "8033020 d.log -- d True\n",
      "adding Node: d.log\n",
      "5626152 d.ext -- d True\n",
      "adding Node: d.ext\n",
      "7214296 k -- d True\n",
      "adding Node: k\n"
     ]
    }
   ],
   "source": [
    "# parent_dir = ''\n",
    "current_dir = ''\n",
    "tree_dict = {}\n",
    "list_mode = False\n",
    "\n",
    "for i, line in enumerate(test_commands.split('\\n')):\n",
    "    print(line, \"--\", current_dir, list_mode)\n",
    "    \n",
    "    if line.startswith(\"$\"): # command\n",
    "        list_mode = False # turn off list mode\n",
    "        line_mod = line.lstrip(\"$ \")\n",
    "        \n",
    "        if line_mod[:3] == \"cd \": # change directory\n",
    "            cwd = line_mod[3:]\n",
    "            if cwd == \"/\": # rename \"/\" so it's easier to work with\n",
    "                cwd = \"root\"\n",
    "            current_dir = cwd\n",
    "            if cwd not in tree_dict.keys():\n",
    "                print(\"adding Node:\", cwd)\n",
    "                tree_dict[cwd] = Node(cwd)\n",
    "\n",
    "        elif line_mod[:3] == \"ls\": # list directory\n",
    "            list_mode = True\n",
    "            list_dir = line_mod[3:]\n",
    "            if list_dir == \"\":\n",
    "                list_dir = current_dir\n",
    "            continue\n",
    "    \n",
    "    if list_mode:\n",
    "        info, file_name = line.split(' ')\n",
    "        if re.match(\"\\d+\", info):\n",
    "            file_size = int(info)\n",
    "            print(\"adding Node:\", file_name)\n",
    "            tree_dict[file_name] = Node(file_name, parent=tree_dict[current_dir], size=file_size)\n",
    "        elif info == \"dir\":\n",
    "            print(\"adding Node:\", file_name)\n",
    "            tree_dict[file_name] = Node(file_name, parent=tree_dict[current_dir])"
   ]
  },
  {
   "cell_type": "code",
   "execution_count": 52,
   "metadata": {
    "ExecuteTime": {
     "end_time": "2022-12-26T16:39:05.860434Z",
     "start_time": "2022-12-26T16:39:05.854485Z"
    }
   },
   "outputs": [
    {
     "data": {
      "text/plain": [
       "{'root': Node('/root'),\n",
       " 'a': Node('/root/a'),\n",
       " 'b.txt': Node('/root/b.txt', size=14848514),\n",
       " 'c.dat': Node('/root/c.dat', size=8504156),\n",
       " 'd': Node('/root/d'),\n",
       " 'e': Node('/root/a/e'),\n",
       " 'f': Node('/root/a/f', size=29116),\n",
       " 'g': Node('/root/a/g', size=2557),\n",
       " 'h.lst': Node('/root/a/h.lst', size=62596),\n",
       " 'i': Node('/root/a/e/i', size=584),\n",
       " '..': Node('/..'),\n",
       " 'j': Node('/root/d/j', size=4060174),\n",
       " 'd.log': Node('/root/d/d.log', size=8033020),\n",
       " 'd.ext': Node('/root/d/d.ext', size=5626152),\n",
       " 'k': Node('/root/d/k', size=7214296)}"
      ]
     },
     "execution_count": 52,
     "metadata": {},
     "output_type": "execute_result"
    }
   ],
   "source": [
    "tree_dict"
   ]
  },
  {
   "cell_type": "code",
   "execution_count": 53,
   "metadata": {
    "ExecuteTime": {
     "end_time": "2022-12-26T16:39:11.782549Z",
     "start_time": "2022-12-26T16:39:11.774272Z"
    }
   },
   "outputs": [
    {
     "name": "stdout",
     "output_type": "stream",
     "text": [
      "root\n",
      "├── a\n",
      "│   ├── e\n",
      "│   │   └── i\n",
      "│   ├── f\n",
      "│   ├── g\n",
      "│   └── h.lst\n",
      "├── b.txt\n",
      "├── c.dat\n",
      "└── d\n",
      "    ├── j\n",
      "    ├── d.log\n",
      "    ├── d.ext\n",
      "    └── k\n"
     ]
    }
   ],
   "source": [
    "for pre, fill, node in RenderTree(tree_dict['root']):\n",
    "    print(\"%s%s\" % (pre, node.name))"
   ]
  },
  {
   "cell_type": "code",
   "execution_count": 57,
   "metadata": {
    "ExecuteTime": {
     "end_time": "2022-12-26T16:43:03.505344Z",
     "start_time": "2022-12-26T16:43:03.500034Z"
    }
   },
   "outputs": [
    {
     "data": {
      "text/plain": [
       "Node('/root/a')"
      ]
     },
     "execution_count": 57,
     "metadata": {},
     "output_type": "execute_result"
    }
   ],
   "source": [
    "pd = tree_dict['e'].parent\n",
    "pd"
   ]
  },
  {
   "cell_type": "code",
   "execution_count": 59,
   "metadata": {
    "ExecuteTime": {
     "end_time": "2022-12-26T16:43:14.202662Z",
     "start_time": "2022-12-26T16:43:14.196578Z"
    }
   },
   "outputs": [
    {
     "data": {
      "text/plain": [
       "'a'"
      ]
     },
     "execution_count": 59,
     "metadata": {},
     "output_type": "execute_result"
    }
   ],
   "source": [
    "pd.name"
   ]
  },
  {
   "cell_type": "code",
   "execution_count": 60,
   "metadata": {
    "ExecuteTime": {
     "end_time": "2022-12-26T16:43:20.669820Z",
     "start_time": "2022-12-26T16:43:20.663660Z"
    }
   },
   "outputs": [
    {
     "data": {
      "text/plain": [
       "Node('/root/a')"
      ]
     },
     "execution_count": 60,
     "metadata": {},
     "output_type": "execute_result"
    }
   ],
   "source": [
    "tree_dict[pd.name]"
   ]
  },
  {
   "cell_type": "code",
   "execution_count": 61,
   "metadata": {
    "ExecuteTime": {
     "end_time": "2022-12-26T16:43:30.326629Z",
     "start_time": "2022-12-26T16:43:30.321684Z"
    }
   },
   "outputs": [
    {
     "data": {
      "text/plain": [
       "(Node('/root/a/e'),\n",
       " Node('/root/a/f', size=29116),\n",
       " Node('/root/a/g', size=2557),\n",
       " Node('/root/a/h.lst', size=62596))"
      ]
     },
     "execution_count": 61,
     "metadata": {},
     "output_type": "execute_result"
    }
   ],
   "source": [
    "tree_dict[pd.name].children"
   ]
  },
  {
   "cell_type": "code",
   "execution_count": 41,
   "metadata": {
    "ExecuteTime": {
     "end_time": "2022-12-26T16:33:09.406570Z",
     "start_time": "2022-12-26T16:33:09.400747Z"
    }
   },
   "outputs": [
    {
     "data": {
      "text/plain": [
       "Node('/a')"
      ]
     },
     "execution_count": 41,
     "metadata": {},
     "output_type": "execute_result"
    }
   ],
   "source": [
    "tree_dict['a']"
   ]
  },
  {
   "cell_type": "code",
   "execution_count": 62,
   "metadata": {
    "ExecuteTime": {
     "end_time": "2022-12-26T16:43:56.920408Z",
     "start_time": "2022-12-26T16:43:56.914516Z"
    }
   },
   "outputs": [
    {
     "data": {
      "text/plain": [
       "94853"
      ]
     },
     "execution_count": 62,
     "metadata": {},
     "output_type": "execute_result"
    }
   ],
   "source": [
    "get_size_tree(tree_dict['a'])"
   ]
  },
  {
   "cell_type": "code",
   "execution_count": 63,
   "metadata": {
    "ExecuteTime": {
     "end_time": "2022-12-26T16:44:29.147954Z",
     "start_time": "2022-12-26T16:44:29.141411Z"
    }
   },
   "outputs": [
    {
     "data": {
      "text/plain": [
       "24933642"
      ]
     },
     "execution_count": 63,
     "metadata": {},
     "output_type": "execute_result"
    }
   ],
   "source": [
    "get_size_tree(tree_dict['d'])"
   ]
  },
  {
   "cell_type": "code",
   "execution_count": 64,
   "metadata": {
    "ExecuteTime": {
     "end_time": "2022-12-26T16:44:39.783960Z",
     "start_time": "2022-12-26T16:44:39.778570Z"
    }
   },
   "outputs": [
    {
     "data": {
      "text/plain": [
       "48381165"
      ]
     },
     "execution_count": 64,
     "metadata": {},
     "output_type": "execute_result"
    }
   ],
   "source": [
    "get_size_tree(tree_dict['root'])"
   ]
  },
  {
   "cell_type": "code",
   "execution_count": 66,
   "metadata": {
    "ExecuteTime": {
     "end_time": "2022-12-26T16:47:34.601330Z",
     "start_time": "2022-12-26T16:47:34.591753Z"
    }
   },
   "outputs": [
    {
     "name": "stdout",
     "output_type": "stream",
     "text": [
      "$ cd / --  False\n",
      "adding Node: root\n",
      "$ ls -- root False\n",
      "dir a -- root True\n",
      "adding Node: a\n",
      "14848514 b.txt -- root True\n",
      "adding Node: b.txt\n",
      "8504156 c.dat -- root True\n",
      "adding Node: c.dat\n",
      "dir d -- root True\n",
      "adding Node: d\n",
      "$ cd a -- root True\n",
      "$ ls -- a False\n",
      "dir e -- a True\n",
      "adding Node: e\n",
      "29116 f -- a True\n",
      "adding Node: f\n",
      "2557 g -- a True\n",
      "adding Node: g\n",
      "62596 h.lst -- a True\n",
      "adding Node: h.lst\n",
      "$ cd e -- a True\n",
      "$ ls -- e False\n",
      "584 i -- e True\n",
      "adding Node: i\n",
      "$ cd .. -- e True\n",
      "$ cd .. -- a False\n",
      "$ cd d -- root False\n",
      "$ ls -- d False\n",
      "4060174 j -- d True\n",
      "adding Node: j\n",
      "8033020 d.log -- d True\n",
      "adding Node: d.log\n",
      "5626152 d.ext -- d True\n",
      "adding Node: d.ext\n",
      "7214296 k -- d True\n",
      "adding Node: k\n"
     ]
    }
   ],
   "source": [
    "current_dir = ''\n",
    "tree_dict = {}\n",
    "list_mode = False\n",
    "\n",
    "for i, line in enumerate(test_commands.split('\\n')):\n",
    "    print(line, \"--\", current_dir, list_mode)\n",
    "    \n",
    "    if line.startswith(\"$\"): # command\n",
    "        list_mode = False # turn off list mode\n",
    "        line_mod = line.lstrip(\"$ \")\n",
    "        \n",
    "        if line_mod[:3] == \"cd \": # change directory\n",
    "            cwd = line_mod[3:]\n",
    "            if cwd == \"..\":\n",
    "                parent_dir = tree_dict[current_dir].parent\n",
    "                current_dir = tree_dict[parent_dir.name].name\n",
    "                continue\n",
    "            else:\n",
    "                if cwd == \"/\": # rename \"/\" so it's easier to work with\n",
    "                    cwd = \"root\"\n",
    "                current_dir = cwd\n",
    "                if cwd not in tree_dict.keys():\n",
    "                    print(\"adding Node:\", cwd)\n",
    "                    tree_dict[cwd] = Node(cwd)\n",
    "                continue\n",
    "        \n",
    "        elif line_mod[:3] == \"ls\": # list directory\n",
    "            list_mode = True\n",
    "            list_dir = line_mod[3:]\n",
    "            if list_dir == \"\":\n",
    "                list_dir = current_dir\n",
    "            continue\n",
    "    \n",
    "    if list_mode:\n",
    "        info, file_name = line.split(' ')\n",
    "        if re.match(\"\\d+\", info):\n",
    "            file_size = int(info)\n",
    "            print(\"adding Node:\", file_name)\n",
    "            tree_dict[file_name] = Node(file_name, parent=tree_dict[current_dir], size=file_size)\n",
    "        elif info == \"dir\":\n",
    "            print(\"adding Node:\", file_name)\n",
    "            tree_dict[file_name] = Node(file_name, parent=tree_dict[current_dir])"
   ]
  },
  {
   "cell_type": "markdown",
   "metadata": {},
   "source": [
    "## add in Node type"
   ]
  },
  {
   "cell_type": "code",
   "execution_count": 75,
   "metadata": {
    "ExecuteTime": {
     "end_time": "2022-12-26T16:53:55.472655Z",
     "start_time": "2022-12-26T16:53:55.468623Z"
    }
   },
   "outputs": [],
   "source": [
    "tree = Node(\"/\", type=\"dir\")\n",
    "\n",
    "a = Node(\"a\", parent=tree, type=\"dir\")\n",
    "b_txt = Node(\"b.txt\", parent=a, type=\"file\", size=14848514)\n",
    "\n",
    "c_dat = Node(\"c.dat\", parent=a, type='file', size=8504156)\n",
    "e = Node(\"e\", parent=a, type='dir')\n",
    "i_file = Node(\"i\", parent=e, type='file', size=584)"
   ]
  },
  {
   "cell_type": "code",
   "execution_count": 76,
   "metadata": {
    "ExecuteTime": {
     "end_time": "2022-12-26T16:54:01.645251Z",
     "start_time": "2022-12-26T16:54:01.640243Z"
    }
   },
   "outputs": [
    {
     "name": "stdout",
     "output_type": "stream",
     "text": [
      "/\n",
      "└── a\n",
      "    ├── b.txt (14848514)\n",
      "    ├── c.dat (8504156)\n",
      "    └── e\n",
      "        └── i (584)\n"
     ]
    }
   ],
   "source": [
    "render_tree_with_size(tree)"
   ]
  },
  {
   "cell_type": "code",
   "execution_count": 9,
   "metadata": {
    "ExecuteTime": {
     "end_time": "2022-12-27T04:32:15.694573Z",
     "start_time": "2022-12-27T04:32:15.688696Z"
    }
   },
   "outputs": [],
   "source": [
    "def render_tree_with_size(root_node):\n",
    "    for pre, fill, node in RenderTree(root_node):\n",
    "        if node.type == \"file\":\n",
    "#         if hasattr(node, \"size\"):\n",
    "            print(\"%s%s (%s)\" % (pre, node.name, node.size))\n",
    "        elif node.type == \"dir\":\n",
    "            print(\"%s%s\" % (pre, node.name))\n",
    "        else:\n",
    "            print(\"Unknown node type: \", node)"
   ]
  },
  {
   "cell_type": "code",
   "execution_count": 78,
   "metadata": {
    "ExecuteTime": {
     "end_time": "2022-12-26T16:55:10.011164Z",
     "start_time": "2022-12-26T16:55:10.006405Z"
    }
   },
   "outputs": [
    {
     "name": "stdout",
     "output_type": "stream",
     "text": [
      "/\n",
      "└── a\n",
      "    ├── b.txt (14848514)\n",
      "    ├── c.dat (8504156)\n",
      "    └── e\n",
      "        └── i (584)\n"
     ]
    }
   ],
   "source": [
    "render_tree_with_size(tree)"
   ]
  },
  {
   "cell_type": "code",
   "execution_count": 10,
   "metadata": {
    "ExecuteTime": {
     "end_time": "2022-12-27T04:32:18.642948Z",
     "start_time": "2022-12-27T04:32:18.629317Z"
    }
   },
   "outputs": [],
   "source": [
    "def sum_all_dirs(root_node):\n",
    "    node_size_dict = {}\n",
    "    for pre, fill, node in RenderTree(root_node):\n",
    "        if node.type == \"dir\":\n",
    "            node_size_dict[node.name] = get_size_tree(node)\n",
    "    return node_size_dict"
   ]
  },
  {
   "cell_type": "code",
   "execution_count": null,
   "metadata": {
    "ExecuteTime": {
     "end_time": "2022-12-27T04:32:21.139517Z",
     "start_time": "2022-12-27T04:32:20.955200Z"
    }
   },
   "outputs": [],
   "source": [
    "sum_all_dirs(tree)"
   ]
  },
  {
   "cell_type": "markdown",
   "metadata": {},
   "source": [
    "# run part 1"
   ]
  },
  {
   "cell_type": "markdown",
   "metadata": {},
   "source": [
    "## funcs"
   ]
  },
  {
   "cell_type": "code",
   "execution_count": 6,
   "metadata": {
    "ExecuteTime": {
     "end_time": "2022-12-27T05:02:30.533584Z",
     "start_time": "2022-12-27T05:02:30.527801Z"
    }
   },
   "outputs": [],
   "source": [
    "def render_tree_with_size(root_node):\n",
    "    for pre, fill, node in RenderTree(root_node):\n",
    "        if node.type == \"file\":\n",
    "            print(\"%s%s (%s)\" % (pre, node.name, node.size))\n",
    "        elif node.type == \"dir\":\n",
    "            print(\"%s%s\" % (pre, node.name))\n",
    "        else:\n",
    "            print(\"Unknown node type: \", node)"
   ]
  },
  {
   "cell_type": "code",
   "execution_count": 7,
   "metadata": {
    "ExecuteTime": {
     "end_time": "2022-12-27T05:02:31.190453Z",
     "start_time": "2022-12-27T05:02:31.130330Z"
    }
   },
   "outputs": [],
   "source": [
    "def get_size_tree(node_obj):\n",
    "    tot = 0\n",
    "    for pre, fill, node in RenderTree(node_obj):\n",
    "        if hasattr(node, \"size\"):\n",
    "            tot += node.size\n",
    "    \n",
    "    return tot"
   ]
  },
  {
   "cell_type": "code",
   "execution_count": 8,
   "metadata": {
    "ExecuteTime": {
     "end_time": "2022-12-27T05:02:31.706488Z",
     "start_time": "2022-12-27T05:02:31.687247Z"
    }
   },
   "outputs": [],
   "source": [
    "def sum_all_dirs(root_node):\n",
    "    node_size_dict = {}\n",
    "    for pre, fill, node in RenderTree(root_node):\n",
    "        if node.type == \"dir\":\n",
    "            node_size_dict[node.name] = get_size_tree(node)\n",
    "    return node_size_dict"
   ]
  },
  {
   "cell_type": "code",
   "execution_count": 51,
   "metadata": {
    "ExecuteTime": {
     "end_time": "2022-12-27T05:16:10.850969Z",
     "start_time": "2022-12-27T05:16:10.825298Z"
    }
   },
   "outputs": [],
   "source": [
    "def parse_commands(command_list):\n",
    "    current_dir = ''\n",
    "    tree_dict = {}\n",
    "    list_mode = False\n",
    "\n",
    "    for i, line in enumerate(command_list):\n",
    "        print(f\"{line}, (cwd: {current_dir}, list_mode: {list_mode})\")\n",
    "\n",
    "        if line.startswith(\"$\"): # command\n",
    "            list_mode = False # turn off list mode\n",
    "            line_mod = line.lstrip(\"$ \")\n",
    "\n",
    "            if line_mod[:3] == \"cd \": # change directory\n",
    "                cwd = line_mod[3:]\n",
    "                if cwd == \"..\":\n",
    "                    parent_dir = tree_dict[current_dir].parent\n",
    "                    current_dir = tree_dict[parent_dir.name].name\n",
    "                    continue\n",
    "                else:\n",
    "                    if cwd == \"/\": # rename \"/\" so it's easier to work with\n",
    "                        cwd = \"root\"\n",
    "                    current_dir = cwd\n",
    "                    if cwd not in tree_dict.keys():\n",
    "#                         print(\"adding Node:\", cwd)\n",
    "                        tree_dict[cwd] = Node(cwd, type=\"dir\")\n",
    "                    continue\n",
    "\n",
    "            elif line_mod[:2] == \"ls\": # list directory\n",
    "                list_mode = True\n",
    "                list_dir = line_mod[3:]\n",
    "                if list_dir == \"\":\n",
    "                    list_dir = current_dir\n",
    "                continue\n",
    "\n",
    "        if list_mode:\n",
    "            info, file_name = line.split(' ')\n",
    "            if re.match(\"\\d+\", info):\n",
    "                file_size = int(info)\n",
    "#                 print(\"adding Node:\", file_name)\n",
    "                tree_dict[file_name] = Node(file_name, \n",
    "                                            parent=tree_dict[current_dir], \n",
    "                                            type=\"file\",\n",
    "                                            size=file_size)\n",
    "            elif info == \"dir\":\n",
    "#                 print(\"adding Node:\", file_name)\n",
    "                tree_dict[file_name] = Node(file_name, \n",
    "                                            parent=tree_dict[current_dir],\n",
    "                                            type=\"dir\")\n",
    "        \n",
    "    \n",
    "    return tree_dict"
   ]
  },
  {
   "cell_type": "code",
   "execution_count": 63,
   "metadata": {
    "ExecuteTime": {
     "end_time": "2022-12-27T05:19:00.254057Z",
     "start_time": "2022-12-27T05:19:00.223561Z"
    }
   },
   "outputs": [],
   "source": [
    "def do_the_rest(tree_dict, root_dir_name='root'):\n",
    "    dir_sizes = sum_all_dirs(tree_dict[root_dir_name])\n",
    "    filt_dir_size_list = [v for k,v in dir_sizes.items() if v <= 100000]\n",
    "    return np.sum(filt_dir_size_list)"
   ]
  },
  {
   "cell_type": "markdown",
   "metadata": {},
   "source": [
    "## test"
   ]
  },
  {
   "cell_type": "code",
   "execution_count": 53,
   "metadata": {
    "ExecuteTime": {
     "end_time": "2022-12-27T05:16:13.024053Z",
     "start_time": "2022-12-27T05:16:13.010994Z"
    }
   },
   "outputs": [],
   "source": [
    "test_commands = \"\"\"$ cd /\n",
    "$ ls\n",
    "dir a\n",
    "14848514 b.txt\n",
    "8504156 c.dat\n",
    "dir d\n",
    "$ cd a\n",
    "$ ls\n",
    "dir e\n",
    "29116 f\n",
    "2557 g\n",
    "62596 h.lst\n",
    "$ cd e\n",
    "$ ls\n",
    "584 i\n",
    "$ cd ..\n",
    "$ cd ..\n",
    "$ cd d\n",
    "$ ls\n",
    "4060174 j\n",
    "8033020 d.log\n",
    "5626152 d.ext\n",
    "7214296 k\"\"\""
   ]
  },
  {
   "cell_type": "code",
   "execution_count": 54,
   "metadata": {
    "ExecuteTime": {
     "end_time": "2022-12-27T05:16:13.670497Z",
     "start_time": "2022-12-27T05:16:13.659768Z"
    }
   },
   "outputs": [],
   "source": [
    "test_commands = test_commands.split(\"\\n\")"
   ]
  },
  {
   "cell_type": "code",
   "execution_count": 55,
   "metadata": {
    "ExecuteTime": {
     "end_time": "2022-12-27T05:16:14.050894Z",
     "start_time": "2022-12-27T05:16:14.045872Z"
    }
   },
   "outputs": [
    {
     "name": "stdout",
     "output_type": "stream",
     "text": [
      "$ cd /, (cwd: , list_mode: False)\n",
      "$ ls, (cwd: root, list_mode: False)\n",
      "dir a, (cwd: root, list_mode: True)\n",
      "14848514 b.txt, (cwd: root, list_mode: True)\n",
      "8504156 c.dat, (cwd: root, list_mode: True)\n",
      "dir d, (cwd: root, list_mode: True)\n",
      "$ cd a, (cwd: root, list_mode: True)\n",
      "$ ls, (cwd: a, list_mode: False)\n",
      "dir e, (cwd: a, list_mode: True)\n",
      "29116 f, (cwd: a, list_mode: True)\n",
      "2557 g, (cwd: a, list_mode: True)\n",
      "62596 h.lst, (cwd: a, list_mode: True)\n",
      "$ cd e, (cwd: a, list_mode: True)\n",
      "$ ls, (cwd: e, list_mode: False)\n",
      "584 i, (cwd: e, list_mode: True)\n",
      "$ cd .., (cwd: e, list_mode: True)\n",
      "$ cd .., (cwd: a, list_mode: False)\n",
      "$ cd d, (cwd: root, list_mode: False)\n",
      "$ ls, (cwd: d, list_mode: False)\n",
      "4060174 j, (cwd: d, list_mode: True)\n",
      "8033020 d.log, (cwd: d, list_mode: True)\n",
      "5626152 d.ext, (cwd: d, list_mode: True)\n",
      "7214296 k, (cwd: d, list_mode: True)\n"
     ]
    }
   ],
   "source": [
    "test_tree = parse_commands(test_commands)"
   ]
  },
  {
   "cell_type": "code",
   "execution_count": 46,
   "metadata": {
    "ExecuteTime": {
     "end_time": "2022-12-27T05:13:44.743429Z",
     "start_time": "2022-12-27T05:13:44.723305Z"
    }
   },
   "outputs": [
    {
     "data": {
      "text/plain": [
       "95437"
      ]
     },
     "execution_count": 46,
     "metadata": {},
     "output_type": "execute_result"
    }
   ],
   "source": [
    "do_the_rest(test_tree)"
   ]
  },
  {
   "cell_type": "code",
   "execution_count": 13,
   "metadata": {
    "ExecuteTime": {
     "end_time": "2022-12-27T05:02:49.433233Z",
     "start_time": "2022-12-27T05:02:49.427715Z"
    }
   },
   "outputs": [
    {
     "data": {
      "text/plain": [
       "{'root': Node('/root', type='dir'),\n",
       " 'a': Node('/root/a', type='dir'),\n",
       " 'b.txt': Node('/root/b.txt', size=14848514, type='file'),\n",
       " 'c.dat': Node('/root/c.dat', size=8504156, type='file'),\n",
       " 'd': Node('/root/d', type='dir'),\n",
       " 'e': Node('/root/a/e', type='dir'),\n",
       " 'f': Node('/root/a/f', size=29116, type='file'),\n",
       " 'g': Node('/root/a/g', size=2557, type='file'),\n",
       " 'h.lst': Node('/root/a/h.lst', size=62596, type='file'),\n",
       " 'i': Node('/root/a/e/i', size=584, type='file'),\n",
       " 'j': Node('/root/d/j', size=4060174, type='file'),\n",
       " 'd.log': Node('/root/d/d.log', size=8033020, type='file'),\n",
       " 'd.ext': Node('/root/d/d.ext', size=5626152, type='file'),\n",
       " 'k': Node('/root/d/k', size=7214296, type='file')}"
      ]
     },
     "execution_count": 13,
     "metadata": {},
     "output_type": "execute_result"
    }
   ],
   "source": [
    "test_tree"
   ]
  },
  {
   "cell_type": "code",
   "execution_count": 14,
   "metadata": {
    "ExecuteTime": {
     "end_time": "2022-12-27T05:03:00.121177Z",
     "start_time": "2022-12-27T05:03:00.092371Z"
    }
   },
   "outputs": [
    {
     "name": "stdout",
     "output_type": "stream",
     "text": [
      "root\n",
      "├── a\n",
      "│   ├── e\n",
      "│   │   └── i (584)\n",
      "│   ├── f (29116)\n",
      "│   ├── g (2557)\n",
      "│   └── h.lst (62596)\n",
      "├── b.txt (14848514)\n",
      "├── c.dat (8504156)\n",
      "└── d\n",
      "    ├── j (4060174)\n",
      "    ├── d.log (8033020)\n",
      "    ├── d.ext (5626152)\n",
      "    └── k (7214296)\n"
     ]
    }
   ],
   "source": [
    "render_tree_with_size(test_tree['root'])"
   ]
  },
  {
   "cell_type": "code",
   "execution_count": 15,
   "metadata": {
    "ExecuteTime": {
     "end_time": "2022-12-27T05:03:10.839699Z",
     "start_time": "2022-12-27T05:03:10.813394Z"
    }
   },
   "outputs": [],
   "source": [
    "test_dir_sizes = sum_all_dirs(test_tree['root'])"
   ]
  },
  {
   "cell_type": "code",
   "execution_count": 16,
   "metadata": {
    "ExecuteTime": {
     "end_time": "2022-12-27T05:03:11.406479Z",
     "start_time": "2022-12-27T05:03:11.371288Z"
    }
   },
   "outputs": [
    {
     "data": {
      "text/plain": [
       "{'root': 48381165, 'a': 94853, 'e': 584, 'd': 24933642}"
      ]
     },
     "execution_count": 16,
     "metadata": {},
     "output_type": "execute_result"
    }
   ],
   "source": [
    "test_dir_sizes"
   ]
  },
  {
   "cell_type": "code",
   "execution_count": 17,
   "metadata": {
    "ExecuteTime": {
     "end_time": "2022-12-27T05:03:12.409701Z",
     "start_time": "2022-12-27T05:03:12.398322Z"
    }
   },
   "outputs": [],
   "source": [
    "test_dir_size_list = [v for k,v in test_dir_sizes.items() if v <= 100000]"
   ]
  },
  {
   "cell_type": "code",
   "execution_count": 18,
   "metadata": {
    "ExecuteTime": {
     "end_time": "2022-12-27T05:03:13.239453Z",
     "start_time": "2022-12-27T05:03:13.187878Z"
    }
   },
   "outputs": [
    {
     "data": {
      "text/plain": [
       "[94853, 584]"
      ]
     },
     "execution_count": 18,
     "metadata": {},
     "output_type": "execute_result"
    }
   ],
   "source": [
    "test_dir_size_list"
   ]
  },
  {
   "cell_type": "code",
   "execution_count": 19,
   "metadata": {
    "ExecuteTime": {
     "end_time": "2022-12-27T05:03:13.957284Z",
     "start_time": "2022-12-27T05:03:13.915119Z"
    }
   },
   "outputs": [
    {
     "data": {
      "text/plain": [
       "95437"
      ]
     },
     "execution_count": 19,
     "metadata": {},
     "output_type": "execute_result"
    }
   ],
   "source": [
    "np.sum(test_dir_size_list)"
   ]
  },
  {
   "cell_type": "markdown",
   "metadata": {},
   "source": [
    "## for real"
   ]
  },
  {
   "cell_type": "code",
   "execution_count": 47,
   "metadata": {
    "ExecuteTime": {
     "end_time": "2022-12-27T05:13:50.699402Z",
     "start_time": "2022-12-27T05:13:50.662507Z"
    }
   },
   "outputs": [
    {
     "name": "stdout",
     "output_type": "stream",
     "text": [
      "$ cd /, (cwd: , list_mode: False)\n",
      "$ ls, (cwd: root, list_mode: False)\n",
      "dir plws, (cwd: root, list_mode: True)\n",
      "dir pwlbgbz, (cwd: root, list_mode: True)\n",
      "dir pwtpltr, (cwd: root, list_mode: True)\n",
      "dir szn, (cwd: root, list_mode: True)\n",
      "$ cd plws, (cwd: root, list_mode: True)\n",
      "$ ls, (cwd: plws, list_mode: False)\n",
      "dir ffpzc, (cwd: plws, list_mode: True)\n",
      "dir frcmjzts, (cwd: plws, list_mode: True)\n",
      "92461 nbvnzg, (cwd: plws, list_mode: True)\n",
      "dir phqcg, (cwd: plws, list_mode: True)\n",
      "21621 vqgsglwq, (cwd: plws, list_mode: True)\n",
      "$ cd ffpzc, (cwd: plws, list_mode: True)\n",
      "$ ls, (cwd: ffpzc, list_mode: False)\n",
      "48459 dzdfc.vqq, (cwd: ffpzc, list_mode: True)\n",
      "143107 jql.jzl, (cwd: ffpzc, list_mode: True)\n",
      "208330 mmnvqn.hqb, (cwd: ffpzc, list_mode: True)\n",
      "290122 svjvhflz, (cwd: ffpzc, list_mode: True)\n",
      "218008 wjlmgq, (cwd: ffpzc, list_mode: True)\n",
      "$ cd .., (cwd: ffpzc, list_mode: True)\n",
      "$ cd frcmjzts, (cwd: plws, list_mode: False)\n",
      "$ ls, (cwd: frcmjzts, list_mode: False)\n",
      "dir bsltmjz, (cwd: frcmjzts, list_mode: True)\n",
      "dir jfzgrbm, (cwd: frcmjzts, list_mode: True)\n",
      "$ cd bsltmjz, (cwd: frcmjzts, list_mode: True)\n",
      "$ ls, (cwd: bsltmjz, list_mode: False)\n",
      "34237 dzdfc.vqq, (cwd: bsltmjz, list_mode: True)\n",
      "58741 mdgdhqgw, (cwd: bsltmjz, list_mode: True)\n",
      "$ cd .., (cwd: bsltmjz, list_mode: True)\n",
      "$ cd jfzgrbm, (cwd: frcmjzts, list_mode: False)\n",
      "$ ls, (cwd: jfzgrbm, list_mode: False)\n",
      "132811 fcmpng, (cwd: jfzgrbm, list_mode: True)\n",
      "103661 lgt.swt, (cwd: jfzgrbm, list_mode: True)\n",
      "173031 vqgsglwq, (cwd: jfzgrbm, list_mode: True)\n",
      "29134 wprjfg.zbr, (cwd: jfzgrbm, list_mode: True)\n",
      "$ cd .., (cwd: jfzgrbm, list_mode: True)\n",
      "$ cd .., (cwd: frcmjzts, list_mode: False)\n",
      "$ cd phqcg, (cwd: plws, list_mode: False)\n",
      "$ ls, (cwd: phqcg, list_mode: False)\n",
      "955 jgfs.zjw, (cwd: phqcg, list_mode: True)\n",
      "$ cd .., (cwd: phqcg, list_mode: True)\n",
      "$ cd .., (cwd: plws, list_mode: False)\n",
      "$ cd pwlbgbz, (cwd: root, list_mode: False)\n",
      "$ ls, (cwd: pwlbgbz, list_mode: False)\n",
      "dir gbg, (cwd: pwlbgbz, list_mode: True)\n",
      "dir mjzhcwrd, (cwd: pwlbgbz, list_mode: True)\n",
      "dir njcscpj, (cwd: pwlbgbz, list_mode: True)\n",
      "dir sphbzn, (cwd: pwlbgbz, list_mode: True)\n",
      "dir tbgjpphc, (cwd: pwlbgbz, list_mode: True)\n",
      "55938 tvrfpczc.djm, (cwd: pwlbgbz, list_mode: True)\n",
      "4840 twd, (cwd: pwlbgbz, list_mode: True)\n",
      "$ cd gbg, (cwd: pwlbgbz, list_mode: True)\n",
      "$ ls, (cwd: gbg, list_mode: False)\n",
      "287003 fcsjl.bzm, (cwd: gbg, list_mode: True)\n",
      "dir wgq, (cwd: gbg, list_mode: True)\n",
      "$ cd wgq, (cwd: gbg, list_mode: True)\n",
      "$ ls, (cwd: wgq, list_mode: False)\n",
      "22963 fcsjl.fcm, (cwd: wgq, list_mode: True)\n",
      "$ cd .., (cwd: wgq, list_mode: True)\n",
      "$ cd .., (cwd: gbg, list_mode: False)\n",
      "$ cd mjzhcwrd, (cwd: pwlbgbz, list_mode: False)\n",
      "$ ls, (cwd: mjzhcwrd, list_mode: False)\n",
      "228632 clfnpmbq.zmb, (cwd: mjzhcwrd, list_mode: True)\n",
      "28276 dzdfc.vqq, (cwd: mjzhcwrd, list_mode: True)\n",
      "2982 tdbg.wgn, (cwd: mjzhcwrd, list_mode: True)\n",
      "$ cd .., (cwd: mjzhcwrd, list_mode: True)\n",
      "$ cd njcscpj, (cwd: pwlbgbz, list_mode: False)\n",
      "$ ls, (cwd: njcscpj, list_mode: False)\n",
      "dir dqzgqgv, (cwd: njcscpj, list_mode: True)\n",
      "275186 ffpzc, (cwd: njcscpj, list_mode: True)\n",
      "192491 gjnflc.plq, (cwd: njcscpj, list_mode: True)\n",
      "$ cd dqzgqgv, (cwd: njcscpj, list_mode: True)\n",
      "$ ls, (cwd: dqzgqgv, list_mode: False)\n",
      "70309 dzdfc.vqq, (cwd: dqzgqgv, list_mode: True)\n",
      "56139 fcsjl, (cwd: dqzgqgv, list_mode: True)\n",
      "142095 sgwz.cdz, (cwd: dqzgqgv, list_mode: True)\n",
      "dir snjntth, (cwd: dqzgqgv, list_mode: True)\n",
      "dir sphbzn, (cwd: dqzgqgv, list_mode: True)\n",
      "284618 wjlmgq, (cwd: dqzgqgv, list_mode: True)\n",
      "$ cd snjntth, (cwd: dqzgqgv, list_mode: True)\n",
      "$ ls, (cwd: snjntth, list_mode: False)\n",
      "51918 ffpzc, (cwd: snjntth, list_mode: True)\n",
      "dir vrfgfds, (cwd: snjntth, list_mode: True)\n",
      "$ cd vrfgfds, (cwd: snjntth, list_mode: True)\n",
      "$ ls, (cwd: vrfgfds, list_mode: False)\n",
      "155233 jlscz, (cwd: vrfgfds, list_mode: True)\n",
      "$ cd .., (cwd: vrfgfds, list_mode: True)\n",
      "$ cd .., (cwd: snjntth, list_mode: False)\n",
      "$ cd sphbzn, (cwd: dqzgqgv, list_mode: False)\n",
      "$ ls, (cwd: sphbzn, list_mode: False)\n",
      "dir qbzwrrw, (cwd: sphbzn, list_mode: True)\n",
      "dir qwpzn, (cwd: sphbzn, list_mode: True)\n",
      "$ cd qbzwrrw, (cwd: sphbzn, list_mode: True)\n",
      "$ ls, (cwd: qbzwrrw, list_mode: False)\n",
      "278531 fcsjl.tqj, (cwd: qbzwrrw, list_mode: True)\n",
      "211591 snjntth.gpd, (cwd: qbzwrrw, list_mode: True)\n",
      "$ cd .., (cwd: qbzwrrw, list_mode: True)\n",
      "$ cd qwpzn, (cwd: sphbzn, list_mode: False)\n",
      "$ ls, (cwd: qwpzn, list_mode: False)\n",
      "174183 vqgsglwq, (cwd: qwpzn, list_mode: True)\n",
      "$ cd .., (cwd: qwpzn, list_mode: True)\n",
      "$ cd .., (cwd: sphbzn, list_mode: False)\n",
      "$ cd .., (cwd: dqzgqgv, list_mode: False)\n",
      "$ cd .., (cwd: njcscpj, list_mode: False)\n",
      "$ cd sphbzn, (cwd: pwlbgbz, list_mode: False)\n",
      "$ ls, (cwd: sphbzn, list_mode: False)\n",
      "185471 bsltmjz.fqz, (cwd: sphbzn, list_mode: True)\n",
      "dir bsvh, (cwd: sphbzn, list_mode: True)\n",
      "dir fvzcs, (cwd: sphbzn, list_mode: True)\n",
      "dir ndw, (cwd: sphbzn, list_mode: True)\n",
      "dir nlml, (cwd: sphbzn, list_mode: True)\n",
      "dir pcbt, (cwd: sphbzn, list_mode: True)\n",
      "286260 zhcmrpvt, (cwd: sphbzn, list_mode: True)\n",
      "$ cd bsvh, (cwd: sphbzn, list_mode: True)\n",
      "$ ls, (cwd: bsvh, list_mode: False)\n",
      "130814 wjlmgq, (cwd: bsvh, list_mode: True)\n",
      "$ cd .., (cwd: bsvh, list_mode: True)\n",
      "$ cd fvzcs, (cwd: sphbzn, list_mode: False)\n",
      "$ ls, (cwd: fvzcs, list_mode: False)\n",
      "dir cgmv, (cwd: fvzcs, list_mode: True)\n",
      "dir ggzwljr, (cwd: fvzcs, list_mode: True)\n",
      "298241 qvzghdpw.lms, (cwd: fvzcs, list_mode: True)\n",
      "dir snjntth, (cwd: fvzcs, list_mode: True)\n",
      "dir sphbzn, (cwd: fvzcs, list_mode: True)\n",
      "$ cd cgmv, (cwd: fvzcs, list_mode: True)\n",
      "$ ls, (cwd: cgmv, list_mode: False)\n",
      "46843 dzdfc.vqq, (cwd: cgmv, list_mode: True)\n",
      "dir lmqcbbm, (cwd: cgmv, list_mode: True)\n",
      "dir rstcqsmd, (cwd: cgmv, list_mode: True)\n",
      "215261 snjntth, (cwd: cgmv, list_mode: True)\n",
      "$ cd lmqcbbm, (cwd: cgmv, list_mode: True)\n",
      "$ ls, (cwd: lmqcbbm, list_mode: False)\n",
      "229898 bdmbvgp, (cwd: lmqcbbm, list_mode: True)\n",
      "25529 ffpzc.stm, (cwd: lmqcbbm, list_mode: True)\n",
      "16871 lnpjzvg.qlj, (cwd: lmqcbbm, list_mode: True)\n",
      "$ cd .., (cwd: lmqcbbm, list_mode: True)\n",
      "$ cd rstcqsmd, (cwd: cgmv, list_mode: False)\n",
      "$ ls, (cwd: rstcqsmd, list_mode: False)\n",
      "289038 zrbbbwng.smf, (cwd: rstcqsmd, list_mode: True)\n",
      "$ cd .., (cwd: rstcqsmd, list_mode: True)\n",
      "$ cd .., (cwd: cgmv, list_mode: False)\n",
      "$ cd ggzwljr, (cwd: fvzcs, list_mode: False)\n",
      "$ ls, (cwd: ggzwljr, list_mode: False)\n",
      "198200 bcthn, (cwd: ggzwljr, list_mode: True)\n",
      "$ cd .., (cwd: ggzwljr, list_mode: True)\n",
      "$ cd snjntth, (cwd: fvzcs, list_mode: False)\n",
      "$ ls, (cwd: snjntth, list_mode: False)\n",
      "191672 fwp.phf, (cwd: snjntth, list_mode: True)\n",
      "68229 hzs.zpg, (cwd: snjntth, list_mode: True)\n",
      "dir pggcwb, (cwd: snjntth, list_mode: True)\n",
      "222426 qbv.bwj, (cwd: snjntth, list_mode: True)\n",
      "dir snjntth, (cwd: snjntth, list_mode: True)\n",
      "155354 vmqcm, (cwd: snjntth, list_mode: True)\n",
      "$ cd pggcwb, (cwd: snjntth, list_mode: True)\n",
      "$ ls, (cwd: pggcwb, list_mode: False)\n",
      "154272 fqztwvnv.lvv, (cwd: pggcwb, list_mode: True)\n",
      "dir pdjg, (cwd: pggcwb, list_mode: True)\n",
      "62393 vqgsglwq, (cwd: pggcwb, list_mode: True)\n",
      "dir wjhrtg, (cwd: pggcwb, list_mode: True)\n",
      "$ cd pdjg, (cwd: pggcwb, list_mode: True)\n",
      "$ ls, (cwd: pdjg, list_mode: False)\n",
      "260644 gvhlrcf, (cwd: pdjg, list_mode: True)\n",
      "209906 wpls.pbd, (cwd: pdjg, list_mode: True)\n",
      "$ cd .., (cwd: pdjg, list_mode: True)\n",
      "$ cd wjhrtg, (cwd: pggcwb, list_mode: False)\n",
      "$ ls, (cwd: wjhrtg, list_mode: False)\n",
      "148640 dljf.zrq, (cwd: wjhrtg, list_mode: True)\n",
      "172168 dzdfc.vqq, (cwd: wjhrtg, list_mode: True)\n",
      "196203 hjdphcfm, (cwd: wjhrtg, list_mode: True)\n",
      "247620 sgwz.cdz, (cwd: wjhrtg, list_mode: True)\n",
      "$ cd .., (cwd: wjhrtg, list_mode: True)\n",
      "$ cd .., (cwd: pggcwb, list_mode: False)\n",
      "$ cd snjntth, (cwd: snjntth, list_mode: False)\n",
      "$ ls, (cwd: snjntth, list_mode: False)\n",
      "37467 ndlshlmj.cjq, (cwd: snjntth, list_mode: True)\n",
      "257404 snjntth.nsf, (cwd: snjntth, list_mode: True)\n",
      "$ cd .., (cwd: snjntth, list_mode: True)\n",
      "$ cd .., (cwd: snjntth, list_mode: False)\n",
      "$ cd sphbzn, (cwd: snjntth, list_mode: False)\n",
      "$ ls, (cwd: sphbzn, list_mode: False)\n",
      "64082 bfdv.lwv, (cwd: sphbzn, list_mode: True)\n",
      "dir bsltmjz, (cwd: sphbzn, list_mode: True)\n",
      "58942 dzdfc.vqq, (cwd: sphbzn, list_mode: True)\n",
      "dir snjntth, (cwd: sphbzn, list_mode: True)\n",
      "$ cd bsltmjz, (cwd: sphbzn, list_mode: True)\n",
      "$ ls, (cwd: bsltmjz, list_mode: False)\n",
      "dir bsqqdr, (cwd: bsltmjz, list_mode: True)\n",
      "266007 fcsjl.gfm, (cwd: bsltmjz, list_mode: True)\n",
      "dir ffpzc, (cwd: bsltmjz, list_mode: True)\n",
      "dir frsmrd, (cwd: bsltmjz, list_mode: True)\n",
      "72122 nthnhzwf, (cwd: bsltmjz, list_mode: True)\n",
      "286705 wjlmgq, (cwd: bsltmjz, list_mode: True)\n",
      "$ cd bsqqdr, (cwd: bsltmjz, list_mode: True)\n",
      "$ ls, (cwd: bsqqdr, list_mode: False)\n",
      "117496 wcqt, (cwd: bsqqdr, list_mode: True)\n",
      "$ cd .., (cwd: bsqqdr, list_mode: True)\n",
      "$ cd ffpzc, (cwd: bsltmjz, list_mode: False)\n",
      "$ ls, (cwd: ffpzc, list_mode: False)\n",
      "280224 mmnvqn.hqb, (cwd: ffpzc, list_mode: True)\n",
      "105346 vrr, (cwd: ffpzc, list_mode: True)\n",
      "$ cd .., (cwd: ffpzc, list_mode: True)\n",
      "$ cd frsmrd, (cwd: bsltmjz, list_mode: False)\n",
      "$ ls, (cwd: frsmrd, list_mode: False)\n",
      "111509 sphbzn.shz, (cwd: frsmrd, list_mode: True)\n",
      "$ cd .., (cwd: frsmrd, list_mode: True)\n",
      "$ cd .., (cwd: bsltmjz, list_mode: False)\n",
      "$ cd snjntth, (cwd: sphbzn, list_mode: False)\n",
      "$ ls, (cwd: snjntth, list_mode: False)\n",
      "177491 mplj, (cwd: snjntth, list_mode: True)\n",
      "9029 pvbz.jwn, (cwd: snjntth, list_mode: True)\n",
      "92891 snjntth.zrv, (cwd: snjntth, list_mode: True)\n",
      "203356 vnnnw.gql, (cwd: snjntth, list_mode: True)\n",
      "134728 vqgsglwq, (cwd: snjntth, list_mode: True)\n",
      "$ cd .., (cwd: snjntth, list_mode: True)\n",
      "$ cd .., (cwd: sphbzn, list_mode: False)\n",
      "$ cd .., (cwd: fvzcs, list_mode: False)\n",
      "$ cd ndw, (cwd: sphbzn, list_mode: False)\n",
      "$ ls, (cwd: ndw, list_mode: False)\n",
      "241303 bht.rpj, (cwd: ndw, list_mode: True)\n",
      "173068 vqgsglwq, (cwd: ndw, list_mode: True)\n",
      "$ cd .., (cwd: ndw, list_mode: True)\n",
      "$ cd nlml, (cwd: sphbzn, list_mode: False)\n",
      "$ ls, (cwd: nlml, list_mode: False)\n",
      "228982 hzglfpvq.ftt, (cwd: nlml, list_mode: True)\n",
      "114981 sgwz.cdz, (cwd: nlml, list_mode: True)\n",
      "$ cd .., (cwd: nlml, list_mode: True)\n",
      "$ cd pcbt, (cwd: sphbzn, list_mode: False)\n",
      "$ ls, (cwd: pcbt, list_mode: False)\n",
      "dir bsltmjz, (cwd: pcbt, list_mode: True)\n",
      "dir ffpzc, (cwd: pcbt, list_mode: True)\n",
      "dir fjsjwfg, (cwd: pcbt, list_mode: True)\n",
      "dir fwm, (cwd: pcbt, list_mode: True)\n",
      "dir jvwt, (cwd: pcbt, list_mode: True)\n",
      "227943 tmr.jdc, (cwd: pcbt, list_mode: True)\n",
      "dir vwpqzdwh, (cwd: pcbt, list_mode: True)\n",
      "31258 wjlmgq, (cwd: pcbt, list_mode: True)\n",
      "$ cd bsltmjz, (cwd: pcbt, list_mode: True)\n",
      "$ ls, (cwd: bsltmjz, list_mode: False)\n",
      "177750 bsltmjz.spj, (cwd: bsltmjz, list_mode: True)\n",
      "dir ffpzc, (cwd: bsltmjz, list_mode: True)\n",
      "dir flrpwfs, (cwd: bsltmjz, list_mode: True)\n",
      "138824 mtmdtcpv.cfj, (cwd: bsltmjz, list_mode: True)\n",
      "165770 wzqwczj.qwn, (cwd: bsltmjz, list_mode: True)\n",
      "$ cd ffpzc, (cwd: bsltmjz, list_mode: True)\n",
      "$ ls, (cwd: ffpzc, list_mode: False)\n",
      "179645 snjntth.dss, (cwd: ffpzc, list_mode: True)\n",
      "$ cd .., (cwd: ffpzc, list_mode: True)\n",
      "$ cd flrpwfs, (cwd: bsltmjz, list_mode: False)\n",
      "$ ls, (cwd: flrpwfs, list_mode: False)\n",
      "60566 wvjq.gmm, (cwd: flrpwfs, list_mode: True)\n",
      "$ cd .., (cwd: flrpwfs, list_mode: True)\n",
      "$ cd .., (cwd: bsltmjz, list_mode: False)\n",
      "$ cd ffpzc, (cwd: pcbt, list_mode: False)\n",
      "$ ls, (cwd: ffpzc, list_mode: False)\n",
      "97847 qzhhtmd.bhw, (cwd: ffpzc, list_mode: True)\n",
      "1197 vqgsglwq, (cwd: ffpzc, list_mode: True)\n",
      "$ cd .., (cwd: ffpzc, list_mode: True)\n",
      "$ cd fjsjwfg, (cwd: bsltmjz, list_mode: False)\n",
      "$ ls, (cwd: fjsjwfg, list_mode: False)\n",
      "152232 dnsdd.jgz, (cwd: fjsjwfg, list_mode: True)\n",
      "181301 gsb.wsh, (cwd: fjsjwfg, list_mode: True)\n",
      "dir jqpb, (cwd: fjsjwfg, list_mode: True)\n",
      "dir jscbg, (cwd: fjsjwfg, list_mode: True)\n",
      "dir snjntth, (cwd: fjsjwfg, list_mode: True)\n",
      "227677 snjntth.vvg, (cwd: fjsjwfg, list_mode: True)\n",
      "dir sphbzn, (cwd: fjsjwfg, list_mode: True)\n",
      "75358 vqgsglwq, (cwd: fjsjwfg, list_mode: True)\n",
      "2589 wjlmgq, (cwd: fjsjwfg, list_mode: True)\n",
      "$ cd jqpb, (cwd: fjsjwfg, list_mode: True)\n",
      "$ ls, (cwd: jqpb, list_mode: False)\n",
      "253403 mmnvqn.hqb, (cwd: jqpb, list_mode: True)\n",
      "108325 rvq.mrc, (cwd: jqpb, list_mode: True)\n",
      "$ cd .., (cwd: jqpb, list_mode: True)\n",
      "$ cd jscbg, (cwd: fjsjwfg, list_mode: False)\n",
      "$ ls, (cwd: jscbg, list_mode: False)\n",
      "dir dtm, (cwd: jscbg, list_mode: True)\n",
      "dir gsdnz, (cwd: jscbg, list_mode: True)\n",
      "208269 prh, (cwd: jscbg, list_mode: True)\n",
      "25977 qdzljgh, (cwd: jscbg, list_mode: True)\n",
      "169262 vmnq.mth, (cwd: jscbg, list_mode: True)\n",
      "$ cd dtm, (cwd: jscbg, list_mode: True)\n",
      "$ ls, (cwd: dtm, list_mode: False)\n",
      "80072 gzqnb, (cwd: dtm, list_mode: True)\n",
      "$ cd .., (cwd: dtm, list_mode: True)\n",
      "$ cd gsdnz, (cwd: jscbg, list_mode: False)\n",
      "$ ls, (cwd: gsdnz, list_mode: False)\n",
      "dir dsqzjs, (cwd: gsdnz, list_mode: True)\n",
      "297895 sgwz.cdz, (cwd: gsdnz, list_mode: True)\n",
      "129983 vqgsglwq, (cwd: gsdnz, list_mode: True)\n",
      "$ cd dsqzjs, (cwd: gsdnz, list_mode: True)\n",
      "$ ls, (cwd: dsqzjs, list_mode: False)\n",
      "2621 jqrlsf.gzs, (cwd: dsqzjs, list_mode: True)\n",
      "164844 snjntth, (cwd: dsqzjs, list_mode: True)\n",
      "$ cd .., (cwd: dsqzjs, list_mode: True)\n",
      "$ cd .., (cwd: gsdnz, list_mode: False)\n",
      "$ cd .., (cwd: jscbg, list_mode: False)\n",
      "$ cd snjntth, (cwd: fjsjwfg, list_mode: False)\n",
      "$ ls, (cwd: snjntth, list_mode: False)\n",
      "118553 cbhql, (cwd: snjntth, list_mode: True)\n",
      "dir ffpzc, (cwd: snjntth, list_mode: True)\n",
      "dir snjntth, (cwd: snjntth, list_mode: True)\n",
      "$ cd ffpzc, (cwd: snjntth, list_mode: True)\n",
      "$ ls, (cwd: ffpzc, list_mode: False)\n",
      "dir lmn, (cwd: ffpzc, list_mode: True)\n",
      "12104 tvlwn.vhh, (cwd: ffpzc, list_mode: True)\n",
      "$ cd lmn, (cwd: ffpzc, list_mode: True)\n",
      "$ ls, (cwd: lmn, list_mode: False)\n",
      "46401 bsltmjz, (cwd: lmn, list_mode: True)\n",
      "96888 shrnqhvq, (cwd: lmn, list_mode: True)\n",
      "$ cd .., (cwd: lmn, list_mode: True)\n",
      "$ cd .., (cwd: ffpzc, list_mode: False)\n",
      "$ cd snjntth, (cwd: snjntth, list_mode: False)\n",
      "$ ls, (cwd: snjntth, list_mode: False)\n",
      "dir snjntth, (cwd: snjntth, list_mode: True)\n",
      "dir vlnfhbq, (cwd: snjntth, list_mode: True)\n",
      "dir wpwl, (cwd: snjntth, list_mode: True)\n",
      "$ cd snjntth, (cwd: snjntth, list_mode: True)\n",
      "$ ls, (cwd: snjntth, list_mode: False)\n",
      "dir ctj, (cwd: snjntth, list_mode: True)\n",
      "$ cd ctj, (cwd: snjntth, list_mode: True)\n",
      "$ ls, (cwd: ctj, list_mode: False)\n",
      "82485 fcsjl.lfl, (cwd: ctj, list_mode: True)\n",
      "$ cd .., (cwd: ctj, list_mode: True)\n",
      "$ cd .., (cwd: snjntth, list_mode: False)\n",
      "$ cd vlnfhbq, (cwd: snjntth, list_mode: False)\n",
      "$ ls, (cwd: vlnfhbq, list_mode: False)\n",
      "250106 qvf, (cwd: vlnfhbq, list_mode: True)\n",
      "$ cd .., (cwd: vlnfhbq, list_mode: True)\n",
      "$ cd wpwl, (cwd: snjntth, list_mode: False)\n",
      "$ ls, (cwd: wpwl, list_mode: False)\n",
      "153950 cmsd.rlg, (cwd: wpwl, list_mode: True)\n",
      "$ cd .., (cwd: wpwl, list_mode: True)\n",
      "$ cd .., (cwd: snjntth, list_mode: False)\n",
      "$ cd .., (cwd: snjntth, list_mode: False)\n",
      "$ cd sphbzn, (cwd: snjntth, list_mode: False)\n",
      "$ ls, (cwd: sphbzn, list_mode: False)\n",
      "dir glgq, (cwd: sphbzn, list_mode: True)\n",
      "$ cd glgq, (cwd: sphbzn, list_mode: True)\n",
      "$ ls, (cwd: glgq, list_mode: False)\n",
      "285182 wjlmgq, (cwd: glgq, list_mode: True)\n",
      "$ cd .., (cwd: glgq, list_mode: True)\n",
      "$ cd .., (cwd: sphbzn, list_mode: False)\n",
      "$ cd .., (cwd: fjsjwfg, list_mode: False)\n",
      "$ cd fwm, (cwd: pcbt, list_mode: False)\n",
      "$ ls, (cwd: fwm, list_mode: False)\n",
      "251865 ffpzc.qgb, (cwd: fwm, list_mode: True)\n",
      "279522 zvvpfqtp, (cwd: fwm, list_mode: True)\n",
      "$ cd .., (cwd: fwm, list_mode: True)\n",
      "$ cd jvwt, (cwd: pcbt, list_mode: False)\n",
      "$ ls, (cwd: jvwt, list_mode: False)\n",
      "48990 bsltmjz.nzp, (cwd: jvwt, list_mode: True)\n",
      "219604 ffpzc, (cwd: jvwt, list_mode: True)\n",
      "69573 mvmdfzr.lwb, (cwd: jvwt, list_mode: True)\n",
      "$ cd .., (cwd: jvwt, list_mode: True)\n",
      "$ cd vwpqzdwh, (cwd: pcbt, list_mode: False)\n",
      "$ ls, (cwd: vwpqzdwh, list_mode: False)\n",
      "267581 pvcch, (cwd: vwpqzdwh, list_mode: True)\n",
      "$ cd .., (cwd: vwpqzdwh, list_mode: True)\n",
      "$ cd .., (cwd: pcbt, list_mode: False)\n",
      "$ cd .., (cwd: sphbzn, list_mode: False)\n",
      "$ cd tbgjpphc, (cwd: fjsjwfg, list_mode: False)\n",
      "$ ls, (cwd: tbgjpphc, list_mode: False)\n",
      "255571 dstpcgr.tfq, (cwd: tbgjpphc, list_mode: True)\n",
      "dir fdbwbrpp, (cwd: tbgjpphc, list_mode: True)\n",
      "dir gjzwh, (cwd: tbgjpphc, list_mode: True)\n",
      "dir hjvrtjt, (cwd: tbgjpphc, list_mode: True)\n",
      "dir rhzczj, (cwd: tbgjpphc, list_mode: True)\n",
      "292888 sgwz.cdz, (cwd: tbgjpphc, list_mode: True)\n",
      "dir wlzhr, (cwd: tbgjpphc, list_mode: True)\n",
      "149395 wnfzrqgz.dtn, (cwd: tbgjpphc, list_mode: True)\n",
      "$ cd fdbwbrpp, (cwd: tbgjpphc, list_mode: True)\n",
      "$ ls, (cwd: fdbwbrpp, list_mode: False)\n",
      "dir ffpzc, (cwd: fdbwbrpp, list_mode: True)\n",
      "dir qbrth, (cwd: fdbwbrpp, list_mode: True)\n",
      "51164 qprp, (cwd: fdbwbrpp, list_mode: True)\n",
      "dir slpt, (cwd: fdbwbrpp, list_mode: True)\n",
      "117026 sphbzn, (cwd: fdbwbrpp, list_mode: True)\n",
      "295685 vqgsglwq, (cwd: fdbwbrpp, list_mode: True)\n",
      "dir znmj, (cwd: fdbwbrpp, list_mode: True)\n",
      "$ cd ffpzc, (cwd: fdbwbrpp, list_mode: True)\n",
      "$ ls, (cwd: ffpzc, list_mode: False)\n",
      "dir jhnzrdvb, (cwd: ffpzc, list_mode: True)\n",
      "$ cd jhnzrdvb, (cwd: ffpzc, list_mode: True)\n",
      "$ ls, (cwd: jhnzrdvb, list_mode: False)\n",
      "217775 ffpzc.sgw, (cwd: jhnzrdvb, list_mode: True)\n",
      "$ cd .., (cwd: jhnzrdvb, list_mode: True)\n",
      "$ cd .., (cwd: ffpzc, list_mode: False)\n",
      "$ cd qbrth, (cwd: fdbwbrpp, list_mode: False)\n",
      "$ ls, (cwd: qbrth, list_mode: False)\n",
      "183969 lpbwgfjv.vcg, (cwd: qbrth, list_mode: True)\n",
      "47333 wjlmgq, (cwd: qbrth, list_mode: True)\n",
      "$ cd .., (cwd: qbrth, list_mode: True)\n",
      "$ cd slpt, (cwd: fdbwbrpp, list_mode: False)\n",
      "$ ls, (cwd: slpt, list_mode: False)\n",
      "32343 tqhtj.jwz, (cwd: slpt, list_mode: True)\n",
      "$ cd .., (cwd: slpt, list_mode: True)\n",
      "$ cd znmj, (cwd: fdbwbrpp, list_mode: False)\n",
      "$ ls, (cwd: znmj, list_mode: False)\n",
      "55058 mmnvqn.hqb, (cwd: znmj, list_mode: True)\n",
      "$ cd .., (cwd: znmj, list_mode: True)\n",
      "$ cd .., (cwd: fdbwbrpp, list_mode: False)\n",
      "$ cd gjzwh, (cwd: tbgjpphc, list_mode: False)\n",
      "$ ls, (cwd: gjzwh, list_mode: False)\n",
      "dir dvcbcd, (cwd: gjzwh, list_mode: True)\n",
      "202530 dzdfc.vqq, (cwd: gjzwh, list_mode: True)\n",
      "dir fsgz, (cwd: gjzwh, list_mode: True)\n",
      "dir hfrrqq, (cwd: gjzwh, list_mode: True)\n",
      "54897 jlzn.qsn, (cwd: gjzwh, list_mode: True)\n",
      "16097 ldzqsbb.jzl, (cwd: gjzwh, list_mode: True)\n",
      "225078 pswccrd, (cwd: gjzwh, list_mode: True)\n",
      "dir rqqmldw, (cwd: gjzwh, list_mode: True)\n",
      "292464 rzrdhbp.vld, (cwd: gjzwh, list_mode: True)\n",
      "dir ssqbqqp, (cwd: gjzwh, list_mode: True)\n",
      "dir zsztqrc, (cwd: gjzwh, list_mode: True)\n",
      "$ cd dvcbcd, (cwd: gjzwh, list_mode: True)\n",
      "$ ls, (cwd: dvcbcd, list_mode: False)\n",
      "187837 dzdfc.vqq, (cwd: dvcbcd, list_mode: True)\n",
      "dir jlwtvf, (cwd: dvcbcd, list_mode: True)\n",
      "dir jnjvshs, (cwd: dvcbcd, list_mode: True)\n",
      "164053 nrf.fqd, (cwd: dvcbcd, list_mode: True)\n",
      "5665 tlp.jmt, (cwd: dvcbcd, list_mode: True)\n",
      "13801 wjlmgq, (cwd: dvcbcd, list_mode: True)\n",
      "$ cd jlwtvf, (cwd: dvcbcd, list_mode: True)\n",
      "$ ls, (cwd: jlwtvf, list_mode: False)\n",
      "219985 sphbzn.dvj, (cwd: jlwtvf, list_mode: True)\n",
      "$ cd .., (cwd: jlwtvf, list_mode: True)\n",
      "$ cd jnjvshs, (cwd: dvcbcd, list_mode: False)\n",
      "$ ls, (cwd: jnjvshs, list_mode: False)\n",
      "dir bsltmjz, (cwd: jnjvshs, list_mode: True)\n",
      "dir nrpm, (cwd: jnjvshs, list_mode: True)\n",
      "$ cd bsltmjz, (cwd: jnjvshs, list_mode: True)\n",
      "$ ls, (cwd: bsltmjz, list_mode: False)\n",
      "152972 qgdqj, (cwd: bsltmjz, list_mode: True)\n",
      "$ cd .., (cwd: bsltmjz, list_mode: True)\n",
      "$ cd nrpm, (cwd: jnjvshs, list_mode: False)\n",
      "$ ls, (cwd: nrpm, list_mode: False)\n",
      "18509 wjlmgq, (cwd: nrpm, list_mode: True)\n",
      "$ cd .., (cwd: nrpm, list_mode: True)\n",
      "$ cd .., (cwd: jnjvshs, list_mode: False)\n",
      "$ cd .., (cwd: dvcbcd, list_mode: False)\n",
      "$ cd fsgz, (cwd: gjzwh, list_mode: False)\n",
      "$ ls, (cwd: fsgz, list_mode: False)\n",
      "224576 mmnvqn.hqb, (cwd: fsgz, list_mode: True)\n",
      "$ cd .., (cwd: fsgz, list_mode: True)\n",
      "$ cd hfrrqq, (cwd: gjzwh, list_mode: False)\n",
      "$ ls, (cwd: hfrrqq, list_mode: False)\n",
      "dir bwgsnfvb, (cwd: hfrrqq, list_mode: True)\n",
      "dir fcsjl, (cwd: hfrrqq, list_mode: True)\n",
      "294608 ffpzc.gvm, (cwd: hfrrqq, list_mode: True)\n",
      "136880 qjcgtw, (cwd: hfrrqq, list_mode: True)\n",
      "dir sphbzn, (cwd: hfrrqq, list_mode: True)\n",
      "$ cd bwgsnfvb, (cwd: hfrrqq, list_mode: True)\n",
      "$ ls, (cwd: bwgsnfvb, list_mode: False)\n",
      "29735 dzdfc.vqq, (cwd: bwgsnfvb, list_mode: True)\n",
      "dir wstmzfml, (cwd: bwgsnfvb, list_mode: True)\n",
      "$ cd wstmzfml, (cwd: bwgsnfvb, list_mode: True)\n",
      "$ ls, (cwd: wstmzfml, list_mode: False)\n",
      "158447 bnvhbvvc.nrt, (cwd: wstmzfml, list_mode: True)\n",
      "59889 jclclgd, (cwd: wstmzfml, list_mode: True)\n",
      "$ cd .., (cwd: wstmzfml, list_mode: True)\n",
      "$ cd .., (cwd: bwgsnfvb, list_mode: False)\n",
      "$ cd fcsjl, (cwd: hfrrqq, list_mode: False)\n",
      "$ ls, (cwd: fcsjl, list_mode: False)\n",
      "138297 ffpzc.szw, (cwd: fcsjl, list_mode: True)\n",
      "$ cd .., (cwd: fcsjl, list_mode: True)\n",
      "$ cd sphbzn, (cwd: hfrrqq, list_mode: False)\n",
      "$ ls, (cwd: sphbzn, list_mode: False)\n",
      "dir wqdths, (cwd: sphbzn, list_mode: True)\n",
      "$ cd wqdths, (cwd: sphbzn, list_mode: True)\n",
      "$ ls, (cwd: wqdths, list_mode: False)\n",
      "8326 cgvtw.jpz, (cwd: wqdths, list_mode: True)\n",
      "$ cd .., (cwd: wqdths, list_mode: True)\n",
      "$ cd .., (cwd: sphbzn, list_mode: False)\n",
      "$ cd .., (cwd: hfrrqq, list_mode: False)\n",
      "$ cd rqqmldw, (cwd: gjzwh, list_mode: False)\n",
      "$ ls, (cwd: rqqmldw, list_mode: False)\n",
      "226757 dzdfc.vqq, (cwd: rqqmldw, list_mode: True)\n",
      "115055 mwb.btc, (cwd: rqqmldw, list_mode: True)\n",
      "dir qpts, (cwd: rqqmldw, list_mode: True)\n",
      "298524 sgwz.cdz, (cwd: rqqmldw, list_mode: True)\n",
      "$ cd qpts, (cwd: rqqmldw, list_mode: True)\n",
      "$ ls, (cwd: qpts, list_mode: False)\n",
      "60860 bsltmjz.frp, (cwd: qpts, list_mode: True)\n",
      "dir fcsjl, (cwd: qpts, list_mode: True)\n",
      "94904 sgwz.cdz, (cwd: qpts, list_mode: True)\n",
      "dir wnmqqspz, (cwd: qpts, list_mode: True)\n",
      "$ cd fcsjl, (cwd: qpts, list_mode: True)\n",
      "$ ls, (cwd: fcsjl, list_mode: False)\n",
      "25082 mmnvqn.hqb, (cwd: fcsjl, list_mode: True)\n",
      "$ cd .., (cwd: fcsjl, list_mode: True)\n",
      "$ cd wnmqqspz, (cwd: qpts, list_mode: False)\n",
      "$ ls, (cwd: wnmqqspz, list_mode: False)\n",
      "165529 sgwz.cdz, (cwd: wnmqqspz, list_mode: True)\n",
      "$ cd .., (cwd: wnmqqspz, list_mode: True)\n",
      "$ cd .., (cwd: qpts, list_mode: False)\n",
      "$ cd .., (cwd: rqqmldw, list_mode: False)\n",
      "$ cd ssqbqqp, (cwd: gjzwh, list_mode: False)\n",
      "$ ls, (cwd: ssqbqqp, list_mode: False)\n",
      "192477 pvrgm, (cwd: ssqbqqp, list_mode: True)\n",
      "$ cd .., (cwd: ssqbqqp, list_mode: True)\n",
      "$ cd zsztqrc, (cwd: gjzwh, list_mode: False)\n",
      "$ ls, (cwd: zsztqrc, list_mode: False)\n",
      "254053 lht.htn, (cwd: zsztqrc, list_mode: True)\n",
      "$ cd .., (cwd: zsztqrc, list_mode: True)\n",
      "$ cd .., (cwd: gjzwh, list_mode: False)\n",
      "$ cd hjvrtjt, (cwd: tbgjpphc, list_mode: False)\n",
      "$ ls, (cwd: hjvrtjt, list_mode: False)\n",
      "189942 fwps, (cwd: hjvrtjt, list_mode: True)\n",
      "$ cd .., (cwd: hjvrtjt, list_mode: True)\n",
      "$ cd rhzczj, (cwd: tbgjpphc, list_mode: False)\n",
      "$ ls, (cwd: rhzczj, list_mode: False)\n",
      "36502 bmtfr, (cwd: rhzczj, list_mode: True)\n",
      "dir ffjz, (cwd: rhzczj, list_mode: True)\n",
      "35148 nctfhmzm.vsz, (cwd: rhzczj, list_mode: True)\n",
      "dir qdgjzcz, (cwd: rhzczj, list_mode: True)\n",
      "208196 rwql, (cwd: rhzczj, list_mode: True)\n",
      "79863 sgwz.cdz, (cwd: rhzczj, list_mode: True)\n",
      "dir snjntth, (cwd: rhzczj, list_mode: True)\n",
      "$ cd ffjz, (cwd: rhzczj, list_mode: True)\n",
      "$ ls, (cwd: ffjz, list_mode: False)\n",
      "dir grsvhwm, (cwd: ffjz, list_mode: True)\n",
      "$ cd grsvhwm, (cwd: ffjz, list_mode: True)\n",
      "$ ls, (cwd: grsvhwm, list_mode: False)\n",
      "50231 fwj.rdv, (cwd: grsvhwm, list_mode: True)\n",
      "dir snjntth, (cwd: grsvhwm, list_mode: True)\n",
      "$ cd snjntth, (cwd: grsvhwm, list_mode: True)\n",
      "$ ls, (cwd: snjntth, list_mode: False)\n",
      "dir dtbgb, (cwd: snjntth, list_mode: True)\n",
      "$ cd dtbgb, (cwd: snjntth, list_mode: True)\n",
      "$ ls, (cwd: dtbgb, list_mode: False)\n",
      "150245 vdflm.lmq, (cwd: dtbgb, list_mode: True)\n",
      "$ cd .., (cwd: dtbgb, list_mode: True)\n",
      "$ cd .., (cwd: snjntth, list_mode: False)\n",
      "$ cd .., (cwd: grsvhwm, list_mode: False)\n",
      "$ cd .., (cwd: ffjz, list_mode: False)\n",
      "$ cd qdgjzcz, (cwd: rhzczj, list_mode: False)\n",
      "$ ls, (cwd: qdgjzcz, list_mode: False)\n",
      "222389 dzdfc.vqq, (cwd: qdgjzcz, list_mode: True)\n",
      "$ cd .., (cwd: qdgjzcz, list_mode: True)\n",
      "$ cd snjntth, (cwd: rhzczj, list_mode: False)\n",
      "$ ls, (cwd: snjntth, list_mode: False)\n",
      "56794 mmnvqn.hqb, (cwd: snjntth, list_mode: True)\n",
      "$ cd .., (cwd: snjntth, list_mode: True)\n",
      "$ cd .., (cwd: grsvhwm, list_mode: False)\n",
      "$ cd wlzhr, (cwd: ffjz, list_mode: False)\n",
      "$ ls, (cwd: wlzhr, list_mode: False)\n",
      "116628 bsltmjz, (cwd: wlzhr, list_mode: True)\n",
      "60122 jqpbsgnr.fgb, (cwd: wlzhr, list_mode: True)\n",
      "252605 lfss, (cwd: wlzhr, list_mode: True)\n",
      "300065 qwjdl.vhr, (cwd: wlzhr, list_mode: True)\n",
      "$ cd .., (cwd: wlzhr, list_mode: True)\n",
      "$ cd .., (cwd: tbgjpphc, list_mode: False)\n",
      "$ cd .., (cwd: pwlbgbz, list_mode: False)\n",
      "$ cd pwtpltr, (cwd: root, list_mode: False)\n",
      "$ ls, (cwd: pwtpltr, list_mode: False)\n",
      "dir dplsvrhl, (cwd: pwtpltr, list_mode: True)\n",
      "140951 gwtfzqvd.znb, (cwd: pwtpltr, list_mode: True)\n",
      "dir jbvdb, (cwd: pwtpltr, list_mode: True)\n",
      "dir jst, (cwd: pwtpltr, list_mode: True)\n",
      "dir qhjv, (cwd: pwtpltr, list_mode: True)\n",
      "dir snjntth, (cwd: pwtpltr, list_mode: True)\n",
      "$ cd dplsvrhl, (cwd: pwtpltr, list_mode: True)\n",
      "$ ls, (cwd: dplsvrhl, list_mode: False)\n",
      "272101 fcsjl, (cwd: dplsvrhl, list_mode: True)\n",
      "dir ffpzc, (cwd: dplsvrhl, list_mode: True)\n",
      "58852 mmnvqn.hqb, (cwd: dplsvrhl, list_mode: True)\n",
      "dir mnhntjz, (cwd: dplsvrhl, list_mode: True)\n",
      "91899 sgwz.cdz, (cwd: dplsvrhl, list_mode: True)\n",
      "228077 snjntth.btv, (cwd: dplsvrhl, list_mode: True)\n",
      "$ cd ffpzc, (cwd: dplsvrhl, list_mode: True)\n",
      "$ ls, (cwd: ffpzc, list_mode: False)\n",
      "5499 bsltmjz, (cwd: ffpzc, list_mode: True)\n",
      "dir qmfwpjhl, (cwd: ffpzc, list_mode: True)\n",
      "dir rsrb, (cwd: ffpzc, list_mode: True)\n",
      "dir wgt, (cwd: ffpzc, list_mode: True)\n",
      "$ cd qmfwpjhl, (cwd: ffpzc, list_mode: True)\n",
      "$ ls, (cwd: qmfwpjhl, list_mode: False)\n",
      "300362 dzdfc.vqq, (cwd: qmfwpjhl, list_mode: True)\n",
      "$ cd .., (cwd: qmfwpjhl, list_mode: True)\n",
      "$ cd rsrb, (cwd: ffpzc, list_mode: False)\n",
      "$ ls, (cwd: rsrb, list_mode: False)\n",
      "252983 dzdfc.vqq, (cwd: rsrb, list_mode: True)\n",
      "107744 ltssrgqb.zvj, (cwd: rsrb, list_mode: True)\n",
      "214895 rhglgcwr.wpw, (cwd: rsrb, list_mode: True)\n",
      "249727 sgwz.cdz, (cwd: rsrb, list_mode: True)\n",
      "$ cd .., (cwd: rsrb, list_mode: True)\n",
      "$ cd wgt, (cwd: ffpzc, list_mode: False)\n",
      "$ ls, (cwd: wgt, list_mode: False)\n",
      "141984 dzdfc.vqq, (cwd: wgt, list_mode: True)\n",
      "194686 mmnvqn.hqb, (cwd: wgt, list_mode: True)\n",
      "258023 pgr, (cwd: wgt, list_mode: True)\n",
      "$ cd .., (cwd: wgt, list_mode: True)\n",
      "$ cd .., (cwd: ffpzc, list_mode: False)\n",
      "$ cd mnhntjz, (cwd: dplsvrhl, list_mode: False)\n",
      "$ ls, (cwd: mnhntjz, list_mode: False)\n",
      "dir bdvght, (cwd: mnhntjz, list_mode: True)\n",
      "dir jprwchh, (cwd: mnhntjz, list_mode: True)\n",
      "dir snjntth, (cwd: mnhntjz, list_mode: True)\n",
      "$ cd bdvght, (cwd: mnhntjz, list_mode: True)\n",
      "$ ls, (cwd: bdvght, list_mode: False)\n",
      "243166 vpsvjdq.wsn, (cwd: bdvght, list_mode: True)\n",
      "$ cd .., (cwd: bdvght, list_mode: True)\n",
      "$ cd jprwchh, (cwd: mnhntjz, list_mode: False)\n",
      "$ ls, (cwd: jprwchh, list_mode: False)\n",
      "178943 bmpc.bjb, (cwd: jprwchh, list_mode: True)\n",
      "$ cd .., (cwd: jprwchh, list_mode: True)\n",
      "$ cd snjntth, (cwd: mnhntjz, list_mode: False)\n",
      "$ ls, (cwd: snjntth, list_mode: False)\n",
      "dir nlbm, (cwd: snjntth, list_mode: True)\n",
      "dir zjmjntff, (cwd: snjntth, list_mode: True)\n",
      "$ cd nlbm, (cwd: snjntth, list_mode: True)\n",
      "$ ls, (cwd: nlbm, list_mode: False)\n",
      "33050 fcsjl.rcc, (cwd: nlbm, list_mode: True)\n",
      "dir sphbzn, (cwd: nlbm, list_mode: True)\n",
      "17446 wjlmgq, (cwd: nlbm, list_mode: True)\n",
      "$ cd sphbzn, (cwd: nlbm, list_mode: True)\n",
      "$ ls, (cwd: sphbzn, list_mode: False)\n",
      "214563 prrfhff.pbp, (cwd: sphbzn, list_mode: True)\n",
      "$ cd .., (cwd: sphbzn, list_mode: True)\n",
      "$ cd .., (cwd: nlbm, list_mode: False)\n",
      "$ cd zjmjntff, (cwd: snjntth, list_mode: False)\n",
      "$ ls, (cwd: zjmjntff, list_mode: False)\n",
      "82134 sgwz.cdz, (cwd: zjmjntff, list_mode: True)\n",
      "52203 vrtlgdq.crp, (cwd: zjmjntff, list_mode: True)\n",
      "$ cd .., (cwd: zjmjntff, list_mode: True)\n",
      "$ cd .., (cwd: snjntth, list_mode: False)\n",
      "$ cd .., (cwd: mnhntjz, list_mode: False)\n",
      "$ cd .., (cwd: dplsvrhl, list_mode: False)\n",
      "$ cd jbvdb, (cwd: pwtpltr, list_mode: False)\n",
      "$ ls, (cwd: jbvdb, list_mode: False)\n",
      "dir wmtjh, (cwd: jbvdb, list_mode: True)\n",
      "$ cd wmtjh, (cwd: jbvdb, list_mode: True)\n",
      "$ ls, (cwd: wmtjh, list_mode: False)\n",
      "dir ggvwn, (cwd: wmtjh, list_mode: True)\n",
      "$ cd ggvwn, (cwd: wmtjh, list_mode: True)\n",
      "$ ls, (cwd: ggvwn, list_mode: False)\n",
      "192285 spqvmf.sdh, (cwd: ggvwn, list_mode: True)\n",
      "$ cd .., (cwd: ggvwn, list_mode: True)\n",
      "$ cd .., (cwd: wmtjh, list_mode: False)\n",
      "$ cd .., (cwd: jbvdb, list_mode: False)\n",
      "$ cd jst, (cwd: pwtpltr, list_mode: False)\n",
      "$ ls, (cwd: jst, list_mode: False)\n",
      "dir bsltmjz, (cwd: jst, list_mode: True)\n",
      "212740 dzdfc.vqq, (cwd: jst, list_mode: True)\n",
      "dir gncztvtb, (cwd: jst, list_mode: True)\n",
      "dir jsqjcqnt, (cwd: jst, list_mode: True)\n",
      "286257 jvs, (cwd: jst, list_mode: True)\n",
      "36654 sdcsm.mbg, (cwd: jst, list_mode: True)\n",
      "192040 sgwz.cdz, (cwd: jst, list_mode: True)\n",
      "dir tbqphzb, (cwd: jst, list_mode: True)\n",
      "dir vdcqgts, (cwd: jst, list_mode: True)\n",
      "285843 wjlmgq, (cwd: jst, list_mode: True)\n",
      "$ cd bsltmjz, (cwd: jst, list_mode: True)\n",
      "$ ls, (cwd: bsltmjz, list_mode: False)\n",
      "215705 snjntth.gpv, (cwd: bsltmjz, list_mode: True)\n",
      "213665 wjlmgq, (cwd: bsltmjz, list_mode: True)\n",
      "$ cd .., (cwd: bsltmjz, list_mode: True)\n",
      "$ cd gncztvtb, (cwd: jst, list_mode: False)\n",
      "$ ls, (cwd: gncztvtb, list_mode: False)\n",
      "229298 vqgsglwq, (cwd: gncztvtb, list_mode: True)\n",
      "$ cd .., (cwd: gncztvtb, list_mode: True)\n",
      "$ cd jsqjcqnt, (cwd: jst, list_mode: False)\n",
      "$ ls, (cwd: jsqjcqnt, list_mode: False)\n",
      "dir bsltmjz, (cwd: jsqjcqnt, list_mode: True)\n",
      "dir fcsjl, (cwd: jsqjcqnt, list_mode: True)\n",
      "dir ffpzc, (cwd: jsqjcqnt, list_mode: True)\n",
      "dir sphbzn, (cwd: jsqjcqnt, list_mode: True)\n",
      "70864 vqgsglwq, (cwd: jsqjcqnt, list_mode: True)\n",
      "$ cd bsltmjz, (cwd: jsqjcqnt, list_mode: True)\n",
      "$ ls, (cwd: bsltmjz, list_mode: False)\n",
      "14981 pqzffzjc, (cwd: bsltmjz, list_mode: True)\n",
      "$ cd .., (cwd: bsltmjz, list_mode: True)\n",
      "$ cd fcsjl, (cwd: jsqjcqnt, list_mode: False)\n",
      "$ ls, (cwd: fcsjl, list_mode: False)\n",
      "140328 jwhczwbc, (cwd: fcsjl, list_mode: True)\n",
      "$ cd .., (cwd: fcsjl, list_mode: True)\n",
      "$ cd ffpzc, (cwd: jsqjcqnt, list_mode: False)\n",
      "$ ls, (cwd: ffpzc, list_mode: False)\n",
      "213650 mmnvqn.hqb, (cwd: ffpzc, list_mode: True)\n",
      "$ cd .., (cwd: ffpzc, list_mode: True)\n",
      "$ cd sphbzn, (cwd: jsqjcqnt, list_mode: False)\n",
      "$ ls, (cwd: sphbzn, list_mode: False)\n",
      "dir psmtphhq, (cwd: sphbzn, list_mode: True)\n",
      "dir sphbzn, (cwd: sphbzn, list_mode: True)\n",
      "$ cd psmtphhq, (cwd: sphbzn, list_mode: True)\n",
      "$ ls, (cwd: psmtphhq, list_mode: False)\n",
      "dir ffpzc, (cwd: psmtphhq, list_mode: True)\n",
      "123131 tzgwd, (cwd: psmtphhq, list_mode: True)\n",
      "$ cd ffpzc, (cwd: psmtphhq, list_mode: True)\n",
      "$ ls, (cwd: ffpzc, list_mode: False)\n",
      "49737 cfngvmd, (cwd: ffpzc, list_mode: True)\n",
      "dir gcnrp, (cwd: ffpzc, list_mode: True)\n",
      "172799 gmd.cwl, (cwd: ffpzc, list_mode: True)\n",
      "dir llnztjf, (cwd: ffpzc, list_mode: True)\n",
      "dir nbqs, (cwd: ffpzc, list_mode: True)\n",
      "79661 rrqz, (cwd: ffpzc, list_mode: True)\n",
      "$ cd gcnrp, (cwd: ffpzc, list_mode: True)\n",
      "$ ls, (cwd: gcnrp, list_mode: False)\n",
      "283 vqnrgl.vwp, (cwd: gcnrp, list_mode: True)\n",
      "$ cd .., (cwd: gcnrp, list_mode: True)\n",
      "$ cd llnztjf, (cwd: ffpzc, list_mode: False)\n",
      "$ ls, (cwd: llnztjf, list_mode: False)\n",
      "63263 tjhm.bwh, (cwd: llnztjf, list_mode: True)\n",
      "$ cd .., (cwd: llnztjf, list_mode: True)\n",
      "$ cd nbqs, (cwd: ffpzc, list_mode: False)\n",
      "$ ls, (cwd: nbqs, list_mode: False)\n",
      "dir vssmq, (cwd: nbqs, list_mode: True)\n",
      "$ cd vssmq, (cwd: nbqs, list_mode: True)\n",
      "$ ls, (cwd: vssmq, list_mode: False)\n",
      "88980 dzdfc.vqq, (cwd: vssmq, list_mode: True)\n",
      "$ cd .., (cwd: vssmq, list_mode: True)\n",
      "$ cd .., (cwd: nbqs, list_mode: False)\n",
      "$ cd .., (cwd: ffpzc, list_mode: False)\n",
      "$ cd .., (cwd: psmtphhq, list_mode: False)\n",
      "$ cd sphbzn, (cwd: sphbzn, list_mode: False)\n",
      "$ ls, (cwd: sphbzn, list_mode: False)\n",
      "20140 fcsjl.zrs, (cwd: sphbzn, list_mode: True)\n",
      "260579 snjntth, (cwd: sphbzn, list_mode: True)\n",
      "$ cd .., (cwd: sphbzn, list_mode: True)\n",
      "$ cd .., (cwd: sphbzn, list_mode: False)\n",
      "$ cd .., (cwd: sphbzn, list_mode: False)\n",
      "$ cd tbqphzb, (cwd: sphbzn, list_mode: False)\n",
      "$ ls, (cwd: tbqphzb, list_mode: False)\n",
      "93470 sgwz.cdz, (cwd: tbqphzb, list_mode: True)\n",
      "$ cd .., (cwd: tbqphzb, list_mode: True)\n",
      "$ cd vdcqgts, (cwd: jst, list_mode: False)\n",
      "$ ls, (cwd: vdcqgts, list_mode: False)\n",
      "223564 dzdfc.vqq, (cwd: vdcqgts, list_mode: True)\n",
      "dir ffpzc, (cwd: vdcqgts, list_mode: True)\n",
      "dir gwhfgwf, (cwd: vdcqgts, list_mode: True)\n",
      "dir nbjtqnng, (cwd: vdcqgts, list_mode: True)\n",
      "dir snjntth, (cwd: vdcqgts, list_mode: True)\n",
      "$ cd ffpzc, (cwd: vdcqgts, list_mode: True)\n",
      "$ ls, (cwd: ffpzc, list_mode: False)\n",
      "42813 qwwmw.nmt, (cwd: ffpzc, list_mode: True)\n",
      "$ cd .., (cwd: ffpzc, list_mode: True)\n",
      "$ cd gwhfgwf, (cwd: vdcqgts, list_mode: False)\n",
      "$ ls, (cwd: gwhfgwf, list_mode: False)\n",
      "59918 jvfv.mpm, (cwd: gwhfgwf, list_mode: True)\n",
      "dir mjl, (cwd: gwhfgwf, list_mode: True)\n",
      "211039 pcwl, (cwd: gwhfgwf, list_mode: True)\n",
      "$ cd mjl, (cwd: gwhfgwf, list_mode: True)\n",
      "$ ls, (cwd: mjl, list_mode: False)\n",
      "13004 pgjb.tpq, (cwd: mjl, list_mode: True)\n",
      "195995 tms.fjz, (cwd: mjl, list_mode: True)\n",
      "$ cd .., (cwd: mjl, list_mode: True)\n",
      "$ cd .., (cwd: gwhfgwf, list_mode: False)\n",
      "$ cd nbjtqnng, (cwd: vdcqgts, list_mode: False)\n",
      "$ ls, (cwd: nbjtqnng, list_mode: False)\n",
      "107058 dzdfc.vqq, (cwd: nbjtqnng, list_mode: True)\n",
      "dir ldrsd, (cwd: nbjtqnng, list_mode: True)\n",
      "111631 vqgsglwq, (cwd: nbjtqnng, list_mode: True)\n",
      "104599 wbzmdljw.tjq, (cwd: nbjtqnng, list_mode: True)\n",
      "155747 wjlmgq, (cwd: nbjtqnng, list_mode: True)\n",
      "$ cd ldrsd, (cwd: nbjtqnng, list_mode: True)\n",
      "$ ls, (cwd: ldrsd, list_mode: False)\n",
      "107439 jvjm, (cwd: ldrsd, list_mode: True)\n",
      "$ cd .., (cwd: ldrsd, list_mode: True)\n",
      "$ cd .., (cwd: nbjtqnng, list_mode: False)\n",
      "$ cd snjntth, (cwd: vdcqgts, list_mode: False)\n",
      "$ ls, (cwd: snjntth, list_mode: False)\n",
      "242680 fgrt.gng, (cwd: snjntth, list_mode: True)\n",
      "$ cd .., (cwd: snjntth, list_mode: True)\n",
      "$ cd .., (cwd: vdcqgts, list_mode: False)\n",
      "$ cd .., (cwd: jst, list_mode: False)\n",
      "$ cd qhjv, (cwd: pwtpltr, list_mode: False)\n",
      "$ ls, (cwd: qhjv, list_mode: False)\n",
      "dir bmnm, (cwd: qhjv, list_mode: True)\n",
      "68453 hjjpdgn.hwl, (cwd: qhjv, list_mode: True)\n",
      "dir sjlbj, (cwd: qhjv, list_mode: True)\n",
      "dir vqnrj, (cwd: qhjv, list_mode: True)\n",
      "$ cd bmnm, (cwd: qhjv, list_mode: True)\n",
      "$ ls, (cwd: bmnm, list_mode: False)\n",
      "1238 vqgsglwq, (cwd: bmnm, list_mode: True)\n",
      "$ cd .., (cwd: bmnm, list_mode: True)\n",
      "$ cd sjlbj, (cwd: qhjv, list_mode: False)\n",
      "$ ls, (cwd: sjlbj, list_mode: False)\n",
      "44239 wzzbtmrz.gml, (cwd: sjlbj, list_mode: True)\n",
      "$ cd .., (cwd: sjlbj, list_mode: True)\n",
      "$ cd vqnrj, (cwd: qhjv, list_mode: False)\n",
      "$ ls, (cwd: vqnrj, list_mode: False)\n",
      "3286 bsltmjz.qlc, (cwd: vqnrj, list_mode: True)\n",
      "$ cd .., (cwd: vqnrj, list_mode: True)\n",
      "$ cd .., (cwd: qhjv, list_mode: False)\n",
      "$ cd snjntth, (cwd: pwtpltr, list_mode: False)\n",
      "$ ls, (cwd: snjntth, list_mode: False)\n",
      "130833 blm.wmt, (cwd: snjntth, list_mode: True)\n",
      "dir snjntth, (cwd: snjntth, list_mode: True)\n",
      "dir tcnmbcgg, (cwd: snjntth, list_mode: True)\n",
      "218869 wjlmgq, (cwd: snjntth, list_mode: True)\n",
      "$ cd snjntth, (cwd: snjntth, list_mode: True)\n",
      "$ ls, (cwd: snjntth, list_mode: False)\n",
      "dir snmrdfbt, (cwd: snjntth, list_mode: True)\n",
      "$ cd snmrdfbt, (cwd: snjntth, list_mode: True)\n",
      "$ ls, (cwd: snmrdfbt, list_mode: False)\n",
      "281025 bzrsds.lfg, (cwd: snmrdfbt, list_mode: True)\n",
      "$ cd .., (cwd: snmrdfbt, list_mode: True)\n",
      "$ cd .., (cwd: snjntth, list_mode: False)\n",
      "$ cd tcnmbcgg, (cwd: snjntth, list_mode: False)\n",
      "$ ls, (cwd: tcnmbcgg, list_mode: False)\n",
      "194998 fcsjl, (cwd: tcnmbcgg, list_mode: True)\n",
      "dir qdrmpqgn, (cwd: tcnmbcgg, list_mode: True)\n",
      "dir rzqd, (cwd: tcnmbcgg, list_mode: True)\n",
      "dir tcsds, (cwd: tcnmbcgg, list_mode: True)\n",
      "$ cd qdrmpqgn, (cwd: tcnmbcgg, list_mode: True)\n",
      "$ ls, (cwd: qdrmpqgn, list_mode: False)\n",
      "165713 qmzgt.tnc, (cwd: qdrmpqgn, list_mode: True)\n",
      "$ cd .., (cwd: qdrmpqgn, list_mode: True)\n",
      "$ cd rzqd, (cwd: tcnmbcgg, list_mode: False)\n",
      "$ ls, (cwd: rzqd, list_mode: False)\n",
      "dir cwhnmlv, (cwd: rzqd, list_mode: True)\n",
      "57819 fcsjl, (cwd: rzqd, list_mode: True)\n",
      "246864 pjnzdvd.gjm, (cwd: rzqd, list_mode: True)\n",
      "$ cd cwhnmlv, (cwd: rzqd, list_mode: True)\n",
      "$ ls, (cwd: cwhnmlv, list_mode: False)\n",
      "287539 mmnvqn.hqb, (cwd: cwhnmlv, list_mode: True)\n",
      "215636 pbnjt.zbn, (cwd: cwhnmlv, list_mode: True)\n",
      "124638 sqd, (cwd: cwhnmlv, list_mode: True)\n",
      "$ cd .., (cwd: cwhnmlv, list_mode: True)\n",
      "$ cd .., (cwd: rzqd, list_mode: False)\n",
      "$ cd tcsds, (cwd: tcnmbcgg, list_mode: False)\n",
      "$ ls, (cwd: tcsds, list_mode: False)\n",
      "78812 gfmgb.wqj, (cwd: tcsds, list_mode: True)\n",
      "218987 hnhfvz.dln, (cwd: tcsds, list_mode: True)\n",
      "209640 mzzhqlq.zqp, (cwd: tcsds, list_mode: True)\n",
      "102492 nml.ppg, (cwd: tcsds, list_mode: True)\n",
      "$ cd .., (cwd: tcsds, list_mode: True)\n",
      "$ cd .., (cwd: tcnmbcgg, list_mode: False)\n",
      "$ cd .., (cwd: snjntth, list_mode: False)\n",
      "$ cd .., (cwd: snjntth, list_mode: False)\n",
      "$ cd szn, (cwd: snjntth, list_mode: False)\n",
      "$ ls, (cwd: szn, list_mode: False)\n",
      "dir fcsjl, (cwd: szn, list_mode: True)\n",
      "dir snjntth, (cwd: szn, list_mode: True)\n",
      "dir zjbp, (cwd: szn, list_mode: True)\n",
      "$ cd fcsjl, (cwd: szn, list_mode: True)\n",
      "$ ls, (cwd: fcsjl, list_mode: False)\n",
      "158019 jsv.pmz, (cwd: fcsjl, list_mode: True)\n",
      "$ cd .., (cwd: fcsjl, list_mode: True)\n",
      "$ cd snjntth, (cwd: szn, list_mode: False)\n",
      "$ ls, (cwd: snjntth, list_mode: False)\n",
      "229510 dfvpvp, (cwd: snjntth, list_mode: True)\n",
      "191061 fgplbptq.jlt, (cwd: snjntth, list_mode: True)\n",
      "dir lfb, (cwd: snjntth, list_mode: True)\n",
      "234911 lfsrwr.wcb, (cwd: snjntth, list_mode: True)\n",
      "dir lrfcgzl, (cwd: snjntth, list_mode: True)\n",
      "48031 stbbw, (cwd: snjntth, list_mode: True)\n",
      "219691 vqgsglwq, (cwd: snjntth, list_mode: True)\n",
      "dir zshh, (cwd: snjntth, list_mode: True)\n",
      "$ cd lfb, (cwd: snjntth, list_mode: True)\n",
      "$ ls, (cwd: lfb, list_mode: False)\n",
      "dir btj, (cwd: lfb, list_mode: True)\n",
      "99591 dhrjbvvg.gwm, (cwd: lfb, list_mode: True)\n",
      "137224 dzdfc.vqq, (cwd: lfb, list_mode: True)\n",
      "201972 jtzmqsvj.wnd, (cwd: lfb, list_mode: True)\n",
      "9704 mmnvqn.hqb, (cwd: lfb, list_mode: True)\n",
      "dir pwg, (cwd: lfb, list_mode: True)\n",
      "200308 snjntth.css, (cwd: lfb, list_mode: True)\n",
      "dir wcmhcfm, (cwd: lfb, list_mode: True)\n",
      "dir zwhvmln, (cwd: lfb, list_mode: True)\n",
      "$ cd btj, (cwd: lfb, list_mode: True)\n",
      "$ ls, (cwd: btj, list_mode: False)\n",
      "dir rnbzdfgn, (cwd: btj, list_mode: True)\n",
      "51799 wdhsm, (cwd: btj, list_mode: True)\n",
      "dir wvf, (cwd: btj, list_mode: True)\n",
      "$ cd rnbzdfgn, (cwd: btj, list_mode: True)\n",
      "$ ls, (cwd: rnbzdfgn, list_mode: False)\n",
      "117095 bsltmjz.tlv, (cwd: rnbzdfgn, list_mode: True)\n",
      "$ cd .., (cwd: rnbzdfgn, list_mode: True)\n",
      "$ cd wvf, (cwd: btj, list_mode: False)\n",
      "$ ls, (cwd: wvf, list_mode: False)\n",
      "dir ffpzc, (cwd: wvf, list_mode: True)\n",
      "dir ncbmgpsc, (cwd: wvf, list_mode: True)\n",
      "dir wtwrmjnt, (cwd: wvf, list_mode: True)\n",
      "$ cd ffpzc, (cwd: wvf, list_mode: True)\n",
      "$ ls, (cwd: ffpzc, list_mode: False)\n",
      "249919 lsth.fmf, (cwd: ffpzc, list_mode: True)\n",
      "$ cd .., (cwd: ffpzc, list_mode: True)\n",
      "$ cd ncbmgpsc, (cwd: wvf, list_mode: False)\n",
      "$ ls, (cwd: ncbmgpsc, list_mode: False)\n",
      "147899 dzdfc.vqq, (cwd: ncbmgpsc, list_mode: True)\n",
      "$ cd .., (cwd: ncbmgpsc, list_mode: True)\n",
      "$ cd wtwrmjnt, (cwd: wvf, list_mode: False)\n",
      "$ ls, (cwd: wtwrmjnt, list_mode: False)\n",
      "252366 pvpdv.jwz, (cwd: wtwrmjnt, list_mode: True)\n",
      "$ cd .., (cwd: wtwrmjnt, list_mode: True)\n",
      "$ cd .., (cwd: wvf, list_mode: False)\n",
      "$ cd .., (cwd: btj, list_mode: False)\n",
      "$ cd pwg, (cwd: lfb, list_mode: False)\n",
      "$ ls, (cwd: pwg, list_mode: False)\n",
      "280845 fcsjl.fjz, (cwd: pwg, list_mode: True)\n",
      "44300 sgwz.cdz, (cwd: pwg, list_mode: True)\n",
      "dir snjntth, (cwd: pwg, list_mode: True)\n",
      "229605 vqgsglwq, (cwd: pwg, list_mode: True)\n",
      "$ cd snjntth, (cwd: pwg, list_mode: True)\n",
      "$ ls, (cwd: snjntth, list_mode: False)\n",
      "2053 pflvsnzs, (cwd: snjntth, list_mode: True)\n",
      "143522 sgwz.cdz, (cwd: snjntth, list_mode: True)\n",
      "$ cd .., (cwd: snjntth, list_mode: True)\n",
      "$ cd .., (cwd: pwg, list_mode: False)\n",
      "$ cd wcmhcfm, (cwd: lfb, list_mode: False)\n",
      "$ ls, (cwd: wcmhcfm, list_mode: False)\n",
      "229329 qsznhwlw.vjg, (cwd: wcmhcfm, list_mode: True)\n",
      "$ cd .., (cwd: wcmhcfm, list_mode: True)\n",
      "$ cd zwhvmln, (cwd: lfb, list_mode: False)\n",
      "$ ls, (cwd: zwhvmln, list_mode: False)\n",
      "dir ffpzc, (cwd: zwhvmln, list_mode: True)\n",
      "dir tjjzbf, (cwd: zwhvmln, list_mode: True)\n",
      "dir wzcq, (cwd: zwhvmln, list_mode: True)\n",
      "$ cd ffpzc, (cwd: zwhvmln, list_mode: True)\n",
      "$ ls, (cwd: ffpzc, list_mode: False)\n",
      "dir ncnj, (cwd: ffpzc, list_mode: True)\n",
      "37497 vqgsglwq, (cwd: ffpzc, list_mode: True)\n",
      "$ cd ncnj, (cwd: ffpzc, list_mode: True)\n",
      "$ ls, (cwd: ncnj, list_mode: False)\n",
      "40920 htbjhjq, (cwd: ncnj, list_mode: True)\n",
      "$ cd .., (cwd: ncnj, list_mode: True)\n",
      "$ cd .., (cwd: ffpzc, list_mode: False)\n",
      "$ cd tjjzbf, (cwd: zwhvmln, list_mode: False)\n",
      "$ ls, (cwd: tjjzbf, list_mode: False)\n",
      "47522 mczn.spd, (cwd: tjjzbf, list_mode: True)\n",
      "$ cd .., (cwd: tjjzbf, list_mode: True)\n",
      "$ cd wzcq, (cwd: zwhvmln, list_mode: False)\n",
      "$ ls, (cwd: wzcq, list_mode: False)\n",
      "56662 ffpzc.vwp, (cwd: wzcq, list_mode: True)\n",
      "dir snjntth, (cwd: wzcq, list_mode: True)\n",
      "$ cd snjntth, (cwd: wzcq, list_mode: True)\n",
      "$ ls, (cwd: snjntth, list_mode: False)\n",
      "117276 wjlmgq, (cwd: snjntth, list_mode: True)\n",
      "$ cd .., (cwd: snjntth, list_mode: True)\n",
      "$ cd .., (cwd: wzcq, list_mode: False)\n",
      "$ cd .., (cwd: zwhvmln, list_mode: False)\n",
      "$ cd .., (cwd: lfb, list_mode: False)\n",
      "$ cd lrfcgzl, (cwd: snjntth, list_mode: False)\n",
      "$ ls, (cwd: lrfcgzl, list_mode: False)\n",
      "267485 rsjmpph.qqz, (cwd: lrfcgzl, list_mode: True)\n",
      "$ cd .., (cwd: lrfcgzl, list_mode: True)\n",
      "$ cd zshh, (cwd: snjntth, list_mode: False)\n",
      "$ ls, (cwd: zshh, list_mode: False)\n",
      "dir ffpzc, (cwd: zshh, list_mode: True)\n",
      "dir gmn, (cwd: zshh, list_mode: True)\n",
      "dir snjntth, (cwd: zshh, list_mode: True)\n",
      "150048 tgtlh, (cwd: zshh, list_mode: True)\n",
      "32020 thfr, (cwd: zshh, list_mode: True)\n",
      "72152 vqgsglwq, (cwd: zshh, list_mode: True)\n",
      "$ cd ffpzc, (cwd: zshh, list_mode: True)\n",
      "$ ls, (cwd: ffpzc, list_mode: False)\n",
      "dir snjntth, (cwd: ffpzc, list_mode: True)\n",
      "$ cd snjntth, (cwd: ffpzc, list_mode: True)\n",
      "$ ls, (cwd: snjntth, list_mode: False)\n",
      "224945 dpfpz, (cwd: snjntth, list_mode: True)\n",
      "$ cd .., (cwd: snjntth, list_mode: True)\n",
      "$ cd .., (cwd: ffpzc, list_mode: False)\n",
      "$ cd gmn, (cwd: zshh, list_mode: False)\n",
      "$ ls, (cwd: gmn, list_mode: False)\n",
      "238996 sgwz.cdz, (cwd: gmn, list_mode: True)\n",
      "$ cd .., (cwd: gmn, list_mode: True)\n",
      "$ cd snjntth, (cwd: zshh, list_mode: False)\n",
      "$ ls, (cwd: snjntth, list_mode: False)\n",
      "86775 dzdfc.vqq, (cwd: snjntth, list_mode: True)\n",
      "19560 vshcmjj, (cwd: snjntth, list_mode: True)\n",
      "$ cd .., (cwd: snjntth, list_mode: True)\n",
      "$ cd .., (cwd: ffpzc, list_mode: False)\n",
      "$ cd .., (cwd: zshh, list_mode: False)\n",
      "$ cd zjbp, (cwd: snjntth, list_mode: False)\n",
      "$ ls, (cwd: zjbp, list_mode: False)\n",
      "dir fcsjl, (cwd: zjbp, list_mode: True)\n",
      "41522 nlvpb.fpf, (cwd: zjbp, list_mode: True)\n",
      "dir nmtjtd, (cwd: zjbp, list_mode: True)\n",
      "$ cd fcsjl, (cwd: zjbp, list_mode: True)\n",
      "$ ls, (cwd: fcsjl, list_mode: False)\n",
      "276802 fcsjl.psm, (cwd: fcsjl, list_mode: True)\n",
      "197934 sgwz.cdz, (cwd: fcsjl, list_mode: True)\n",
      "$ cd .., (cwd: fcsjl, list_mode: True)\n",
      "$ cd nmtjtd, (cwd: zjbp, list_mode: False)\n",
      "$ ls, (cwd: nmtjtd, list_mode: False)\n",
      "47477 dvqmqlgw.ths, (cwd: nmtjtd, list_mode: True)\n",
      "51081 vqgsglwq, (cwd: nmtjtd, list_mode: True)\n"
     ]
    }
   ],
   "source": [
    "part1_tree = parse_commands(data)"
   ]
  },
  {
   "cell_type": "code",
   "execution_count": 48,
   "metadata": {
    "ExecuteTime": {
     "end_time": "2022-12-27T05:14:02.961888Z",
     "start_time": "2022-12-27T05:14:02.909632Z"
    }
   },
   "outputs": [
    {
     "data": {
      "text/plain": [
       "946997"
      ]
     },
     "execution_count": 48,
     "metadata": {},
     "output_type": "execute_result"
    }
   ],
   "source": [
    "do_the_rest(part1_tree)"
   ]
  },
  {
   "cell_type": "code",
   "execution_count": 21,
   "metadata": {
    "ExecuteTime": {
     "end_time": "2022-12-27T05:03:15.995455Z",
     "start_time": "2022-12-27T05:03:15.956323Z"
    }
   },
   "outputs": [],
   "source": [
    "part1_dir_sizes = sum_all_dirs(part1_tree['root'])"
   ]
  },
  {
   "cell_type": "code",
   "execution_count": null,
   "metadata": {},
   "outputs": [],
   "source": []
  },
  {
   "cell_type": "markdown",
   "metadata": {},
   "source": [
    "now, sum the total sizes of those directories"
   ]
  },
  {
   "cell_type": "code",
   "execution_count": 22,
   "metadata": {
    "ExecuteTime": {
     "end_time": "2022-12-27T05:03:16.759374Z",
     "start_time": "2022-12-27T05:03:16.746417Z"
    }
   },
   "outputs": [],
   "source": [
    "part1_dir_size_list = [v for k,v in part1_dir_sizes.items() if v <= 100000]"
   ]
  },
  {
   "cell_type": "code",
   "execution_count": 23,
   "metadata": {
    "ExecuteTime": {
     "end_time": "2022-12-27T05:03:17.517622Z",
     "start_time": "2022-12-27T05:03:17.474765Z"
    }
   },
   "outputs": [
    {
     "data": {
      "text/plain": [
       "(131, 22)"
      ]
     },
     "execution_count": 23,
     "metadata": {},
     "output_type": "execute_result"
    }
   ],
   "source": [
    "len(part1_dir_sizes), len(part1_dir_size_list)"
   ]
  },
  {
   "cell_type": "code",
   "execution_count": 24,
   "metadata": {
    "ExecuteTime": {
     "end_time": "2022-12-27T05:03:20.922484Z",
     "start_time": "2022-12-27T05:03:20.894953Z"
    }
   },
   "outputs": [
    {
     "data": {
      "text/plain": [
       "946997"
      ]
     },
     "execution_count": 24,
     "metadata": {},
     "output_type": "execute_result"
    }
   ],
   "source": [
    "np.sum(part1_dir_size_list)"
   ]
  },
  {
   "cell_type": "code",
   "execution_count": 31,
   "metadata": {
    "ExecuteTime": {
     "end_time": "2022-12-27T04:36:22.158647Z",
     "start_time": "2022-12-27T04:36:22.143836Z"
    }
   },
   "outputs": [
    {
     "data": {
      "text/plain": [
       "[14981,\n",
       " 955,\n",
       " 22963,\n",
       " 0,\n",
       " 60566,\n",
       " 80072,\n",
       " 82485,\n",
       " 32343,\n",
       " 55058,\n",
       " 18509,\n",
       " 8326,\n",
       " 283,\n",
       " 63263,\n",
       " 88980,\n",
       " 88980,\n",
       " 93470,\n",
       " 1238,\n",
       " 44239,\n",
       " 3286,\n",
       " 40920,\n",
       " 47522,\n",
       " 98558]"
      ]
     },
     "execution_count": 31,
     "metadata": {},
     "output_type": "execute_result"
    }
   ],
   "source": [
    "part1_dir_size_list"
   ]
  },
  {
   "cell_type": "code",
   "execution_count": 34,
   "metadata": {
    "ExecuteTime": {
     "end_time": "2022-12-27T04:37:15.762437Z",
     "start_time": "2022-12-27T04:37:15.735151Z"
    }
   },
   "outputs": [
    {
     "name": "stdout",
     "output_type": "stream",
     "text": [
      "root\n",
      "├── plws\n",
      "│   ├── ffpzc\n",
      "│   │   ├── dzdfc.vqq (48459)\n",
      "│   │   ├── jql.jzl (143107)\n",
      "│   │   ├── mmnvqn.hqb (208330)\n",
      "│   │   ├── svjvhflz (290122)\n",
      "│   │   └── wjlmgq (218008)\n",
      "│   ├── frcmjzts\n",
      "│   │   ├── bsltmjz\n",
      "│   │   │   ├── dzdfc.vqq (34237)\n",
      "│   │   │   └── mdgdhqgw (58741)\n",
      "│   │   └── jfzgrbm\n",
      "│   │       ├── fcmpng (132811)\n",
      "│   │       ├── lgt.swt (103661)\n",
      "│   │       ├── vqgsglwq (173031)\n",
      "│   │       └── wprjfg.zbr (29134)\n",
      "│   ├── nbvnzg (92461)\n",
      "│   ├── phqcg\n",
      "│   │   └── jgfs.zjw (955)\n",
      "│   └── vqgsglwq (21621)\n",
      "├── pwlbgbz\n",
      "│   ├── gbg\n",
      "│   │   ├── fcsjl.bzm (287003)\n",
      "│   │   └── wgq\n",
      "│   │       └── fcsjl.fcm (22963)\n",
      "│   ├── mjzhcwrd\n",
      "│   │   ├── clfnpmbq.zmb (228632)\n",
      "│   │   ├── dzdfc.vqq (28276)\n",
      "│   │   └── tdbg.wgn (2982)\n",
      "│   ├── njcscpj\n",
      "│   │   ├── dqzgqgv\n",
      "│   │   │   ├── dzdfc.vqq (70309)\n",
      "│   │   │   ├── fcsjl (56139)\n",
      "│   │   │   ├── sgwz.cdz (142095)\n",
      "│   │   │   ├── snjntth\n",
      "│   │   │   │   ├── ffpzc (51918)\n",
      "│   │   │   │   └── vrfgfds\n",
      "│   │   │   │       └── jlscz (155233)\n",
      "│   │   │   ├── sphbzn\n",
      "│   │   │   │   ├── qbzwrrw\n",
      "│   │   │   │   │   ├── fcsjl.tqj (278531)\n",
      "│   │   │   │   │   └── snjntth.gpd (211591)\n",
      "│   │   │   │   ├── qwpzn\n",
      "│   │   │   │   │   └── vqgsglwq (174183)\n",
      "│   │   │   │   ├── bsltmjz.fqz (185471)\n",
      "│   │   │   │   ├── bsvh\n",
      "│   │   │   │   │   └── wjlmgq (130814)\n",
      "│   │   │   │   ├── fvzcs\n",
      "│   │   │   │   │   ├── cgmv\n",
      "│   │   │   │   │   │   ├── dzdfc.vqq (46843)\n",
      "│   │   │   │   │   │   ├── lmqcbbm\n",
      "│   │   │   │   │   │   │   ├── bdmbvgp (229898)\n",
      "│   │   │   │   │   │   │   ├── ffpzc.stm (25529)\n",
      "│   │   │   │   │   │   │   └── lnpjzvg.qlj (16871)\n",
      "│   │   │   │   │   │   ├── rstcqsmd\n",
      "│   │   │   │   │   │   │   └── zrbbbwng.smf (289038)\n",
      "│   │   │   │   │   │   └── snjntth (215261)\n",
      "│   │   │   │   │   │       ├── fwp.phf (191672)\n",
      "│   │   │   │   │   │       ├── hzs.zpg (68229)\n",
      "│   │   │   │   │   │       ├── pggcwb\n",
      "│   │   │   │   │   │       │   ├── fqztwvnv.lvv (154272)\n",
      "│   │   │   │   │   │       │   ├── pdjg\n",
      "│   │   │   │   │   │       │   │   ├── gvhlrcf (260644)\n",
      "│   │   │   │   │   │       │   │   └── wpls.pbd (209906)\n",
      "│   │   │   │   │   │       │   ├── vqgsglwq (62393)\n",
      "│   │   │   │   │   │       │   └── wjhrtg\n",
      "│   │   │   │   │   │       │       ├── dljf.zrq (148640)\n",
      "│   │   │   │   │   │       │       ├── dzdfc.vqq (172168)\n",
      "│   │   │   │   │   │       │       ├── hjdphcfm (196203)\n",
      "│   │   │   │   │   │       │       └── sgwz.cdz (247620)\n",
      "│   │   │   │   │   │       ├── qbv.bwj (222426)\n",
      "│   │   │   │   │   │       └── snjntth\n",
      "│   │   │   │   │   │           ├── vmqcm (155354)\n",
      "│   │   │   │   │   │           ├── ndlshlmj.cjq (37467)\n",
      "│   │   │   │   │   │           └── snjntth.nsf (257404)\n",
      "│   │   │   │   │   ├── ggzwljr\n",
      "│   │   │   │   │   │   └── bcthn (198200)\n",
      "│   │   │   │   │   ├── qvzghdpw.lms (298241)\n",
      "│   │   │   │   │   ├── snjntth\n",
      "│   │   │   │   │   └── sphbzn\n",
      "│   │   │   │   │       ├── bfdv.lwv (64082)\n",
      "│   │   │   │   │       ├── bsltmjz\n",
      "│   │   │   │   │       │   ├── bsqqdr\n",
      "│   │   │   │   │       │   │   └── wcqt (117496)\n",
      "│   │   │   │   │       │   ├── fcsjl.gfm (266007)\n",
      "│   │   │   │   │       │   ├── ffpzc\n",
      "│   │   │   │   │       │   │   ├── mmnvqn.hqb (280224)\n",
      "│   │   │   │   │       │   │   └── vrr (105346)\n",
      "│   │   │   │   │       │   ├── frsmrd\n",
      "│   │   │   │   │       │   │   └── sphbzn.shz (111509)\n",
      "│   │   │   │   │       │   ├── nthnhzwf (72122)\n",
      "│   │   │   │   │       │   └── wjlmgq (286705)\n",
      "│   │   │   │   │       ├── dzdfc.vqq (58942)\n",
      "│   │   │   │   │       └── snjntth\n",
      "│   │   │   │   │           ├── mplj (177491)\n",
      "│   │   │   │   │           ├── pvbz.jwn (9029)\n",
      "│   │   │   │   │           ├── snjntth.zrv (92891)\n",
      "│   │   │   │   │           ├── vnnnw.gql (203356)\n",
      "│   │   │   │   │           └── vqgsglwq (134728)\n",
      "│   │   │   │   ├── ndw\n",
      "│   │   │   │   │   ├── bht.rpj (241303)\n",
      "│   │   │   │   │   └── vqgsglwq (173068)\n",
      "│   │   │   │   ├── nlml\n",
      "│   │   │   │   │   ├── hzglfpvq.ftt (228982)\n",
      "│   │   │   │   │   └── sgwz.cdz (114981)\n",
      "│   │   │   │   ├── pcbt\n",
      "│   │   │   │   │   ├── bsltmjz\n",
      "│   │   │   │   │   │   ├── bsltmjz.spj (177750)\n",
      "│   │   │   │   │   │   ├── ffpzc\n",
      "│   │   │   │   │   │   │   ├── snjntth.dss (179645)\n",
      "│   │   │   │   │   │   │   ├── qzhhtmd.bhw (97847)\n",
      "│   │   │   │   │   │   │   └── vqgsglwq (1197)\n",
      "│   │   │   │   │   │   ├── flrpwfs\n",
      "│   │   │   │   │   │   │   └── wvjq.gmm (60566)\n",
      "│   │   │   │   │   │   ├── mtmdtcpv.cfj (138824)\n",
      "│   │   │   │   │   │   └── wzqwczj.qwn (165770)\n",
      "│   │   │   │   │   ├── ffpzc\n",
      "│   │   │   │   │   ├── fjsjwfg\n",
      "│   │   │   │   │   │   ├── dnsdd.jgz (152232)\n",
      "│   │   │   │   │   │   ├── gsb.wsh (181301)\n",
      "│   │   │   │   │   │   ├── jqpb\n",
      "│   │   │   │   │   │   │   ├── mmnvqn.hqb (253403)\n",
      "│   │   │   │   │   │   │   └── rvq.mrc (108325)\n",
      "│   │   │   │   │   │   ├── jscbg\n",
      "│   │   │   │   │   │   │   ├── dtm\n",
      "│   │   │   │   │   │   │   │   └── gzqnb (80072)\n",
      "│   │   │   │   │   │   │   ├── gsdnz\n",
      "│   │   │   │   │   │   │   │   ├── dsqzjs\n",
      "│   │   │   │   │   │   │   │   │   ├── jqrlsf.gzs (2621)\n",
      "│   │   │   │   │   │   │   │   │   └── snjntth (164844)\n",
      "│   │   │   │   │   │   │   │   │       ├── cbhql (118553)\n",
      "│   │   │   │   │   │   │   │   │       ├── ffpzc\n",
      "│   │   │   │   │   │   │   │   │       │   ├── lmn\n",
      "│   │   │   │   │   │   │   │   │       │   │   ├── bsltmjz (46401)\n",
      "│   │   │   │   │   │   │   │   │       │   │   └── shrnqhvq (96888)\n",
      "│   │   │   │   │   │   │   │   │       │   └── tvlwn.vhh (12104)\n",
      "│   │   │   │   │   │   │   │   │       └── snjntth\n",
      "│   │   │   │   │   │   │   │   │           └── snjntth\n",
      "│   │   │   │   │   │   │   │   │               ├── vlnfhbq\n",
      "│   │   │   │   │   │   │   │   │               │   └── qvf (250106)\n",
      "│   │   │   │   │   │   │   │   │               ├── wpwl\n",
      "│   │   │   │   │   │   │   │   │               │   └── cmsd.rlg (153950)\n",
      "│   │   │   │   │   │   │   │   │               └── ctj\n",
      "│   │   │   │   │   │   │   │   │                   └── fcsjl.lfl (82485)\n",
      "│   │   │   │   │   │   │   │   ├── sgwz.cdz (297895)\n",
      "│   │   │   │   │   │   │   │   └── vqgsglwq (129983)\n",
      "│   │   │   │   │   │   │   ├── prh (208269)\n",
      "│   │   │   │   │   │   │   ├── qdzljgh (25977)\n",
      "│   │   │   │   │   │   │   └── vmnq.mth (169262)\n",
      "│   │   │   │   │   │   ├── snjntth\n",
      "│   │   │   │   │   │   ├── snjntth.vvg (227677)\n",
      "│   │   │   │   │   │   ├── sphbzn\n",
      "│   │   │   │   │   │   │   └── glgq\n",
      "│   │   │   │   │   │   │       └── wjlmgq (285182)\n",
      "│   │   │   │   │   │   ├── vqgsglwq (75358)\n",
      "│   │   │   │   │   │   └── wjlmgq (2589)\n",
      "│   │   │   │   │   ├── fwm\n",
      "│   │   │   │   │   │   ├── ffpzc.qgb (251865)\n",
      "│   │   │   │   │   │   └── zvvpfqtp (279522)\n",
      "│   │   │   │   │   ├── jvwt\n",
      "│   │   │   │   │   │   ├── bsltmjz.nzp (48990)\n",
      "│   │   │   │   │   │   ├── ffpzc (219604)\n",
      "│   │   │   │   │   │   └── mvmdfzr.lwb (69573)\n",
      "│   │   │   │   │   ├── tmr.jdc (227943)\n",
      "│   │   │   │   │   ├── vwpqzdwh\n",
      "│   │   │   │   │   │   └── pvcch (267581)\n",
      "│   │   │   │   │   └── wjlmgq (31258)\n",
      "│   │   │   │   └── zhcmrpvt (286260)\n",
      "│   │   │   └── wjlmgq (284618)\n",
      "│   │   ├── ffpzc (275186)\n",
      "│   │   └── gjnflc.plq (192491)\n",
      "│   ├── sphbzn\n",
      "│   ├── tbgjpphc\n",
      "│   │   ├── dstpcgr.tfq (255571)\n",
      "│   │   ├── fdbwbrpp\n",
      "│   │   │   ├── ffpzc\n",
      "│   │   │   │   └── jhnzrdvb\n",
      "│   │   │   │       └── ffpzc.sgw (217775)\n",
      "│   │   │   ├── qbrth\n",
      "│   │   │   │   ├── lpbwgfjv.vcg (183969)\n",
      "│   │   │   │   └── wjlmgq (47333)\n",
      "│   │   │   ├── qprp (51164)\n",
      "│   │   │   ├── slpt\n",
      "│   │   │   │   └── tqhtj.jwz (32343)\n",
      "│   │   │   ├── sphbzn (117026)\n",
      "│   │   │   ├── vqgsglwq (295685)\n",
      "│   │   │   └── znmj\n",
      "│   │   │       └── mmnvqn.hqb (55058)\n",
      "│   │   ├── gjzwh\n",
      "│   │   │   ├── dvcbcd\n",
      "│   │   │   │   ├── dzdfc.vqq (187837)\n",
      "│   │   │   │   ├── jlwtvf\n",
      "│   │   │   │   │   └── sphbzn.dvj (219985)\n",
      "│   │   │   │   ├── jnjvshs\n",
      "│   │   │   │   │   ├── bsltmjz\n",
      "│   │   │   │   │   │   └── qgdqj (152972)\n",
      "│   │   │   │   │   └── nrpm\n",
      "│   │   │   │   │       └── wjlmgq (18509)\n",
      "│   │   │   │   ├── nrf.fqd (164053)\n",
      "│   │   │   │   ├── tlp.jmt (5665)\n",
      "│   │   │   │   └── wjlmgq (13801)\n",
      "│   │   │   ├── dzdfc.vqq (202530)\n",
      "│   │   │   ├── fsgz\n",
      "│   │   │   │   └── mmnvqn.hqb (224576)\n",
      "│   │   │   ├── hfrrqq\n",
      "│   │   │   │   ├── bwgsnfvb\n",
      "│   │   │   │   │   ├── dzdfc.vqq (29735)\n",
      "│   │   │   │   │   └── wstmzfml\n",
      "│   │   │   │   │       ├── bnvhbvvc.nrt (158447)\n",
      "│   │   │   │   │       └── jclclgd (59889)\n",
      "│   │   │   │   ├── fcsjl\n",
      "│   │   │   │   │   └── ffpzc.szw (138297)\n",
      "│   │   │   │   ├── ffpzc.gvm (294608)\n",
      "│   │   │   │   ├── qjcgtw (136880)\n",
      "│   │   │   │   └── sphbzn\n",
      "│   │   │   │       └── wqdths\n",
      "│   │   │   │           └── cgvtw.jpz (8326)\n",
      "│   │   │   ├── jlzn.qsn (54897)\n",
      "│   │   │   ├── ldzqsbb.jzl (16097)\n",
      "│   │   │   ├── pswccrd (225078)\n",
      "│   │   │   ├── rqqmldw\n",
      "│   │   │   │   ├── dzdfc.vqq (226757)\n",
      "│   │   │   │   ├── mwb.btc (115055)\n",
      "│   │   │   │   ├── qpts\n",
      "│   │   │   │   │   ├── bsltmjz.frp (60860)\n",
      "│   │   │   │   │   ├── fcsjl\n",
      "│   │   │   │   │   │   └── mmnvqn.hqb (25082)\n",
      "│   │   │   │   │   ├── sgwz.cdz (94904)\n",
      "│   │   │   │   │   └── wnmqqspz\n",
      "│   │   │   │   │       └── sgwz.cdz (165529)\n",
      "│   │   │   │   └── sgwz.cdz (298524)\n",
      "│   │   │   ├── rzrdhbp.vld (292464)\n",
      "│   │   │   ├── ssqbqqp\n",
      "│   │   │   │   └── pvrgm (192477)\n",
      "│   │   │   └── zsztqrc\n",
      "│   │   │       └── lht.htn (254053)\n",
      "│   │   ├── hjvrtjt\n",
      "│   │   │   └── fwps (189942)\n",
      "│   │   ├── rhzczj\n",
      "│   │   │   ├── bmtfr (36502)\n",
      "│   │   │   ├── ffjz\n",
      "│   │   │   │   └── grsvhwm\n",
      "│   │   │   │       ├── fwj.rdv (50231)\n",
      "│   │   │   │       └── snjntth\n",
      "│   │   │   │           ├── dtbgb\n",
      "│   │   │   │           │   └── vdflm.lmq (150245)\n",
      "│   │   │   │           └── mmnvqn.hqb (56794)\n",
      "│   │   │   ├── nctfhmzm.vsz (35148)\n",
      "│   │   │   ├── qdgjzcz\n",
      "│   │   │   │   └── dzdfc.vqq (222389)\n",
      "│   │   │   ├── rwql (208196)\n",
      "│   │   │   ├── sgwz.cdz (79863)\n",
      "│   │   │   └── snjntth\n",
      "│   │   ├── sgwz.cdz (292888)\n",
      "│   │   ├── wlzhr\n",
      "│   │   │   ├── bsltmjz (116628)\n",
      "│   │   │   ├── jqpbsgnr.fgb (60122)\n",
      "│   │   │   ├── lfss (252605)\n",
      "│   │   │   └── qwjdl.vhr (300065)\n",
      "│   │   └── wnfzrqgz.dtn (149395)\n",
      "│   ├── tvrfpczc.djm (55938)\n",
      "│   └── twd (4840)\n",
      "├── pwtpltr\n",
      "│   ├── dplsvrhl\n",
      "│   │   ├── fcsjl (272101)\n",
      "│   │   ├── ffpzc\n",
      "│   │   │   ├── bsltmjz (5499)\n",
      "│   │   │   ├── qmfwpjhl\n",
      "│   │   │   │   └── dzdfc.vqq (300362)\n",
      "│   │   │   ├── rsrb\n",
      "│   │   │   │   ├── dzdfc.vqq (252983)\n",
      "│   │   │   │   ├── ltssrgqb.zvj (107744)\n",
      "│   │   │   │   ├── rhglgcwr.wpw (214895)\n",
      "│   │   │   │   └── sgwz.cdz (249727)\n",
      "│   │   │   └── wgt\n",
      "│   │   │       ├── dzdfc.vqq (141984)\n",
      "│   │   │       ├── mmnvqn.hqb (194686)\n",
      "│   │   │       └── pgr (258023)\n",
      "│   │   ├── mmnvqn.hqb (58852)\n",
      "│   │   ├── mnhntjz\n",
      "│   │   │   ├── bdvght\n",
      "│   │   │   │   └── vpsvjdq.wsn (243166)\n",
      "│   │   │   ├── jprwchh\n",
      "│   │   │   │   └── bmpc.bjb (178943)\n",
      "│   │   │   └── snjntth\n",
      "│   │   │       ├── nlbm\n",
      "│   │   │       │   ├── fcsjl.rcc (33050)\n",
      "│   │   │       │   ├── sphbzn\n",
      "│   │   │       │   │   └── prrfhff.pbp (214563)\n",
      "│   │   │       │   └── wjlmgq (17446)\n",
      "│   │   │       └── zjmjntff\n",
      "│   │   │           ├── sgwz.cdz (82134)\n",
      "│   │   │           └── vrtlgdq.crp (52203)\n",
      "│   │   ├── sgwz.cdz (91899)\n",
      "│   │   └── snjntth.btv (228077)\n",
      "│   ├── gwtfzqvd.znb (140951)\n",
      "│   ├── jbvdb\n",
      "│   │   └── wmtjh\n",
      "│   │       └── ggvwn\n",
      "│   │           └── spqvmf.sdh (192285)\n",
      "│   ├── jst\n",
      "│   │   ├── bsltmjz\n",
      "│   │   │   ├── snjntth.gpv (215705)\n",
      "│   │   │   └── wjlmgq (213665)\n",
      "│   │   ├── dzdfc.vqq (212740)\n",
      "│   │   ├── gncztvtb\n",
      "│   │   │   └── vqgsglwq (229298)\n",
      "│   │   ├── jsqjcqnt\n",
      "│   │   │   ├── bsltmjz\n",
      "│   │   │   │   └── pqzffzjc (14981)\n",
      "│   │   │   ├── fcsjl\n",
      "│   │   │   │   └── jwhczwbc (140328)\n",
      "│   │   │   ├── ffpzc\n",
      "│   │   │   │   └── mmnvqn.hqb (213650)\n",
      "│   │   │   ├── sphbzn\n",
      "│   │   │   │   ├── psmtphhq\n",
      "│   │   │   │   │   ├── ffpzc\n",
      "│   │   │   │   │   │   ├── cfngvmd (49737)\n",
      "│   │   │   │   │   │   ├── gcnrp\n",
      "│   │   │   │   │   │   │   └── vqnrgl.vwp (283)\n",
      "│   │   │   │   │   │   ├── gmd.cwl (172799)\n",
      "│   │   │   │   │   │   ├── llnztjf\n",
      "│   │   │   │   │   │   │   └── tjhm.bwh (63263)\n",
      "│   │   │   │   │   │   ├── nbqs\n",
      "│   │   │   │   │   │   │   └── vssmq\n",
      "│   │   │   │   │   │   │       └── dzdfc.vqq (88980)\n",
      "│   │   │   │   │   │   └── rrqz (79661)\n",
      "│   │   │   │   │   └── tzgwd (123131)\n",
      "│   │   │   │   └── sphbzn\n",
      "│   │   │   │       ├── fcsjl.zrs (20140)\n",
      "│   │   │   │       └── snjntth (260579)\n",
      "│   │   │   └── vqgsglwq (70864)\n",
      "│   │   ├── jvs (286257)\n",
      "│   │   ├── sdcsm.mbg (36654)\n",
      "│   │   ├── sgwz.cdz (192040)\n",
      "│   │   ├── tbqphzb\n",
      "│   │   │   └── sgwz.cdz (93470)\n",
      "│   │   ├── vdcqgts\n",
      "│   │   │   ├── dzdfc.vqq (223564)\n",
      "│   │   │   ├── ffpzc\n",
      "│   │   │   │   └── qwwmw.nmt (42813)\n",
      "│   │   │   ├── gwhfgwf\n",
      "│   │   │   │   ├── jvfv.mpm (59918)\n",
      "│   │   │   │   ├── mjl\n",
      "│   │   │   │   │   ├── pgjb.tpq (13004)\n",
      "│   │   │   │   │   └── tms.fjz (195995)\n",
      "│   │   │   │   └── pcwl (211039)\n",
      "│   │   │   ├── nbjtqnng\n",
      "│   │   │   │   ├── dzdfc.vqq (107058)\n",
      "│   │   │   │   ├── ldrsd\n",
      "│   │   │   │   │   └── jvjm (107439)\n",
      "│   │   │   │   ├── vqgsglwq (111631)\n",
      "│   │   │   │   ├── wbzmdljw.tjq (104599)\n",
      "│   │   │   │   └── wjlmgq (155747)\n",
      "│   │   │   └── snjntth\n",
      "│   │   │       ├── fgrt.gng (242680)\n",
      "│   │   │       ├── blm.wmt (130833)\n",
      "│   │   │       └── snjntth\n",
      "│   │   │           ├── tcnmbcgg\n",
      "│   │   │           │   ├── fcsjl (194998)\n",
      "│   │   │           │   ├── qdrmpqgn\n",
      "│   │   │           │   │   └── qmzgt.tnc (165713)\n",
      "│   │   │           │   ├── rzqd\n",
      "│   │   │           │   │   ├── cwhnmlv\n",
      "│   │   │           │   │   │   ├── mmnvqn.hqb (287539)\n",
      "│   │   │           │   │   │   ├── pbnjt.zbn (215636)\n",
      "│   │   │           │   │   │   └── sqd (124638)\n",
      "│   │   │           │   │   ├── fcsjl (57819)\n",
      "│   │   │           │   │   └── pjnzdvd.gjm (246864)\n",
      "│   │   │           │   └── tcsds\n",
      "│   │   │           │       ├── gfmgb.wqj (78812)\n",
      "│   │   │           │       ├── hnhfvz.dln (218987)\n",
      "│   │   │           │       ├── mzzhqlq.zqp (209640)\n",
      "│   │   │           │       └── nml.ppg (102492)\n",
      "│   │   │           ├── wjlmgq (218869)\n",
      "│   │   │           └── snmrdfbt\n",
      "│   │   │               └── bzrsds.lfg (281025)\n",
      "│   │   └── wjlmgq (285843)\n",
      "│   ├── qhjv\n",
      "│   │   ├── bmnm\n",
      "│   │   │   └── vqgsglwq (1238)\n",
      "│   │   ├── hjjpdgn.hwl (68453)\n",
      "│   │   ├── sjlbj\n",
      "│   │   │   └── wzzbtmrz.gml (44239)\n",
      "│   │   └── vqnrj\n",
      "│   │       └── bsltmjz.qlc (3286)\n",
      "│   └── snjntth\n",
      "└── szn\n",
      "    ├── fcsjl\n",
      "    │   └── jsv.pmz (158019)\n",
      "    ├── snjntth\n",
      "    │   ├── dfvpvp (229510)\n",
      "    │   ├── fgplbptq.jlt (191061)\n",
      "    │   ├── lfb\n",
      "    │   │   ├── btj\n",
      "    │   │   │   ├── rnbzdfgn\n",
      "    │   │   │   │   └── bsltmjz.tlv (117095)\n",
      "    │   │   │   ├── wdhsm (51799)\n",
      "    │   │   │   └── wvf\n",
      "    │   │   │       ├── ffpzc\n",
      "    │   │   │       │   └── lsth.fmf (249919)\n",
      "    │   │   │       ├── ncbmgpsc\n",
      "    │   │   │       │   └── dzdfc.vqq (147899)\n",
      "    │   │   │       └── wtwrmjnt\n",
      "    │   │   │           └── pvpdv.jwz (252366)\n",
      "    │   │   ├── dhrjbvvg.gwm (99591)\n",
      "    │   │   ├── dzdfc.vqq (137224)\n",
      "    │   │   ├── jtzmqsvj.wnd (201972)\n",
      "    │   │   ├── mmnvqn.hqb (9704)\n",
      "    │   │   ├── pwg\n",
      "    │   │   │   ├── fcsjl.fjz (280845)\n",
      "    │   │   │   ├── sgwz.cdz (44300)\n",
      "    │   │   │   ├── snjntth\n",
      "    │   │   │   │   ├── pflvsnzs (2053)\n",
      "    │   │   │   │   └── sgwz.cdz (143522)\n",
      "    │   │   │   └── vqgsglwq (229605)\n",
      "    │   │   ├── snjntth.css (200308)\n",
      "    │   │   ├── wcmhcfm\n",
      "    │   │   │   └── qsznhwlw.vjg (229329)\n",
      "    │   │   └── zwhvmln\n",
      "    │   │       ├── ffpzc\n",
      "    │   │       │   ├── ncnj\n",
      "    │   │       │   │   └── htbjhjq (40920)\n",
      "    │   │       │   └── vqgsglwq (37497)\n",
      "    │   │       ├── tjjzbf\n",
      "    │   │       │   └── mczn.spd (47522)\n",
      "    │   │       └── wzcq\n",
      "    │   │           ├── ffpzc.vwp (56662)\n",
      "    │   │           └── snjntth\n",
      "    │   │               └── wjlmgq (117276)\n",
      "    │   ├── lfsrwr.wcb (234911)\n",
      "    │   ├── lrfcgzl\n",
      "    │   │   └── rsjmpph.qqz (267485)\n",
      "    │   ├── stbbw (48031)\n",
      "    │   ├── vqgsglwq (219691)\n",
      "    │   └── zshh\n",
      "    │       ├── ffpzc\n",
      "    │       │   └── snjntth\n",
      "    │       │       ├── dpfpz (224945)\n",
      "    │       │       ├── dzdfc.vqq (86775)\n",
      "    │       │       └── vshcmjj (19560)\n",
      "    │       ├── gmn\n",
      "    │       │   └── sgwz.cdz (238996)\n",
      "    │       ├── snjntth\n",
      "    │       ├── tgtlh (150048)\n",
      "    │       ├── thfr (32020)\n",
      "    │       └── vqgsglwq (72152)\n",
      "    └── zjbp\n",
      "        ├── fcsjl\n",
      "        │   ├── fcsjl.psm (276802)\n",
      "        │   └── sgwz.cdz (197934)\n",
      "        ├── nlvpb.fpf (41522)\n",
      "        └── nmtjtd\n",
      "            ├── dvqmqlgw.ths (47477)\n",
      "            └── vqgsglwq (51081)\n"
     ]
    }
   ],
   "source": [
    "render_tree_with_size(part1_tree['root'])"
   ]
  },
  {
   "cell_type": "markdown",
   "metadata": {},
   "source": [
    "## wrong"
   ]
  },
  {
   "cell_type": "code",
   "execution_count": 70,
   "metadata": {
    "ExecuteTime": {
     "end_time": "2022-12-27T05:21:38.832351Z",
     "start_time": "2022-12-27T05:21:38.810511Z"
    }
   },
   "outputs": [
    {
     "data": {
      "text/plain": [
       "['$ cd /',\n",
       " '$ ls',\n",
       " 'dir plws',\n",
       " 'dir pwlbgbz',\n",
       " 'dir pwtpltr',\n",
       " 'dir szn',\n",
       " '$ cd plws',\n",
       " '$ ls',\n",
       " 'dir ffpzc',\n",
       " 'dir frcmjzts',\n",
       " '92461 nbvnzg',\n",
       " 'dir phqcg',\n",
       " '21621 vqgsglwq',\n",
       " '$ cd ffpzc',\n",
       " '$ ls',\n",
       " '48459 dzdfc.vqq',\n",
       " '143107 jql.jzl',\n",
       " '208330 mmnvqn.hqb',\n",
       " '290122 svjvhflz',\n",
       " '218008 wjlmgq',\n",
       " '$ cd ..',\n",
       " '$ cd frcmjzts',\n",
       " '$ ls',\n",
       " 'dir bsltmjz',\n",
       " 'dir jfzgrbm']"
      ]
     },
     "execution_count": 70,
     "metadata": {},
     "output_type": "execute_result"
    }
   ],
   "source": [
    "data[:25]"
   ]
  },
  {
   "cell_type": "code",
   "execution_count": 39,
   "metadata": {
    "ExecuteTime": {
     "end_time": "2022-12-27T04:43:18.887268Z",
     "start_time": "2022-12-27T04:43:18.854929Z"
    }
   },
   "outputs": [
    {
     "data": {
      "text/plain": [
       "131"
      ]
     },
     "execution_count": 39,
     "metadata": {},
     "output_type": "execute_result"
    }
   ],
   "source": [
    "len(part1_dir_sizes)"
   ]
  },
  {
   "cell_type": "code",
   "execution_count": 41,
   "metadata": {
    "ExecuteTime": {
     "end_time": "2022-12-27T04:44:05.217904Z",
     "start_time": "2022-12-27T04:44:05.210386Z"
    }
   },
   "outputs": [
    {
     "data": {
      "text/plain": [
       "348"
      ]
     },
     "execution_count": 41,
     "metadata": {},
     "output_type": "execute_result"
    }
   ],
   "source": [
    "len([x for x in data if x.startswith(\"$ cd \")])"
   ]
  },
  {
   "cell_type": "code",
   "execution_count": 42,
   "metadata": {
    "ExecuteTime": {
     "end_time": "2022-12-27T04:44:36.684848Z",
     "start_time": "2022-12-27T04:44:36.642484Z"
    }
   },
   "outputs": [
    {
     "data": {
      "text/plain": [
       "172"
      ]
     },
     "execution_count": 42,
     "metadata": {},
     "output_type": "execute_result"
    }
   ],
   "source": [
    "len([x for x in data if x == \"$ cd ..\"])"
   ]
  },
  {
   "cell_type": "code",
   "execution_count": 43,
   "metadata": {
    "ExecuteTime": {
     "end_time": "2022-12-27T04:44:41.300970Z",
     "start_time": "2022-12-27T04:44:41.266065Z"
    }
   },
   "outputs": [
    {
     "data": {
      "text/plain": [
       "176"
      ]
     },
     "execution_count": 43,
     "metadata": {},
     "output_type": "execute_result"
    }
   ],
   "source": [
    "348 - 172"
   ]
  },
  {
   "cell_type": "code",
   "execution_count": 44,
   "metadata": {
    "ExecuteTime": {
     "end_time": "2022-12-27T04:52:00.546505Z",
     "start_time": "2022-12-27T04:52:00.491058Z"
    }
   },
   "outputs": [
    {
     "data": {
      "text/plain": [
       "176"
      ]
     },
     "execution_count": 44,
     "metadata": {},
     "output_type": "execute_result"
    }
   ],
   "source": [
    "len([x for x in data if x.startswith(\"$ ls\")])"
   ]
  },
  {
   "cell_type": "code",
   "execution_count": 45,
   "metadata": {
    "ExecuteTime": {
     "end_time": "2022-12-27T04:52:18.355850Z",
     "start_time": "2022-12-27T04:52:18.342530Z"
    }
   },
   "outputs": [
    {
     "data": {
      "text/plain": [
       "176"
      ]
     },
     "execution_count": 45,
     "metadata": {},
     "output_type": "execute_result"
    }
   ],
   "source": [
    "len([x for x in data if x == \"$ ls\"])"
   ]
  },
  {
   "cell_type": "code",
   "execution_count": 83,
   "metadata": {
    "ExecuteTime": {
     "end_time": "2022-12-27T05:30:06.405975Z",
     "start_time": "2022-12-27T05:30:06.395409Z"
    }
   },
   "outputs": [
    {
     "data": {
      "text/plain": [
       "1"
      ]
     },
     "execution_count": 83,
     "metadata": {},
     "output_type": "execute_result"
    }
   ],
   "source": [
    "len([x for x in data if x == \"$ cd /\"])"
   ]
  },
  {
   "cell_type": "markdown",
   "metadata": {},
   "source": [
    "I think we want there to be this many directories, but we only have 131"
   ]
  },
  {
   "cell_type": "code",
   "execution_count": 26,
   "metadata": {
    "ExecuteTime": {
     "end_time": "2022-12-27T05:05:01.102780Z",
     "start_time": "2022-12-27T05:05:01.074962Z"
    }
   },
   "outputs": [
    {
     "data": {
      "text/plain": [
       "'$ cd /'"
      ]
     },
     "execution_count": 26,
     "metadata": {},
     "output_type": "execute_result"
    }
   ],
   "source": [
    "data[0]"
   ]
  },
  {
   "cell_type": "code",
   "execution_count": 25,
   "metadata": {
    "ExecuteTime": {
     "end_time": "2022-12-27T05:04:54.850988Z",
     "start_time": "2022-12-27T05:04:54.791208Z"
    }
   },
   "outputs": [
    {
     "data": {
      "text/plain": [
       "'$ cd '"
      ]
     },
     "execution_count": 25,
     "metadata": {},
     "output_type": "execute_result"
    }
   ],
   "source": [
    "data[0][:5]"
   ]
  },
  {
   "cell_type": "code",
   "execution_count": 87,
   "metadata": {
    "ExecuteTime": {
     "end_time": "2022-12-27T05:32:41.495300Z",
     "start_time": "2022-12-27T05:32:41.485525Z"
    }
   },
   "outputs": [],
   "source": [
    "def parse_commands(command_list):\n",
    "    current_dir = ''\n",
    "    tree_dict = {}\n",
    "    list_mode = False\n",
    "\n",
    "    for i, line in enumerate(command_list):\n",
    "#         print(f\"{line}, (cwd: {current_dir}, list_mode: {list_mode})\")\n",
    "\n",
    "        if line.startswith(\"$\"): # command\n",
    "            list_mode = False # turn off list mode\n",
    "            line_mod = line.lstrip(\"$ \")\n",
    "\n",
    "            if line_mod[:3] == \"cd \": # change directory\n",
    "                change_to = line_mod[3:]\n",
    "                if change_to == \"..\":\n",
    "                    parent_dir = tree_dict[current_dir].parent\n",
    "                    current_dir = tree_dict[parent_dir.name].name\n",
    "                    continue\n",
    "                else:\n",
    "                    current_dir = change_to\n",
    "                    # this is only ever executed on the first line (the root dir)\n",
    "                    if change_to not in tree_dict.keys():\n",
    "                        tree_dict[change_to] = Node(change_to, \n",
    "                                                    type=\"dir\")\n",
    "                    continue\n",
    "\n",
    "            elif line_mod[:2] == \"ls\": # list directory\n",
    "                list_mode = True\n",
    "                continue\n",
    "\n",
    "        if list_mode:\n",
    "            info, file_name = line.split(' ')\n",
    "            if re.match(\"\\d+\", info):\n",
    "                file_size = int(info)\n",
    "#                 print(\"adding Node:\", file_name)\n",
    "                tree_dict[file_name] = Node(file_name, \n",
    "                                            parent=tree_dict[current_dir], \n",
    "                                            type=\"file\",\n",
    "                                            size=file_size)\n",
    "            elif info == \"dir\":\n",
    "#                 print(\"adding Node:\", file_name)\n",
    "                tree_dict[file_name] = Node(file_name, \n",
    "                                            parent=tree_dict[current_dir],\n",
    "                                            type=\"dir\")\n",
    "            else:\n",
    "                print(\"Unidentified line 'info' type: \", i, line)\n",
    "    \n",
    "#     print(missing_parent)\n",
    "    return tree_dict"
   ]
  },
  {
   "cell_type": "code",
   "execution_count": 88,
   "metadata": {
    "ExecuteTime": {
     "end_time": "2022-12-27T05:32:42.093545Z",
     "start_time": "2022-12-27T05:32:42.017364Z"
    }
   },
   "outputs": [],
   "source": [
    "part1_take2_tree = parse_commands(data)"
   ]
  },
  {
   "cell_type": "code",
   "execution_count": 89,
   "metadata": {
    "ExecuteTime": {
     "end_time": "2022-12-27T05:32:43.966425Z",
     "start_time": "2022-12-27T05:32:43.950712Z"
    }
   },
   "outputs": [
    {
     "data": {
      "text/plain": [
       "946997"
      ]
     },
     "execution_count": 89,
     "metadata": {},
     "output_type": "execute_result"
    }
   ],
   "source": [
    "do_the_rest(part1_take2_tree, '/')"
   ]
  },
  {
   "cell_type": "code",
   "execution_count": 74,
   "metadata": {
    "ExecuteTime": {
     "end_time": "2022-12-27T05:25:52.266762Z",
     "start_time": "2022-12-27T05:25:52.242274Z"
    }
   },
   "outputs": [
    {
     "data": {
      "text/plain": [
       "315"
      ]
     },
     "execution_count": 74,
     "metadata": {},
     "output_type": "execute_result"
    }
   ],
   "source": [
    "len(part1_take2_tree)"
   ]
  },
  {
   "cell_type": "code",
   "execution_count": 86,
   "metadata": {
    "ExecuteTime": {
     "end_time": "2022-12-27T05:31:21.434126Z",
     "start_time": "2022-12-27T05:31:21.415289Z"
    },
    "collapsed": true
   },
   "outputs": [
    {
     "data": {
      "text/plain": [
       "{'/': Node('//', type='dir'),\n",
       " 'plws': Node('///plws', type='dir'),\n",
       " 'pwlbgbz': Node('///pwlbgbz', type='dir'),\n",
       " 'pwtpltr': Node('///pwtpltr', type='dir'),\n",
       " 'szn': Node('///szn', type='dir'),\n",
       " 'ffpzc': Node('///szn/snjntth/zshh/ffpzc', type='dir'),\n",
       " 'frcmjzts': Node('///plws/frcmjzts', type='dir'),\n",
       " 'nbvnzg': Node('///plws/nbvnzg', size=92461, type='file'),\n",
       " 'phqcg': Node('///plws/phqcg', type='dir'),\n",
       " 'vqgsglwq': Node('///szn/zjbp/nmtjtd/vqgsglwq', size=51081, type='file'),\n",
       " 'dzdfc.vqq': Node('///szn/snjntth/zshh/ffpzc/snjntth/dzdfc.vqq', size=86775, type='file'),\n",
       " 'jql.jzl': Node('///plws/ffpzc/jql.jzl', size=143107, type='file'),\n",
       " 'mmnvqn.hqb': Node('///szn/snjntth/lfb/mmnvqn.hqb', size=9704, type='file'),\n",
       " 'svjvhflz': Node('///plws/ffpzc/svjvhflz', size=290122, type='file'),\n",
       " 'wjlmgq': Node('///szn/snjntth/lfb/zwhvmln/wzcq/snjntth/wjlmgq', size=117276, type='file'),\n",
       " 'bsltmjz': Node('///pwtpltr/jst/jsqjcqnt/bsltmjz', type='dir'),\n",
       " 'jfzgrbm': Node('///plws/frcmjzts/jfzgrbm', type='dir'),\n",
       " 'mdgdhqgw': Node('///plws/frcmjzts/bsltmjz/mdgdhqgw', size=58741, type='file'),\n",
       " 'fcmpng': Node('///plws/frcmjzts/jfzgrbm/fcmpng', size=132811, type='file'),\n",
       " 'lgt.swt': Node('///plws/frcmjzts/jfzgrbm/lgt.swt', size=103661, type='file'),\n",
       " 'wprjfg.zbr': Node('///plws/frcmjzts/jfzgrbm/wprjfg.zbr', size=29134, type='file'),\n",
       " 'jgfs.zjw': Node('///plws/phqcg/jgfs.zjw', size=955, type='file'),\n",
       " 'gbg': Node('///pwlbgbz/gbg', type='dir'),\n",
       " 'mjzhcwrd': Node('///pwlbgbz/mjzhcwrd', type='dir'),\n",
       " 'njcscpj': Node('///pwlbgbz/njcscpj', type='dir'),\n",
       " 'sphbzn': Node('///pwtpltr/jst/jsqjcqnt/sphbzn/sphbzn', type='dir'),\n",
       " 'tbgjpphc': Node('///pwlbgbz/tbgjpphc', type='dir'),\n",
       " 'tvrfpczc.djm': Node('///pwlbgbz/tvrfpczc.djm', size=55938, type='file'),\n",
       " 'twd': Node('///pwlbgbz/twd', size=4840, type='file'),\n",
       " 'fcsjl.bzm': Node('///pwlbgbz/gbg/fcsjl.bzm', size=287003, type='file'),\n",
       " 'wgq': Node('///pwlbgbz/gbg/wgq', type='dir'),\n",
       " 'fcsjl.fcm': Node('///pwlbgbz/gbg/wgq/fcsjl.fcm', size=22963, type='file'),\n",
       " 'clfnpmbq.zmb': Node('///pwlbgbz/mjzhcwrd/clfnpmbq.zmb', size=228632, type='file'),\n",
       " 'tdbg.wgn': Node('///pwlbgbz/mjzhcwrd/tdbg.wgn', size=2982, type='file'),\n",
       " 'dqzgqgv': Node('///pwlbgbz/njcscpj/dqzgqgv', type='dir'),\n",
       " 'gjnflc.plq': Node('///pwlbgbz/njcscpj/gjnflc.plq', size=192491, type='file'),\n",
       " 'fcsjl': Node('///szn/zjbp/fcsjl', type='dir'),\n",
       " 'sgwz.cdz': Node('///szn/zjbp/fcsjl/sgwz.cdz', size=197934, type='file'),\n",
       " 'snjntth': Node('///szn/snjntth/zshh/ffpzc/snjntth', type='dir'),\n",
       " 'vrfgfds': Node('///pwlbgbz/njcscpj/dqzgqgv/snjntth/vrfgfds', type='dir'),\n",
       " 'jlscz': Node('///pwlbgbz/njcscpj/dqzgqgv/snjntth/vrfgfds/jlscz', size=155233, type='file'),\n",
       " 'qbzwrrw': Node('///pwlbgbz/njcscpj/dqzgqgv/sphbzn/qbzwrrw', type='dir'),\n",
       " 'qwpzn': Node('///pwlbgbz/njcscpj/dqzgqgv/sphbzn/qwpzn', type='dir'),\n",
       " 'fcsjl.tqj': Node('///pwlbgbz/njcscpj/dqzgqgv/sphbzn/qbzwrrw/fcsjl.tqj', size=278531, type='file'),\n",
       " 'snjntth.gpd': Node('///pwlbgbz/njcscpj/dqzgqgv/sphbzn/qbzwrrw/snjntth.gpd', size=211591, type='file'),\n",
       " 'bsltmjz.fqz': Node('///pwlbgbz/njcscpj/dqzgqgv/sphbzn/bsltmjz.fqz', size=185471, type='file'),\n",
       " 'bsvh': Node('///pwlbgbz/njcscpj/dqzgqgv/sphbzn/bsvh', type='dir'),\n",
       " 'fvzcs': Node('///pwlbgbz/njcscpj/dqzgqgv/sphbzn/fvzcs', type='dir'),\n",
       " 'ndw': Node('///pwlbgbz/njcscpj/dqzgqgv/sphbzn/ndw', type='dir'),\n",
       " 'nlml': Node('///pwlbgbz/njcscpj/dqzgqgv/sphbzn/nlml', type='dir'),\n",
       " 'pcbt': Node('///pwlbgbz/njcscpj/dqzgqgv/sphbzn/pcbt', type='dir'),\n",
       " 'zhcmrpvt': Node('///pwlbgbz/njcscpj/dqzgqgv/sphbzn/zhcmrpvt', size=286260, type='file'),\n",
       " 'cgmv': Node('///pwlbgbz/njcscpj/dqzgqgv/sphbzn/fvzcs/cgmv', type='dir'),\n",
       " 'ggzwljr': Node('///pwlbgbz/njcscpj/dqzgqgv/sphbzn/fvzcs/ggzwljr', type='dir'),\n",
       " 'qvzghdpw.lms': Node('///pwlbgbz/njcscpj/dqzgqgv/sphbzn/fvzcs/qvzghdpw.lms', size=298241, type='file'),\n",
       " 'lmqcbbm': Node('///pwlbgbz/njcscpj/dqzgqgv/sphbzn/fvzcs/cgmv/lmqcbbm', type='dir'),\n",
       " 'rstcqsmd': Node('///pwlbgbz/njcscpj/dqzgqgv/sphbzn/fvzcs/cgmv/rstcqsmd', type='dir'),\n",
       " 'bdmbvgp': Node('///pwlbgbz/njcscpj/dqzgqgv/sphbzn/fvzcs/cgmv/lmqcbbm/bdmbvgp', size=229898, type='file'),\n",
       " 'ffpzc.stm': Node('///pwlbgbz/njcscpj/dqzgqgv/sphbzn/fvzcs/cgmv/lmqcbbm/ffpzc.stm', size=25529, type='file'),\n",
       " 'lnpjzvg.qlj': Node('///pwlbgbz/njcscpj/dqzgqgv/sphbzn/fvzcs/cgmv/lmqcbbm/lnpjzvg.qlj', size=16871, type='file'),\n",
       " 'zrbbbwng.smf': Node('///pwlbgbz/njcscpj/dqzgqgv/sphbzn/fvzcs/cgmv/rstcqsmd/zrbbbwng.smf', size=289038, type='file'),\n",
       " 'bcthn': Node('///pwlbgbz/njcscpj/dqzgqgv/sphbzn/fvzcs/ggzwljr/bcthn', size=198200, type='file'),\n",
       " 'fwp.phf': Node('///pwlbgbz/njcscpj/dqzgqgv/sphbzn/fvzcs/cgmv/snjntth/fwp.phf', size=191672, type='file'),\n",
       " 'hzs.zpg': Node('///pwlbgbz/njcscpj/dqzgqgv/sphbzn/fvzcs/cgmv/snjntth/hzs.zpg', size=68229, type='file'),\n",
       " 'pggcwb': Node('///pwlbgbz/njcscpj/dqzgqgv/sphbzn/fvzcs/cgmv/snjntth/pggcwb', type='dir'),\n",
       " 'qbv.bwj': Node('///pwlbgbz/njcscpj/dqzgqgv/sphbzn/fvzcs/cgmv/snjntth/qbv.bwj', size=222426, type='file'),\n",
       " 'vmqcm': Node('///pwlbgbz/njcscpj/dqzgqgv/sphbzn/fvzcs/cgmv/snjntth/snjntth/vmqcm', size=155354, type='file'),\n",
       " 'fqztwvnv.lvv': Node('///pwlbgbz/njcscpj/dqzgqgv/sphbzn/fvzcs/cgmv/snjntth/pggcwb/fqztwvnv.lvv', size=154272, type='file'),\n",
       " 'pdjg': Node('///pwlbgbz/njcscpj/dqzgqgv/sphbzn/fvzcs/cgmv/snjntth/pggcwb/pdjg', type='dir'),\n",
       " 'wjhrtg': Node('///pwlbgbz/njcscpj/dqzgqgv/sphbzn/fvzcs/cgmv/snjntth/pggcwb/wjhrtg', type='dir'),\n",
       " 'gvhlrcf': Node('///pwlbgbz/njcscpj/dqzgqgv/sphbzn/fvzcs/cgmv/snjntth/pggcwb/pdjg/gvhlrcf', size=260644, type='file'),\n",
       " 'wpls.pbd': Node('///pwlbgbz/njcscpj/dqzgqgv/sphbzn/fvzcs/cgmv/snjntth/pggcwb/pdjg/wpls.pbd', size=209906, type='file'),\n",
       " 'dljf.zrq': Node('///pwlbgbz/njcscpj/dqzgqgv/sphbzn/fvzcs/cgmv/snjntth/pggcwb/wjhrtg/dljf.zrq', size=148640, type='file'),\n",
       " 'hjdphcfm': Node('///pwlbgbz/njcscpj/dqzgqgv/sphbzn/fvzcs/cgmv/snjntth/pggcwb/wjhrtg/hjdphcfm', size=196203, type='file'),\n",
       " 'ndlshlmj.cjq': Node('///pwlbgbz/njcscpj/dqzgqgv/sphbzn/fvzcs/cgmv/snjntth/snjntth/ndlshlmj.cjq', size=37467, type='file'),\n",
       " 'snjntth.nsf': Node('///pwlbgbz/njcscpj/dqzgqgv/sphbzn/fvzcs/cgmv/snjntth/snjntth/snjntth.nsf', size=257404, type='file'),\n",
       " 'bfdv.lwv': Node('///pwlbgbz/njcscpj/dqzgqgv/sphbzn/fvzcs/sphbzn/bfdv.lwv', size=64082, type='file'),\n",
       " 'bsqqdr': Node('///pwlbgbz/njcscpj/dqzgqgv/sphbzn/fvzcs/sphbzn/bsltmjz/bsqqdr', type='dir'),\n",
       " 'fcsjl.gfm': Node('///pwlbgbz/njcscpj/dqzgqgv/sphbzn/fvzcs/sphbzn/bsltmjz/fcsjl.gfm', size=266007, type='file'),\n",
       " 'frsmrd': Node('///pwlbgbz/njcscpj/dqzgqgv/sphbzn/fvzcs/sphbzn/bsltmjz/frsmrd', type='dir'),\n",
       " 'nthnhzwf': Node('///pwlbgbz/njcscpj/dqzgqgv/sphbzn/fvzcs/sphbzn/bsltmjz/nthnhzwf', size=72122, type='file'),\n",
       " 'wcqt': Node('///pwlbgbz/njcscpj/dqzgqgv/sphbzn/fvzcs/sphbzn/bsltmjz/bsqqdr/wcqt', size=117496, type='file'),\n",
       " 'vrr': Node('///pwlbgbz/njcscpj/dqzgqgv/sphbzn/fvzcs/sphbzn/bsltmjz/ffpzc/vrr', size=105346, type='file'),\n",
       " 'sphbzn.shz': Node('///pwlbgbz/njcscpj/dqzgqgv/sphbzn/fvzcs/sphbzn/bsltmjz/frsmrd/sphbzn.shz', size=111509, type='file'),\n",
       " 'mplj': Node('///pwlbgbz/njcscpj/dqzgqgv/sphbzn/fvzcs/sphbzn/snjntth/mplj', size=177491, type='file'),\n",
       " 'pvbz.jwn': Node('///pwlbgbz/njcscpj/dqzgqgv/sphbzn/fvzcs/sphbzn/snjntth/pvbz.jwn', size=9029, type='file'),\n",
       " 'snjntth.zrv': Node('///pwlbgbz/njcscpj/dqzgqgv/sphbzn/fvzcs/sphbzn/snjntth/snjntth.zrv', size=92891, type='file'),\n",
       " 'vnnnw.gql': Node('///pwlbgbz/njcscpj/dqzgqgv/sphbzn/fvzcs/sphbzn/snjntth/vnnnw.gql', size=203356, type='file'),\n",
       " 'bht.rpj': Node('///pwlbgbz/njcscpj/dqzgqgv/sphbzn/ndw/bht.rpj', size=241303, type='file'),\n",
       " 'hzglfpvq.ftt': Node('///pwlbgbz/njcscpj/dqzgqgv/sphbzn/nlml/hzglfpvq.ftt', size=228982, type='file'),\n",
       " 'fjsjwfg': Node('///pwlbgbz/njcscpj/dqzgqgv/sphbzn/pcbt/fjsjwfg', type='dir'),\n",
       " 'fwm': Node('///pwlbgbz/njcscpj/dqzgqgv/sphbzn/pcbt/fwm', type='dir'),\n",
       " 'jvwt': Node('///pwlbgbz/njcscpj/dqzgqgv/sphbzn/pcbt/jvwt', type='dir'),\n",
       " 'tmr.jdc': Node('///pwlbgbz/njcscpj/dqzgqgv/sphbzn/pcbt/tmr.jdc', size=227943, type='file'),\n",
       " 'vwpqzdwh': Node('///pwlbgbz/njcscpj/dqzgqgv/sphbzn/pcbt/vwpqzdwh', type='dir'),\n",
       " 'bsltmjz.spj': Node('///pwlbgbz/njcscpj/dqzgqgv/sphbzn/pcbt/bsltmjz/bsltmjz.spj', size=177750, type='file'),\n",
       " 'flrpwfs': Node('///pwlbgbz/njcscpj/dqzgqgv/sphbzn/pcbt/bsltmjz/flrpwfs', type='dir'),\n",
       " 'mtmdtcpv.cfj': Node('///pwlbgbz/njcscpj/dqzgqgv/sphbzn/pcbt/bsltmjz/mtmdtcpv.cfj', size=138824, type='file'),\n",
       " 'wzqwczj.qwn': Node('///pwlbgbz/njcscpj/dqzgqgv/sphbzn/pcbt/bsltmjz/wzqwczj.qwn', size=165770, type='file'),\n",
       " 'snjntth.dss': Node('///pwlbgbz/njcscpj/dqzgqgv/sphbzn/pcbt/bsltmjz/ffpzc/snjntth.dss', size=179645, type='file'),\n",
       " 'wvjq.gmm': Node('///pwlbgbz/njcscpj/dqzgqgv/sphbzn/pcbt/bsltmjz/flrpwfs/wvjq.gmm', size=60566, type='file'),\n",
       " 'qzhhtmd.bhw': Node('///pwlbgbz/njcscpj/dqzgqgv/sphbzn/pcbt/bsltmjz/ffpzc/qzhhtmd.bhw', size=97847, type='file'),\n",
       " 'dnsdd.jgz': Node('///pwlbgbz/njcscpj/dqzgqgv/sphbzn/pcbt/fjsjwfg/dnsdd.jgz', size=152232, type='file'),\n",
       " 'gsb.wsh': Node('///pwlbgbz/njcscpj/dqzgqgv/sphbzn/pcbt/fjsjwfg/gsb.wsh', size=181301, type='file'),\n",
       " 'jqpb': Node('///pwlbgbz/njcscpj/dqzgqgv/sphbzn/pcbt/fjsjwfg/jqpb', type='dir'),\n",
       " 'jscbg': Node('///pwlbgbz/njcscpj/dqzgqgv/sphbzn/pcbt/fjsjwfg/jscbg', type='dir'),\n",
       " 'snjntth.vvg': Node('///pwlbgbz/njcscpj/dqzgqgv/sphbzn/pcbt/fjsjwfg/snjntth.vvg', size=227677, type='file'),\n",
       " 'rvq.mrc': Node('///pwlbgbz/njcscpj/dqzgqgv/sphbzn/pcbt/fjsjwfg/jqpb/rvq.mrc', size=108325, type='file'),\n",
       " 'dtm': Node('///pwlbgbz/njcscpj/dqzgqgv/sphbzn/pcbt/fjsjwfg/jscbg/dtm', type='dir'),\n",
       " 'gsdnz': Node('///pwlbgbz/njcscpj/dqzgqgv/sphbzn/pcbt/fjsjwfg/jscbg/gsdnz', type='dir'),\n",
       " 'prh': Node('///pwlbgbz/njcscpj/dqzgqgv/sphbzn/pcbt/fjsjwfg/jscbg/prh', size=208269, type='file'),\n",
       " 'qdzljgh': Node('///pwlbgbz/njcscpj/dqzgqgv/sphbzn/pcbt/fjsjwfg/jscbg/qdzljgh', size=25977, type='file'),\n",
       " 'vmnq.mth': Node('///pwlbgbz/njcscpj/dqzgqgv/sphbzn/pcbt/fjsjwfg/jscbg/vmnq.mth', size=169262, type='file'),\n",
       " 'gzqnb': Node('///pwlbgbz/njcscpj/dqzgqgv/sphbzn/pcbt/fjsjwfg/jscbg/dtm/gzqnb', size=80072, type='file'),\n",
       " 'dsqzjs': Node('///pwlbgbz/njcscpj/dqzgqgv/sphbzn/pcbt/fjsjwfg/jscbg/gsdnz/dsqzjs', type='dir'),\n",
       " 'jqrlsf.gzs': Node('///pwlbgbz/njcscpj/dqzgqgv/sphbzn/pcbt/fjsjwfg/jscbg/gsdnz/dsqzjs/jqrlsf.gzs', size=2621, type='file'),\n",
       " 'cbhql': Node('///pwlbgbz/njcscpj/dqzgqgv/sphbzn/pcbt/fjsjwfg/jscbg/gsdnz/dsqzjs/snjntth/cbhql', size=118553, type='file'),\n",
       " 'lmn': Node('///pwlbgbz/njcscpj/dqzgqgv/sphbzn/pcbt/fjsjwfg/jscbg/gsdnz/dsqzjs/snjntth/ffpzc/lmn', type='dir'),\n",
       " 'tvlwn.vhh': Node('///pwlbgbz/njcscpj/dqzgqgv/sphbzn/pcbt/fjsjwfg/jscbg/gsdnz/dsqzjs/snjntth/ffpzc/tvlwn.vhh', size=12104, type='file'),\n",
       " 'shrnqhvq': Node('///pwlbgbz/njcscpj/dqzgqgv/sphbzn/pcbt/fjsjwfg/jscbg/gsdnz/dsqzjs/snjntth/ffpzc/lmn/shrnqhvq', size=96888, type='file'),\n",
       " 'vlnfhbq': Node('///pwlbgbz/njcscpj/dqzgqgv/sphbzn/pcbt/fjsjwfg/jscbg/gsdnz/dsqzjs/snjntth/snjntth/snjntth/vlnfhbq', type='dir'),\n",
       " 'wpwl': Node('///pwlbgbz/njcscpj/dqzgqgv/sphbzn/pcbt/fjsjwfg/jscbg/gsdnz/dsqzjs/snjntth/snjntth/snjntth/wpwl', type='dir'),\n",
       " 'ctj': Node('///pwlbgbz/njcscpj/dqzgqgv/sphbzn/pcbt/fjsjwfg/jscbg/gsdnz/dsqzjs/snjntth/snjntth/snjntth/ctj', type='dir'),\n",
       " 'fcsjl.lfl': Node('///pwlbgbz/njcscpj/dqzgqgv/sphbzn/pcbt/fjsjwfg/jscbg/gsdnz/dsqzjs/snjntth/snjntth/snjntth/ctj/fcsjl.lfl', size=82485, type='file'),\n",
       " 'qvf': Node('///pwlbgbz/njcscpj/dqzgqgv/sphbzn/pcbt/fjsjwfg/jscbg/gsdnz/dsqzjs/snjntth/snjntth/snjntth/vlnfhbq/qvf', size=250106, type='file'),\n",
       " 'cmsd.rlg': Node('///pwlbgbz/njcscpj/dqzgqgv/sphbzn/pcbt/fjsjwfg/jscbg/gsdnz/dsqzjs/snjntth/snjntth/snjntth/wpwl/cmsd.rlg', size=153950, type='file'),\n",
       " 'glgq': Node('///pwlbgbz/njcscpj/dqzgqgv/sphbzn/pcbt/fjsjwfg/sphbzn/glgq', type='dir'),\n",
       " 'ffpzc.qgb': Node('///pwlbgbz/njcscpj/dqzgqgv/sphbzn/pcbt/fwm/ffpzc.qgb', size=251865, type='file'),\n",
       " 'zvvpfqtp': Node('///pwlbgbz/njcscpj/dqzgqgv/sphbzn/pcbt/fwm/zvvpfqtp', size=279522, type='file'),\n",
       " 'bsltmjz.nzp': Node('///pwlbgbz/njcscpj/dqzgqgv/sphbzn/pcbt/jvwt/bsltmjz.nzp', size=48990, type='file'),\n",
       " 'mvmdfzr.lwb': Node('///pwlbgbz/njcscpj/dqzgqgv/sphbzn/pcbt/jvwt/mvmdfzr.lwb', size=69573, type='file'),\n",
       " 'pvcch': Node('///pwlbgbz/njcscpj/dqzgqgv/sphbzn/pcbt/vwpqzdwh/pvcch', size=267581, type='file'),\n",
       " 'dstpcgr.tfq': Node('///pwlbgbz/tbgjpphc/dstpcgr.tfq', size=255571, type='file'),\n",
       " 'fdbwbrpp': Node('///pwlbgbz/tbgjpphc/fdbwbrpp', type='dir'),\n",
       " 'gjzwh': Node('///pwlbgbz/tbgjpphc/gjzwh', type='dir'),\n",
       " 'hjvrtjt': Node('///pwlbgbz/tbgjpphc/hjvrtjt', type='dir'),\n",
       " 'rhzczj': Node('///pwlbgbz/tbgjpphc/rhzczj', type='dir'),\n",
       " 'wlzhr': Node('///pwlbgbz/tbgjpphc/wlzhr', type='dir'),\n",
       " 'wnfzrqgz.dtn': Node('///pwlbgbz/tbgjpphc/wnfzrqgz.dtn', size=149395, type='file'),\n",
       " 'qbrth': Node('///pwlbgbz/tbgjpphc/fdbwbrpp/qbrth', type='dir'),\n",
       " 'qprp': Node('///pwlbgbz/tbgjpphc/fdbwbrpp/qprp', size=51164, type='file'),\n",
       " 'slpt': Node('///pwlbgbz/tbgjpphc/fdbwbrpp/slpt', type='dir'),\n",
       " 'znmj': Node('///pwlbgbz/tbgjpphc/fdbwbrpp/znmj', type='dir'),\n",
       " 'jhnzrdvb': Node('///pwlbgbz/tbgjpphc/fdbwbrpp/ffpzc/jhnzrdvb', type='dir'),\n",
       " 'ffpzc.sgw': Node('///pwlbgbz/tbgjpphc/fdbwbrpp/ffpzc/jhnzrdvb/ffpzc.sgw', size=217775, type='file'),\n",
       " 'lpbwgfjv.vcg': Node('///pwlbgbz/tbgjpphc/fdbwbrpp/qbrth/lpbwgfjv.vcg', size=183969, type='file'),\n",
       " 'tqhtj.jwz': Node('///pwlbgbz/tbgjpphc/fdbwbrpp/slpt/tqhtj.jwz', size=32343, type='file'),\n",
       " 'dvcbcd': Node('///pwlbgbz/tbgjpphc/gjzwh/dvcbcd', type='dir'),\n",
       " 'fsgz': Node('///pwlbgbz/tbgjpphc/gjzwh/fsgz', type='dir'),\n",
       " 'hfrrqq': Node('///pwlbgbz/tbgjpphc/gjzwh/hfrrqq', type='dir'),\n",
       " 'jlzn.qsn': Node('///pwlbgbz/tbgjpphc/gjzwh/jlzn.qsn', size=54897, type='file'),\n",
       " 'ldzqsbb.jzl': Node('///pwlbgbz/tbgjpphc/gjzwh/ldzqsbb.jzl', size=16097, type='file'),\n",
       " 'pswccrd': Node('///pwlbgbz/tbgjpphc/gjzwh/pswccrd', size=225078, type='file'),\n",
       " 'rqqmldw': Node('///pwlbgbz/tbgjpphc/gjzwh/rqqmldw', type='dir'),\n",
       " 'rzrdhbp.vld': Node('///pwlbgbz/tbgjpphc/gjzwh/rzrdhbp.vld', size=292464, type='file'),\n",
       " 'ssqbqqp': Node('///pwlbgbz/tbgjpphc/gjzwh/ssqbqqp', type='dir'),\n",
       " 'zsztqrc': Node('///pwlbgbz/tbgjpphc/gjzwh/zsztqrc', type='dir'),\n",
       " 'jlwtvf': Node('///pwlbgbz/tbgjpphc/gjzwh/dvcbcd/jlwtvf', type='dir'),\n",
       " 'jnjvshs': Node('///pwlbgbz/tbgjpphc/gjzwh/dvcbcd/jnjvshs', type='dir'),\n",
       " 'nrf.fqd': Node('///pwlbgbz/tbgjpphc/gjzwh/dvcbcd/nrf.fqd', size=164053, type='file'),\n",
       " 'tlp.jmt': Node('///pwlbgbz/tbgjpphc/gjzwh/dvcbcd/tlp.jmt', size=5665, type='file'),\n",
       " 'sphbzn.dvj': Node('///pwlbgbz/tbgjpphc/gjzwh/dvcbcd/jlwtvf/sphbzn.dvj', size=219985, type='file'),\n",
       " 'nrpm': Node('///pwlbgbz/tbgjpphc/gjzwh/dvcbcd/jnjvshs/nrpm', type='dir'),\n",
       " 'qgdqj': Node('///pwlbgbz/tbgjpphc/gjzwh/dvcbcd/jnjvshs/bsltmjz/qgdqj', size=152972, type='file'),\n",
       " 'bwgsnfvb': Node('///pwlbgbz/tbgjpphc/gjzwh/hfrrqq/bwgsnfvb', type='dir'),\n",
       " 'ffpzc.gvm': Node('///pwlbgbz/tbgjpphc/gjzwh/hfrrqq/ffpzc.gvm', size=294608, type='file'),\n",
       " 'qjcgtw': Node('///pwlbgbz/tbgjpphc/gjzwh/hfrrqq/qjcgtw', size=136880, type='file'),\n",
       " 'wstmzfml': Node('///pwlbgbz/tbgjpphc/gjzwh/hfrrqq/bwgsnfvb/wstmzfml', type='dir'),\n",
       " 'bnvhbvvc.nrt': Node('///pwlbgbz/tbgjpphc/gjzwh/hfrrqq/bwgsnfvb/wstmzfml/bnvhbvvc.nrt', size=158447, type='file'),\n",
       " 'jclclgd': Node('///pwlbgbz/tbgjpphc/gjzwh/hfrrqq/bwgsnfvb/wstmzfml/jclclgd', size=59889, type='file'),\n",
       " 'ffpzc.szw': Node('///pwlbgbz/tbgjpphc/gjzwh/hfrrqq/fcsjl/ffpzc.szw', size=138297, type='file'),\n",
       " 'wqdths': Node('///pwlbgbz/tbgjpphc/gjzwh/hfrrqq/sphbzn/wqdths', type='dir'),\n",
       " 'cgvtw.jpz': Node('///pwlbgbz/tbgjpphc/gjzwh/hfrrqq/sphbzn/wqdths/cgvtw.jpz', size=8326, type='file'),\n",
       " 'mwb.btc': Node('///pwlbgbz/tbgjpphc/gjzwh/rqqmldw/mwb.btc', size=115055, type='file'),\n",
       " 'qpts': Node('///pwlbgbz/tbgjpphc/gjzwh/rqqmldw/qpts', type='dir'),\n",
       " 'bsltmjz.frp': Node('///pwlbgbz/tbgjpphc/gjzwh/rqqmldw/qpts/bsltmjz.frp', size=60860, type='file'),\n",
       " 'wnmqqspz': Node('///pwlbgbz/tbgjpphc/gjzwh/rqqmldw/qpts/wnmqqspz', type='dir'),\n",
       " 'pvrgm': Node('///pwlbgbz/tbgjpphc/gjzwh/ssqbqqp/pvrgm', size=192477, type='file'),\n",
       " 'lht.htn': Node('///pwlbgbz/tbgjpphc/gjzwh/zsztqrc/lht.htn', size=254053, type='file'),\n",
       " 'fwps': Node('///pwlbgbz/tbgjpphc/hjvrtjt/fwps', size=189942, type='file'),\n",
       " 'bmtfr': Node('///pwlbgbz/tbgjpphc/rhzczj/bmtfr', size=36502, type='file'),\n",
       " 'ffjz': Node('///pwlbgbz/tbgjpphc/rhzczj/ffjz', type='dir'),\n",
       " 'nctfhmzm.vsz': Node('///pwlbgbz/tbgjpphc/rhzczj/nctfhmzm.vsz', size=35148, type='file'),\n",
       " 'qdgjzcz': Node('///pwlbgbz/tbgjpphc/rhzczj/qdgjzcz', type='dir'),\n",
       " 'rwql': Node('///pwlbgbz/tbgjpphc/rhzczj/rwql', size=208196, type='file'),\n",
       " 'grsvhwm': Node('///pwlbgbz/tbgjpphc/rhzczj/ffjz/grsvhwm', type='dir'),\n",
       " 'fwj.rdv': Node('///pwlbgbz/tbgjpphc/rhzczj/ffjz/grsvhwm/fwj.rdv', size=50231, type='file'),\n",
       " 'dtbgb': Node('///pwlbgbz/tbgjpphc/rhzczj/ffjz/grsvhwm/snjntth/dtbgb', type='dir'),\n",
       " 'vdflm.lmq': Node('///pwlbgbz/tbgjpphc/rhzczj/ffjz/grsvhwm/snjntth/dtbgb/vdflm.lmq', size=150245, type='file'),\n",
       " 'jqpbsgnr.fgb': Node('///pwlbgbz/tbgjpphc/wlzhr/jqpbsgnr.fgb', size=60122, type='file'),\n",
       " 'lfss': Node('///pwlbgbz/tbgjpphc/wlzhr/lfss', size=252605, type='file'),\n",
       " 'qwjdl.vhr': Node('///pwlbgbz/tbgjpphc/wlzhr/qwjdl.vhr', size=300065, type='file'),\n",
       " 'dplsvrhl': Node('///pwtpltr/dplsvrhl', type='dir'),\n",
       " 'gwtfzqvd.znb': Node('///pwtpltr/gwtfzqvd.znb', size=140951, type='file'),\n",
       " 'jbvdb': Node('///pwtpltr/jbvdb', type='dir'),\n",
       " 'jst': Node('///pwtpltr/jst', type='dir'),\n",
       " 'qhjv': Node('///pwtpltr/qhjv', type='dir'),\n",
       " 'mnhntjz': Node('///pwtpltr/dplsvrhl/mnhntjz', type='dir'),\n",
       " 'snjntth.btv': Node('///pwtpltr/dplsvrhl/snjntth.btv', size=228077, type='file'),\n",
       " 'qmfwpjhl': Node('///pwtpltr/dplsvrhl/ffpzc/qmfwpjhl', type='dir'),\n",
       " 'rsrb': Node('///pwtpltr/dplsvrhl/ffpzc/rsrb', type='dir'),\n",
       " 'wgt': Node('///pwtpltr/dplsvrhl/ffpzc/wgt', type='dir'),\n",
       " 'ltssrgqb.zvj': Node('///pwtpltr/dplsvrhl/ffpzc/rsrb/ltssrgqb.zvj', size=107744, type='file'),\n",
       " 'rhglgcwr.wpw': Node('///pwtpltr/dplsvrhl/ffpzc/rsrb/rhglgcwr.wpw', size=214895, type='file'),\n",
       " 'pgr': Node('///pwtpltr/dplsvrhl/ffpzc/wgt/pgr', size=258023, type='file'),\n",
       " 'bdvght': Node('///pwtpltr/dplsvrhl/mnhntjz/bdvght', type='dir'),\n",
       " 'jprwchh': Node('///pwtpltr/dplsvrhl/mnhntjz/jprwchh', type='dir'),\n",
       " 'vpsvjdq.wsn': Node('///pwtpltr/dplsvrhl/mnhntjz/bdvght/vpsvjdq.wsn', size=243166, type='file'),\n",
       " 'bmpc.bjb': Node('///pwtpltr/dplsvrhl/mnhntjz/jprwchh/bmpc.bjb', size=178943, type='file'),\n",
       " 'nlbm': Node('///pwtpltr/dplsvrhl/mnhntjz/snjntth/nlbm', type='dir'),\n",
       " 'zjmjntff': Node('///pwtpltr/dplsvrhl/mnhntjz/snjntth/zjmjntff', type='dir'),\n",
       " 'fcsjl.rcc': Node('///pwtpltr/dplsvrhl/mnhntjz/snjntth/nlbm/fcsjl.rcc', size=33050, type='file'),\n",
       " 'prrfhff.pbp': Node('///pwtpltr/dplsvrhl/mnhntjz/snjntth/nlbm/sphbzn/prrfhff.pbp', size=214563, type='file'),\n",
       " 'vrtlgdq.crp': Node('///pwtpltr/dplsvrhl/mnhntjz/snjntth/zjmjntff/vrtlgdq.crp', size=52203, type='file'),\n",
       " 'wmtjh': Node('///pwtpltr/jbvdb/wmtjh', type='dir'),\n",
       " 'ggvwn': Node('///pwtpltr/jbvdb/wmtjh/ggvwn', type='dir'),\n",
       " 'spqvmf.sdh': Node('///pwtpltr/jbvdb/wmtjh/ggvwn/spqvmf.sdh', size=192285, type='file'),\n",
       " 'gncztvtb': Node('///pwtpltr/jst/gncztvtb', type='dir'),\n",
       " 'jsqjcqnt': Node('///pwtpltr/jst/jsqjcqnt', type='dir'),\n",
       " 'jvs': Node('///pwtpltr/jst/jvs', size=286257, type='file'),\n",
       " 'sdcsm.mbg': Node('///pwtpltr/jst/sdcsm.mbg', size=36654, type='file'),\n",
       " 'tbqphzb': Node('///pwtpltr/jst/tbqphzb', type='dir'),\n",
       " 'vdcqgts': Node('///pwtpltr/jst/vdcqgts', type='dir'),\n",
       " 'snjntth.gpv': Node('///pwtpltr/jst/bsltmjz/snjntth.gpv', size=215705, type='file'),\n",
       " 'pqzffzjc': Node('///pwtpltr/jst/jsqjcqnt/bsltmjz/pqzffzjc', size=14981, type='file'),\n",
       " 'jwhczwbc': Node('///pwtpltr/jst/jsqjcqnt/fcsjl/jwhczwbc', size=140328, type='file'),\n",
       " 'psmtphhq': Node('///pwtpltr/jst/jsqjcqnt/sphbzn/psmtphhq', type='dir'),\n",
       " 'tzgwd': Node('///pwtpltr/jst/jsqjcqnt/sphbzn/psmtphhq/tzgwd', size=123131, type='file'),\n",
       " 'cfngvmd': Node('///pwtpltr/jst/jsqjcqnt/sphbzn/psmtphhq/ffpzc/cfngvmd', size=49737, type='file'),\n",
       " 'gcnrp': Node('///pwtpltr/jst/jsqjcqnt/sphbzn/psmtphhq/ffpzc/gcnrp', type='dir'),\n",
       " 'gmd.cwl': Node('///pwtpltr/jst/jsqjcqnt/sphbzn/psmtphhq/ffpzc/gmd.cwl', size=172799, type='file'),\n",
       " 'llnztjf': Node('///pwtpltr/jst/jsqjcqnt/sphbzn/psmtphhq/ffpzc/llnztjf', type='dir'),\n",
       " 'nbqs': Node('///pwtpltr/jst/jsqjcqnt/sphbzn/psmtphhq/ffpzc/nbqs', type='dir'),\n",
       " 'rrqz': Node('///pwtpltr/jst/jsqjcqnt/sphbzn/psmtphhq/ffpzc/rrqz', size=79661, type='file'),\n",
       " 'vqnrgl.vwp': Node('///pwtpltr/jst/jsqjcqnt/sphbzn/psmtphhq/ffpzc/gcnrp/vqnrgl.vwp', size=283, type='file'),\n",
       " 'tjhm.bwh': Node('///pwtpltr/jst/jsqjcqnt/sphbzn/psmtphhq/ffpzc/llnztjf/tjhm.bwh', size=63263, type='file'),\n",
       " 'vssmq': Node('///pwtpltr/jst/jsqjcqnt/sphbzn/psmtphhq/ffpzc/nbqs/vssmq', type='dir'),\n",
       " 'fcsjl.zrs': Node('///pwtpltr/jst/jsqjcqnt/sphbzn/sphbzn/fcsjl.zrs', size=20140, type='file'),\n",
       " 'gwhfgwf': Node('///pwtpltr/jst/vdcqgts/gwhfgwf', type='dir'),\n",
       " 'nbjtqnng': Node('///pwtpltr/jst/vdcqgts/nbjtqnng', type='dir'),\n",
       " 'qwwmw.nmt': Node('///pwtpltr/jst/vdcqgts/ffpzc/qwwmw.nmt', size=42813, type='file'),\n",
       " 'jvfv.mpm': Node('///pwtpltr/jst/vdcqgts/gwhfgwf/jvfv.mpm', size=59918, type='file'),\n",
       " 'mjl': Node('///pwtpltr/jst/vdcqgts/gwhfgwf/mjl', type='dir'),\n",
       " 'pcwl': Node('///pwtpltr/jst/vdcqgts/gwhfgwf/pcwl', size=211039, type='file'),\n",
       " 'pgjb.tpq': Node('///pwtpltr/jst/vdcqgts/gwhfgwf/mjl/pgjb.tpq', size=13004, type='file'),\n",
       " 'tms.fjz': Node('///pwtpltr/jst/vdcqgts/gwhfgwf/mjl/tms.fjz', size=195995, type='file'),\n",
       " 'ldrsd': Node('///pwtpltr/jst/vdcqgts/nbjtqnng/ldrsd', type='dir'),\n",
       " 'wbzmdljw.tjq': Node('///pwtpltr/jst/vdcqgts/nbjtqnng/wbzmdljw.tjq', size=104599, type='file'),\n",
       " 'jvjm': Node('///pwtpltr/jst/vdcqgts/nbjtqnng/ldrsd/jvjm', size=107439, type='file'),\n",
       " 'fgrt.gng': Node('///pwtpltr/jst/vdcqgts/snjntth/fgrt.gng', size=242680, type='file'),\n",
       " 'bmnm': Node('///pwtpltr/qhjv/bmnm', type='dir'),\n",
       " 'hjjpdgn.hwl': Node('///pwtpltr/qhjv/hjjpdgn.hwl', size=68453, type='file'),\n",
       " 'sjlbj': Node('///pwtpltr/qhjv/sjlbj', type='dir'),\n",
       " 'vqnrj': Node('///pwtpltr/qhjv/vqnrj', type='dir'),\n",
       " 'wzzbtmrz.gml': Node('///pwtpltr/qhjv/sjlbj/wzzbtmrz.gml', size=44239, type='file'),\n",
       " 'bsltmjz.qlc': Node('///pwtpltr/qhjv/vqnrj/bsltmjz.qlc', size=3286, type='file'),\n",
       " 'blm.wmt': Node('///pwtpltr/jst/vdcqgts/snjntth/blm.wmt', size=130833, type='file'),\n",
       " 'tcnmbcgg': Node('///pwtpltr/jst/vdcqgts/snjntth/snjntth/tcnmbcgg', type='dir'),\n",
       " 'snmrdfbt': Node('///pwtpltr/jst/vdcqgts/snjntth/snjntth/snmrdfbt', type='dir'),\n",
       " 'bzrsds.lfg': Node('///pwtpltr/jst/vdcqgts/snjntth/snjntth/snmrdfbt/bzrsds.lfg', size=281025, type='file'),\n",
       " 'qdrmpqgn': Node('///pwtpltr/jst/vdcqgts/snjntth/snjntth/tcnmbcgg/qdrmpqgn', type='dir'),\n",
       " 'rzqd': Node('///pwtpltr/jst/vdcqgts/snjntth/snjntth/tcnmbcgg/rzqd', type='dir'),\n",
       " 'tcsds': Node('///pwtpltr/jst/vdcqgts/snjntth/snjntth/tcnmbcgg/tcsds', type='dir'),\n",
       " 'qmzgt.tnc': Node('///pwtpltr/jst/vdcqgts/snjntth/snjntth/tcnmbcgg/qdrmpqgn/qmzgt.tnc', size=165713, type='file'),\n",
       " 'cwhnmlv': Node('///pwtpltr/jst/vdcqgts/snjntth/snjntth/tcnmbcgg/rzqd/cwhnmlv', type='dir'),\n",
       " 'pjnzdvd.gjm': Node('///pwtpltr/jst/vdcqgts/snjntth/snjntth/tcnmbcgg/rzqd/pjnzdvd.gjm', size=246864, type='file'),\n",
       " 'pbnjt.zbn': Node('///pwtpltr/jst/vdcqgts/snjntth/snjntth/tcnmbcgg/rzqd/cwhnmlv/pbnjt.zbn', size=215636, type='file'),\n",
       " 'sqd': Node('///pwtpltr/jst/vdcqgts/snjntth/snjntth/tcnmbcgg/rzqd/cwhnmlv/sqd', size=124638, type='file'),\n",
       " 'gfmgb.wqj': Node('///pwtpltr/jst/vdcqgts/snjntth/snjntth/tcnmbcgg/tcsds/gfmgb.wqj', size=78812, type='file'),\n",
       " 'hnhfvz.dln': Node('///pwtpltr/jst/vdcqgts/snjntth/snjntth/tcnmbcgg/tcsds/hnhfvz.dln', size=218987, type='file'),\n",
       " 'mzzhqlq.zqp': Node('///pwtpltr/jst/vdcqgts/snjntth/snjntth/tcnmbcgg/tcsds/mzzhqlq.zqp', size=209640, type='file'),\n",
       " 'nml.ppg': Node('///pwtpltr/jst/vdcqgts/snjntth/snjntth/tcnmbcgg/tcsds/nml.ppg', size=102492, type='file'),\n",
       " 'zjbp': Node('///szn/zjbp', type='dir'),\n",
       " 'jsv.pmz': Node('///szn/fcsjl/jsv.pmz', size=158019, type='file'),\n",
       " 'dfvpvp': Node('///szn/snjntth/dfvpvp', size=229510, type='file'),\n",
       " 'fgplbptq.jlt': Node('///szn/snjntth/fgplbptq.jlt', size=191061, type='file'),\n",
       " 'lfb': Node('///szn/snjntth/lfb', type='dir'),\n",
       " 'lfsrwr.wcb': Node('///szn/snjntth/lfsrwr.wcb', size=234911, type='file'),\n",
       " 'lrfcgzl': Node('///szn/snjntth/lrfcgzl', type='dir'),\n",
       " 'stbbw': Node('///szn/snjntth/stbbw', size=48031, type='file'),\n",
       " 'zshh': Node('///szn/snjntth/zshh', type='dir'),\n",
       " 'btj': Node('///szn/snjntth/lfb/btj', type='dir'),\n",
       " 'dhrjbvvg.gwm': Node('///szn/snjntth/lfb/dhrjbvvg.gwm', size=99591, type='file'),\n",
       " 'jtzmqsvj.wnd': Node('///szn/snjntth/lfb/jtzmqsvj.wnd', size=201972, type='file'),\n",
       " 'pwg': Node('///szn/snjntth/lfb/pwg', type='dir'),\n",
       " 'snjntth.css': Node('///szn/snjntth/lfb/snjntth.css', size=200308, type='file'),\n",
       " 'wcmhcfm': Node('///szn/snjntth/lfb/wcmhcfm', type='dir'),\n",
       " 'zwhvmln': Node('///szn/snjntth/lfb/zwhvmln', type='dir'),\n",
       " 'rnbzdfgn': Node('///szn/snjntth/lfb/btj/rnbzdfgn', type='dir'),\n",
       " 'wdhsm': Node('///szn/snjntth/lfb/btj/wdhsm', size=51799, type='file'),\n",
       " 'wvf': Node('///szn/snjntth/lfb/btj/wvf', type='dir'),\n",
       " 'bsltmjz.tlv': Node('///szn/snjntth/lfb/btj/rnbzdfgn/bsltmjz.tlv', size=117095, type='file'),\n",
       " 'ncbmgpsc': Node('///szn/snjntth/lfb/btj/wvf/ncbmgpsc', type='dir'),\n",
       " 'wtwrmjnt': Node('///szn/snjntth/lfb/btj/wvf/wtwrmjnt', type='dir'),\n",
       " 'lsth.fmf': Node('///szn/snjntth/lfb/btj/wvf/ffpzc/lsth.fmf', size=249919, type='file'),\n",
       " 'pvpdv.jwz': Node('///szn/snjntth/lfb/btj/wvf/wtwrmjnt/pvpdv.jwz', size=252366, type='file'),\n",
       " 'fcsjl.fjz': Node('///szn/snjntth/lfb/pwg/fcsjl.fjz', size=280845, type='file'),\n",
       " 'pflvsnzs': Node('///szn/snjntth/lfb/pwg/snjntth/pflvsnzs', size=2053, type='file'),\n",
       " 'qsznhwlw.vjg': Node('///szn/snjntth/lfb/wcmhcfm/qsznhwlw.vjg', size=229329, type='file'),\n",
       " 'tjjzbf': Node('///szn/snjntth/lfb/zwhvmln/tjjzbf', type='dir'),\n",
       " 'wzcq': Node('///szn/snjntth/lfb/zwhvmln/wzcq', type='dir'),\n",
       " 'ncnj': Node('///szn/snjntth/lfb/zwhvmln/ffpzc/ncnj', type='dir'),\n",
       " 'htbjhjq': Node('///szn/snjntth/lfb/zwhvmln/ffpzc/ncnj/htbjhjq', size=40920, type='file'),\n",
       " 'mczn.spd': Node('///szn/snjntth/lfb/zwhvmln/tjjzbf/mczn.spd', size=47522, type='file'),\n",
       " 'ffpzc.vwp': Node('///szn/snjntth/lfb/zwhvmln/wzcq/ffpzc.vwp', size=56662, type='file'),\n",
       " 'rsjmpph.qqz': Node('///szn/snjntth/lrfcgzl/rsjmpph.qqz', size=267485, type='file'),\n",
       " 'gmn': Node('///szn/snjntth/zshh/gmn', type='dir'),\n",
       " 'tgtlh': Node('///szn/snjntth/zshh/tgtlh', size=150048, type='file'),\n",
       " 'thfr': Node('///szn/snjntth/zshh/thfr', size=32020, type='file'),\n",
       " 'dpfpz': Node('///szn/snjntth/zshh/ffpzc/snjntth/dpfpz', size=224945, type='file'),\n",
       " 'vshcmjj': Node('///szn/snjntth/zshh/ffpzc/snjntth/vshcmjj', size=19560, type='file'),\n",
       " 'nlvpb.fpf': Node('///szn/zjbp/nlvpb.fpf', size=41522, type='file'),\n",
       " 'nmtjtd': Node('///szn/zjbp/nmtjtd', type='dir'),\n",
       " 'fcsjl.psm': Node('///szn/zjbp/fcsjl/fcsjl.psm', size=276802, type='file'),\n",
       " 'dvqmqlgw.ths': Node('///szn/zjbp/nmtjtd/dvqmqlgw.ths', size=47477, type='file')}"
      ]
     },
     "execution_count": 86,
     "metadata": {},
     "output_type": "execute_result"
    }
   ],
   "source": [
    "part1_take2_tree"
   ]
  },
  {
   "cell_type": "code",
   "execution_count": 77,
   "metadata": {
    "ExecuteTime": {
     "end_time": "2022-12-27T05:26:34.677056Z",
     "start_time": "2022-12-27T05:26:34.663902Z"
    }
   },
   "outputs": [
    {
     "data": {
      "text/plain": [
       "Node('//', type='dir')"
      ]
     },
     "execution_count": 77,
     "metadata": {},
     "output_type": "execute_result"
    }
   ],
   "source": [
    "part1_take2_tree['plws'].parent"
   ]
  },
  {
   "cell_type": "code",
   "execution_count": 78,
   "metadata": {
    "ExecuteTime": {
     "end_time": "2022-12-27T05:26:42.057512Z",
     "start_time": "2022-12-27T05:26:42.028225Z"
    }
   },
   "outputs": [
    {
     "data": {
      "text/plain": [
       "'/'"
      ]
     },
     "execution_count": 78,
     "metadata": {},
     "output_type": "execute_result"
    }
   ],
   "source": [
    "part1_take2_tree['plws'].parent.name"
   ]
  },
  {
   "cell_type": "code",
   "execution_count": 76,
   "metadata": {
    "ExecuteTime": {
     "end_time": "2022-12-27T05:26:21.532838Z",
     "start_time": "2022-12-27T05:26:21.503241Z"
    }
   },
   "outputs": [
    {
     "data": {
      "text/plain": [
       "['$ cd /',\n",
       " '$ ls',\n",
       " 'dir plws',\n",
       " 'dir pwlbgbz',\n",
       " 'dir pwtpltr',\n",
       " 'dir szn',\n",
       " '$ cd plws',\n",
       " '$ ls',\n",
       " 'dir ffpzc',\n",
       " 'dir frcmjzts',\n",
       " '92461 nbvnzg',\n",
       " 'dir phqcg',\n",
       " '21621 vqgsglwq',\n",
       " '$ cd ffpzc',\n",
       " '$ ls',\n",
       " '48459 dzdfc.vqq',\n",
       " '143107 jql.jzl',\n",
       " '208330 mmnvqn.hqb',\n",
       " '290122 svjvhflz',\n",
       " '218008 wjlmgq']"
      ]
     },
     "execution_count": 76,
     "metadata": {},
     "output_type": "execute_result"
    }
   ],
   "source": [
    "data[:20]"
   ]
  },
  {
   "cell_type": "code",
   "execution_count": 90,
   "metadata": {
    "ExecuteTime": {
     "end_time": "2022-12-27T05:35:26.025181Z",
     "start_time": "2022-12-27T05:35:26.021071Z"
    }
   },
   "outputs": [
    {
     "name": "stdout",
     "output_type": "stream",
     "text": [
      "$ cd /\n",
      "$ ls\n",
      "dir plws\n",
      "dir pwlbgbz\n",
      "dir pwtpltr\n",
      "dir szn\n",
      "$ cd plws\n",
      "$ ls\n",
      "dir ffpzc\n",
      "dir frcmjzts\n",
      "92461 nbvnzg\n",
      "dir phqcg\n",
      "21621 vqgsglwq\n",
      "$ cd ffpzc\n",
      "$ ls\n",
      "48459 dzdfc.vqq\n",
      "143107 jql.jzl\n",
      "208330 mmnvqn.hqb\n",
      "290122 svjvhflz\n",
      "218008 wjlmgq\n",
      "$ cd ..\n",
      "$ cd frcmjzts\n",
      "$ ls\n",
      "dir bsltmjz\n",
      "dir jfzgrbm\n"
     ]
    }
   ],
   "source": [
    "for x in data[:25]:\n",
    "    print(x)"
   ]
  },
  {
   "cell_type": "code",
   "execution_count": 95,
   "metadata": {
    "ExecuteTime": {
     "end_time": "2022-12-27T05:37:42.990990Z",
     "start_time": "2022-12-27T05:37:42.974213Z"
    }
   },
   "outputs": [
    {
     "data": {
      "text/plain": [
       "280"
      ]
     },
     "execution_count": 95,
     "metadata": {},
     "output_type": "execute_result"
    }
   ],
   "source": [
    "files_in_input = [x for x in data if re.match(\"\\d+\", x)]\n",
    "# len([x for x in data if re.match(\"\\d+\", x)])\n",
    "len(files_in_input)"
   ]
  },
  {
   "cell_type": "code",
   "execution_count": 96,
   "metadata": {
    "ExecuteTime": {
     "end_time": "2022-12-27T05:37:47.991706Z",
     "start_time": "2022-12-27T05:37:47.985874Z"
    }
   },
   "outputs": [
    {
     "data": {
      "text/plain": [
       "['92461 nbvnzg',\n",
       " '21621 vqgsglwq',\n",
       " '48459 dzdfc.vqq',\n",
       " '143107 jql.jzl',\n",
       " '208330 mmnvqn.hqb']"
      ]
     },
     "execution_count": 96,
     "metadata": {},
     "output_type": "execute_result"
    }
   ],
   "source": [
    "files_in_input[:5]"
   ]
  },
  {
   "cell_type": "code",
   "execution_count": 98,
   "metadata": {
    "ExecuteTime": {
     "end_time": "2022-12-27T05:38:41.452272Z",
     "start_time": "2022-12-27T05:38:41.445966Z"
    }
   },
   "outputs": [
    {
     "data": {
      "text/plain": [
       "184"
      ]
     },
     "execution_count": 98,
     "metadata": {},
     "output_type": "execute_result"
    }
   ],
   "source": [
    "files_in_output = [k for k,v in part1_take2_tree.items() if v.type == \"file\"]\n",
    "# len([k for k,v in part1_take2_tree.items() if v.type == \"file\"])\n",
    "len(files_in_output)"
   ]
  },
  {
   "cell_type": "code",
   "execution_count": 100,
   "metadata": {
    "ExecuteTime": {
     "end_time": "2022-12-27T05:38:49.630669Z",
     "start_time": "2022-12-27T05:38:49.624782Z"
    }
   },
   "outputs": [
    {
     "data": {
      "text/plain": [
       "['nbvnzg',\n",
       " 'vqgsglwq',\n",
       " 'dzdfc.vqq',\n",
       " 'jql.jzl',\n",
       " 'mmnvqn.hqb',\n",
       " 'svjvhflz',\n",
       " 'wjlmgq',\n",
       " 'mdgdhqgw',\n",
       " 'fcmpng',\n",
       " 'lgt.swt']"
      ]
     },
     "execution_count": 100,
     "metadata": {},
     "output_type": "execute_result"
    }
   ],
   "source": [
    "files_in_output[:10]"
   ]
  },
  {
   "cell_type": "code",
   "execution_count": 101,
   "metadata": {
    "ExecuteTime": {
     "end_time": "2022-12-27T05:39:32.814134Z",
     "start_time": "2022-12-27T05:39:32.810458Z"
    }
   },
   "outputs": [],
   "source": [
    "mod_files_input = [x.split(' ')[1] for x in files_in_input]"
   ]
  },
  {
   "cell_type": "code",
   "execution_count": 102,
   "metadata": {
    "ExecuteTime": {
     "end_time": "2022-12-27T05:39:42.056569Z",
     "start_time": "2022-12-27T05:39:42.051274Z"
    }
   },
   "outputs": [
    {
     "data": {
      "text/plain": [
       "['nbvnzg',\n",
       " 'vqgsglwq',\n",
       " 'dzdfc.vqq',\n",
       " 'jql.jzl',\n",
       " 'mmnvqn.hqb',\n",
       " 'svjvhflz',\n",
       " 'wjlmgq',\n",
       " 'dzdfc.vqq',\n",
       " 'mdgdhqgw',\n",
       " 'fcmpng']"
      ]
     },
     "execution_count": 102,
     "metadata": {},
     "output_type": "execute_result"
    }
   ],
   "source": [
    "mod_files_input[:10]"
   ]
  },
  {
   "cell_type": "code",
   "execution_count": 105,
   "metadata": {
    "ExecuteTime": {
     "end_time": "2022-12-27T05:40:30.778910Z",
     "start_time": "2022-12-27T05:40:30.775462Z"
    }
   },
   "outputs": [],
   "source": [
    "missing_files = set(mod_files_input).difference(set(files_in_output))"
   ]
  },
  {
   "cell_type": "code",
   "execution_count": 106,
   "metadata": {
    "ExecuteTime": {
     "end_time": "2022-12-27T05:40:31.321804Z",
     "start_time": "2022-12-27T05:40:31.315958Z"
    }
   },
   "outputs": [
    {
     "data": {
      "text/plain": [
       "5"
      ]
     },
     "execution_count": 106,
     "metadata": {},
     "output_type": "execute_result"
    }
   ],
   "source": [
    "len(missing_files)"
   ]
  },
  {
   "cell_type": "code",
   "execution_count": 107,
   "metadata": {
    "ExecuteTime": {
     "end_time": "2022-12-27T05:40:36.325778Z",
     "start_time": "2022-12-27T05:40:36.319446Z"
    }
   },
   "outputs": [
    {
     "data": {
      "text/plain": [
       "{'bsltmjz', 'fcsjl', 'ffpzc', 'snjntth', 'sphbzn'}"
      ]
     },
     "execution_count": 107,
     "metadata": {},
     "output_type": "execute_result"
    }
   ],
   "source": [
    "missing_files"
   ]
  },
  {
   "cell_type": "code",
   "execution_count": 114,
   "metadata": {
    "ExecuteTime": {
     "end_time": "2022-12-27T05:41:58.710691Z",
     "start_time": "2022-12-27T05:41:58.706276Z"
    }
   },
   "outputs": [],
   "source": [
    "diff = [x for x in mod_files_input if x not in files_in_output]"
   ]
  },
  {
   "cell_type": "code",
   "execution_count": 115,
   "metadata": {
    "ExecuteTime": {
     "end_time": "2022-12-27T05:42:00.721818Z",
     "start_time": "2022-12-27T05:42:00.715659Z"
    }
   },
   "outputs": [
    {
     "data": {
      "text/plain": [
       "14"
      ]
     },
     "execution_count": 115,
     "metadata": {},
     "output_type": "execute_result"
    }
   ],
   "source": [
    "len(diff)"
   ]
  },
  {
   "cell_type": "code",
   "execution_count": 116,
   "metadata": {
    "ExecuteTime": {
     "end_time": "2022-12-27T05:42:06.419989Z",
     "start_time": "2022-12-27T05:42:06.413750Z"
    }
   },
   "outputs": [
    {
     "data": {
      "text/plain": [
       "['ffpzc',\n",
       " 'fcsjl',\n",
       " 'ffpzc',\n",
       " 'snjntth',\n",
       " 'snjntth',\n",
       " 'bsltmjz',\n",
       " 'ffpzc',\n",
       " 'sphbzn',\n",
       " 'bsltmjz',\n",
       " 'fcsjl',\n",
       " 'bsltmjz',\n",
       " 'snjntth',\n",
       " 'fcsjl',\n",
       " 'fcsjl']"
      ]
     },
     "execution_count": 116,
     "metadata": {},
     "output_type": "execute_result"
    }
   ],
   "source": [
    "diff"
   ]
  },
  {
   "cell_type": "code",
   "execution_count": 121,
   "metadata": {
    "ExecuteTime": {
     "end_time": "2022-12-27T05:43:05.117033Z",
     "start_time": "2022-12-27T05:43:05.111008Z"
    }
   },
   "outputs": [
    {
     "data": {
      "text/plain": [
       "(280, 189)"
      ]
     },
     "execution_count": 121,
     "metadata": {},
     "output_type": "execute_result"
    }
   ],
   "source": [
    "len(mod_files_input), len(set(mod_files_input))"
   ]
  },
  {
   "cell_type": "code",
   "execution_count": null,
   "metadata": {},
   "outputs": [],
   "source": []
  },
  {
   "cell_type": "code",
   "execution_count": 108,
   "metadata": {
    "ExecuteTime": {
     "end_time": "2022-12-27T05:40:51.467344Z",
     "start_time": "2022-12-27T05:40:51.462554Z"
    }
   },
   "outputs": [],
   "source": [
    "from collections import Counter"
   ]
  },
  {
   "cell_type": "code",
   "execution_count": 122,
   "metadata": {
    "ExecuteTime": {
     "end_time": "2022-12-27T05:43:21.990226Z",
     "start_time": "2022-12-27T05:43:21.986379Z"
    }
   },
   "outputs": [],
   "source": [
    "c_in = Counter(mod_files_input)"
   ]
  },
  {
   "cell_type": "code",
   "execution_count": 126,
   "metadata": {
    "ExecuteTime": {
     "end_time": "2022-12-27T05:43:52.058853Z",
     "start_time": "2022-12-27T05:43:52.052273Z"
    }
   },
   "outputs": [
    {
     "data": {
      "text/plain": [
       "[('dzdfc.vqq', 22),\n",
       " ('vqgsglwq', 19),\n",
       " ('sgwz.cdz', 18),\n",
       " ('wjlmgq', 16),\n",
       " ('mmnvqn.hqb', 12)]"
      ]
     },
     "execution_count": 126,
     "metadata": {},
     "output_type": "execute_result"
    }
   ],
   "source": [
    "c_in.most_common()[:5]"
   ]
  },
  {
   "cell_type": "code",
   "execution_count": 127,
   "metadata": {
    "ExecuteTime": {
     "end_time": "2022-12-27T05:43:56.087571Z",
     "start_time": "2022-12-27T05:43:56.084041Z"
    }
   },
   "outputs": [],
   "source": [
    "c_out = Counter(files_in_output)"
   ]
  },
  {
   "cell_type": "code",
   "execution_count": 118,
   "metadata": {
    "ExecuteTime": {
     "end_time": "2022-12-27T05:42:33.035882Z",
     "start_time": "2022-12-27T05:42:33.030053Z"
    }
   },
   "outputs": [
    {
     "data": {
      "text/plain": [
       "184"
      ]
     },
     "execution_count": 118,
     "metadata": {},
     "output_type": "execute_result"
    }
   ],
   "source": [
    "len(c_out)"
   ]
  },
  {
   "cell_type": "code",
   "execution_count": 128,
   "metadata": {
    "ExecuteTime": {
     "end_time": "2022-12-27T05:44:02.550451Z",
     "start_time": "2022-12-27T05:44:02.544524Z"
    }
   },
   "outputs": [
    {
     "data": {
      "text/plain": [
       "[('nbvnzg', 1),\n",
       " ('vqgsglwq', 1),\n",
       " ('dzdfc.vqq', 1),\n",
       " ('jql.jzl', 1),\n",
       " ('mmnvqn.hqb', 1)]"
      ]
     },
     "execution_count": 128,
     "metadata": {},
     "output_type": "execute_result"
    }
   ],
   "source": [
    "c_out.most_common()[:5]"
   ]
  },
  {
   "cell_type": "code",
   "execution_count": 130,
   "metadata": {
    "ExecuteTime": {
     "end_time": "2022-12-27T05:44:37.299621Z",
     "start_time": "2022-12-27T05:44:37.292474Z"
    }
   },
   "outputs": [
    {
     "data": {
      "text/plain": [
       "[(15, '48459 dzdfc.vqq'),\n",
       " (27, '34237 dzdfc.vqq'),\n",
       " (64, '28276 dzdfc.vqq'),\n",
       " (74, '70309 dzdfc.vqq'),\n",
       " (127, '46843 dzdfc.vqq'),\n",
       " (168, '172168 dzdfc.vqq'),\n",
       " (183, '58942 dzdfc.vqq'),\n",
       " (405, '202530 dzdfc.vqq'),\n",
       " (417, '187837 dzdfc.vqq'),\n",
       " (454, '29735 dzdfc.vqq'),\n",
       " (477, '226757 dzdfc.vqq'),\n",
       " (538, '222389 dzdfc.vqq'),\n",
       " (578, '300362 dzdfc.vqq'),\n",
       " (582, '252983 dzdfc.vqq'),\n",
       " (589, '141984 dzdfc.vqq'),\n",
       " (644, '212740 dzdfc.vqq'),\n",
       " (710, '88980 dzdfc.vqq'),\n",
       " (728, '223564 dzdfc.vqq'),\n",
       " (750, '107058 dzdfc.vqq'),\n",
       " (854, '137224 dzdfc.vqq'),\n",
       " (881, '147899 dzdfc.vqq'),\n",
       " (960, '86775 dzdfc.vqq')]"
      ]
     },
     "execution_count": 130,
     "metadata": {},
     "output_type": "execute_result"
    }
   ],
   "source": [
    "[(i, x) for i, x in enumerate(data) if 'dzdfc.vqq' in x]"
   ]
  },
  {
   "cell_type": "code",
   "execution_count": 132,
   "metadata": {
    "ExecuteTime": {
     "end_time": "2022-12-27T05:45:36.457146Z",
     "start_time": "2022-12-27T05:45:36.451418Z"
    }
   },
   "outputs": [
    {
     "data": {
      "text/plain": [
       "['$ cd /',\n",
       " '$ ls',\n",
       " 'dir plws',\n",
       " 'dir pwlbgbz',\n",
       " 'dir pwtpltr',\n",
       " 'dir szn',\n",
       " '$ cd plws',\n",
       " '$ ls',\n",
       " 'dir ffpzc',\n",
       " 'dir frcmjzts',\n",
       " '92461 nbvnzg',\n",
       " 'dir phqcg',\n",
       " '21621 vqgsglwq',\n",
       " '$ cd ffpzc',\n",
       " '$ ls',\n",
       " '48459 dzdfc.vqq',\n",
       " '143107 jql.jzl',\n",
       " '208330 mmnvqn.hqb',\n",
       " '290122 svjvhflz',\n",
       " '218008 wjlmgq',\n",
       " '$ cd ..',\n",
       " '$ cd frcmjzts',\n",
       " '$ ls',\n",
       " 'dir bsltmjz',\n",
       " 'dir jfzgrbm',\n",
       " '$ cd bsltmjz',\n",
       " '$ ls',\n",
       " '34237 dzdfc.vqq',\n",
       " '58741 mdgdhqgw',\n",
       " '$ cd ..']"
      ]
     },
     "execution_count": 132,
     "metadata": {},
     "output_type": "execute_result"
    }
   ],
   "source": [
    "data[:30]"
   ]
  },
  {
   "cell_type": "markdown",
   "metadata": {},
   "source": [
    "So: there can be files with the same name, but in different locations. GREAT"
   ]
  },
  {
   "cell_type": "markdown",
   "metadata": {},
   "source": [
    "## revamp"
   ]
  },
  {
   "cell_type": "code",
   "execution_count": 145,
   "metadata": {
    "ExecuteTime": {
     "end_time": "2022-12-27T05:53:02.738028Z",
     "start_time": "2022-12-27T05:53:02.730128Z"
    }
   },
   "outputs": [],
   "source": [
    "def parse_commands(command_list):\n",
    "    current_dir = ''\n",
    "    tree_dict = {}\n",
    "    list_mode = False\n",
    "\n",
    "    for i, line in enumerate(command_list):\n",
    "#         print(f\"{line}, (cwd: {current_dir}, list_mode: {list_mode})\")\n",
    "\n",
    "        if line.startswith(\"$\"): # command\n",
    "            list_mode = False # turn off list mode\n",
    "            line_mod = line.lstrip(\"$ \")\n",
    "\n",
    "            if line_mod[:3] == \"cd \": # change directory\n",
    "                change_to = line_mod[3:]\n",
    "                if change_to == \"..\":\n",
    "                    parent_dir = tree_dict[current_dir].parent\n",
    "                    current_dir = tree_dict[parent_dir.name].name\n",
    "                    continue\n",
    "                else:\n",
    "                    current_dir = change_to\n",
    "                    # this is only ever executed on the first line (the root dir)\n",
    "                    if change_to not in tree_dict.keys():\n",
    "                        tree_dict[change_to] = Node(change_to, \n",
    "                                                    type=\"dir\")\n",
    "                    continue\n",
    "\n",
    "            elif line_mod[:2] == \"ls\": # list directory\n",
    "                list_mode = True\n",
    "                continue\n",
    "\n",
    "        if list_mode:\n",
    "            info, file_name = line.split(' ')\n",
    "            if re.match(\"\\d+\", info):\n",
    "                file_size = int(info)\n",
    "                # to handle files with same names\n",
    "                concat_file_name = f\"{file_name}-{current_dir}\"\n",
    "                tree_dict[concat_file_name] = Node(file_name,\n",
    "                                            parent=tree_dict[current_dir], \n",
    "                                            type=\"file\",\n",
    "                                            size=file_size)\n",
    "            elif info == \"dir\":\n",
    "                tree_dict[file_name] = Node(file_name, \n",
    "                                            parent=tree_dict[current_dir],\n",
    "                                            type=\"dir\")\n",
    "            else:\n",
    "                print(\"Unidentified line 'info' type: \", i, line)\n",
    "    \n",
    "#     print(missing_parent)\n",
    "    return tree_dict"
   ]
  },
  {
   "cell_type": "code",
   "execution_count": 146,
   "metadata": {
    "ExecuteTime": {
     "end_time": "2022-12-27T05:53:05.515061Z",
     "start_time": "2022-12-27T05:53:05.503066Z"
    }
   },
   "outputs": [],
   "source": [
    "part1_take3_tree = parse_commands(data)"
   ]
  },
  {
   "cell_type": "code",
   "execution_count": 147,
   "metadata": {
    "ExecuteTime": {
     "end_time": "2022-12-27T05:53:07.420976Z",
     "start_time": "2022-12-27T05:53:07.402507Z"
    }
   },
   "outputs": [
    {
     "data": {
      "text/plain": [
       "946997"
      ]
     },
     "execution_count": 147,
     "metadata": {},
     "output_type": "execute_result"
    }
   ],
   "source": [
    "do_the_rest(part1_take3_tree, '/')"
   ]
  },
  {
   "cell_type": "markdown",
   "metadata": {},
   "source": [
    "Same result! WTH!"
   ]
  },
  {
   "cell_type": "code",
   "execution_count": 151,
   "metadata": {
    "ExecuteTime": {
     "end_time": "2022-12-27T05:55:30.198977Z",
     "start_time": "2022-12-27T05:55:30.193902Z"
    }
   },
   "outputs": [
    {
     "data": {
      "text/plain": [
       "405"
      ]
     },
     "execution_count": 151,
     "metadata": {},
     "output_type": "execute_result"
    }
   ],
   "source": [
    "len(part1_take3_tree)"
   ]
  },
  {
   "cell_type": "code",
   "execution_count": 152,
   "metadata": {
    "ExecuteTime": {
     "end_time": "2022-12-27T05:55:38.083065Z",
     "start_time": "2022-12-27T05:55:38.077250Z"
    }
   },
   "outputs": [
    {
     "data": {
      "text/plain": [
       "315"
      ]
     },
     "execution_count": 152,
     "metadata": {},
     "output_type": "execute_result"
    }
   ],
   "source": [
    "len(part1_take2_tree)"
   ]
  },
  {
   "cell_type": "code",
   "execution_count": 148,
   "metadata": {
    "ExecuteTime": {
     "end_time": "2022-12-27T05:53:43.432661Z",
     "start_time": "2022-12-27T05:53:43.426057Z"
    }
   },
   "outputs": [
    {
     "data": {
      "text/plain": [
       "Node('///szn/snjntth/zshh/ffpzc/snjntth/dzdfc.vqq', size=86775, type='file')"
      ]
     },
     "execution_count": 148,
     "metadata": {},
     "output_type": "execute_result"
    }
   ],
   "source": [
    "part1_take2_tree['dzdfc.vqq']"
   ]
  },
  {
   "cell_type": "code",
   "execution_count": 159,
   "metadata": {
    "ExecuteTime": {
     "end_time": "2022-12-27T05:57:51.454834Z",
     "start_time": "2022-12-27T05:57:51.441269Z"
    },
    "collapsed": true
   },
   "outputs": [
    {
     "ename": "KeyError",
     "evalue": "'dzdfc.vqq'",
     "output_type": "error",
     "traceback": [
      "\u001b[0;31m---------------------------------------------------------------------------\u001b[0m",
      "\u001b[0;31mKeyError\u001b[0m                                  Traceback (most recent call last)",
      "Cell \u001b[0;32mIn[159], line 1\u001b[0m\n\u001b[0;32m----> 1\u001b[0m \u001b[43mpart1_take3_tree\u001b[49m\u001b[43m[\u001b[49m\u001b[38;5;124;43m'\u001b[39;49m\u001b[38;5;124;43mdzdfc.vqq\u001b[39;49m\u001b[38;5;124;43m'\u001b[39;49m\u001b[43m]\u001b[49m\n",
      "\u001b[0;31mKeyError\u001b[0m: 'dzdfc.vqq'"
     ]
    }
   ],
   "source": [
    "part1_take3_tree['dzdfc.vqq']"
   ]
  },
  {
   "cell_type": "code",
   "execution_count": 143,
   "metadata": {
    "ExecuteTime": {
     "end_time": "2022-12-27T05:51:40.928589Z",
     "start_time": "2022-12-27T05:51:40.921755Z"
    }
   },
   "outputs": [
    {
     "data": {
      "text/plain": [
       "Node('///plws/ffpzc/dzdfc.vqq', size=48459, type='file')"
      ]
     },
     "execution_count": 143,
     "metadata": {},
     "output_type": "execute_result"
    }
   ],
   "source": [
    "part1_take3_tree['dzdfc.vqq-ffpzc']"
   ]
  },
  {
   "cell_type": "code",
   "execution_count": 144,
   "metadata": {
    "ExecuteTime": {
     "end_time": "2022-12-27T05:52:03.582915Z",
     "start_time": "2022-12-27T05:52:03.576458Z"
    }
   },
   "outputs": [
    {
     "data": {
      "text/plain": [
       "Node('///plws/frcmjzts/bsltmjz/dzdfc.vqq', size=34237, type='file')"
      ]
     },
     "execution_count": 144,
     "metadata": {},
     "output_type": "execute_result"
    }
   ],
   "source": [
    "part1_take3_tree['dzdfc.vqq-bsltmjz']"
   ]
  },
  {
   "cell_type": "code",
   "execution_count": 160,
   "metadata": {
    "ExecuteTime": {
     "end_time": "2022-12-27T05:58:07.234087Z",
     "start_time": "2022-12-27T05:58:07.229808Z"
    }
   },
   "outputs": [
    {
     "name": "stdout",
     "output_type": "stream",
     "text": [
      "ffpzc\n",
      "└── snjntth\n",
      "    ├── dpfpz (224945)\n",
      "    ├── dzdfc.vqq (86775)\n",
      "    └── vshcmjj (19560)\n"
     ]
    }
   ],
   "source": [
    "render_tree_with_size(part1_take3_tree['ffpzc'])"
   ]
  },
  {
   "cell_type": "code",
   "execution_count": 161,
   "metadata": {
    "ExecuteTime": {
     "end_time": "2022-12-27T05:58:37.529989Z",
     "start_time": "2022-12-27T05:58:37.524301Z"
    }
   },
   "outputs": [
    {
     "data": {
      "text/plain": [
       "{'ffpzc': 331280, 'snjntth': 331280}"
      ]
     },
     "execution_count": 161,
     "metadata": {},
     "output_type": "execute_result"
    }
   ],
   "source": [
    "sum_all_dirs(part1_take3_tree['ffpzc'])"
   ]
  },
  {
   "cell_type": "code",
   "execution_count": 162,
   "metadata": {
    "ExecuteTime": {
     "end_time": "2022-12-27T05:58:49.172435Z",
     "start_time": "2022-12-27T05:58:49.162333Z"
    }
   },
   "outputs": [
    {
     "data": {
      "text/plain": [
       "331280"
      ]
     },
     "execution_count": 162,
     "metadata": {},
     "output_type": "execute_result"
    }
   ],
   "source": [
    "224945 + 86775 + 19560"
   ]
  },
  {
   "cell_type": "code",
   "execution_count": null,
   "metadata": {},
   "outputs": [],
   "source": [
    "def do_the_rest(tree_dict, root_dir_name='root'):\n",
    "    dir_sizes = sum_all_dirs(tree_dict[root_dir_name])\n",
    "    filt_dir_size_list = [v for k,v in dir_sizes.items() if v <= 100000]\n",
    "    return np.sum(filt_dir_size_list)"
   ]
  },
  {
   "cell_type": "code",
   "execution_count": 149,
   "metadata": {
    "ExecuteTime": {
     "end_time": "2022-12-27T05:54:26.105665Z",
     "start_time": "2022-12-27T05:54:26.092280Z"
    }
   },
   "outputs": [],
   "source": [
    "ds = sum_all_dirs(part1_take3_tree['/'])"
   ]
  },
  {
   "cell_type": "code",
   "execution_count": 150,
   "metadata": {
    "ExecuteTime": {
     "end_time": "2022-12-27T05:54:30.404791Z",
     "start_time": "2022-12-27T05:54:30.398298Z"
    }
   },
   "outputs": [
    {
     "data": {
      "text/plain": [
       "131"
      ]
     },
     "execution_count": 150,
     "metadata": {},
     "output_type": "execute_result"
    }
   ],
   "source": [
    "len(ds)"
   ]
  },
  {
   "cell_type": "code",
   "execution_count": 154,
   "metadata": {
    "ExecuteTime": {
     "end_time": "2022-12-27T05:56:06.590095Z",
     "start_time": "2022-12-27T05:56:06.582107Z"
    },
    "collapsed": true
   },
   "outputs": [
    {
     "data": {
      "text/plain": [
       "{'/': 40268565,\n",
       " 'plws': 1554678,\n",
       " 'ffpzc': 331280,\n",
       " 'frcmjzts': 531615,\n",
       " 'bsltmjz': 14981,\n",
       " 'jfzgrbm': 438637,\n",
       " 'phqcg': 955,\n",
       " 'pwlbgbz': 22406250,\n",
       " 'gbg': 309966,\n",
       " 'wgq': 22963,\n",
       " 'mjzhcwrd': 259890,\n",
       " 'njcscpj': 14280792,\n",
       " 'dqzgqgv': 13813115,\n",
       " 'snjntth': 0,\n",
       " 'vrfgfds': 155233,\n",
       " 'sphbzn': 280719,\n",
       " 'qbzwrrw': 490122,\n",
       " 'qwpzn': 174183,\n",
       " 'bsvh': 130814,\n",
       " 'fvzcs': 5684207,\n",
       " 'cgmv': 823440,\n",
       " 'lmqcbbm': 272298,\n",
       " 'rstcqsmd': 289038,\n",
       " 'ggzwljr': 198200,\n",
       " 'pggcwb': 1451846,\n",
       " 'pdjg': 470550,\n",
       " 'wjhrtg': 764631,\n",
       " 'bsqqdr': 117496,\n",
       " 'frsmrd': 111509,\n",
       " 'ndw': 414371,\n",
       " 'nlml': 343963,\n",
       " 'pcbt': 5343412,\n",
       " 'flrpwfs': 60566,\n",
       " 'fjsjwfg': 3125477,\n",
       " 'jqpb': 361728,\n",
       " 'jscbg': 1078923,\n",
       " 'dtm': 80072,\n",
       " 'gsdnz': 595343,\n",
       " 'dsqzjs': 167465,\n",
       " 'lmn': 143289,\n",
       " 'vlnfhbq': 250106,\n",
       " 'wpwl': 153950,\n",
       " 'ctj': 82485,\n",
       " 'glgq': 285182,\n",
       " 'fwm': 531387,\n",
       " 'jvwt': 338167,\n",
       " 'vwpqzdwh': 267581,\n",
       " 'tbgjpphc': 7494824,\n",
       " 'fdbwbrpp': 1000353,\n",
       " 'jhnzrdvb': 217775,\n",
       " 'qbrth': 231302,\n",
       " 'slpt': 32343,\n",
       " 'znmj': 55058,\n",
       " 'gjzwh': 4037887,\n",
       " 'dvcbcd': 762822,\n",
       " 'jlwtvf': 219985,\n",
       " 'jnjvshs': 171481,\n",
       " 'nrpm': 18509,\n",
       " 'fsgz': 224576,\n",
       " 'hfrrqq': 826182,\n",
       " 'bwgsnfvb': 248071,\n",
       " 'wstmzfml': 218336,\n",
       " 'fcsjl': 474736,\n",
       " 'wqdths': 8326,\n",
       " 'rqqmldw': 986711,\n",
       " 'qpts': 346375,\n",
       " 'wnmqqspz': 165529,\n",
       " 'ssqbqqp': 192477,\n",
       " 'zsztqrc': 254053,\n",
       " 'hjvrtjt': 189942,\n",
       " 'rhzczj': 839368,\n",
       " 'ffjz': 257270,\n",
       " 'grsvhwm': 257270,\n",
       " 'dtbgb': 150245,\n",
       " 'qdgjzcz': 222389,\n",
       " 'wlzhr': 729420,\n",
       " 'pwtpltr': 10822209,\n",
       " 'dplsvrhl': 3198337,\n",
       " 'qmfwpjhl': 300362,\n",
       " 'rsrb': 825349,\n",
       " 'wgt': 594693,\n",
       " 'mnhntjz': 821505,\n",
       " 'bdvght': 243166,\n",
       " 'jprwchh': 178943,\n",
       " 'nlbm': 265059,\n",
       " 'zjmjntff': 134337,\n",
       " 'jbvdb': 192285,\n",
       " 'wmtjh': 192285,\n",
       " 'ggvwn': 192285,\n",
       " 'jst': 7173420,\n",
       " 'gncztvtb': 229298,\n",
       " 'jsqjcqnt': 1298396,\n",
       " 'psmtphhq': 577854,\n",
       " 'gcnrp': 283,\n",
       " 'llnztjf': 63263,\n",
       " 'nbqs': 88980,\n",
       " 'vssmq': 88980,\n",
       " 'tbqphzb': 93470,\n",
       " 'vdcqgts': 4109352,\n",
       " 'gwhfgwf': 479956,\n",
       " 'mjl': 208999,\n",
       " 'nbjtqnng': 586474,\n",
       " 'ldrsd': 107439,\n",
       " 'tcnmbcgg': 1903138,\n",
       " 'qdrmpqgn': 165713,\n",
       " 'rzqd': 932496,\n",
       " 'cwhnmlv': 627813,\n",
       " 'tcsds': 609931,\n",
       " 'snmrdfbt': 281025,\n",
       " 'qhjv': 117216,\n",
       " 'bmnm': 1238,\n",
       " 'sjlbj': 44239,\n",
       " 'vqnrj': 3286,\n",
       " 'szn': 5485428,\n",
       " 'lfb': 2697408,\n",
       " 'btj': 819078,\n",
       " 'rnbzdfgn': 117095,\n",
       " 'wvf': 650184,\n",
       " 'ncbmgpsc': 147899,\n",
       " 'wtwrmjnt': 252366,\n",
       " 'pwg': 700325,\n",
       " 'wcmhcfm': 229329,\n",
       " 'zwhvmln': 299877,\n",
       " 'ncnj': 40920,\n",
       " 'tjjzbf': 47522,\n",
       " 'wzcq': 173938,\n",
       " 'lrfcgzl': 267485,\n",
       " 'zshh': 824496,\n",
       " 'gmn': 238996,\n",
       " 'zjbp': 614816,\n",
       " 'nmtjtd': 98558}"
      ]
     },
     "execution_count": 154,
     "metadata": {},
     "output_type": "execute_result"
    }
   ],
   "source": [
    "ds"
   ]
  },
  {
   "cell_type": "code",
   "execution_count": 163,
   "metadata": {
    "ExecuteTime": {
     "end_time": "2022-12-27T05:59:26.915420Z",
     "start_time": "2022-12-27T05:59:26.909170Z"
    }
   },
   "outputs": [
    {
     "data": {
      "text/plain": [
       "331280"
      ]
     },
     "execution_count": 163,
     "metadata": {},
     "output_type": "execute_result"
    }
   ],
   "source": [
    "ds['ffpzc']"
   ]
  },
  {
   "cell_type": "code",
   "execution_count": 167,
   "metadata": {
    "ExecuteTime": {
     "end_time": "2022-12-27T06:00:44.233042Z",
     "start_time": "2022-12-27T06:00:44.229084Z"
    }
   },
   "outputs": [],
   "source": [
    "ds_vals = [v for v in ds.values()]"
   ]
  },
  {
   "cell_type": "code",
   "execution_count": 171,
   "metadata": {
    "ExecuteTime": {
     "end_time": "2022-12-27T06:01:09.746587Z",
     "start_time": "2022-12-27T06:01:09.742216Z"
    }
   },
   "outputs": [],
   "source": [
    "filt_ds = list(filter(lambda v: v<=100000, ds_vals))"
   ]
  },
  {
   "cell_type": "code",
   "execution_count": 174,
   "metadata": {
    "ExecuteTime": {
     "end_time": "2022-12-27T06:01:19.681705Z",
     "start_time": "2022-12-27T06:01:19.675414Z"
    }
   },
   "outputs": [
    {
     "data": {
      "text/plain": [
       "[14981,\n",
       " 955,\n",
       " 22963,\n",
       " 0,\n",
       " 60566,\n",
       " 80072,\n",
       " 82485,\n",
       " 32343,\n",
       " 55058,\n",
       " 18509,\n",
       " 8326,\n",
       " 283,\n",
       " 63263,\n",
       " 88980,\n",
       " 88980,\n",
       " 93470,\n",
       " 1238,\n",
       " 44239,\n",
       " 3286,\n",
       " 40920,\n",
       " 47522,\n",
       " 98558]"
      ]
     },
     "execution_count": 174,
     "metadata": {},
     "output_type": "execute_result"
    }
   ],
   "source": [
    "filt_ds"
   ]
  },
  {
   "cell_type": "code",
   "execution_count": 175,
   "metadata": {
    "ExecuteTime": {
     "end_time": "2022-12-27T06:01:24.077124Z",
     "start_time": "2022-12-27T06:01:24.071170Z"
    }
   },
   "outputs": [
    {
     "data": {
      "text/plain": [
       "946997"
      ]
     },
     "execution_count": 175,
     "metadata": {},
     "output_type": "execute_result"
    }
   ],
   "source": [
    "np.sum(filt_ds)"
   ]
  },
  {
   "cell_type": "code",
   "execution_count": 156,
   "metadata": {
    "ExecuteTime": {
     "end_time": "2022-12-27T05:56:37.323695Z",
     "start_time": "2022-12-27T05:56:37.317962Z"
    },
    "collapsed": true
   },
   "outputs": [
    {
     "name": "stdout",
     "output_type": "stream",
     "text": [
      "dqzgqgv\n",
      "├── dzdfc.vqq (70309)\n",
      "├── fcsjl (56139)\n",
      "├── sgwz.cdz (142095)\n",
      "├── snjntth\n",
      "│   ├── ffpzc (51918)\n",
      "│   └── vrfgfds\n",
      "│       └── jlscz (155233)\n",
      "├── sphbzn\n",
      "│   ├── qbzwrrw\n",
      "│   │   ├── fcsjl.tqj (278531)\n",
      "│   │   └── snjntth.gpd (211591)\n",
      "│   ├── qwpzn\n",
      "│   │   └── vqgsglwq (174183)\n",
      "│   ├── bsltmjz.fqz (185471)\n",
      "│   ├── bsvh\n",
      "│   │   └── wjlmgq (130814)\n",
      "│   ├── fvzcs\n",
      "│   │   ├── cgmv\n",
      "│   │   │   ├── dzdfc.vqq (46843)\n",
      "│   │   │   ├── lmqcbbm\n",
      "│   │   │   │   ├── bdmbvgp (229898)\n",
      "│   │   │   │   ├── ffpzc.stm (25529)\n",
      "│   │   │   │   └── lnpjzvg.qlj (16871)\n",
      "│   │   │   ├── rstcqsmd\n",
      "│   │   │   │   └── zrbbbwng.smf (289038)\n",
      "│   │   │   └── snjntth (215261)\n",
      "│   │   ├── ggzwljr\n",
      "│   │   │   └── bcthn (198200)\n",
      "│   │   ├── qvzghdpw.lms (298241)\n",
      "│   │   ├── snjntth\n",
      "│   │   │   ├── fwp.phf (191672)\n",
      "│   │   │   ├── hzs.zpg (68229)\n",
      "│   │   │   ├── pggcwb\n",
      "│   │   │   │   ├── fqztwvnv.lvv (154272)\n",
      "│   │   │   │   ├── pdjg\n",
      "│   │   │   │   │   ├── gvhlrcf (260644)\n",
      "│   │   │   │   │   └── wpls.pbd (209906)\n",
      "│   │   │   │   ├── vqgsglwq (62393)\n",
      "│   │   │   │   └── wjhrtg\n",
      "│   │   │   │       ├── dljf.zrq (148640)\n",
      "│   │   │   │       ├── dzdfc.vqq (172168)\n",
      "│   │   │   │       ├── hjdphcfm (196203)\n",
      "│   │   │   │       └── sgwz.cdz (247620)\n",
      "│   │   │   ├── qbv.bwj (222426)\n",
      "│   │   │   └── snjntth\n",
      "│   │   │       ├── vmqcm (155354)\n",
      "│   │   │       ├── ndlshlmj.cjq (37467)\n",
      "│   │   │       └── snjntth.nsf (257404)\n",
      "│   │   └── sphbzn\n",
      "│   │       ├── bfdv.lwv (64082)\n",
      "│   │       ├── bsltmjz\n",
      "│   │       │   ├── bsqqdr\n",
      "│   │       │   │   └── wcqt (117496)\n",
      "│   │       │   ├── fcsjl.gfm (266007)\n",
      "│   │       │   ├── ffpzc\n",
      "│   │       │   │   ├── mmnvqn.hqb (280224)\n",
      "│   │       │   │   └── vrr (105346)\n",
      "│   │       │   ├── frsmrd\n",
      "│   │       │   │   └── sphbzn.shz (111509)\n",
      "│   │       │   ├── nthnhzwf (72122)\n",
      "│   │       │   └── wjlmgq (286705)\n",
      "│   │       ├── dzdfc.vqq (58942)\n",
      "│   │       └── snjntth\n",
      "│   │           ├── mplj (177491)\n",
      "│   │           ├── pvbz.jwn (9029)\n",
      "│   │           ├── snjntth.zrv (92891)\n",
      "│   │           ├── vnnnw.gql (203356)\n",
      "│   │           └── vqgsglwq (134728)\n",
      "│   ├── ndw\n",
      "│   │   ├── bht.rpj (241303)\n",
      "│   │   └── vqgsglwq (173068)\n",
      "│   ├── nlml\n",
      "│   │   ├── hzglfpvq.ftt (228982)\n",
      "│   │   └── sgwz.cdz (114981)\n",
      "│   ├── pcbt\n",
      "│   │   ├── bsltmjz\n",
      "│   │   │   ├── bsltmjz.spj (177750)\n",
      "│   │   │   ├── ffpzc\n",
      "│   │   │   │   ├── snjntth.dss (179645)\n",
      "│   │   │   │   ├── qzhhtmd.bhw (97847)\n",
      "│   │   │   │   └── vqgsglwq (1197)\n",
      "│   │   │   ├── flrpwfs\n",
      "│   │   │   │   └── wvjq.gmm (60566)\n",
      "│   │   │   ├── mtmdtcpv.cfj (138824)\n",
      "│   │   │   └── wzqwczj.qwn (165770)\n",
      "│   │   ├── ffpzc\n",
      "│   │   ├── fjsjwfg\n",
      "│   │   │   ├── dnsdd.jgz (152232)\n",
      "│   │   │   ├── gsb.wsh (181301)\n",
      "│   │   │   ├── jqpb\n",
      "│   │   │   │   ├── mmnvqn.hqb (253403)\n",
      "│   │   │   │   └── rvq.mrc (108325)\n",
      "│   │   │   ├── jscbg\n",
      "│   │   │   │   ├── dtm\n",
      "│   │   │   │   │   └── gzqnb (80072)\n",
      "│   │   │   │   ├── gsdnz\n",
      "│   │   │   │   │   ├── dsqzjs\n",
      "│   │   │   │   │   │   ├── jqrlsf.gzs (2621)\n",
      "│   │   │   │   │   │   └── snjntth (164844)\n",
      "│   │   │   │   │   ├── sgwz.cdz (297895)\n",
      "│   │   │   │   │   └── vqgsglwq (129983)\n",
      "│   │   │   │   ├── prh (208269)\n",
      "│   │   │   │   ├── qdzljgh (25977)\n",
      "│   │   │   │   └── vmnq.mth (169262)\n",
      "│   │   │   ├── snjntth\n",
      "│   │   │   │   ├── cbhql (118553)\n",
      "│   │   │   │   ├── ffpzc\n",
      "│   │   │   │   │   ├── lmn\n",
      "│   │   │   │   │   │   ├── bsltmjz (46401)\n",
      "│   │   │   │   │   │   └── shrnqhvq (96888)\n",
      "│   │   │   │   │   └── tvlwn.vhh (12104)\n",
      "│   │   │   │   └── snjntth\n",
      "│   │   │   │       └── snjntth\n",
      "│   │   │   │           ├── vlnfhbq\n",
      "│   │   │   │           │   └── qvf (250106)\n",
      "│   │   │   │           ├── wpwl\n",
      "│   │   │   │           │   └── cmsd.rlg (153950)\n",
      "│   │   │   │           └── ctj\n",
      "│   │   │   │               └── fcsjl.lfl (82485)\n",
      "│   │   │   ├── snjntth.vvg (227677)\n",
      "│   │   │   ├── sphbzn\n",
      "│   │   │   │   └── glgq\n",
      "│   │   │   │       └── wjlmgq (285182)\n",
      "│   │   │   ├── vqgsglwq (75358)\n",
      "│   │   │   └── wjlmgq (2589)\n",
      "│   │   ├── fwm\n",
      "│   │   │   ├── ffpzc.qgb (251865)\n",
      "│   │   │   └── zvvpfqtp (279522)\n",
      "│   │   ├── jvwt\n",
      "│   │   │   ├── bsltmjz.nzp (48990)\n",
      "│   │   │   ├── ffpzc (219604)\n",
      "│   │   │   └── mvmdfzr.lwb (69573)\n",
      "│   │   ├── tmr.jdc (227943)\n",
      "│   │   ├── vwpqzdwh\n",
      "│   │   │   └── pvcch (267581)\n",
      "│   │   └── wjlmgq (31258)\n",
      "│   └── zhcmrpvt (286260)\n",
      "└── wjlmgq (284618)\n"
     ]
    }
   ],
   "source": [
    "render_tree_with_size(part1_take3_tree['dqzgqgv'])"
   ]
  },
  {
   "cell_type": "code",
   "execution_count": 157,
   "metadata": {
    "ExecuteTime": {
     "end_time": "2022-12-27T05:57:13.310115Z",
     "start_time": "2022-12-27T05:57:13.303853Z"
    }
   },
   "outputs": [
    {
     "data": {
      "text/plain": [
       "22"
      ]
     },
     "execution_count": 157,
     "metadata": {},
     "output_type": "execute_result"
    }
   ],
   "source": [
    "filt_ds = [v for k,v in ds.items() if v <= 100000]\n",
    "len(filt_ds)"
   ]
  },
  {
   "cell_type": "code",
   "execution_count": 158,
   "metadata": {
    "ExecuteTime": {
     "end_time": "2022-12-27T05:57:17.592207Z",
     "start_time": "2022-12-27T05:57:17.586485Z"
    }
   },
   "outputs": [
    {
     "data": {
      "text/plain": [
       "946997"
      ]
     },
     "execution_count": 158,
     "metadata": {},
     "output_type": "execute_result"
    }
   ],
   "source": [
    "np.sum(filt_ds)"
   ]
  },
  {
   "cell_type": "markdown",
   "metadata": {},
   "source": [
    "Can probably also have 2 directories with the same name. Oh boy this is getting fun"
   ]
  },
  {
   "cell_type": "markdown",
   "metadata": {},
   "source": [
    "## revamp again"
   ]
  },
  {
   "cell_type": "code",
   "execution_count": 180,
   "metadata": {
    "ExecuteTime": {
     "end_time": "2022-12-27T06:07:03.330729Z",
     "start_time": "2022-12-27T06:07:03.323278Z"
    }
   },
   "outputs": [],
   "source": [
    "def parse_commands(command_list):\n",
    "    current_dir = ''\n",
    "    tree_dict = {}\n",
    "    list_mode = False\n",
    "\n",
    "    for i, line in enumerate(command_list):\n",
    "        print(f\"{line}, (cwd: {current_dir}, list_mode: {list_mode})\")\n",
    "\n",
    "        if line.startswith(\"$\"): # command\n",
    "            list_mode = False # turn off list mode\n",
    "            line_mod = line.lstrip(\"$ \")\n",
    "\n",
    "            if line_mod[:3] == \"cd \": # change directory\n",
    "                change_to = line_mod[3:]\n",
    "                if change_to == \"..\":\n",
    "                    parent_dir = tree_dict[current_dir].parent\n",
    "                    current_dir = tree_dict[parent_dir.name].name\n",
    "                    continue\n",
    "                else:\n",
    "                    current_dir = change_to\n",
    "                    # this is only ever executed on the first line (the root dir)\n",
    "                    if change_to not in tree_dict.keys():\n",
    "                        tree_dict[change_to] = Node(change_to, \n",
    "                                                    type=\"dir\")\n",
    "                    continue\n",
    "\n",
    "            elif line_mod[:2] == \"ls\": # list directory\n",
    "                list_mode = True\n",
    "                continue\n",
    "\n",
    "        if list_mode:\n",
    "            info, file_name = line.split(' ')\n",
    "            # to handle all things with same names\n",
    "            concat_file_name = f\"{file_name}-{current_dir}\"\n",
    "            if re.match(\"\\d+\", info):\n",
    "                file_size = int(info)\n",
    "                # note: # doesn't matter what node name is for file\n",
    "                tree_dict[concat_file_name] = Node(file_name, \n",
    "                                            parent=tree_dict[current_dir], \n",
    "                                            type=\"file\",\n",
    "                                            size=file_size)\n",
    "            elif info == \"dir\":\n",
    "                # note: not sure this will work\n",
    "                tree_dict[concat_file_name] = Node(concat_file_name, \n",
    "                                            parent=tree_dict[current_dir],\n",
    "                                            type=\"dir\")\n",
    "            else:\n",
    "                print(\"Unidentified line 'info' type: \", i, line)\n",
    "    \n",
    "#     print(missing_parent)\n",
    "    return tree_dict"
   ]
  },
  {
   "cell_type": "code",
   "execution_count": 181,
   "metadata": {
    "ExecuteTime": {
     "end_time": "2022-12-27T06:07:03.993698Z",
     "start_time": "2022-12-27T06:07:03.959868Z"
    }
   },
   "outputs": [
    {
     "name": "stdout",
     "output_type": "stream",
     "text": [
      "$ cd /, (cwd: , list_mode: False)\n",
      "$ ls, (cwd: /, list_mode: False)\n",
      "dir plws, (cwd: /, list_mode: True)\n",
      "dir pwlbgbz, (cwd: /, list_mode: True)\n",
      "dir pwtpltr, (cwd: /, list_mode: True)\n",
      "dir szn, (cwd: /, list_mode: True)\n",
      "$ cd plws, (cwd: /, list_mode: True)\n",
      "$ ls, (cwd: plws, list_mode: False)\n",
      "dir ffpzc, (cwd: plws, list_mode: True)\n",
      "dir frcmjzts, (cwd: plws, list_mode: True)\n",
      "92461 nbvnzg, (cwd: plws, list_mode: True)\n",
      "dir phqcg, (cwd: plws, list_mode: True)\n",
      "21621 vqgsglwq, (cwd: plws, list_mode: True)\n",
      "$ cd ffpzc, (cwd: plws, list_mode: True)\n",
      "$ ls, (cwd: ffpzc, list_mode: False)\n",
      "48459 dzdfc.vqq, (cwd: ffpzc, list_mode: True)\n",
      "143107 jql.jzl, (cwd: ffpzc, list_mode: True)\n",
      "208330 mmnvqn.hqb, (cwd: ffpzc, list_mode: True)\n",
      "290122 svjvhflz, (cwd: ffpzc, list_mode: True)\n",
      "218008 wjlmgq, (cwd: ffpzc, list_mode: True)\n",
      "$ cd .., (cwd: ffpzc, list_mode: True)\n",
      "None\n"
     ]
    },
    {
     "ename": "AttributeError",
     "evalue": "'NoneType' object has no attribute 'name'",
     "output_type": "error",
     "traceback": [
      "\u001b[0;31m---------------------------------------------------------------------------\u001b[0m",
      "\u001b[0;31mAttributeError\u001b[0m                            Traceback (most recent call last)",
      "Cell \u001b[0;32mIn[181], line 1\u001b[0m\n\u001b[0;32m----> 1\u001b[0m part1_take4_tree \u001b[38;5;241m=\u001b[39m \u001b[43mparse_commands\u001b[49m\u001b[43m(\u001b[49m\u001b[43mdata\u001b[49m\u001b[43m)\u001b[49m\n",
      "Cell \u001b[0;32mIn[180], line 18\u001b[0m, in \u001b[0;36mparse_commands\u001b[0;34m(command_list)\u001b[0m\n\u001b[1;32m     16\u001b[0m     parent_dir \u001b[38;5;241m=\u001b[39m tree_dict[current_dir]\u001b[38;5;241m.\u001b[39mparent\n\u001b[1;32m     17\u001b[0m     \u001b[38;5;28mprint\u001b[39m(parent_dir)\n\u001b[0;32m---> 18\u001b[0m     current_dir \u001b[38;5;241m=\u001b[39m tree_dict[\u001b[43mparent_dir\u001b[49m\u001b[38;5;241;43m.\u001b[39;49m\u001b[43mname\u001b[49m]\u001b[38;5;241m.\u001b[39mname\n\u001b[1;32m     19\u001b[0m     \u001b[38;5;28;01mcontinue\u001b[39;00m\n\u001b[1;32m     20\u001b[0m \u001b[38;5;28;01melse\u001b[39;00m:\n",
      "\u001b[0;31mAttributeError\u001b[0m: 'NoneType' object has no attribute 'name'"
     ]
    }
   ],
   "source": [
    "part1_take4_tree = parse_commands(data)"
   ]
  },
  {
   "cell_type": "markdown",
   "metadata": {},
   "source": [
    "`current_dir` if `ffpzc` but key in dict is `ffpzc-<parent_dir>`"
   ]
  },
  {
   "cell_type": "markdown",
   "metadata": {},
   "source": [
    "Not sure if dict + tree is the right data structure(s)"
   ]
  },
  {
   "cell_type": "code",
   "execution_count": null,
   "metadata": {},
   "outputs": [],
   "source": [
    "def parse_commands(command_list):\n",
    "    current_dir = ''\n",
    "    parent_dirs = []\n",
    "    tree_dict = {}\n",
    "    list_mode = False\n",
    "\n",
    "    for i, line in enumerate(command_list):\n",
    "        print(f\"{line}, (cwd: {current_dir}, list_mode: {list_mode})\")\n",
    "\n",
    "        if line.startswith(\"$\"): # command\n",
    "            list_mode = False # turn off list mode\n",
    "            line_mod = line.lstrip(\"$ \")\n",
    "\n",
    "            if line_mod[:3] == \"cd \": # change directory\n",
    "                change_to = line_mod[3:]\n",
    "                if change_to == \"..\":\n",
    "                    parent_dir = tree_dict[current_dir].parent\n",
    "                    current_dir = tree_dict[parent_dir.name].name\n",
    "                    continue\n",
    "                else:\n",
    "                    current_dir = change_to\n",
    "                    # try this?\n",
    "                    parent_dirs.append(change_to)\n",
    "                    # this is only ever executed on the first line (the root dir)\n",
    "                    if change_to not in tree_dict.keys():\n",
    "                        tree_dict[change_to] = Node(change_to, \n",
    "                                                    type=\"dir\")\n",
    "                    continue\n",
    "\n",
    "            elif line_mod[:2] == \"ls\": # list directory\n",
    "                list_mode = True\n",
    "                continue\n",
    "\n",
    "        if list_mode:\n",
    "            info, file_name = line.split(' ')\n",
    "            # to handle all things with same names\n",
    "            concat_file_name = f\"{file_name}-{current_dir}\"\n",
    "            if re.match(\"\\d+\", info):\n",
    "                file_size = int(info)\n",
    "                # note: # doesn't matter what node name is for file\n",
    "                tree_dict[concat_file_name] = Node(file_name, \n",
    "                                            parent=tree_dict[current_dir], \n",
    "                                            type=\"file\",\n",
    "                                            size=file_size)\n",
    "            elif info == \"dir\":\n",
    "                # note: not sure this will work\n",
    "                tree_dict[concat_file_name] = Node(concat_file_name, \n",
    "                                            parent=tree_dict[current_dir],\n",
    "                                            type=\"dir\")\n",
    "            else:\n",
    "                print(\"Unidentified line 'info' type: \", i, line)\n",
    "    \n",
    "#     print(missing_parent)\n",
    "    return tree_dict"
   ]
  },
  {
   "cell_type": "markdown",
   "metadata": {},
   "source": [
    "# different approach"
   ]
  },
  {
   "cell_type": "markdown",
   "metadata": {},
   "source": [
    "## dev"
   ]
  },
  {
   "cell_type": "code",
   "execution_count": 182,
   "metadata": {
    "ExecuteTime": {
     "end_time": "2022-12-27T17:08:45.751133Z",
     "start_time": "2022-12-27T17:08:45.745705Z"
    }
   },
   "outputs": [
    {
     "data": {
      "text/plain": [
       "['$ cd /',\n",
       " '$ ls',\n",
       " 'dir plws',\n",
       " 'dir pwlbgbz',\n",
       " 'dir pwtpltr',\n",
       " 'dir szn',\n",
       " '$ cd plws',\n",
       " '$ ls',\n",
       " 'dir ffpzc',\n",
       " 'dir frcmjzts']"
      ]
     },
     "execution_count": 182,
     "metadata": {},
     "output_type": "execute_result"
    }
   ],
   "source": [
    "data[:10]"
   ]
  },
  {
   "cell_type": "code",
   "execution_count": 184,
   "metadata": {
    "ExecuteTime": {
     "end_time": "2022-12-27T17:10:48.731309Z",
     "start_time": "2022-12-27T17:10:48.725195Z"
    }
   },
   "outputs": [
    {
     "data": {
      "text/plain": [
       "['dir nmtjtd',\n",
       " '$ cd fcsjl',\n",
       " '$ ls',\n",
       " '276802 fcsjl.psm',\n",
       " '197934 sgwz.cdz',\n",
       " '$ cd ..',\n",
       " '$ cd nmtjtd',\n",
       " '$ ls',\n",
       " '47477 dvqmqlgw.ths',\n",
       " '51081 vqgsglwq']"
      ]
     },
     "execution_count": 184,
     "metadata": {},
     "output_type": "execute_result"
    }
   ],
   "source": [
    "data[-10:]"
   ]
  },
  {
   "cell_type": "code",
   "execution_count": 224,
   "metadata": {
    "ExecuteTime": {
     "end_time": "2022-12-27T17:31:04.099733Z",
     "start_time": "2022-12-27T17:31:04.095016Z"
    }
   },
   "outputs": [],
   "source": [
    "dummy_data = [\n",
    "    '$ cd /',\n",
    "    '$ ls',\n",
    "    'dir a',\n",
    "    'dir b',\n",
    "    'dir c',\n",
    "    'dir d',\n",
    "    '$ cd a',\n",
    "    '$ ls',\n",
    "    '123 x',\n",
    "    '456 y',\n",
    "    '$ cd ..',\n",
    "    '$ cd b',\n",
    "    '$ ls',\n",
    "    'dir a',\n",
    "    '1234 y',\n",
    "    '$ cd a',\n",
    "    '4567 x',\n",
    "    '9807 z',\n",
    "]"
   ]
  },
  {
   "cell_type": "code",
   "execution_count": 186,
   "metadata": {
    "ExecuteTime": {
     "end_time": "2022-12-27T17:13:46.443890Z",
     "start_time": "2022-12-27T17:13:46.439743Z"
    }
   },
   "outputs": [],
   "source": [
    "cd_regex = r\"^\\$ cd ([a-z]+)\""
   ]
  },
  {
   "cell_type": "code",
   "execution_count": 197,
   "metadata": {
    "ExecuteTime": {
     "end_time": "2022-12-27T17:15:49.818507Z",
     "start_time": "2022-12-27T17:15:49.812056Z"
    }
   },
   "outputs": [
    {
     "data": {
      "text/plain": [
       "<regex.Match object; span=(0, 6), match='$ cd b'>"
      ]
     },
     "execution_count": 197,
     "metadata": {},
     "output_type": "execute_result"
    }
   ],
   "source": [
    "re.match(cd_regex, '$ cd b')"
   ]
  },
  {
   "cell_type": "code",
   "execution_count": 213,
   "metadata": {
    "ExecuteTime": {
     "end_time": "2022-12-27T17:24:01.907079Z",
     "start_time": "2022-12-27T17:24:01.901290Z"
    }
   },
   "outputs": [
    {
     "data": {
      "text/plain": [
       "<regex.Match object; span=(0, 6), match='$ cd b'>"
      ]
     },
     "execution_count": 213,
     "metadata": {},
     "output_type": "execute_result"
    }
   ],
   "source": [
    "match = re.match(cd_regex, '$ cd b')\n",
    "match"
   ]
  },
  {
   "cell_type": "code",
   "execution_count": 214,
   "metadata": {
    "ExecuteTime": {
     "end_time": "2022-12-27T17:24:02.405718Z",
     "start_time": "2022-12-27T17:24:02.400944Z"
    }
   },
   "outputs": [
    {
     "data": {
      "text/plain": [
       "(['$ cd b'], ['b'])"
      ]
     },
     "execution_count": 214,
     "metadata": {},
     "output_type": "execute_result"
    }
   ],
   "source": [
    "match.allcaptures()"
   ]
  },
  {
   "cell_type": "code",
   "execution_count": 217,
   "metadata": {
    "ExecuteTime": {
     "end_time": "2022-12-27T17:24:21.263730Z",
     "start_time": "2022-12-27T17:24:21.257450Z"
    }
   },
   "outputs": [
    {
     "data": {
      "text/plain": [
       "'b'"
      ]
     },
     "execution_count": 217,
     "metadata": {},
     "output_type": "execute_result"
    }
   ],
   "source": [
    "match.allcaptures()[1][0]"
   ]
  },
  {
   "cell_type": "code",
   "execution_count": 209,
   "metadata": {
    "ExecuteTime": {
     "end_time": "2022-12-27T17:18:35.759849Z",
     "start_time": "2022-12-27T17:18:35.754017Z"
    }
   },
   "outputs": [
    {
     "data": {
      "text/plain": [
       "['$ cd a', '$ cd b', '$ cd a']"
      ]
     },
     "execution_count": 209,
     "metadata": {},
     "output_type": "execute_result"
    }
   ],
   "source": [
    "# [x for x in dummy_data if re.match(cd_regex, x) is not None]"
   ]
  },
  {
   "cell_type": "code",
   "execution_count": 192,
   "metadata": {
    "ExecuteTime": {
     "end_time": "2022-12-27T17:14:45.923696Z",
     "start_time": "2022-12-27T17:14:45.918555Z"
    }
   },
   "outputs": [
    {
     "data": {
      "text/plain": [
       "10"
      ]
     },
     "execution_count": 192,
     "metadata": {},
     "output_type": "execute_result"
    }
   ],
   "source": [
    "len(dummy_data)"
   ]
  },
  {
   "cell_type": "code",
   "execution_count": 235,
   "metadata": {
    "ExecuteTime": {
     "end_time": "2022-12-27T17:35:42.503316Z",
     "start_time": "2022-12-27T17:35:42.498009Z"
    }
   },
   "outputs": [],
   "source": [
    "cd_regex = r\"^\\$ cd ([a-z/.]+)\"\n",
    "ls_regex = r\"^\\$ ls\""
   ]
  },
  {
   "cell_type": "code",
   "execution_count": 255,
   "metadata": {
    "ExecuteTime": {
     "end_time": "2022-12-27T17:41:47.359337Z",
     "start_time": "2022-12-27T17:41:47.356121Z"
    }
   },
   "outputs": [],
   "source": [
    "del tree_list"
   ]
  },
  {
   "cell_type": "code",
   "execution_count": 256,
   "metadata": {
    "ExecuteTime": {
     "end_time": "2022-12-27T17:41:47.825464Z",
     "start_time": "2022-12-27T17:41:47.816516Z"
    }
   },
   "outputs": [
    {
     "name": "stdout",
     "output_type": "stream",
     "text": [
      "$ cd /\n",
      "moving into directory: root\n",
      "$ ls\n",
      "dir a\n",
      "dir b\n",
      "dir c\n",
      "dir d\n",
      "$ cd a\n",
      "moving into directory: root/a\n",
      "$ ls\n",
      "123 x\n",
      "456 y\n",
      "$ cd ..\n",
      "moving up to directory: root\n",
      "$ cd b\n",
      "moving into directory: root/b\n",
      "$ ls\n",
      "dir a\n",
      "1234 y\n",
      "$ cd a\n",
      "moving into directory: root/b/a\n",
      "4567 x\n",
      "9807 z\n"
     ]
    }
   ],
   "source": [
    "# tree_list = []\n",
    "dir_list = []\n",
    "size_dict = {}\n",
    "current_dir = ''\n",
    "parent_dir = ''\n",
    "list_mode = False\n",
    "\n",
    "for i, line in enumerate(dummy_data):\n",
    "    print(line)\n",
    "    cd_match = re.match(cd_regex, line)\n",
    "    ls_match = re.match(ls_regex, line)\n",
    "    \n",
    "    if cd_match is not None:\n",
    "        change_to_dir = cd_match.allcaptures()[1][0]\n",
    "        \n",
    "        if change_to_dir == \"..\":\n",
    "            cwd_list = current_dir.split('/')\n",
    "            current_dir = '/'.join(cwd_list[:-1])\n",
    "            parent_dir = '/'.join(cwd_list[:-2])\n",
    "            print(f\"moving up to directory: {current_dir}\")\n",
    "        elif change_to_dir == \"/\":\n",
    "            current_dir = \"root\"\n",
    "#             tree_list.append(current_dir)\n",
    "            dir_list.append(current_dir)\n",
    "            print(f\"moving into directory: {current_dir}\")\n",
    "        else:\n",
    "            parent_dir = current_dir\n",
    "            current_dir = f\"{parent_dir}/{change_to_dir}\"\n",
    "#             tree_list.append(current_dir)\n",
    "            dir_list.append(current_dir)\n",
    "            print(f\"moving into directory: {current_dir}\")\n",
    "        continue\n",
    "    \n",
    "    elif ls_match is not None:\n",
    "        list_mode = True\n",
    "        continue\n",
    "    \n",
    "    else:\n",
    "        info, file_name = line.split(' ')\n",
    "        if re.match(r\"\\d+\", info):\n",
    "            file_size = int(info)\n",
    "            file_path = f\"{current_dir}/{file_name}\"\n",
    "#             tree_list.append(file_path)\n",
    "            size_dict[file_path] = file_size\n",
    "#                 tree_dict[file_name] = Node(file_name, \n",
    "#                                             parent=tree_dict[current_dir], \n",
    "#                                             type=\"file\",\n",
    "#                                             size=file_size)\n",
    "#             elif info == \"dir\":\n",
    "#                 tree_dict[file_name] = Node(file_name, \n",
    "#                                             parent=tree_dict[current_dir],\n",
    "#                                             type=\"dir\")\n"
   ]
  },
  {
   "cell_type": "code",
   "execution_count": 257,
   "metadata": {
    "ExecuteTime": {
     "end_time": "2022-12-27T17:41:49.277433Z",
     "start_time": "2022-12-27T17:41:49.271264Z"
    }
   },
   "outputs": [
    {
     "data": {
      "text/plain": [
       "['root', 'root/a', 'root/b', 'root/b/a']"
      ]
     },
     "execution_count": 257,
     "metadata": {},
     "output_type": "execute_result"
    }
   ],
   "source": [
    "dir_list"
   ]
  },
  {
   "cell_type": "code",
   "execution_count": 258,
   "metadata": {
    "ExecuteTime": {
     "end_time": "2022-12-27T17:41:50.962606Z",
     "start_time": "2022-12-27T17:41:50.956332Z"
    }
   },
   "outputs": [
    {
     "data": {
      "text/plain": [
       "{'root/a/x': 123,\n",
       " 'root/a/y': 456,\n",
       " 'root/b/y': 1234,\n",
       " 'root/b/a/x': 4567,\n",
       " 'root/b/a/z': 9807}"
      ]
     },
     "execution_count": 258,
     "metadata": {},
     "output_type": "execute_result"
    }
   ],
   "source": [
    "size_dict"
   ]
  },
  {
   "cell_type": "code",
   "execution_count": 261,
   "metadata": {
    "ExecuteTime": {
     "end_time": "2022-12-27T17:44:15.192662Z",
     "start_time": "2022-12-27T17:44:15.183383Z"
    }
   },
   "outputs": [
    {
     "data": {
      "text/plain": [
       "'root/b/a'"
      ]
     },
     "execution_count": 261,
     "metadata": {},
     "output_type": "execute_result"
    }
   ],
   "source": [
    "k = 'root/b/a/x'\n",
    "'/'.join(k.split('/')[:-1])"
   ]
  },
  {
   "cell_type": "markdown",
   "metadata": {},
   "source": [
    "Parse size dict by tree_list"
   ]
  },
  {
   "cell_type": "code",
   "execution_count": 259,
   "metadata": {
    "ExecuteTime": {
     "end_time": "2022-12-27T17:43:08.944186Z",
     "start_time": "2022-12-27T17:43:08.939893Z"
    }
   },
   "outputs": [],
   "source": [
    "dir_dict = {d: 0 for d in dir_list}"
   ]
  },
  {
   "cell_type": "code",
   "execution_count": 264,
   "metadata": {
    "ExecuteTime": {
     "end_time": "2022-12-27T17:45:00.181568Z",
     "start_time": "2022-12-27T17:45:00.174996Z"
    }
   },
   "outputs": [
    {
     "data": {
      "text/plain": [
       "{'root': 0, 'root/a': 1158, 'root/b': 2468, 'root/b/a': 28748}"
      ]
     },
     "execution_count": 264,
     "metadata": {},
     "output_type": "execute_result"
    }
   ],
   "source": [
    "# for k,v in size_dict.items():\n",
    "#     parent_dir = '/'.join(k.split('/')[:-1])\n",
    "#     dir_dict[parent_dir] += v\n",
    "\n",
    "# dir_dict"
   ]
  },
  {
   "cell_type": "markdown",
   "metadata": {},
   "source": [
    "Must loop through the dir's instead, because files should get counted mutiple times, for each level down they are"
   ]
  },
  {
   "cell_type": "code",
   "execution_count": 269,
   "metadata": {
    "ExecuteTime": {
     "end_time": "2022-12-27T17:48:10.404476Z",
     "start_time": "2022-12-27T17:48:10.398489Z"
    }
   },
   "outputs": [
    {
     "data": {
      "text/plain": [
       "True"
      ]
     },
     "execution_count": 269,
     "metadata": {},
     "output_type": "execute_result"
    }
   ],
   "source": [
    "d = \"root\"\n",
    "pd = \"root/a\"\n",
    "pd.startswith(d)"
   ]
  },
  {
   "cell_type": "code",
   "execution_count": 276,
   "metadata": {
    "ExecuteTime": {
     "end_time": "2022-12-27T17:49:21.605603Z",
     "start_time": "2022-12-27T17:49:21.602645Z"
    }
   },
   "outputs": [],
   "source": [
    "dir_dict = {d: 0 for d in dir_list}"
   ]
  },
  {
   "cell_type": "code",
   "execution_count": 277,
   "metadata": {
    "ExecuteTime": {
     "end_time": "2022-12-27T17:49:22.000211Z",
     "start_time": "2022-12-27T17:49:21.993970Z"
    }
   },
   "outputs": [
    {
     "data": {
      "text/plain": [
       "{'root': 0, 'root/a': 0, 'root/b': 0, 'root/b/a': 0}"
      ]
     },
     "execution_count": 277,
     "metadata": {},
     "output_type": "execute_result"
    }
   ],
   "source": [
    "dir_dict"
   ]
  },
  {
   "cell_type": "code",
   "execution_count": 278,
   "metadata": {
    "ExecuteTime": {
     "end_time": "2022-12-27T17:49:22.359967Z",
     "start_time": "2022-12-27T17:49:22.356803Z"
    }
   },
   "outputs": [],
   "source": [
    "dir_dict['root'] += 10"
   ]
  },
  {
   "cell_type": "code",
   "execution_count": 279,
   "metadata": {
    "ExecuteTime": {
     "end_time": "2022-12-27T17:49:22.756191Z",
     "start_time": "2022-12-27T17:49:22.750426Z"
    }
   },
   "outputs": [
    {
     "data": {
      "text/plain": [
       "{'root': 10, 'root/a': 0, 'root/b': 0, 'root/b/a': 0}"
      ]
     },
     "execution_count": 279,
     "metadata": {},
     "output_type": "execute_result"
    }
   ],
   "source": [
    "dir_dict"
   ]
  },
  {
   "cell_type": "code",
   "execution_count": null,
   "metadata": {},
   "outputs": [],
   "source": []
  },
  {
   "cell_type": "code",
   "execution_count": 280,
   "metadata": {
    "ExecuteTime": {
     "end_time": "2022-12-27T17:50:30.519363Z",
     "start_time": "2022-12-27T17:50:30.511765Z"
    }
   },
   "outputs": [
    {
     "name": "stdout",
     "output_type": "stream",
     "text": [
      "--------\n",
      "Looking for dir: root\n",
      "File: root/a/x\n",
      "Adding file 123 size to dir\n",
      "\n",
      "File: root/a/y\n",
      "Adding file 456 size to dir\n",
      "\n",
      "File: root/b/y\n",
      "Adding file 1234 size to dir\n",
      "\n",
      "File: root/b/a/x\n",
      "Adding file 4567 size to dir\n",
      "\n",
      "File: root/b/a/z\n",
      "Adding file 9807 size to dir\n",
      "\n",
      "--------\n",
      "Looking for dir: root/a\n",
      "File: root/a/x\n",
      "Adding file 123 size to dir\n",
      "\n",
      "File: root/a/y\n",
      "Adding file 456 size to dir\n",
      "\n",
      "File: root/b/y\n",
      "\n",
      "File: root/b/a/x\n",
      "\n",
      "File: root/b/a/z\n",
      "\n",
      "--------\n",
      "Looking for dir: root/b\n",
      "File: root/a/x\n",
      "\n",
      "File: root/a/y\n",
      "\n",
      "File: root/b/y\n",
      "Adding file 1234 size to dir\n",
      "\n",
      "File: root/b/a/x\n",
      "Adding file 4567 size to dir\n",
      "\n",
      "File: root/b/a/z\n",
      "Adding file 9807 size to dir\n",
      "\n",
      "--------\n",
      "Looking for dir: root/b/a\n",
      "File: root/a/x\n",
      "\n",
      "File: root/a/y\n",
      "\n",
      "File: root/b/y\n",
      "\n",
      "File: root/b/a/x\n",
      "Adding file 4567 size to dir\n",
      "\n",
      "File: root/b/a/z\n",
      "Adding file 9807 size to dir\n",
      "\n"
     ]
    },
    {
     "data": {
      "text/plain": [
       "{'root': 16187, 'root/a': 579, 'root/b': 15608, 'root/b/a': 14374}"
      ]
     },
     "execution_count": 280,
     "metadata": {},
     "output_type": "execute_result"
    }
   ],
   "source": [
    "dir_dict = {d: 0 for d in dir_list}\n",
    "\n",
    "for d in dir_list:\n",
    "    print(\"--------\")\n",
    "    print(f\"Looking for dir: {d}\")\n",
    "    for k,v in size_dict.items():\n",
    "        print(f\"File: {k}\")\n",
    "        parent_dir = '/'.join(k.split('/')[:-1])\n",
    "#         print(f\"Parent dir: {parent_dir}\")\n",
    "        if parent_dir.startswith(d):\n",
    "            print(f\"Adding file {v} size to dir\")\n",
    "            dir_dict[d] += v\n",
    "        print()\n",
    "\n",
    "dir_dict"
   ]
  },
  {
   "cell_type": "code",
   "execution_count": 281,
   "metadata": {
    "ExecuteTime": {
     "end_time": "2022-12-27T17:50:42.162604Z",
     "start_time": "2022-12-27T17:50:42.154649Z"
    }
   },
   "outputs": [
    {
     "name": "stdout",
     "output_type": "stream",
     "text": [
      "$ cd /\n",
      "$ ls\n",
      "dir a\n",
      "dir b\n",
      "dir c\n",
      "dir d\n",
      "$ cd a\n",
      "$ ls\n",
      "123 x\n",
      "456 y\n",
      "$ cd ..\n",
      "$ cd b\n",
      "$ ls\n",
      "dir a\n",
      "1234 y\n",
      "$ cd a\n",
      "4567 x\n",
      "9807 z\n"
     ]
    }
   ],
   "source": [
    "for x in dummy_data:\n",
    "    print(x)"
   ]
  },
  {
   "cell_type": "code",
   "execution_count": 284,
   "metadata": {
    "ExecuteTime": {
     "end_time": "2022-12-27T17:51:19.713836Z",
     "start_time": "2022-12-27T17:51:19.707777Z"
    }
   },
   "outputs": [
    {
     "data": {
      "text/plain": [
       "569"
      ]
     },
     "execution_count": 284,
     "metadata": {},
     "output_type": "execute_result"
    }
   ],
   "source": [
    "123 + 446"
   ]
  },
  {
   "cell_type": "code",
   "execution_count": 282,
   "metadata": {
    "ExecuteTime": {
     "end_time": "2022-12-27T17:50:54.020296Z",
     "start_time": "2022-12-27T17:50:54.014899Z"
    }
   },
   "outputs": [
    {
     "data": {
      "text/plain": [
       "14374"
      ]
     },
     "execution_count": 282,
     "metadata": {},
     "output_type": "execute_result"
    }
   ],
   "source": [
    "4567 + 9807"
   ]
  },
  {
   "cell_type": "code",
   "execution_count": 283,
   "metadata": {
    "ExecuteTime": {
     "end_time": "2022-12-27T17:51:09.217071Z",
     "start_time": "2022-12-27T17:51:09.211508Z"
    }
   },
   "outputs": [
    {
     "data": {
      "text/plain": [
       "15608"
      ]
     },
     "execution_count": 283,
     "metadata": {},
     "output_type": "execute_result"
    }
   ],
   "source": [
    "4567 + 9807 + 1234"
   ]
  },
  {
   "cell_type": "code",
   "execution_count": 285,
   "metadata": {
    "ExecuteTime": {
     "end_time": "2022-12-27T17:51:30.682078Z",
     "start_time": "2022-12-27T17:51:30.676141Z"
    }
   },
   "outputs": [
    {
     "data": {
      "text/plain": [
       "16177"
      ]
     },
     "execution_count": 285,
     "metadata": {},
     "output_type": "execute_result"
    }
   ],
   "source": [
    "15608 + 569"
   ]
  },
  {
   "cell_type": "markdown",
   "metadata": {},
   "source": [
    "## apply"
   ]
  },
  {
   "cell_type": "code",
   "execution_count": 288,
   "metadata": {
    "ExecuteTime": {
     "end_time": "2022-12-27T17:53:52.149073Z",
     "start_time": "2022-12-27T17:53:52.140165Z"
    }
   },
   "outputs": [],
   "source": [
    "def parse_data(data):\n",
    "    # tree_list = []\n",
    "    dir_list = []\n",
    "    size_dict = {}\n",
    "    current_dir = ''\n",
    "    parent_dir = ''\n",
    "    list_mode = False\n",
    "\n",
    "    for i, line in enumerate(data):\n",
    "        cd_match = re.match(cd_regex, line)\n",
    "        ls_match = re.match(ls_regex, line)\n",
    "\n",
    "        if cd_match is not None:\n",
    "            change_to_dir = cd_match.allcaptures()[1][0]\n",
    "\n",
    "            if change_to_dir == \"..\":\n",
    "                cwd_list = current_dir.split('/')\n",
    "                current_dir = '/'.join(cwd_list[:-1])\n",
    "                parent_dir = '/'.join(cwd_list[:-2])\n",
    "            elif change_to_dir == \"/\":\n",
    "                current_dir = \"root\"\n",
    "    #             tree_list.append(current_dir)\n",
    "                dir_list.append(current_dir)\n",
    "            else:\n",
    "                parent_dir = current_dir\n",
    "                current_dir = f\"{parent_dir}/{change_to_dir}\"\n",
    "    #             tree_list.append(current_dir)\n",
    "                dir_list.append(current_dir)\n",
    "            continue\n",
    "\n",
    "        elif ls_match is not None:\n",
    "            list_mode = True\n",
    "            continue\n",
    "\n",
    "        else:\n",
    "            info, file_name = line.split(' ')\n",
    "            if re.match(r\"\\d+\", info):\n",
    "                file_size = int(info)\n",
    "                file_path = f\"{current_dir}/{file_name}\"\n",
    "                size_dict[file_path] = file_size\n",
    "\n",
    "\n",
    "    dir_dict = {d: 0 for d in dir_list}\n",
    "\n",
    "    for d in dir_list:\n",
    "        for k,v in size_dict.items():\n",
    "            parent_dir = '/'.join(k.split('/')[:-1])\n",
    "            if parent_dir.startswith(d):\n",
    "                dir_dict[d] += v\n",
    "\n",
    "    return dir_dict"
   ]
  },
  {
   "cell_type": "markdown",
   "metadata": {},
   "source": [
    "### test"
   ]
  },
  {
   "cell_type": "code",
   "execution_count": 289,
   "metadata": {
    "ExecuteTime": {
     "end_time": "2022-12-27T17:53:52.699948Z",
     "start_time": "2022-12-27T17:53:52.693684Z"
    }
   },
   "outputs": [
    {
     "data": {
      "text/plain": [
       "{'root': 16187, 'root/a': 579, 'root/b': 15608, 'root/b/a': 14374}"
      ]
     },
     "execution_count": 289,
     "metadata": {},
     "output_type": "execute_result"
    }
   ],
   "source": [
    "parse_data(dummy_data)"
   ]
  },
  {
   "cell_type": "code",
   "execution_count": 296,
   "metadata": {
    "ExecuteTime": {
     "end_time": "2022-12-27T17:56:42.143910Z",
     "start_time": "2022-12-27T17:56:42.132900Z"
    }
   },
   "outputs": [
    {
     "name": "stdout",
     "output_type": "stream",
     "text": [
      "{'root': 48381165, 'root/a': 94853, 'root/a/e': 584, 'root/d': 24933642}\n"
     ]
    },
    {
     "data": {
      "text/plain": [
       "95437"
      ]
     },
     "execution_count": 296,
     "metadata": {},
     "output_type": "execute_result"
    }
   ],
   "source": [
    "test_command_str = \"\"\"$ cd /\n",
    "$ ls\n",
    "dir a\n",
    "14848514 b.txt\n",
    "8504156 c.dat\n",
    "dir d\n",
    "$ cd a\n",
    "$ ls\n",
    "dir e\n",
    "29116 f\n",
    "2557 g\n",
    "62596 h.lst\n",
    "$ cd e\n",
    "$ ls\n",
    "584 i\n",
    "$ cd ..\n",
    "$ cd ..\n",
    "$ cd d\n",
    "$ ls\n",
    "4060174 j\n",
    "8033020 d.log\n",
    "5626152 d.ext\n",
    "7214296 k\"\"\"\n",
    "test_command_list = test_command_str.split('\\n')\n",
    "dir_size_dict = parse_data(test_command_list)\n",
    "print(dir_size_dict)\n",
    "filt_size_list = [v for v in dir_size_dict.values() if v <= 100000]\n",
    "np.sum(filt_size_list)"
   ]
  },
  {
   "cell_type": "markdown",
   "metadata": {},
   "source": [
    "### for reals"
   ]
  },
  {
   "cell_type": "code",
   "execution_count": 324,
   "metadata": {
    "ExecuteTime": {
     "end_time": "2022-12-27T21:19:16.132217Z",
     "start_time": "2022-12-27T21:19:16.076943Z"
    }
   },
   "outputs": [],
   "source": [
    "dir_size_dict = parse_data(data)"
   ]
  },
  {
   "cell_type": "code",
   "execution_count": 325,
   "metadata": {
    "ExecuteTime": {
     "end_time": "2022-12-27T21:19:16.536748Z",
     "start_time": "2022-12-27T21:19:16.527368Z"
    }
   },
   "outputs": [
    {
     "data": {
      "text/plain": [
       "176"
      ]
     },
     "execution_count": 325,
     "metadata": {},
     "output_type": "execute_result"
    }
   ],
   "source": [
    "len(dir_size_dict)"
   ]
  },
  {
   "cell_type": "code",
   "execution_count": 326,
   "metadata": {
    "ExecuteTime": {
     "end_time": "2022-12-27T21:19:17.010699Z",
     "start_time": "2022-12-27T21:19:17.004231Z"
    }
   },
   "outputs": [
    {
     "data": {
      "text/plain": [
       "1432936"
      ]
     },
     "execution_count": 326,
     "metadata": {},
     "output_type": "execute_result"
    }
   ],
   "source": [
    "filt_size_list = [v for v in dir_size_dict.values() if v <= 100000]\n",
    "np.sum(filt_size_list)"
   ]
  },
  {
   "cell_type": "code",
   "execution_count": null,
   "metadata": {},
   "outputs": [],
   "source": []
  },
  {
   "cell_type": "markdown",
   "metadata": {},
   "source": [
    "# part 2"
   ]
  },
  {
   "cell_type": "code",
   "execution_count": 327,
   "metadata": {
    "ExecuteTime": {
     "end_time": "2022-12-27T21:19:20.602031Z",
     "start_time": "2022-12-27T21:19:20.598005Z"
    }
   },
   "outputs": [],
   "source": [
    "total_space_avail = 70000000\n",
    "unused_space_needed = 30000000\n",
    "total_used_space = dir_size_dict['root']\n",
    "current_unused_space = total_space_avail - total_used_space"
   ]
  },
  {
   "cell_type": "code",
   "execution_count": 328,
   "metadata": {
    "ExecuteTime": {
     "end_time": "2022-12-27T21:19:21.080492Z",
     "start_time": "2022-12-27T21:19:21.075198Z"
    }
   },
   "outputs": [
    {
     "data": {
      "text/plain": [
       "40268565"
      ]
     },
     "execution_count": 328,
     "metadata": {},
     "output_type": "execute_result"
    }
   ],
   "source": [
    "total_used_space"
   ]
  },
  {
   "cell_type": "code",
   "execution_count": 329,
   "metadata": {
    "ExecuteTime": {
     "end_time": "2022-12-27T21:19:22.516024Z",
     "start_time": "2022-12-27T21:19:22.510540Z"
    }
   },
   "outputs": [
    {
     "data": {
      "text/plain": [
       "29731435"
      ]
     },
     "execution_count": 329,
     "metadata": {},
     "output_type": "execute_result"
    }
   ],
   "source": [
    "current_unused_space"
   ]
  },
  {
   "cell_type": "code",
   "execution_count": 330,
   "metadata": {
    "ExecuteTime": {
     "end_time": "2022-12-27T21:19:23.540810Z",
     "start_time": "2022-12-27T21:19:23.535591Z"
    }
   },
   "outputs": [
    {
     "data": {
      "text/plain": [
       "268565"
      ]
     },
     "execution_count": 330,
     "metadata": {},
     "output_type": "execute_result"
    }
   ],
   "source": [
    "space_to_free_up = unused_space_needed - current_unused_space\n",
    "space_to_free_up"
   ]
  },
  {
   "cell_type": "code",
   "execution_count": 331,
   "metadata": {
    "ExecuteTime": {
     "end_time": "2022-12-27T21:19:26.665666Z",
     "start_time": "2022-12-27T21:19:26.659581Z"
    }
   },
   "outputs": [
    {
     "data": {
      "text/plain": [
       "272298"
      ]
     },
     "execution_count": 331,
     "metadata": {},
     "output_type": "execute_result"
    }
   ],
   "source": [
    "filt_size_list2 = [v for v in dir_size_dict.values() if v >= space_to_free_up]\n",
    "filt_size_list2.sort()\n",
    "filt_size_list2[0]"
   ]
  }
 ],
 "metadata": {
  "kernelspec": {
   "display_name": "misc",
   "language": "python",
   "name": "misc"
  },
  "language_info": {
   "codemirror_mode": {
    "name": "ipython",
    "version": 3
   },
   "file_extension": ".py",
   "mimetype": "text/x-python",
   "name": "python",
   "nbconvert_exporter": "python",
   "pygments_lexer": "ipython3",
   "version": "3.10.8"
  },
  "toc": {
   "base_numbering": 1,
   "nav_menu": {},
   "number_sections": true,
   "sideBar": true,
   "skip_h1_title": false,
   "title_cell": "Table of Contents",
   "title_sidebar": "Contents",
   "toc_cell": false,
   "toc_position": {
    "height": "calc(100% - 180px)",
    "left": "10px",
    "top": "150px",
    "width": "165px"
   },
   "toc_section_display": true,
   "toc_window_display": true
  }
 },
 "nbformat": 4,
 "nbformat_minor": 2
}
