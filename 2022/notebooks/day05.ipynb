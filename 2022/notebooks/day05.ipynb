{
 "cells": [
  {
   "cell_type": "code",
   "execution_count": 1,
   "metadata": {
    "ExecuteTime": {
     "end_time": "2022-12-24T21:59:09.159181Z",
     "start_time": "2022-12-24T21:59:07.938075Z"
    }
   },
   "outputs": [],
   "source": [
    "import pandas as pd\n",
    "import numpy as np\n",
    "\n",
    "import os"
   ]
  },
  {
   "cell_type": "code",
   "execution_count": 2,
   "metadata": {
    "ExecuteTime": {
     "end_time": "2022-12-24T21:59:09.181493Z",
     "start_time": "2022-12-24T21:59:09.163685Z"
    }
   },
   "outputs": [],
   "source": [
    "day = 5"
   ]
  },
  {
   "cell_type": "code",
   "execution_count": 3,
   "metadata": {
    "ExecuteTime": {
     "end_time": "2022-12-24T21:59:09.196913Z",
     "start_time": "2022-12-24T21:59:09.186321Z"
    }
   },
   "outputs": [],
   "source": [
    "INPUT_DIR = \"../input\"\n",
    "\n",
    "input_path = f'{INPUT_DIR}/day{day:02d}.txt'\n",
    "\n",
    "with open(input_path) as file:\n",
    "    data = file.readlines()"
   ]
  },
  {
   "cell_type": "code",
   "execution_count": 5,
   "metadata": {
    "ExecuteTime": {
     "end_time": "2022-12-24T21:59:14.276947Z",
     "start_time": "2022-12-24T21:59:14.268095Z"
    }
   },
   "outputs": [
    {
     "data": {
      "text/plain": [
       "['        [Q] [B]         [H]        \\n',\n",
       " '    [F] [W] [D] [Q]     [S]        \\n',\n",
       " '    [D] [C] [N] [S] [G] [F]        \\n',\n",
       " '    [R] [D] [L] [C] [N] [Q]     [R]\\n',\n",
       " '[V] [W] [L] [M] [P] [S] [M]     [M]\\n',\n",
       " '[J] [B] [F] [P] [B] [B] [P] [F] [F]\\n',\n",
       " '[B] [V] [G] [J] [N] [D] [B] [L] [V]\\n',\n",
       " '[D] [P] [R] [W] [H] [R] [Z] [W] [S]\\n',\n",
       " ' 1   2   3   4   5   6   7   8   9 \\n',\n",
       " '\\n',\n",
       " 'move 1 from 4 to 1\\n',\n",
       " 'move 2 from 4 to 8\\n',\n",
       " 'move 5 from 9 to 6\\n',\n",
       " 'move 1 from 1 to 3\\n',\n",
       " 'move 5 from 8 to 3\\n']"
      ]
     },
     "execution_count": 5,
     "metadata": {},
     "output_type": "execute_result"
    }
   ],
   "source": [
    "data[:15]"
   ]
  },
  {
   "cell_type": "markdown",
   "metadata": {},
   "source": [
    "## parse input"
   ]
  },
  {
   "cell_type": "code",
   "execution_count": 53,
   "metadata": {
    "ExecuteTime": {
     "end_time": "2022-12-24T22:14:16.316634Z",
     "start_time": "2022-12-24T22:14:16.312945Z"
    }
   },
   "outputs": [],
   "source": [
    "stacks = data[:9]\n",
    "list_of_instr = data[10:]"
   ]
  },
  {
   "cell_type": "code",
   "execution_count": 7,
   "metadata": {
    "ExecuteTime": {
     "end_time": "2022-12-24T21:59:40.888998Z",
     "start_time": "2022-12-24T21:59:40.881606Z"
    }
   },
   "outputs": [
    {
     "data": {
      "text/plain": [
       "['        [Q] [B]         [H]        \\n',\n",
       " '    [F] [W] [D] [Q]     [S]        \\n',\n",
       " '    [D] [C] [N] [S] [G] [F]        \\n',\n",
       " '    [R] [D] [L] [C] [N] [Q]     [R]\\n',\n",
       " '[V] [W] [L] [M] [P] [S] [M]     [M]\\n',\n",
       " '[J] [B] [F] [P] [B] [B] [P] [F] [F]\\n',\n",
       " '[B] [V] [G] [J] [N] [D] [B] [L] [V]\\n',\n",
       " '[D] [P] [R] [W] [H] [R] [Z] [W] [S]\\n',\n",
       " ' 1   2   3   4   5   6   7   8   9 \\n']"
      ]
     },
     "execution_count": 7,
     "metadata": {},
     "output_type": "execute_result"
    }
   ],
   "source": [
    "stacks"
   ]
  },
  {
   "cell_type": "code",
   "execution_count": 10,
   "metadata": {
    "ExecuteTime": {
     "end_time": "2022-12-24T21:59:54.824434Z",
     "start_time": "2022-12-24T21:59:54.815215Z"
    }
   },
   "outputs": [
    {
     "data": {
      "text/plain": [
       "['move 1 from 4 to 1\\n',\n",
       " 'move 2 from 4 to 8\\n',\n",
       " 'move 5 from 9 to 6\\n',\n",
       " 'move 1 from 1 to 3\\n',\n",
       " 'move 5 from 8 to 3\\n',\n",
       " 'move 1 from 1 to 5\\n',\n",
       " 'move 4 from 3 to 6\\n',\n",
       " 'move 14 from 6 to 2\\n',\n",
       " 'move 5 from 4 to 5\\n',\n",
       " 'move 7 from 7 to 2\\n']"
      ]
     },
     "execution_count": 10,
     "metadata": {},
     "output_type": "execute_result"
    }
   ],
   "source": [
    "list_of_instr[:10]"
   ]
  },
  {
   "cell_type": "markdown",
   "metadata": {},
   "source": [
    "## create the stacks"
   ]
  },
  {
   "cell_type": "code",
   "execution_count": 11,
   "metadata": {
    "ExecuteTime": {
     "end_time": "2022-12-24T22:02:35.379929Z",
     "start_time": "2022-12-24T22:02:35.371878Z"
    }
   },
   "outputs": [],
   "source": [
    "from collections import deque"
   ]
  },
  {
   "cell_type": "code",
   "execution_count": 12,
   "metadata": {
    "ExecuteTime": {
     "end_time": "2022-12-24T22:02:54.229952Z",
     "start_time": "2022-12-24T22:02:54.222656Z"
    }
   },
   "outputs": [
    {
     "data": {
      "text/plain": [
       "['        [Q] [B]         [H]        \\n',\n",
       " '    [F] [W] [D] [Q]     [S]        \\n',\n",
       " '    [D] [C] [N] [S] [G] [F]        \\n',\n",
       " '    [R] [D] [L] [C] [N] [Q]     [R]\\n',\n",
       " '[V] [W] [L] [M] [P] [S] [M]     [M]\\n',\n",
       " '[J] [B] [F] [P] [B] [B] [P] [F] [F]\\n',\n",
       " '[B] [V] [G] [J] [N] [D] [B] [L] [V]\\n',\n",
       " '[D] [P] [R] [W] [H] [R] [Z] [W] [S]\\n',\n",
       " ' 1   2   3   4   5   6   7   8   9 \\n']"
      ]
     },
     "execution_count": 12,
     "metadata": {},
     "output_type": "execute_result"
    }
   ],
   "source": [
    "stacks"
   ]
  },
  {
   "cell_type": "code",
   "execution_count": 25,
   "metadata": {
    "ExecuteTime": {
     "end_time": "2022-12-24T22:05:36.531213Z",
     "start_time": "2022-12-24T22:05:36.518575Z"
    }
   },
   "outputs": [],
   "source": [
    "stacks_arr = np.array([x.strip('\\n') for x in stacks])"
   ]
  },
  {
   "cell_type": "code",
   "execution_count": 26,
   "metadata": {
    "ExecuteTime": {
     "end_time": "2022-12-24T22:05:37.426096Z",
     "start_time": "2022-12-24T22:05:37.416165Z"
    }
   },
   "outputs": [
    {
     "data": {
      "text/plain": [
       "array(['        [Q] [B]         [H]        ',\n",
       "       '    [F] [W] [D] [Q]     [S]        ',\n",
       "       '    [D] [C] [N] [S] [G] [F]        ',\n",
       "       '    [R] [D] [L] [C] [N] [Q]     [R]',\n",
       "       '[V] [W] [L] [M] [P] [S] [M]     [M]',\n",
       "       '[J] [B] [F] [P] [B] [B] [P] [F] [F]',\n",
       "       '[B] [V] [G] [J] [N] [D] [B] [L] [V]',\n",
       "       '[D] [P] [R] [W] [H] [R] [Z] [W] [S]',\n",
       "       ' 1   2   3   4   5   6   7   8   9 '], dtype='<U35')"
      ]
     },
     "execution_count": 26,
     "metadata": {},
     "output_type": "execute_result"
    }
   ],
   "source": [
    "stacks_arr"
   ]
  },
  {
   "cell_type": "code",
   "execution_count": 27,
   "metadata": {
    "ExecuteTime": {
     "end_time": "2022-12-24T22:05:39.095845Z",
     "start_time": "2022-12-24T22:05:39.078173Z"
    }
   },
   "outputs": [
    {
     "data": {
      "text/plain": [
       "36"
      ]
     },
     "execution_count": 27,
     "metadata": {},
     "output_type": "execute_result"
    }
   ],
   "source": [
    "len(stacks[0])"
   ]
  },
  {
   "cell_type": "code",
   "execution_count": 28,
   "metadata": {
    "ExecuteTime": {
     "end_time": "2022-12-24T22:05:40.122028Z",
     "start_time": "2022-12-24T22:05:40.114810Z"
    }
   },
   "outputs": [
    {
     "data": {
      "text/plain": [
       "35"
      ]
     },
     "execution_count": 28,
     "metadata": {},
     "output_type": "execute_result"
    }
   ],
   "source": [
    "len(stacks_arr[0])"
   ]
  },
  {
   "cell_type": "code",
   "execution_count": 29,
   "metadata": {
    "ExecuteTime": {
     "end_time": "2022-12-24T22:05:48.943064Z",
     "start_time": "2022-12-24T22:05:48.932530Z"
    }
   },
   "outputs": [
    {
     "data": {
      "text/plain": [
       "36"
      ]
     },
     "execution_count": 29,
     "metadata": {},
     "output_type": "execute_result"
    }
   ],
   "source": [
    "len(stacks[-1])"
   ]
  },
  {
   "cell_type": "code",
   "execution_count": 30,
   "metadata": {
    "ExecuteTime": {
     "end_time": "2022-12-24T22:05:50.467134Z",
     "start_time": "2022-12-24T22:05:50.457163Z"
    }
   },
   "outputs": [
    {
     "data": {
      "text/plain": [
       "35"
      ]
     },
     "execution_count": 30,
     "metadata": {},
     "output_type": "execute_result"
    }
   ],
   "source": [
    "len(stacks_arr[-1])"
   ]
  },
  {
   "cell_type": "code",
   "execution_count": 32,
   "metadata": {
    "ExecuteTime": {
     "end_time": "2022-12-24T22:06:38.363093Z",
     "start_time": "2022-12-24T22:06:38.355266Z"
    }
   },
   "outputs": [
    {
     "data": {
      "text/plain": [
       "' '"
      ]
     },
     "execution_count": 32,
     "metadata": {},
     "output_type": "execute_result"
    }
   ],
   "source": [
    "stacks_arr[0][-1]"
   ]
  },
  {
   "cell_type": "code",
   "execution_count": 33,
   "metadata": {
    "ExecuteTime": {
     "end_time": "2022-12-24T22:07:03.142809Z",
     "start_time": "2022-12-24T22:07:03.136293Z"
    }
   },
   "outputs": [
    {
     "data": {
      "text/plain": [
       "(9,)"
      ]
     },
     "execution_count": 33,
     "metadata": {},
     "output_type": "execute_result"
    }
   ],
   "source": [
    "stacks_arr.shape"
   ]
  },
  {
   "cell_type": "code",
   "execution_count": null,
   "metadata": {},
   "outputs": [],
   "source": [
    "np.indices()"
   ]
  },
  {
   "cell_type": "code",
   "execution_count": 37,
   "metadata": {
    "ExecuteTime": {
     "end_time": "2022-12-24T22:08:31.235678Z",
     "start_time": "2022-12-24T22:08:31.225854Z"
    }
   },
   "outputs": [
    {
     "data": {
      "text/plain": [
       "1"
      ]
     },
     "execution_count": 37,
     "metadata": {},
     "output_type": "execute_result"
    }
   ],
   "source": [
    "stacks_arr[-1].index('1')"
   ]
  },
  {
   "cell_type": "code",
   "execution_count": 38,
   "metadata": {
    "ExecuteTime": {
     "end_time": "2022-12-24T22:08:38.041012Z",
     "start_time": "2022-12-24T22:08:38.031655Z"
    }
   },
   "outputs": [
    {
     "data": {
      "text/plain": [
       "5"
      ]
     },
     "execution_count": 38,
     "metadata": {},
     "output_type": "execute_result"
    }
   ],
   "source": [
    "stacks_arr[-1].index('2')"
   ]
  },
  {
   "cell_type": "code",
   "execution_count": 39,
   "metadata": {
    "ExecuteTime": {
     "end_time": "2022-12-24T22:09:04.771531Z",
     "start_time": "2022-12-24T22:09:04.767208Z"
    }
   },
   "outputs": [],
   "source": [
    "pos_idx = [stacks_arr[-1].index(str(x)) for x in range(1,10)]"
   ]
  },
  {
   "cell_type": "code",
   "execution_count": 40,
   "metadata": {
    "ExecuteTime": {
     "end_time": "2022-12-24T22:09:07.215763Z",
     "start_time": "2022-12-24T22:09:07.209254Z"
    }
   },
   "outputs": [
    {
     "data": {
      "text/plain": [
       "[1, 5, 9, 13, 17, 21, 25, 29, 33]"
      ]
     },
     "execution_count": 40,
     "metadata": {},
     "output_type": "execute_result"
    }
   ],
   "source": [
    "pos_idx"
   ]
  },
  {
   "cell_type": "code",
   "execution_count": 26,
   "metadata": {
    "ExecuteTime": {
     "end_time": "2022-12-24T22:05:37.426096Z",
     "start_time": "2022-12-24T22:05:37.416165Z"
    }
   },
   "outputs": [
    {
     "data": {
      "text/plain": [
       "array(['        [Q] [B]         [H]        ',\n",
       "       '    [F] [W] [D] [Q]     [S]        ',\n",
       "       '    [D] [C] [N] [S] [G] [F]        ',\n",
       "       '    [R] [D] [L] [C] [N] [Q]     [R]',\n",
       "       '[V] [W] [L] [M] [P] [S] [M]     [M]',\n",
       "       '[J] [B] [F] [P] [B] [B] [P] [F] [F]',\n",
       "       '[B] [V] [G] [J] [N] [D] [B] [L] [V]',\n",
       "       '[D] [P] [R] [W] [H] [R] [Z] [W] [S]',\n",
       "       ' 1   2   3   4   5   6   7   8   9 '], dtype='<U35')"
      ]
     },
     "execution_count": 26,
     "metadata": {},
     "output_type": "execute_result"
    }
   ],
   "source": [
    "stacks_arr"
   ]
  },
  {
   "cell_type": "code",
   "execution_count": 41,
   "metadata": {
    "ExecuteTime": {
     "end_time": "2022-12-24T22:10:02.622286Z",
     "start_time": "2022-12-24T22:10:02.617475Z"
    }
   },
   "outputs": [
    {
     "data": {
      "text/plain": [
       "array(['[D] [P] [R] [W] [H] [R] [Z] [W] [S]',\n",
       "       '[B] [V] [G] [J] [N] [D] [B] [L] [V]',\n",
       "       '[J] [B] [F] [P] [B] [B] [P] [F] [F]',\n",
       "       '[V] [W] [L] [M] [P] [S] [M]     [M]',\n",
       "       '    [R] [D] [L] [C] [N] [Q]     [R]',\n",
       "       '    [D] [C] [N] [S] [G] [F]        ',\n",
       "       '    [F] [W] [D] [Q]     [S]        ',\n",
       "       '        [Q] [B]         [H]        '], dtype='<U35')"
      ]
     },
     "execution_count": 41,
     "metadata": {},
     "output_type": "execute_result"
    }
   ],
   "source": [
    "stacks_arr[:-1][::-1]"
   ]
  },
  {
   "cell_type": "code",
   "execution_count": 43,
   "metadata": {
    "ExecuteTime": {
     "end_time": "2022-12-24T22:10:58.326832Z",
     "start_time": "2022-12-24T22:10:58.322511Z"
    }
   },
   "outputs": [],
   "source": [
    "list_of_stacks = [deque() for _ in range(9)]"
   ]
  },
  {
   "cell_type": "code",
   "execution_count": 44,
   "metadata": {
    "ExecuteTime": {
     "end_time": "2022-12-24T22:11:01.338204Z",
     "start_time": "2022-12-24T22:11:01.330760Z"
    }
   },
   "outputs": [
    {
     "data": {
      "text/plain": [
       "[deque([]),\n",
       " deque([]),\n",
       " deque([]),\n",
       " deque([]),\n",
       " deque([]),\n",
       " deque([]),\n",
       " deque([]),\n",
       " deque([]),\n",
       " deque([])]"
      ]
     },
     "execution_count": 44,
     "metadata": {},
     "output_type": "execute_result"
    }
   ],
   "source": [
    "list_of_stacks"
   ]
  },
  {
   "cell_type": "code",
   "execution_count": 46,
   "metadata": {
    "ExecuteTime": {
     "end_time": "2022-12-24T22:11:14.110478Z",
     "start_time": "2022-12-24T22:11:14.098520Z"
    }
   },
   "outputs": [
    {
     "data": {
      "text/plain": [
       "9"
      ]
     },
     "execution_count": 46,
     "metadata": {},
     "output_type": "execute_result"
    }
   ],
   "source": [
    "len(list_of_stacks)"
   ]
  },
  {
   "cell_type": "code",
   "execution_count": 49,
   "metadata": {
    "ExecuteTime": {
     "end_time": "2022-12-24T22:12:58.091579Z",
     "start_time": "2022-12-24T22:12:58.080904Z"
    }
   },
   "outputs": [],
   "source": [
    "list_of_stacks = [deque() for _ in range(9)]\n",
    "for line in stacks_arr[:-1][::-1]:\n",
    "    for stack_idx, item_idx in enumerate(pos_idx):\n",
    "        item = line[item_idx]\n",
    "        if item != ' ':\n",
    "            list_of_stacks[stack_idx].append(item)"
   ]
  },
  {
   "cell_type": "code",
   "execution_count": 50,
   "metadata": {
    "ExecuteTime": {
     "end_time": "2022-12-24T22:12:58.678533Z",
     "start_time": "2022-12-24T22:12:58.669768Z"
    }
   },
   "outputs": [
    {
     "data": {
      "text/plain": [
       "[deque(['D', 'B', 'J', 'V']),\n",
       " deque(['P', 'V', 'B', 'W', 'R', 'D', 'F']),\n",
       " deque(['R', 'G', 'F', 'L', 'D', 'C', 'W', 'Q']),\n",
       " deque(['W', 'J', 'P', 'M', 'L', 'N', 'D', 'B']),\n",
       " deque(['H', 'N', 'B', 'P', 'C', 'S', 'Q']),\n",
       " deque(['R', 'D', 'B', 'S', 'N', 'G']),\n",
       " deque(['Z', 'B', 'P', 'M', 'Q', 'F', 'S', 'H']),\n",
       " deque(['W', 'L', 'F']),\n",
       " deque(['S', 'V', 'F', 'M', 'R'])]"
      ]
     },
     "execution_count": 50,
     "metadata": {},
     "output_type": "execute_result"
    }
   ],
   "source": [
    "list_of_stacks"
   ]
  },
  {
   "cell_type": "code",
   "execution_count": 26,
   "metadata": {
    "ExecuteTime": {
     "end_time": "2022-12-24T22:05:37.426096Z",
     "start_time": "2022-12-24T22:05:37.416165Z"
    }
   },
   "outputs": [
    {
     "data": {
      "text/plain": [
       "array(['        [Q] [B]         [H]        ',\n",
       "       '    [F] [W] [D] [Q]     [S]        ',\n",
       "       '    [D] [C] [N] [S] [G] [F]        ',\n",
       "       '    [R] [D] [L] [C] [N] [Q]     [R]',\n",
       "       '[V] [W] [L] [M] [P] [S] [M]     [M]',\n",
       "       '[J] [B] [F] [P] [B] [B] [P] [F] [F]',\n",
       "       '[B] [V] [G] [J] [N] [D] [B] [L] [V]',\n",
       "       '[D] [P] [R] [W] [H] [R] [Z] [W] [S]',\n",
       "       ' 1   2   3   4   5   6   7   8   9 '], dtype='<U35')"
      ]
     },
     "execution_count": 26,
     "metadata": {},
     "output_type": "execute_result"
    }
   ],
   "source": [
    "stacks_arr"
   ]
  },
  {
   "cell_type": "code",
   "execution_count": 51,
   "metadata": {
    "ExecuteTime": {
     "end_time": "2022-12-24T22:13:28.470806Z",
     "start_time": "2022-12-24T22:13:28.464615Z"
    }
   },
   "outputs": [],
   "source": [
    "def make_stacks():\n",
    "    list_of_stacks = [deque() for _ in range(9)]\n",
    "    for line in stacks_arr[:-1][::-1]:\n",
    "        for stack_idx, item_idx in enumerate(pos_idx):\n",
    "            item = line[item_idx]\n",
    "            if item != ' ':\n",
    "                list_of_stacks[stack_idx].append(item)\n",
    "    return list_of_stacks"
   ]
  },
  {
   "cell_type": "markdown",
   "metadata": {},
   "source": [
    "## dev parse instructions"
   ]
  },
  {
   "cell_type": "code",
   "execution_count": 54,
   "metadata": {
    "ExecuteTime": {
     "end_time": "2022-12-24T22:14:25.240636Z",
     "start_time": "2022-12-24T22:14:25.232451Z"
    }
   },
   "outputs": [
    {
     "data": {
      "text/plain": [
       "['move 1 from 4 to 1\\n',\n",
       " 'move 2 from 4 to 8\\n',\n",
       " 'move 5 from 9 to 6\\n',\n",
       " 'move 1 from 1 to 3\\n',\n",
       " 'move 5 from 8 to 3\\n']"
      ]
     },
     "execution_count": 54,
     "metadata": {},
     "output_type": "execute_result"
    }
   ],
   "source": [
    "list_of_instr[:5]"
   ]
  },
  {
   "cell_type": "code",
   "execution_count": 58,
   "metadata": {
    "ExecuteTime": {
     "end_time": "2022-12-24T22:16:40.401023Z",
     "start_time": "2022-12-24T22:16:40.394302Z"
    }
   },
   "outputs": [
    {
     "data": {
      "text/plain": [
       "'move 1 from 4 to 1\\n'"
      ]
     },
     "execution_count": 58,
     "metadata": {},
     "output_type": "execute_result"
    }
   ],
   "source": [
    "instr = list_of_instr[0]\n",
    "# instr = instr.strip()\n",
    "instr"
   ]
  },
  {
   "cell_type": "code",
   "execution_count": 56,
   "metadata": {
    "ExecuteTime": {
     "end_time": "2022-12-24T22:15:57.225888Z",
     "start_time": "2022-12-24T22:15:56.783058Z"
    }
   },
   "outputs": [],
   "source": [
    "import regex as re"
   ]
  },
  {
   "cell_type": "code",
   "execution_count": 64,
   "metadata": {
    "ExecuteTime": {
     "end_time": "2022-12-24T22:17:20.587277Z",
     "start_time": "2022-12-24T22:17:20.583434Z"
    }
   },
   "outputs": [],
   "source": [
    "re_phr = r\"move ([0-9]) from ([0-9]) to ([0-9])\"\n",
    "info = re.findall(re_phr, instr)[0]"
   ]
  },
  {
   "cell_type": "code",
   "execution_count": 65,
   "metadata": {
    "ExecuteTime": {
     "end_time": "2022-12-24T22:17:22.958292Z",
     "start_time": "2022-12-24T22:17:22.952012Z"
    }
   },
   "outputs": [
    {
     "data": {
      "text/plain": [
       "('1', '4', '1')"
      ]
     },
     "execution_count": 65,
     "metadata": {},
     "output_type": "execute_result"
    }
   ],
   "source": [
    "info"
   ]
  },
  {
   "cell_type": "code",
   "execution_count": 80,
   "metadata": {
    "ExecuteTime": {
     "end_time": "2022-12-24T22:21:01.563126Z",
     "start_time": "2022-12-24T22:21:01.558025Z"
    }
   },
   "outputs": [],
   "source": [
    "# adjust for 0 index\n",
    "qty = int(info[0])\n",
    "stack_from = int(info[1]) - 1\n",
    "stack_to = int(info[2]) - 1"
   ]
  },
  {
   "cell_type": "code",
   "execution_count": 81,
   "metadata": {
    "ExecuteTime": {
     "end_time": "2022-12-24T22:21:07.156280Z",
     "start_time": "2022-12-24T22:21:07.150300Z"
    }
   },
   "outputs": [
    {
     "data": {
      "text/plain": [
       "(1, 3, 0)"
      ]
     },
     "execution_count": 81,
     "metadata": {},
     "output_type": "execute_result"
    }
   ],
   "source": [
    "qty, stack_from, stack_to"
   ]
  },
  {
   "cell_type": "code",
   "execution_count": 78,
   "metadata": {
    "ExecuteTime": {
     "end_time": "2022-12-24T22:20:44.758240Z",
     "start_time": "2022-12-24T22:20:44.754037Z"
    }
   },
   "outputs": [],
   "source": [
    "list_of_stacks = make_stacks()"
   ]
  },
  {
   "cell_type": "code",
   "execution_count": 79,
   "metadata": {
    "ExecuteTime": {
     "end_time": "2022-12-24T22:20:45.129423Z",
     "start_time": "2022-12-24T22:20:45.118166Z"
    }
   },
   "outputs": [
    {
     "data": {
      "text/plain": [
       "[deque(['D', 'B', 'J', 'V']),\n",
       " deque(['P', 'V', 'B', 'W', 'R', 'D', 'F']),\n",
       " deque(['R', 'G', 'F', 'L', 'D', 'C', 'W', 'Q']),\n",
       " deque(['W', 'J', 'P', 'M', 'L', 'N', 'D', 'B']),\n",
       " deque(['H', 'N', 'B', 'P', 'C', 'S', 'Q']),\n",
       " deque(['R', 'D', 'B', 'S', 'N', 'G']),\n",
       " deque(['Z', 'B', 'P', 'M', 'Q', 'F', 'S', 'H']),\n",
       " deque(['W', 'L', 'F']),\n",
       " deque(['S', 'V', 'F', 'M', 'R'])]"
      ]
     },
     "execution_count": 79,
     "metadata": {},
     "output_type": "execute_result"
    }
   ],
   "source": [
    "list_of_stacks"
   ]
  },
  {
   "cell_type": "code",
   "execution_count": 82,
   "metadata": {
    "ExecuteTime": {
     "end_time": "2022-12-24T22:21:25.281420Z",
     "start_time": "2022-12-24T22:21:25.275529Z"
    }
   },
   "outputs": [
    {
     "name": "stdout",
     "output_type": "stream",
     "text": [
      "B\n"
     ]
    }
   ],
   "source": [
    "for _ in range(qty):\n",
    "    item_to_move = list_of_stacks[stack_from].pop()\n",
    "    print(item_to_move)\n",
    "    list_of_stacks[stack_to].append(item_to_move)"
   ]
  },
  {
   "cell_type": "code",
   "execution_count": 83,
   "metadata": {
    "ExecuteTime": {
     "end_time": "2022-12-24T22:21:26.776562Z",
     "start_time": "2022-12-24T22:21:26.768874Z"
    }
   },
   "outputs": [
    {
     "data": {
      "text/plain": [
       "[deque(['D', 'B', 'J', 'V', 'B']),\n",
       " deque(['P', 'V', 'B', 'W', 'R', 'D', 'F']),\n",
       " deque(['R', 'G', 'F', 'L', 'D', 'C', 'W', 'Q']),\n",
       " deque(['W', 'J', 'P', 'M', 'L', 'N', 'D']),\n",
       " deque(['H', 'N', 'B', 'P', 'C', 'S', 'Q']),\n",
       " deque(['R', 'D', 'B', 'S', 'N', 'G']),\n",
       " deque(['Z', 'B', 'P', 'M', 'Q', 'F', 'S', 'H']),\n",
       " deque(['W', 'L', 'F']),\n",
       " deque(['S', 'V', 'F', 'M', 'R'])]"
      ]
     },
     "execution_count": 83,
     "metadata": {},
     "output_type": "execute_result"
    }
   ],
   "source": [
    "list_of_stacks"
   ]
  },
  {
   "cell_type": "code",
   "execution_count": 85,
   "metadata": {
    "ExecuteTime": {
     "end_time": "2022-12-24T22:23:58.575185Z",
     "start_time": "2022-12-24T22:23:58.569949Z"
    }
   },
   "outputs": [
    {
     "data": {
      "text/plain": [
       "[]"
      ]
     },
     "execution_count": 85,
     "metadata": {},
     "output_type": "execute_result"
    }
   ],
   "source": [
    "re.findall(re_phr, '')"
   ]
  },
  {
   "cell_type": "markdown",
   "metadata": {},
   "source": [
    "# run the code"
   ]
  },
  {
   "cell_type": "code",
   "execution_count": 87,
   "metadata": {
    "ExecuteTime": {
     "end_time": "2022-12-24T22:26:56.552323Z",
     "start_time": "2022-12-24T22:26:56.530977Z"
    }
   },
   "outputs": [
    {
     "data": {
      "text/plain": [
       "['move 1 from 4 to 1\\n',\n",
       " 'move 2 from 4 to 8\\n',\n",
       " 'move 5 from 9 to 6\\n',\n",
       " 'move 1 from 1 to 3\\n',\n",
       " 'move 5 from 8 to 3\\n',\n",
       " 'move 1 from 1 to 5\\n',\n",
       " 'move 4 from 3 to 6\\n',\n",
       " 'move 14 from 6 to 2\\n',\n",
       " 'move 5 from 4 to 5\\n',\n",
       " 'move 7 from 7 to 2\\n',\n",
       " 'move 24 from 2 to 3\\n',\n",
       " 'move 13 from 3 to 2\\n',\n",
       " 'move 1 from 7 to 9\\n',\n",
       " 'move 1 from 9 to 5\\n',\n",
       " 'move 7 from 2 to 6\\n',\n",
       " 'move 3 from 1 to 7\\n',\n",
       " 'move 3 from 6 to 3\\n',\n",
       " 'move 2 from 7 to 1\\n',\n",
       " 'move 1 from 7 to 5\\n',\n",
       " 'move 2 from 2 to 6\\n']"
      ]
     },
     "execution_count": 87,
     "metadata": {},
     "output_type": "execute_result"
    }
   ],
   "source": [
    "list_of_instr[:20]"
   ]
  },
  {
   "cell_type": "code",
   "execution_count": 88,
   "metadata": {
    "ExecuteTime": {
     "end_time": "2022-12-24T22:29:08.282017Z",
     "start_time": "2022-12-24T22:29:08.265801Z"
    }
   },
   "outputs": [],
   "source": [
    "list_of_stacks = make_stacks()\n",
    "re_phr = r\"move (\\d+) from (\\d+) to (\\d+)\"\n",
    "\n",
    "for instr in list_of_instr:\n",
    "    info = re.findall(re_phr, instr)[0]\n",
    "\n",
    "    #     if len(info) > 0:\n",
    "#         info = info[0]\n",
    "\n",
    "    qty = int(info[0])\n",
    "    # adjust for 0 index\n",
    "    stack_from = int(info[1]) - 1\n",
    "    stack_to = int(info[2]) - 1\n",
    "\n",
    "    for _ in range(qty):\n",
    "#         try:\n",
    "        item_to_move = list_of_stacks[stack_from].pop()\n",
    "#         except IndexError:\n",
    "#             print(f\"empty deque; not sure what to do with: {item_to_move}\")\n",
    "#         else:\n",
    "        list_of_stacks[stack_to].append(item_to_move)"
   ]
  },
  {
   "cell_type": "code",
   "execution_count": 89,
   "metadata": {
    "ExecuteTime": {
     "end_time": "2022-12-24T22:29:12.907909Z",
     "start_time": "2022-12-24T22:29:12.900338Z"
    }
   },
   "outputs": [
    {
     "data": {
      "text/plain": [
       "[deque(['F', 'N', 'B', 'G', 'B']),\n",
       " deque(['B', 'S', 'G', 'S']),\n",
       " deque(['V', 'M', 'B', 'D', 'Z', 'W', 'R', 'D']),\n",
       " deque(['R', 'W', 'M']),\n",
       " deque(['F', 'P', 'V', 'W', 'Q']),\n",
       " deque(['H',\n",
       "        'J',\n",
       "        'L',\n",
       "        'R',\n",
       "        'D',\n",
       "        'P',\n",
       "        'F',\n",
       "        'S',\n",
       "        'P',\n",
       "        'J',\n",
       "        'V',\n",
       "        'D',\n",
       "        'N',\n",
       "        'D',\n",
       "        'C',\n",
       "        'F',\n",
       "        'F']),\n",
       " deque(['N', 'L']),\n",
       " deque(['S']),\n",
       " deque(['B', 'C', 'R', 'H', 'W', 'L', 'B', 'Q', 'M', 'Q', 'P'])]"
      ]
     },
     "execution_count": 89,
     "metadata": {},
     "output_type": "execute_result"
    }
   ],
   "source": [
    "list_of_stacks"
   ]
  },
  {
   "cell_type": "code",
   "execution_count": 90,
   "metadata": {
    "ExecuteTime": {
     "end_time": "2022-12-24T22:29:54.460420Z",
     "start_time": "2022-12-24T22:29:54.456119Z"
    }
   },
   "outputs": [],
   "source": [
    "final_stacks = list_of_stacks[:]"
   ]
  },
  {
   "cell_type": "code",
   "execution_count": 91,
   "metadata": {
    "ExecuteTime": {
     "end_time": "2022-12-24T22:29:58.016824Z",
     "start_time": "2022-12-24T22:29:58.006982Z"
    },
    "collapsed": true
   },
   "outputs": [
    {
     "data": {
      "text/plain": [
       "[deque(['F', 'N', 'B', 'G', 'B']),\n",
       " deque(['B', 'S', 'G', 'S']),\n",
       " deque(['V', 'M', 'B', 'D', 'Z', 'W', 'R', 'D']),\n",
       " deque(['R', 'W', 'M']),\n",
       " deque(['F', 'P', 'V', 'W', 'Q']),\n",
       " deque(['H',\n",
       "        'J',\n",
       "        'L',\n",
       "        'R',\n",
       "        'D',\n",
       "        'P',\n",
       "        'F',\n",
       "        'S',\n",
       "        'P',\n",
       "        'J',\n",
       "        'V',\n",
       "        'D',\n",
       "        'N',\n",
       "        'D',\n",
       "        'C',\n",
       "        'F',\n",
       "        'F']),\n",
       " deque(['N', 'L']),\n",
       " deque(['S']),\n",
       " deque(['B', 'C', 'R', 'H', 'W', 'L', 'B', 'Q', 'M', 'Q', 'P'])]"
      ]
     },
     "execution_count": 91,
     "metadata": {},
     "output_type": "execute_result"
    }
   ],
   "source": [
    "final_stacks"
   ]
  },
  {
   "cell_type": "code",
   "execution_count": 92,
   "metadata": {
    "ExecuteTime": {
     "end_time": "2022-12-24T22:30:08.651516Z",
     "start_time": "2022-12-24T22:30:08.647499Z"
    }
   },
   "outputs": [],
   "source": [
    "final_str_list = [stack.pop() for stack in list_of_stacks]"
   ]
  },
  {
   "cell_type": "code",
   "execution_count": 93,
   "metadata": {
    "ExecuteTime": {
     "end_time": "2022-12-24T22:30:12.795737Z",
     "start_time": "2022-12-24T22:30:12.774189Z"
    }
   },
   "outputs": [
    {
     "data": {
      "text/plain": [
       "['B', 'S', 'D', 'M', 'Q', 'F', 'L', 'S', 'P']"
      ]
     },
     "execution_count": 93,
     "metadata": {},
     "output_type": "execute_result"
    }
   ],
   "source": [
    "final_str_list"
   ]
  },
  {
   "cell_type": "code",
   "execution_count": 95,
   "metadata": {
    "ExecuteTime": {
     "end_time": "2022-12-24T22:30:31.424932Z",
     "start_time": "2022-12-24T22:30:31.418525Z"
    }
   },
   "outputs": [
    {
     "data": {
      "text/plain": [
       "'BSDMQFLSP'"
      ]
     },
     "execution_count": 95,
     "metadata": {},
     "output_type": "execute_result"
    }
   ],
   "source": [
    "final_str = ('').join(final_str_list)\n",
    "final_str"
   ]
  },
  {
   "cell_type": "markdown",
   "metadata": {},
   "source": [
    "# part 2"
   ]
  },
  {
   "cell_type": "markdown",
   "metadata": {},
   "source": [
    "implement as list instead of stack"
   ]
  },
  {
   "cell_type": "code",
   "execution_count": 96,
   "metadata": {
    "ExecuteTime": {
     "end_time": "2022-12-24T22:33:23.118819Z",
     "start_time": "2022-12-24T22:33:23.112553Z"
    }
   },
   "outputs": [],
   "source": [
    "def make_lists():\n",
    "    list_of_stacks = [[] for _ in range(9)]\n",
    "    for line in stacks_arr[:-1][::-1]:\n",
    "        for stack_idx, item_idx in enumerate(pos_idx):\n",
    "            item = line[item_idx]\n",
    "            if item != ' ':\n",
    "                list_of_stacks[stack_idx].append(item)\n",
    "    return list_of_stacks"
   ]
  },
  {
   "cell_type": "code",
   "execution_count": 129,
   "metadata": {
    "ExecuteTime": {
     "end_time": "2022-12-24T22:41:22.472309Z",
     "start_time": "2022-12-24T22:41:22.468239Z"
    }
   },
   "outputs": [],
   "source": [
    "list_of_lists = make_lists()"
   ]
  },
  {
   "cell_type": "code",
   "execution_count": 130,
   "metadata": {
    "ExecuteTime": {
     "end_time": "2022-12-24T22:41:22.905160Z",
     "start_time": "2022-12-24T22:41:22.895356Z"
    }
   },
   "outputs": [
    {
     "data": {
      "text/plain": [
       "[['D', 'B', 'J', 'V'],\n",
       " ['P', 'V', 'B', 'W', 'R', 'D', 'F'],\n",
       " ['R', 'G', 'F', 'L', 'D', 'C', 'W', 'Q'],\n",
       " ['W', 'J', 'P', 'M', 'L', 'N', 'D', 'B'],\n",
       " ['H', 'N', 'B', 'P', 'C', 'S', 'Q'],\n",
       " ['R', 'D', 'B', 'S', 'N', 'G'],\n",
       " ['Z', 'B', 'P', 'M', 'Q', 'F', 'S', 'H'],\n",
       " ['W', 'L', 'F'],\n",
       " ['S', 'V', 'F', 'M', 'R']]"
      ]
     },
     "execution_count": 130,
     "metadata": {},
     "output_type": "execute_result"
    }
   ],
   "source": [
    "list_of_lists"
   ]
  },
  {
   "cell_type": "code",
   "execution_count": 101,
   "metadata": {
    "ExecuteTime": {
     "end_time": "2022-12-24T22:34:34.566808Z",
     "start_time": "2022-12-24T22:34:34.560789Z"
    }
   },
   "outputs": [
    {
     "data": {
      "text/plain": [
       "'move 2 from 4 to 8\\n'"
      ]
     },
     "execution_count": 101,
     "metadata": {},
     "output_type": "execute_result"
    }
   ],
   "source": [
    "instr = list_of_instr[1]\n",
    "instr"
   ]
  },
  {
   "cell_type": "code",
   "execution_count": 102,
   "metadata": {
    "ExecuteTime": {
     "end_time": "2022-12-24T22:34:37.203484Z",
     "start_time": "2022-12-24T22:34:37.197112Z"
    }
   },
   "outputs": [
    {
     "data": {
      "text/plain": [
       "('2', '4', '8')"
      ]
     },
     "execution_count": 102,
     "metadata": {},
     "output_type": "execute_result"
    }
   ],
   "source": [
    "info = re.findall(re_phr, instr)[0]\n",
    "info"
   ]
  },
  {
   "cell_type": "code",
   "execution_count": 104,
   "metadata": {
    "ExecuteTime": {
     "end_time": "2022-12-24T22:35:19.431142Z",
     "start_time": "2022-12-24T22:35:19.426776Z"
    }
   },
   "outputs": [],
   "source": [
    "qty = int(info[0])\n",
    "# adjust for 0 index\n",
    "stack_from_idx = int(info[1]) - 1\n",
    "stack_to_idx = int(info[2]) - 1"
   ]
  },
  {
   "cell_type": "code",
   "execution_count": 109,
   "metadata": {
    "ExecuteTime": {
     "end_time": "2022-12-24T22:37:18.339728Z",
     "start_time": "2022-12-24T22:37:18.333587Z"
    }
   },
   "outputs": [
    {
     "data": {
      "text/plain": [
       "2"
      ]
     },
     "execution_count": 109,
     "metadata": {},
     "output_type": "execute_result"
    }
   ],
   "source": [
    "qty"
   ]
  },
  {
   "cell_type": "code",
   "execution_count": 131,
   "metadata": {
    "ExecuteTime": {
     "end_time": "2022-12-24T22:41:28.804615Z",
     "start_time": "2022-12-24T22:41:28.800975Z"
    }
   },
   "outputs": [],
   "source": [
    "stack_from = list_of_lists[stack_from_idx]\n",
    "stack_to = list_of_lists[stack_to_idx]"
   ]
  },
  {
   "cell_type": "code",
   "execution_count": 132,
   "metadata": {
    "ExecuteTime": {
     "end_time": "2022-12-24T22:41:31.015867Z",
     "start_time": "2022-12-24T22:41:31.004310Z"
    }
   },
   "outputs": [
    {
     "data": {
      "text/plain": [
       "['W', 'J', 'P', 'M', 'L', 'N', 'D', 'B']"
      ]
     },
     "execution_count": 132,
     "metadata": {},
     "output_type": "execute_result"
    }
   ],
   "source": [
    "stack_from"
   ]
  },
  {
   "cell_type": "code",
   "execution_count": 133,
   "metadata": {
    "ExecuteTime": {
     "end_time": "2022-12-24T22:41:31.452549Z",
     "start_time": "2022-12-24T22:41:31.446921Z"
    }
   },
   "outputs": [
    {
     "data": {
      "text/plain": [
       "['W', 'L', 'F']"
      ]
     },
     "execution_count": 133,
     "metadata": {},
     "output_type": "execute_result"
    }
   ],
   "source": [
    "stack_to"
   ]
  },
  {
   "cell_type": "code",
   "execution_count": 134,
   "metadata": {
    "ExecuteTime": {
     "end_time": "2022-12-24T22:41:33.066574Z",
     "start_time": "2022-12-24T22:41:33.055209Z"
    }
   },
   "outputs": [
    {
     "data": {
      "text/plain": [
       "['D', 'B']"
      ]
     },
     "execution_count": 134,
     "metadata": {},
     "output_type": "execute_result"
    }
   ],
   "source": [
    "# n_from = len(stack_from)\n",
    "items_to_move = stack_from[-qty:]\n",
    "items_to_move"
   ]
  },
  {
   "cell_type": "code",
   "execution_count": 135,
   "metadata": {
    "ExecuteTime": {
     "end_time": "2022-12-24T22:41:42.259339Z",
     "start_time": "2022-12-24T22:41:42.253708Z"
    }
   },
   "outputs": [
    {
     "data": {
      "text/plain": [
       "['W', 'J', 'P', 'M', 'L', 'N']"
      ]
     },
     "execution_count": 135,
     "metadata": {},
     "output_type": "execute_result"
    }
   ],
   "source": [
    "new_stack_from = stack_from[:-qty]\n",
    "new_stack_from\n",
    "\n",
    "# stack_from = stack_from[:-qty]\n",
    "# stack_from"
   ]
  },
  {
   "cell_type": "code",
   "execution_count": 136,
   "metadata": {
    "ExecuteTime": {
     "end_time": "2022-12-24T22:41:45.120760Z",
     "start_time": "2022-12-24T22:41:45.117314Z"
    }
   },
   "outputs": [],
   "source": [
    "stack_to.extend(items_to_move)"
   ]
  },
  {
   "cell_type": "code",
   "execution_count": 137,
   "metadata": {
    "ExecuteTime": {
     "end_time": "2022-12-24T22:41:45.701446Z",
     "start_time": "2022-12-24T22:41:45.685160Z"
    }
   },
   "outputs": [
    {
     "data": {
      "text/plain": [
       "['W', 'L', 'F', 'D', 'B']"
      ]
     },
     "execution_count": 137,
     "metadata": {},
     "output_type": "execute_result"
    }
   ],
   "source": [
    "stack_to"
   ]
  },
  {
   "cell_type": "code",
   "execution_count": 127,
   "metadata": {
    "ExecuteTime": {
     "end_time": "2022-12-24T22:40:03.647562Z",
     "start_time": "2022-12-24T22:40:03.639760Z"
    }
   },
   "outputs": [],
   "source": [
    "list_of_lists[stack_from_idx] = new_stack_from"
   ]
  },
  {
   "cell_type": "code",
   "execution_count": 139,
   "metadata": {
    "ExecuteTime": {
     "end_time": "2022-12-24T22:42:43.433438Z",
     "start_time": "2022-12-24T22:42:43.426764Z"
    }
   },
   "outputs": [
    {
     "data": {
      "text/plain": [
       "[['D', 'B', 'J', 'V'],\n",
       " ['P', 'V', 'B', 'W', 'R', 'D', 'F'],\n",
       " ['R', 'G', 'F', 'L', 'D', 'C', 'W', 'Q'],\n",
       " ['W', 'J', 'P', 'M', 'L', 'N', 'D', 'B'],\n",
       " ['H', 'N', 'B', 'P', 'C', 'S', 'Q'],\n",
       " ['R', 'D', 'B', 'S', 'N', 'G'],\n",
       " ['Z', 'B', 'P', 'M', 'Q', 'F', 'S', 'H'],\n",
       " ['W', 'L', 'F', 'D', 'B'],\n",
       " ['S', 'V', 'F', 'M', 'R']]"
      ]
     },
     "execution_count": 139,
     "metadata": {},
     "output_type": "execute_result"
    }
   ],
   "source": [
    "list_of_lists"
   ]
  },
  {
   "cell_type": "code",
   "execution_count": 140,
   "metadata": {
    "ExecuteTime": {
     "end_time": "2022-12-24T22:43:47.296591Z",
     "start_time": "2022-12-24T22:43:47.284855Z"
    }
   },
   "outputs": [],
   "source": [
    "list_of_lists = make_lists()\n",
    "re_phr = r\"move (\\d+) from (\\d+) to (\\d+)\"\n",
    "\n",
    "for instr in list_of_instr:\n",
    "    info = re.findall(re_phr, instr)[0]\n",
    "\n",
    "    qty = int(info[0])\n",
    "    # adjust for 0 index\n",
    "    stack_from_idx = int(info[1]) - 1\n",
    "    stack_to_idx = int(info[2]) - 1\n",
    "    \n",
    "    stack_from = list_of_lists[stack_from_idx]\n",
    "    stack_to = list_of_lists[stack_to_idx]\n",
    "    \n",
    "    items_to_move = stack_from[-qty:]\n",
    "    new_stack_from = stack_from[:-qty]\n",
    "    stack_to.extend(items_to_move)\n",
    "    list_of_lists[stack_from_idx] = new_stack_from"
   ]
  },
  {
   "cell_type": "code",
   "execution_count": 141,
   "metadata": {
    "ExecuteTime": {
     "end_time": "2022-12-24T22:44:22.770737Z",
     "start_time": "2022-12-24T22:44:22.760761Z"
    }
   },
   "outputs": [
    {
     "data": {
      "text/plain": [
       "[['F', 'D', 'M', 'G', 'P'],\n",
       " ['D', 'V', 'Z', 'G'],\n",
       " ['M', 'R', 'R', 'S', 'V', 'B', 'H', 'S'],\n",
       " ['S', 'H', 'Q'],\n",
       " ['D', 'L', 'C', 'N', 'B'],\n",
       " ['D',\n",
       "  'P',\n",
       "  'J',\n",
       "  'W',\n",
       "  'C',\n",
       "  'B',\n",
       "  'S',\n",
       "  'N',\n",
       "  'F',\n",
       "  'L',\n",
       "  'F',\n",
       "  'W',\n",
       "  'R',\n",
       "  'Q',\n",
       "  'F',\n",
       "  'W',\n",
       "  'F'],\n",
       " ['V', 'L'],\n",
       " ['D'],\n",
       " ['W', 'Q', 'B', 'B', 'P', 'M', 'B', 'J', 'R', 'N', 'P']]"
      ]
     },
     "execution_count": 141,
     "metadata": {},
     "output_type": "execute_result"
    }
   ],
   "source": [
    "list_of_lists"
   ]
  },
  {
   "cell_type": "code",
   "execution_count": 142,
   "metadata": {
    "ExecuteTime": {
     "end_time": "2022-12-24T22:44:31.168579Z",
     "start_time": "2022-12-24T22:44:31.161600Z"
    }
   },
   "outputs": [
    {
     "data": {
      "text/plain": [
       "'PGSQBFLDP'"
      ]
     },
     "execution_count": 142,
     "metadata": {},
     "output_type": "execute_result"
    }
   ],
   "source": [
    "final_str_list = [x[-1] for x in list_of_lists]\n",
    "final_str = ('').join(final_str_list)\n",
    "final_str"
   ]
  },
  {
   "cell_type": "code",
   "execution_count": null,
   "metadata": {},
   "outputs": [],
   "source": []
  }
 ],
 "metadata": {
  "kernelspec": {
   "display_name": "Python 3",
   "language": "python",
   "name": "python3"
  },
  "language_info": {
   "codemirror_mode": {
    "name": "ipython",
    "version": 3
   },
   "file_extension": ".py",
   "mimetype": "text/x-python",
   "name": "python",
   "nbconvert_exporter": "python",
   "pygments_lexer": "ipython3",
   "version": "3.6.7"
  },
  "toc": {
   "base_numbering": 1,
   "nav_menu": {},
   "number_sections": true,
   "sideBar": true,
   "skip_h1_title": false,
   "title_cell": "Table of Contents",
   "title_sidebar": "Contents",
   "toc_cell": false,
   "toc_position": {},
   "toc_section_display": true,
   "toc_window_display": false
  }
 },
 "nbformat": 4,
 "nbformat_minor": 2
}
