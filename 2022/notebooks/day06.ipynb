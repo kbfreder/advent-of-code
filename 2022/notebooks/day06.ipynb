{
 "cells": [
  {
   "cell_type": "code",
   "execution_count": 1,
   "metadata": {
    "ExecuteTime": {
     "end_time": "2022-12-26T00:46:25.905146Z",
     "start_time": "2022-12-26T00:46:25.899797Z"
    }
   },
   "outputs": [],
   "source": [
    "day = 6"
   ]
  },
  {
   "cell_type": "code",
   "execution_count": 2,
   "metadata": {
    "ExecuteTime": {
     "end_time": "2022-12-26T00:46:27.902476Z",
     "start_time": "2022-12-26T00:46:26.258260Z"
    }
   },
   "outputs": [],
   "source": [
    "import pandas as pd\n",
    "import numpy as np\n",
    "\n",
    "import os"
   ]
  },
  {
   "cell_type": "code",
   "execution_count": 3,
   "metadata": {
    "ExecuteTime": {
     "end_time": "2022-12-26T00:46:27.918954Z",
     "start_time": "2022-12-26T00:46:27.905647Z"
    }
   },
   "outputs": [],
   "source": [
    "INPUT_DIR = \"../input\"\n",
    "\n",
    "input_path = f'{INPUT_DIR}/day{day:02d}.txt'\n",
    "\n",
    "with open(input_path) as file:\n",
    "    data = file.readlines()"
   ]
  },
  {
   "cell_type": "code",
   "execution_count": 5,
   "metadata": {
    "ExecuteTime": {
     "end_time": "2022-12-26T00:46:45.659180Z",
     "start_time": "2022-12-26T00:46:45.651136Z"
    }
   },
   "outputs": [
    {
     "data": {
      "text/plain": [
       "1"
      ]
     },
     "execution_count": 5,
     "metadata": {},
     "output_type": "execute_result"
    }
   ],
   "source": [
    "len(data)"
   ]
  },
  {
   "cell_type": "code",
   "execution_count": 6,
   "metadata": {
    "ExecuteTime": {
     "end_time": "2022-12-26T00:46:51.030891Z",
     "start_time": "2022-12-26T00:46:51.024860Z"
    }
   },
   "outputs": [],
   "source": [
    "data = data[0]"
   ]
  },
  {
   "cell_type": "code",
   "execution_count": 7,
   "metadata": {
    "ExecuteTime": {
     "end_time": "2022-12-26T00:46:51.527232Z",
     "start_time": "2022-12-26T00:46:51.513767Z"
    }
   },
   "outputs": [
    {
     "data": {
      "text/plain": [
       "'rgffbnnqvqhhmtm'"
      ]
     },
     "execution_count": 7,
     "metadata": {},
     "output_type": "execute_result"
    }
   ],
   "source": [
    "data[:15]"
   ]
  },
  {
   "cell_type": "code",
   "execution_count": 8,
   "metadata": {
    "ExecuteTime": {
     "end_time": "2022-12-26T00:46:59.871103Z",
     "start_time": "2022-12-26T00:46:59.863405Z"
    }
   },
   "outputs": [
    {
     "data": {
      "text/plain": [
       "4096"
      ]
     },
     "execution_count": 8,
     "metadata": {},
     "output_type": "execute_result"
    }
   ],
   "source": [
    "len(data)"
   ]
  },
  {
   "cell_type": "code",
   "execution_count": 9,
   "metadata": {
    "ExecuteTime": {
     "end_time": "2022-12-26T00:50:20.856003Z",
     "start_time": "2022-12-26T00:50:20.846866Z"
    }
   },
   "outputs": [],
   "source": [
    "from collections import deque"
   ]
  },
  {
   "cell_type": "code",
   "execution_count": 23,
   "metadata": {
    "ExecuteTime": {
     "end_time": "2022-12-26T00:55:42.523025Z",
     "start_time": "2022-12-26T00:55:42.518777Z"
    }
   },
   "outputs": [],
   "source": [
    "# q = deque([x for x in 'bvwbjplbgvbhsrlpgdmjqwftvncz'])\n",
    "q = deque('bvwbjplbgvb')"
   ]
  },
  {
   "cell_type": "code",
   "execution_count": 24,
   "metadata": {
    "ExecuteTime": {
     "end_time": "2022-12-26T00:55:43.120667Z",
     "start_time": "2022-12-26T00:55:43.114757Z"
    }
   },
   "outputs": [
    {
     "name": "stdout",
     "output_type": "stream",
     "text": [
      "deque(['b', 'v', 'w', 'b', 'j', 'p', 'l', 'b', 'g', 'v', 'b'])\n"
     ]
    }
   ],
   "source": [
    "print(q)"
   ]
  },
  {
   "cell_type": "code",
   "execution_count": 25,
   "metadata": {
    "ExecuteTime": {
     "end_time": "2022-12-26T00:55:45.455035Z",
     "start_time": "2022-12-26T00:55:45.443105Z"
    }
   },
   "outputs": [
    {
     "data": {
      "text/plain": [
       "'b'"
      ]
     },
     "execution_count": 25,
     "metadata": {},
     "output_type": "execute_result"
    }
   ],
   "source": [
    "q.popleft()"
   ]
  },
  {
   "cell_type": "code",
   "execution_count": 26,
   "metadata": {
    "ExecuteTime": {
     "end_time": "2022-12-26T00:55:45.865400Z",
     "start_time": "2022-12-26T00:55:45.859727Z"
    }
   },
   "outputs": [
    {
     "data": {
      "text/plain": [
       "'b'"
      ]
     },
     "execution_count": 26,
     "metadata": {},
     "output_type": "execute_result"
    }
   ],
   "source": [
    "q.pop()"
   ]
  },
  {
   "cell_type": "code",
   "execution_count": 27,
   "metadata": {
    "ExecuteTime": {
     "end_time": "2022-12-26T00:55:48.393376Z",
     "start_time": "2022-12-26T00:55:48.387822Z"
    }
   },
   "outputs": [
    {
     "name": "stdout",
     "output_type": "stream",
     "text": [
      "deque(['v', 'w', 'b', 'j', 'p', 'l', 'b', 'g', 'v'])\n"
     ]
    }
   ],
   "source": [
    "print(q)"
   ]
  },
  {
   "cell_type": "code",
   "execution_count": 28,
   "metadata": {
    "ExecuteTime": {
     "end_time": "2022-12-26T00:55:57.327881Z",
     "start_time": "2022-12-26T00:55:57.320473Z"
    }
   },
   "outputs": [
    {
     "data": {
      "text/plain": [
       "{'b', 'g', 'j', 'l', 'p', 'v', 'w'}"
      ]
     },
     "execution_count": 28,
     "metadata": {},
     "output_type": "execute_result"
    }
   ],
   "source": [
    "set(q.copy())"
   ]
  },
  {
   "cell_type": "code",
   "execution_count": 29,
   "metadata": {
    "ExecuteTime": {
     "end_time": "2022-12-26T00:56:08.981174Z",
     "start_time": "2022-12-26T00:56:08.974687Z"
    }
   },
   "outputs": [
    {
     "data": {
      "text/plain": [
       "{'b', 'g', 'j', 'l', 'p', 'v', 'w'}"
      ]
     },
     "execution_count": 29,
     "metadata": {},
     "output_type": "execute_result"
    }
   ],
   "source": [
    "set(q)"
   ]
  },
  {
   "cell_type": "code",
   "execution_count": 36,
   "metadata": {
    "ExecuteTime": {
     "end_time": "2022-12-26T00:58:37.244485Z",
     "start_time": "2022-12-26T00:58:37.237991Z"
    }
   },
   "outputs": [],
   "source": [
    "def find_start_packet(input_str):\n",
    "    packet = deque([])\n",
    "    packet_start_idx = 0\n",
    "    for i, char in enumerate(input_str):\n",
    "        if len(packet) < 4:\n",
    "            packet.append(char)\n",
    "        else:\n",
    "            if len(set(packet)) == 4:\n",
    "                packet_start_idx = i\n",
    "                print(packet)\n",
    "                return packet_start_idx\n",
    "            else:\n",
    "                packet.popleft()\n",
    "                packet.append(char)\n",
    "    return None"
   ]
  },
  {
   "cell_type": "code",
   "execution_count": 37,
   "metadata": {
    "ExecuteTime": {
     "end_time": "2022-12-26T00:58:37.623063Z",
     "start_time": "2022-12-26T00:58:37.608740Z"
    }
   },
   "outputs": [
    {
     "name": "stdout",
     "output_type": "stream",
     "text": [
      "deque(['v', 'w', 'b', 'j'])\n"
     ]
    },
    {
     "data": {
      "text/plain": [
       "5"
      ]
     },
     "execution_count": 37,
     "metadata": {},
     "output_type": "execute_result"
    }
   ],
   "source": [
    "find_start_packet('bvwbjplbgvb')"
   ]
  },
  {
   "cell_type": "code",
   "execution_count": 38,
   "metadata": {
    "ExecuteTime": {
     "end_time": "2022-12-26T00:59:04.893575Z",
     "start_time": "2022-12-26T00:59:04.884610Z"
    }
   },
   "outputs": [
    {
     "name": "stdout",
     "output_type": "stream",
     "text": [
      "deque(['m', 'b', 'n', 'z'])\n"
     ]
    },
    {
     "data": {
      "text/plain": [
       "1100"
      ]
     },
     "execution_count": 38,
     "metadata": {},
     "output_type": "execute_result"
    }
   ],
   "source": [
    "find_start_packet(data)"
   ]
  },
  {
   "cell_type": "code",
   "execution_count": null,
   "metadata": {},
   "outputs": [],
   "source": []
  },
  {
   "cell_type": "code",
   "execution_count": 39,
   "metadata": {
    "ExecuteTime": {
     "end_time": "2022-12-26T01:00:14.962182Z",
     "start_time": "2022-12-26T01:00:14.956301Z"
    }
   },
   "outputs": [],
   "source": [
    "def find_start_of_whatever(input_str, num_char):\n",
    "    packet = deque([])\n",
    "    packet_start_idx = 0\n",
    "    for i, char in enumerate(input_str):\n",
    "        if len(packet) < num_char:\n",
    "            packet.append(char)\n",
    "        else:\n",
    "            if len(set(packet)) == num_char:\n",
    "                packet_start_idx = i\n",
    "                print(packet)\n",
    "                return packet_start_idx\n",
    "            else:\n",
    "                packet.popleft()\n",
    "                packet.append(char)\n",
    "    return None"
   ]
  },
  {
   "cell_type": "code",
   "execution_count": 41,
   "metadata": {
    "ExecuteTime": {
     "end_time": "2022-12-26T01:00:32.309550Z",
     "start_time": "2022-12-26T01:00:32.297737Z"
    }
   },
   "outputs": [
    {
     "name": "stdout",
     "output_type": "stream",
     "text": [
      "deque(['q', 'm', 'g', 'b', 'l', 'j', 's', 'p', 'h', 'd', 'z', 't', 'n', 'v'])\n"
     ]
    },
    {
     "data": {
      "text/plain": [
       "19"
      ]
     },
     "execution_count": 41,
     "metadata": {},
     "output_type": "execute_result"
    }
   ],
   "source": [
    "find_start_of_whatever('mjqjpqmgbljsphdztnvjfqwrcgsmlb', 14)"
   ]
  },
  {
   "cell_type": "code",
   "execution_count": 42,
   "metadata": {
    "ExecuteTime": {
     "end_time": "2022-12-26T01:00:39.878599Z",
     "start_time": "2022-12-26T01:00:39.868410Z"
    }
   },
   "outputs": [
    {
     "name": "stdout",
     "output_type": "stream",
     "text": [
      "deque(['c', 'm', 'w', 'l', 'n', 'b', 'z', 'q', 'j', 's', 'g', 'f', 't', 'r'])\n"
     ]
    },
    {
     "data": {
      "text/plain": [
       "2421"
      ]
     },
     "execution_count": 42,
     "metadata": {},
     "output_type": "execute_result"
    }
   ],
   "source": [
    "find_start_of_whatever(data, 14)"
   ]
  },
  {
   "cell_type": "code",
   "execution_count": null,
   "metadata": {},
   "outputs": [],
   "source": []
  }
 ],
 "metadata": {
  "kernelspec": {
   "display_name": "Python 3",
   "language": "python",
   "name": "python3"
  },
  "language_info": {
   "codemirror_mode": {
    "name": "ipython",
    "version": 3
   },
   "file_extension": ".py",
   "mimetype": "text/x-python",
   "name": "python",
   "nbconvert_exporter": "python",
   "pygments_lexer": "ipython3",
   "version": "3.6.7"
  },
  "toc": {
   "base_numbering": 1,
   "nav_menu": {},
   "number_sections": true,
   "sideBar": true,
   "skip_h1_title": false,
   "title_cell": "Table of Contents",
   "title_sidebar": "Contents",
   "toc_cell": false,
   "toc_position": {},
   "toc_section_display": true,
   "toc_window_display": false
  }
 },
 "nbformat": 4,
 "nbformat_minor": 2
}
